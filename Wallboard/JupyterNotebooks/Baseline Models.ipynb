{
 "cells": [
  {
   "cell_type": "markdown",
   "metadata": {},
   "source": [
    "# Importing Neccesary Packages"
   ]
  },
  {
   "cell_type": "code",
   "execution_count": 1,
   "metadata": {
    "ExecuteTime": {
     "end_time": "2021-01-12T09:47:41.888600Z",
     "start_time": "2021-01-12T09:47:40.484023Z"
    }
   },
   "outputs": [],
   "source": [
    "import numpy as np\n",
    "import pandas as pd\n",
    "import copy\n",
    "import matplotlib.pyplot as plt\n",
    "from matplotlib import style\n",
    "from matplotlib.pyplot import subplots, show\n",
    "import seaborn as sns\n",
    "%matplotlib  inline\n",
    "import re\n",
    "import os\n",
    "import pickle\n",
    "\n",
    "from sklearn.feature_selection import VarianceThreshold\n",
    "from sklearn.ensemble import RandomForestClassifier\n",
    "from sklearn.model_selection import cross_val_score\n",
    "from sklearn.model_selection import RandomizedSearchCV\n",
    "from sklearn.metrics import classification_report\n",
    "from sklearn.metrics import plot_confusion_matrix\n",
    "from sklearn.model_selection import KFold\n",
    "from sklearn.linear_model import LogisticRegression\n",
    "from sklearn.naive_bayes import GaussianNB\n",
    "from sklearn.tree import DecisionTreeClassifier\n",
    "from sklearn.model_selection import GridSearchCV\n",
    "from sklearn.svm import LinearSVC\n",
    "from sklearn.svm import SVC \n",
    "from sklearn.metrics import confusion_matrix\n",
    "from sklearn.metrics import accuracy_score\n",
    "from sklearn.metrics import recall_score\n",
    "from sklearn.metrics import precision_score\n",
    "from sklearn.metrics import roc_curve\n",
    "from sklearn.metrics import roc_auc_score\n",
    "from scipy.stats import randint\n",
    "\n",
    "import warnings\n",
    "warnings.filterwarnings(\"ignore\")"
   ]
  },
  {
   "cell_type": "markdown",
   "metadata": {},
   "source": [
    "# Importing train and test data set"
   ]
  },
  {
   "cell_type": "code",
   "execution_count": 2,
   "metadata": {
    "ExecuteTime": {
     "end_time": "2021-01-12T09:47:46.709479Z",
     "start_time": "2021-01-12T09:47:45.530722Z"
    }
   },
   "outputs": [
    {
     "name": "stdout",
     "output_type": "stream",
     "text": [
      "Train data set shape: (12369, 460)\n",
      "Test data set shapec: (4123, 460)\n",
      "\n",
      "\n",
      "Sneak peak of y train\n",
      "---------------------\n",
      "asset_id\n",
      "W01Y107687    1\n",
      "W01E106713    0\n",
      "W01E121261    1\n",
      "Name: y_flag, dtype: int64\n",
      "\n",
      "\n",
      "Sneak peak of X train\n",
      "---------------------\n"
     ]
    },
    {
     "data": {
      "text/html": [
       "<div>\n",
       "<style scoped>\n",
       "    .dataframe tbody tr th:only-of-type {\n",
       "        vertical-align: middle;\n",
       "    }\n",
       "\n",
       "    .dataframe tbody tr th {\n",
       "        vertical-align: top;\n",
       "    }\n",
       "\n",
       "    .dataframe thead th {\n",
       "        text-align: right;\n",
       "    }\n",
       "</style>\n",
       "<table border=\"1\" class=\"dataframe\">\n",
       "  <thead>\n",
       "    <tr style=\"text-align: right;\">\n",
       "      <th></th>\n",
       "      <th>software_version_2.0.3</th>\n",
       "      <th>software_version_3.0.1</th>\n",
       "      <th>software_version_3.2</th>\n",
       "      <th>software_version_3.3.1</th>\n",
       "      <th>software_version_3.3.2</th>\n",
       "      <th>software_version_3.5</th>\n",
       "      <th>software_version_4.10.1</th>\n",
       "      <th>software_version_4.10.2</th>\n",
       "      <th>software_version_4.12.4</th>\n",
       "      <th>software_version_4.2.2</th>\n",
       "      <th>...</th>\n",
       "      <th>Vasculature</th>\n",
       "      <th>Ventral Hernia</th>\n",
       "      <th>Ventricular Fibrillation with Conduction System</th>\n",
       "      <th>Wagner Classification</th>\n",
       "      <th>Warts on Skin</th>\n",
       "      <th>Whiteboard</th>\n",
       "      <th>Wrist</th>\n",
       "      <th>avg_times</th>\n",
       "      <th>avg_days</th>\n",
       "      <th>clinic_had_mia</th>\n",
       "    </tr>\n",
       "    <tr>\n",
       "      <th>asset_id</th>\n",
       "      <th></th>\n",
       "      <th></th>\n",
       "      <th></th>\n",
       "      <th></th>\n",
       "      <th></th>\n",
       "      <th></th>\n",
       "      <th></th>\n",
       "      <th></th>\n",
       "      <th></th>\n",
       "      <th></th>\n",
       "      <th></th>\n",
       "      <th></th>\n",
       "      <th></th>\n",
       "      <th></th>\n",
       "      <th></th>\n",
       "      <th></th>\n",
       "      <th></th>\n",
       "      <th></th>\n",
       "      <th></th>\n",
       "      <th></th>\n",
       "      <th></th>\n",
       "    </tr>\n",
       "  </thead>\n",
       "  <tbody>\n",
       "    <tr>\n",
       "      <th>W01Y107687</th>\n",
       "      <td>0</td>\n",
       "      <td>0</td>\n",
       "      <td>0</td>\n",
       "      <td>0</td>\n",
       "      <td>0</td>\n",
       "      <td>0</td>\n",
       "      <td>0</td>\n",
       "      <td>0</td>\n",
       "      <td>0</td>\n",
       "      <td>0</td>\n",
       "      <td>...</td>\n",
       "      <td>-0.260727</td>\n",
       "      <td>-0.082145</td>\n",
       "      <td>-0.090345</td>\n",
       "      <td>-0.211962</td>\n",
       "      <td>-0.123294</td>\n",
       "      <td>-0.011374</td>\n",
       "      <td>-0.197531</td>\n",
       "      <td>1.322661</td>\n",
       "      <td>0.137164</td>\n",
       "      <td>1</td>\n",
       "    </tr>\n",
       "    <tr>\n",
       "      <th>W01E106713</th>\n",
       "      <td>0</td>\n",
       "      <td>0</td>\n",
       "      <td>0</td>\n",
       "      <td>0</td>\n",
       "      <td>0</td>\n",
       "      <td>0</td>\n",
       "      <td>0</td>\n",
       "      <td>1</td>\n",
       "      <td>1</td>\n",
       "      <td>0</td>\n",
       "      <td>...</td>\n",
       "      <td>-0.260727</td>\n",
       "      <td>-0.082145</td>\n",
       "      <td>-0.090345</td>\n",
       "      <td>-0.211962</td>\n",
       "      <td>-0.123294</td>\n",
       "      <td>-0.011374</td>\n",
       "      <td>-0.197531</td>\n",
       "      <td>-0.314780</td>\n",
       "      <td>-0.218282</td>\n",
       "      <td>1</td>\n",
       "    </tr>\n",
       "    <tr>\n",
       "      <th>W01E121261</th>\n",
       "      <td>0</td>\n",
       "      <td>0</td>\n",
       "      <td>0</td>\n",
       "      <td>0</td>\n",
       "      <td>0</td>\n",
       "      <td>0</td>\n",
       "      <td>0</td>\n",
       "      <td>1</td>\n",
       "      <td>0</td>\n",
       "      <td>0</td>\n",
       "      <td>...</td>\n",
       "      <td>-0.260727</td>\n",
       "      <td>-0.082145</td>\n",
       "      <td>-0.090345</td>\n",
       "      <td>-0.211962</td>\n",
       "      <td>-0.123294</td>\n",
       "      <td>-0.011374</td>\n",
       "      <td>-0.197531</td>\n",
       "      <td>0.340196</td>\n",
       "      <td>-0.167504</td>\n",
       "      <td>1</td>\n",
       "    </tr>\n",
       "  </tbody>\n",
       "</table>\n",
       "<p>3 rows × 459 columns</p>\n",
       "</div>"
      ],
      "text/plain": [
       "            software_version_2.0.3  software_version_3.0.1  \\\n",
       "asset_id                                                     \n",
       "W01Y107687                       0                       0   \n",
       "W01E106713                       0                       0   \n",
       "W01E121261                       0                       0   \n",
       "\n",
       "            software_version_3.2  software_version_3.3.1  \\\n",
       "asset_id                                                   \n",
       "W01Y107687                     0                       0   \n",
       "W01E106713                     0                       0   \n",
       "W01E121261                     0                       0   \n",
       "\n",
       "            software_version_3.3.2  software_version_3.5  \\\n",
       "asset_id                                                   \n",
       "W01Y107687                       0                     0   \n",
       "W01E106713                       0                     0   \n",
       "W01E121261                       0                     0   \n",
       "\n",
       "            software_version_4.10.1  software_version_4.10.2  \\\n",
       "asset_id                                                       \n",
       "W01Y107687                        0                        0   \n",
       "W01E106713                        0                        1   \n",
       "W01E121261                        0                        1   \n",
       "\n",
       "            software_version_4.12.4  software_version_4.2.2  ...  Vasculature  \\\n",
       "asset_id                                                     ...                \n",
       "W01Y107687                        0                       0  ...    -0.260727   \n",
       "W01E106713                        1                       0  ...    -0.260727   \n",
       "W01E121261                        0                       0  ...    -0.260727   \n",
       "\n",
       "            Ventral Hernia  Ventricular Fibrillation with Conduction System  \\\n",
       "asset_id                                                                      \n",
       "W01Y107687       -0.082145                                        -0.090345   \n",
       "W01E106713       -0.082145                                        -0.090345   \n",
       "W01E121261       -0.082145                                        -0.090345   \n",
       "\n",
       "            Wagner Classification  Warts on Skin  Whiteboard     Wrist  \\\n",
       "asset_id                                                                 \n",
       "W01Y107687              -0.211962      -0.123294   -0.011374 -0.197531   \n",
       "W01E106713              -0.211962      -0.123294   -0.011374 -0.197531   \n",
       "W01E121261              -0.211962      -0.123294   -0.011374 -0.197531   \n",
       "\n",
       "            avg_times  avg_days  clinic_had_mia  \n",
       "asset_id                                         \n",
       "W01Y107687   1.322661  0.137164               1  \n",
       "W01E106713  -0.314780 -0.218282               1  \n",
       "W01E121261   0.340196 -0.167504               1  \n",
       "\n",
       "[3 rows x 459 columns]"
      ]
     },
     "execution_count": 2,
     "metadata": {},
     "output_type": "execute_result"
    }
   ],
   "source": [
    "df_train = pd.read_csv('../wallboard_train.csv')\n",
    "df_test =  pd.read_csv('../wallboard_test.csv')\n",
    "\n",
    "# setting asset_id as index\n",
    "df_train.set_index('asset_id',inplace = True)\n",
    "df_test.set_index('asset_id',inplace = True)\n",
    "\n",
    "print('Train data set shape:', df_train.shape)\n",
    "print('Test data set shapec:', df_test.shape)\n",
    "\n",
    "# Splitting the train and test data to X ( independent variables ) and y ( dependent variables ) set\n",
    "X_train = df_train.iloc[:,:-1]\n",
    "y_train = df_train.iloc[:,-1]\n",
    "X_test = df_test.iloc[:,:-1]\n",
    "y_test = df_test.iloc[:,-1]\n",
    "print('\\n')\n",
    "print('Sneak peak of y train')\n",
    "print(\"---------------------\")\n",
    "print(y_train.head(3))\n",
    "print('\\n')\n",
    "print('Sneak peak of X train')\n",
    "print(\"---------------------\")\n",
    "X_train.head(3)"
   ]
  },
  {
   "cell_type": "markdown",
   "metadata": {},
   "source": [
    "# Feature Reduction"
   ]
  },
  {
   "cell_type": "code",
   "execution_count": 3,
   "metadata": {
    "ExecuteTime": {
     "end_time": "2021-01-12T09:47:51.111059Z",
     "start_time": "2021-01-12T09:47:50.954998Z"
    }
   },
   "outputs": [
    {
     "name": "stdout",
     "output_type": "stream",
     "text": [
      "Shape of the train and test data sets post feature selection:  (12369, 332) (4123, 332)\n"
     ]
    }
   ],
   "source": [
    "threshold_n = 0.9\n",
    "sel = VarianceThreshold(threshold=(threshold_n * (1 - threshold_n) ))\n",
    "sel_var = sel.fit_transform(X_train)\n",
    "X_train_fs = X_train[X_train.columns[sel.get_support(indices=True)]]\n",
    "X_test_fs = X_test[X_test.columns[sel.get_support(indices=True)]]\n",
    "\n",
    "print(\"Shape of the train and test data sets post feature selection: \", X_train_fs.shape, X_test_fs.shape)"
   ]
  },
  {
   "cell_type": "code",
   "execution_count": 4,
   "metadata": {
    "ExecuteTime": {
     "end_time": "2021-01-11T18:38:24.685436Z",
     "start_time": "2021-01-11T18:38:22.787398Z"
    }
   },
   "outputs": [],
   "source": [
    "#get correlations of each features in dataset\n",
    "data = pd.concat([X_train_fs,y_train],axis = 1)\n",
    "corrmat = data.corr()\n",
    "top_corr_features = corrmat.index"
   ]
  },
  {
   "cell_type": "code",
   "execution_count": 5,
   "metadata": {
    "ExecuteTime": {
     "end_time": "2021-01-11T18:38:32.306179Z",
     "start_time": "2021-01-11T18:38:32.296971Z"
    }
   },
   "outputs": [
    {
     "data": {
      "text/plain": [
       "manufacturer_OUTFORM                0.453410\n",
       "manufacturer_YITOA                  0.252483\n",
       "model_UIT232B-W01                   0.442524\n",
       "sku_P-WAL-105-OUT-01                0.442524\n",
       "state_Texas                         0.008597\n",
       "facility_type_Private Group         0.063007\n",
       "facility_type_Private Practice      0.097481\n",
       "ranking_6.0                         0.031684\n",
       "ranking_7.0                         0.001578\n",
       "ranking_8.0                         0.002111\n",
       "ranking_9.0                         0.008544\n",
       "ranking_10.0                        0.037433\n",
       "specialty_Cardiovascular Disease    0.065188\n",
       "fs_pct_0.0261_0.0613                0.300752\n",
       "fs_pct_0.0613_0.0661                0.028797\n",
       "SEPT_avg_video_duration             0.007577\n",
       "OCT_avg_video_duration              0.031232\n",
       "jun_avg_Crash_sessions              0.022411\n",
       "jul_avg_Crash_sessions              0.015782\n",
       "aug_avg_Crash_sessions              0.009044\n",
       "sept_avg_Crash_sessions             0.006664\n",
       "oct_avg_Crash_sessions              0.011392\n",
       "Heart Attack                        0.004616\n",
       "Leukemia                            0.003803\n",
       "Renal Cell Carcinoma                0.004869\n",
       "Whiteboard                          0.009006\n",
       "avg_times                           0.114963\n",
       "avg_days                            0.179436\n",
       "clinic_had_mia                      0.456041\n",
       "Name: y_flag, dtype: float64"
      ]
     },
     "execution_count": 5,
     "metadata": {},
     "output_type": "execute_result"
    }
   ],
   "source": [
    "corrmat.loc['y_flag',:'clinic_had_mia'][corrmat.loc['y_flag',:'clinic_had_mia'] > 0]"
   ]
  },
  {
   "cell_type": "markdown",
   "metadata": {},
   "source": [
    "# Baseline Models"
   ]
  },
  {
   "cell_type": "markdown",
   "metadata": {},
   "source": [
    "## 5 fold Cross Validation of all baseline models"
   ]
  },
  {
   "cell_type": "code",
   "execution_count": 6,
   "metadata": {
    "ExecuteTime": {
     "end_time": "2021-01-11T18:38:37.850226Z",
     "start_time": "2021-01-11T18:38:37.846089Z"
    }
   },
   "outputs": [],
   "source": [
    "def display_scores(scores):\n",
    "    print(\"Scores:\", scores)\n",
    "    print(\"Mean:\", scores.mean())\n",
    "    print(\"Standard Deviation:\", scores.std())"
   ]
  },
  {
   "cell_type": "code",
   "execution_count": 7,
   "metadata": {
    "ExecuteTime": {
     "end_time": "2021-01-11T18:38:39.350316Z",
     "start_time": "2021-01-11T18:38:39.335054Z"
    }
   },
   "outputs": [],
   "source": [
    "def kfold_cv(X,y,k = 3,model = 'logistic'):\n",
    "    scores = []\n",
    "    train_acc = []\n",
    "    fpr = []\n",
    "    \n",
    "    if 'logistic' in str.lower(model):\n",
    "        curr_model = LogisticRegression()\n",
    "    elif 'naive' in str.lower(model) or 'bayes' in str.lower(model):\n",
    "        curr_model = GaussianNB()\n",
    "    elif 'decision' in str.lower(model) or 'tree' in str.lower(model):\n",
    "        curr_model = DecisionTreeClassifier()\n",
    "    elif 'SVM' in str.upper(model):\n",
    "        curr_model = LinearSVC()\n",
    "    elif 'random' in str.lower(model) or 'forest' in str.lower(model):\n",
    "        curr_model = RandomForestClassifier()    \n",
    "        \n",
    "    cv = KFold(n_splits=k, random_state=42, shuffle=False)\n",
    "    for train_index, test_index in cv.split(X):\n",
    "\n",
    "        X_train, X_test = X.iloc[list(train_index)], X.iloc[list(test_index)]\n",
    "        y_train, y_test = y.iloc[list(train_index)], y.iloc[list(test_index)]\n",
    "        curr_model.fit(X_train, y_train)\n",
    "        # Test Accuracy\n",
    "        scores.append(curr_model.score(X_test, y_test))\n",
    "        # Train Accuracy\n",
    "        train_acc.append(accuracy_score(y_train, curr_model.predict(X_train)))\n",
    "        # Calculating False positive rate\n",
    "        CM = confusion_matrix(y_test, curr_model.predict(X_test))\n",
    "        TN = CM[0][0]\n",
    "        FN = CM[1][0]\n",
    "        TP = CM[1][1]\n",
    "        FP = CM[0][1]\n",
    "        # False positive rate\n",
    "        FPR = FP/(FP+TN)\n",
    "        fpr.append(FPR)\n",
    "    \n",
    "    # Training accuracies\n",
    "    print('Displaying Training accuracies of %s model in %d fold cv'%(model, k))\n",
    "    print('------------------------------------------------------------------------------')\n",
    "    train_acc = np.array(train_acc)\n",
    "    display_scores(train_acc)\n",
    "    print('\\n')\n",
    "    # Testing accuracies\n",
    "    print('Displaying Testing accuracies of %s model in %d fold cv'%(model, k))\n",
    "    print('------------------------------------------------------------------------------')\n",
    "    scores = np.array(scores)\n",
    "    display_scores(scores)\n",
    "    print('\\n')\n",
    "    # False Positive Rate\n",
    "    print('Displaying False Positive Rate of %s model in %d fold cv'%(model, k))\n",
    "    print('------------------------------------------------------------------------------')\n",
    "    fpr = np.array(fpr)\n",
    "    display_scores(fpr)"
   ]
  },
  {
   "cell_type": "markdown",
   "metadata": {},
   "source": [
    "### Naive Bayes "
   ]
  },
  {
   "cell_type": "code",
   "execution_count": 122,
   "metadata": {
    "ExecuteTime": {
     "end_time": "2021-01-11T17:25:47.869773Z",
     "start_time": "2021-01-11T17:25:47.016174Z"
    }
   },
   "outputs": [
    {
     "name": "stdout",
     "output_type": "stream",
     "text": [
      "Displaying Training accuracies of Naive model in 5 fold cv\n",
      "------------------------------------------------------------------------------\n",
      "Scores: [0.78706417 0.85497726 0.83557352 0.85406771 0.85185934]\n",
      "Mean: 0.83670840102401\n",
      "Standard Deviation: 0.025808855085438388\n",
      "\n",
      "\n",
      "Displaying Testing accuracies of Naive model in 5 fold cv\n",
      "------------------------------------------------------------------------------\n",
      "Scores: [0.79143088 0.84923201 0.81932094 0.86742118 0.85078852]\n",
      "Mean: 0.8356387056197228\n",
      "Standard Deviation: 0.027000080533016998\n",
      "\n",
      "\n",
      "Displaying False Positive Rate of Naive model in 5 fold cv\n",
      "------------------------------------------------------------------------------\n",
      "Scores: [0.25530179 0.11755361 0.16610738 0.09397024 0.11209677]\n",
      "Mean: 0.1490059615866401\n",
      "Standard Deviation: 0.05826101838282838\n"
     ]
    }
   ],
   "source": [
    "kfold_cv(X_train_fs,y_train, k=5 ,model = 'Naive')"
   ]
  },
  {
   "cell_type": "markdown",
   "metadata": {},
   "source": [
    "## Logistic Regression "
   ]
  },
  {
   "cell_type": "code",
   "execution_count": 124,
   "metadata": {
    "ExecuteTime": {
     "end_time": "2021-01-11T17:34:08.802561Z",
     "start_time": "2021-01-11T17:34:07.420760Z"
    }
   },
   "outputs": [
    {
     "name": "stdout",
     "output_type": "stream",
     "text": [
      "Displaying Training accuracies of Logistic model in 5 fold cv\n",
      "------------------------------------------------------------------------------\n",
      "Scores: [0.97604851 0.97180394 0.97301668 0.97453259 0.9726152 ]\n",
      "Mean: 0.9736033832198473\n",
      "Standard Deviation: 0.001510019761907545\n",
      "\n",
      "\n",
      "Displaying Testing accuracies of Logistic model in 5 fold cv\n",
      "------------------------------------------------------------------------------\n",
      "Scores: [0.95513339 0.96402587 0.95998383 0.96038804 0.96482006]\n",
      "Mean: 0.9608702360595481\n",
      "Standard Deviation: 0.0034493119935673344\n",
      "\n",
      "\n",
      "Displaying False Positive Rate of Logistic model in 5 fold cv\n",
      "------------------------------------------------------------------------------\n",
      "Scores: [0.05709625 0.04447975 0.04697987 0.05011746 0.03629032]\n",
      "Mean: 0.046992728989354984\n",
      "Standard Deviation: 0.006822049688691615\n"
     ]
    }
   ],
   "source": [
    "kfold_cv(X_train_fs,y_train, k=5 ,model = 'Logistic')"
   ]
  },
  {
   "cell_type": "markdown",
   "metadata": {},
   "source": [
    "## SVM"
   ]
  },
  {
   "cell_type": "code",
   "execution_count": 127,
   "metadata": {
    "ExecuteTime": {
     "end_time": "2021-01-11T17:37:03.498118Z",
     "start_time": "2021-01-11T17:36:42.055856Z"
    }
   },
   "outputs": [
    {
     "name": "stdout",
     "output_type": "stream",
     "text": [
      "Displaying Training accuracies of svm model in 5 fold cv\n",
      "------------------------------------------------------------------------------\n",
      "Scores: [0.9732188  0.97099545 0.97251137 0.97119757 0.97231205]\n",
      "Mean: 0.9720470477605808\n",
      "Standard Deviation: 0.0008350177583695207\n",
      "\n",
      "\n",
      "Displaying Testing accuracies of svm model in 5 fold cv\n",
      "------------------------------------------------------------------------------\n",
      "Scores: [0.95877122 0.96564268 0.95755861 0.95957963 0.96320259]\n",
      "Mean: 0.9609509460459135\n",
      "Standard Deviation: 0.0030073894949851836\n",
      "\n",
      "\n",
      "Displaying False Positive Rate of svm model in 5 fold cv\n",
      "------------------------------------------------------------------------------\n",
      "Scores: [0.05301794 0.04845115 0.0511745  0.05246672 0.03870968]\n",
      "Mean: 0.048763997835757036\n",
      "Standard Deviation: 0.005268850763439577\n"
     ]
    }
   ],
   "source": [
    "kfold_cv(X_train_fs,y_train, k=5 ,model = 'svm')"
   ]
  },
  {
   "cell_type": "markdown",
   "metadata": {},
   "source": [
    "## Decision Tree"
   ]
  },
  {
   "cell_type": "code",
   "execution_count": 129,
   "metadata": {
    "ExecuteTime": {
     "end_time": "2021-01-11T17:37:51.424462Z",
     "start_time": "2021-01-11T17:37:49.562624Z"
    }
   },
   "outputs": [
    {
     "name": "stdout",
     "output_type": "stream",
     "text": [
      "Displaying Training accuracies of decisiontree model in 5 fold cv\n",
      "------------------------------------------------------------------------------\n",
      "Scores: [0.99919151 0.99898939 0.99878727 0.99878727 0.99878739]\n",
      "Mean: 0.9989085641760719\n",
      "Standard Deviation: 0.00016167945139123225\n",
      "\n",
      "\n",
      "Displaying Testing accuracies of decisiontree model in 5 fold cv\n",
      "------------------------------------------------------------------------------\n",
      "Scores: [0.956346   0.95917542 0.96362167 0.96200485 0.96239385]\n",
      "Mean: 0.9607083584360241\n",
      "Standard Deviation: 0.00262256418352461\n",
      "\n",
      "\n",
      "Displaying False Positive Rate of decisiontree model in 5 fold cv\n",
      "------------------------------------------------------------------------------\n",
      "Scores: [0.03915171 0.04368546 0.04362416 0.04072044 0.03548387]\n",
      "Mean: 0.0405331296222587\n",
      "Standard Deviation: 0.003063661253191712\n"
     ]
    }
   ],
   "source": [
    "kfold_cv(X_train_fs,y_train, k=5 ,model = 'decisiontree')"
   ]
  },
  {
   "cell_type": "markdown",
   "metadata": {},
   "source": [
    "## Random Forest"
   ]
  },
  {
   "cell_type": "code",
   "execution_count": 130,
   "metadata": {
    "ExecuteTime": {
     "end_time": "2021-01-11T17:38:35.218347Z",
     "start_time": "2021-01-11T17:38:25.805260Z"
    }
   },
   "outputs": [
    {
     "name": "stdout",
     "output_type": "stream",
     "text": [
      "Displaying Training accuracies of forest model in 5 fold cv\n",
      "------------------------------------------------------------------------------\n",
      "Scores: [0.99919151 0.99898939 0.99878727 0.99878727 0.99878739]\n",
      "Mean: 0.9989085641760719\n",
      "Standard Deviation: 0.00016167945139123225\n",
      "\n",
      "\n",
      "Displaying Testing accuracies of forest model in 5 fold cv\n",
      "------------------------------------------------------------------------------\n",
      "Scores: [0.97291835 0.97574778 0.97251415 0.97170574 0.97816417]\n",
      "Mean: 0.9742100375240963\n",
      "Standard Deviation: 0.0024006597658592747\n",
      "\n",
      "\n",
      "Displaying False Positive Rate of forest model in 5 fold cv\n",
      "------------------------------------------------------------------------------\n",
      "Scores: [0.04486134 0.04289118 0.04697987 0.04698512 0.03467742]\n",
      "Mean: 0.043278985533471245\n",
      "Standard Deviation: 0.004562304832516333\n"
     ]
    }
   ],
   "source": [
    "kfold_cv(X_train_fs,y_train, k=5 ,model = 'forest')"
   ]
  },
  {
   "cell_type": "markdown",
   "metadata": {},
   "source": [
    "# First run Final Models  - Grid Searched hyperparameter tuned "
   ]
  },
  {
   "cell_type": "code",
   "execution_count": 11,
   "metadata": {
    "ExecuteTime": {
     "end_time": "2021-01-12T09:54:30.707312Z",
     "start_time": "2021-01-12T09:54:30.703039Z"
    }
   },
   "outputs": [],
   "source": [
    "def plot_auc(clf,X_test,y_test):\n",
    "    fig, ax = subplots()\n",
    "    y_pred_proba = clf.predict_proba(X_test)[::,1]\n",
    "    fpr, tpr, _ = roc_curve(y_test,  y_pred_proba)\n",
    "    auc = roc_auc_score(y_test, y_pred_proba)\n",
    "    ax.plot(fpr,tpr,label=\"auc=\"+str(auc))\n",
    "    ax.set_xlabel('False Positive Rate')\n",
    "    ax.set_ylabel('True Positive Rate')\n",
    "    ax.set_title('ROC curve (Test), AUC = %.4f'%auc)\n",
    "    ax.legend(loc='best')\n",
    "    plt.show()"
   ]
  },
  {
   "cell_type": "markdown",
   "metadata": {},
   "source": [
    "## Logistic Regression"
   ]
  },
  {
   "cell_type": "code",
   "execution_count": 9,
   "metadata": {
    "ExecuteTime": {
     "end_time": "2021-01-11T18:38:58.408969Z",
     "start_time": "2021-01-11T18:38:50.828902Z"
    }
   },
   "outputs": [
    {
     "data": {
      "text/plain": [
       "GridSearchCV(cv=5, estimator=LogisticRegression(),\n",
       "             param_grid={'C': array([1.e-03, 1.e-02, 1.e-01, 1.e+00, 1.e+01, 1.e+02, 1.e+03]),\n",
       "                         'penalty': ['l1', 'l2']})"
      ]
     },
     "execution_count": 9,
     "metadata": {},
     "output_type": "execute_result"
    }
   ],
   "source": [
    "param_grid = {\"C\":np.logspace(-3,3,7), \n",
    "              \"penalty\":[\"l1\",\"l2\"]} # l1 lasso l2 ridge\n",
    "\n",
    "logreg = LogisticRegression()\n",
    "\n",
    "logreg_cv = GridSearchCV(logreg,param_grid,cv=5)\n",
    "# fit data\n",
    "logreg_cv.fit(X_train_fs,y_train)"
   ]
  },
  {
   "cell_type": "code",
   "execution_count": 10,
   "metadata": {
    "ExecuteTime": {
     "end_time": "2021-01-11T18:38:59.165687Z",
     "start_time": "2021-01-11T18:38:58.867042Z"
    }
   },
   "outputs": [
    {
     "name": "stdout",
     "output_type": "stream",
     "text": [
      "Training accuracy : 0.9727544668121918\n",
      "Testing accuracy : 0.9616783895221925\n"
     ]
    }
   ],
   "source": [
    "params = logreg_cv.best_params_\n",
    "final_model_logreg = LogisticRegression(C=params['C'],penalty= params['penalty'])\n",
    "final_model_logreg.fit(X_train_fs,y_train)\n",
    "print(\"Training accuracy :\", final_model_logreg.score(X_train_fs,y_train))\n",
    "print(\"Testing accuracy :\", final_model_logreg.score(X_test_fs,y_test))"
   ]
  },
  {
   "cell_type": "code",
   "execution_count": 23,
   "metadata": {
    "ExecuteTime": {
     "end_time": "2021-01-12T09:17:30.971611Z",
     "start_time": "2021-01-12T09:17:30.940105Z"
    }
   },
   "outputs": [
    {
     "name": "stdout",
     "output_type": "stream",
     "text": [
      "Test Dataset\n",
      "              precision    recall  f1-score   support\n",
      "\n",
      "           0       0.97      0.95      0.96      2046\n",
      "           1       0.95      0.97      0.96      2077\n",
      "\n",
      "    accuracy                           0.96      4123\n",
      "   macro avg       0.96      0.96      0.96      4123\n",
      "weighted avg       0.96      0.96      0.96      4123\n",
      "\n"
     ]
    }
   ],
   "source": [
    "predictions = final_model_logreg.predict(X_test_fs)\n",
    "print(\"Test Dataset\")\n",
    "print(classification_report(y_test, predictions))"
   ]
  },
  {
   "cell_type": "code",
   "execution_count": 11,
   "metadata": {
    "ExecuteTime": {
     "end_time": "2021-01-11T18:38:59.757993Z",
     "start_time": "2021-01-11T18:38:59.620821Z"
    }
   },
   "outputs": [
    {
     "data": {
      "image/png": "[encoded data removed]",
      "text/plain": [
       "<Figure size 432x288 with 1 Axes>"
      ]
     },
     "metadata": {
      "needs_background": "light"
     },
     "output_type": "display_data"
    }
   ],
   "source": [
    "plot_auc(final_model_logreg,X_test_fs,y_test)"
   ]
  },
  {
   "cell_type": "code",
   "execution_count": 13,
   "metadata": {
    "ExecuteTime": {
     "end_time": "2021-01-11T19:45:33.507788Z",
     "start_time": "2021-01-11T19:45:33.482952Z"
    }
   },
   "outputs": [
    {
     "name": "stdout",
     "output_type": "stream",
     "text": [
      "Confusion Matrix:\n",
      "-----------------\n",
      "[[1942  104]\n",
      " [  54 2023]]\n",
      "\n",
      "\n",
      "False positive rate -  0.05083088954056696\n"
     ]
    }
   ],
   "source": [
    "CM = confusion_matrix(y_test, final_model_logreg.predict(X_test_fs))\n",
    "\n",
    "TN = CM[0][0]\n",
    "FN = CM[1][0]\n",
    "TP = CM[1][1]\n",
    "FP = CM[0][1]\n",
    "# False positive rate\n",
    "FPR = FP/(FP+TN)\n",
    "\n",
    "print('Confusion Matrix:')\n",
    "print('-----------------')\n",
    "print(CM)\n",
    "print('\\n')\n",
    "print('False positive rate - ',FPR)"
   ]
  },
  {
   "cell_type": "code",
   "execution_count": 15,
   "metadata": {
    "ExecuteTime": {
     "end_time": "2021-01-11T19:50:13.486807Z",
     "start_time": "2021-01-11T19:50:13.276720Z"
    }
   },
   "outputs": [
    {
     "data": {
      "text/plain": [
       "<Figure size 432x432 with 0 Axes>"
      ]
     },
     "metadata": {},
     "output_type": "display_data"
    },
    {
     "data": {
      "image/png": "[encoded data removed]",
      "text/plain": [
       "<Figure size 360x360 with 2 Axes>"
      ]
     },
     "metadata": {
      "needs_background": "light"
     },
     "output_type": "display_data"
    }
   ],
   "source": [
    "# Plot confusion matrix\n",
    "class_names = [0,1]\n",
    "plt.figure(figsize=(6,6))\n",
    "disp = plot_confusion_matrix(final_model_logreg, X_test_fs,y_test,\n",
    "                             display_labels=class_names,\n",
    "                             cmap=plt.cm.Blues)\n",
    "#                              normalize=\"true\")\n",
    "disp.ax_.set_title(\"confusion matrix\")\n",
    "\n",
    "plt.grid(b=None)\n",
    "fig = plt.gcf()\n",
    "fig.set_size_inches(5,5)\n",
    "plt.show()"
   ]
  },
  {
   "cell_type": "code",
   "execution_count": 19,
   "metadata": {
    "ExecuteTime": {
     "end_time": "2021-01-11T19:56:01.392324Z",
     "start_time": "2021-01-11T19:56:01.382968Z"
    }
   },
   "outputs": [],
   "source": [
    "feature_importance = abs(final_model_logreg.coef_[0])\n",
    "feature_importance = 100.0 * (feature_importance / feature_importance.sum())\n",
    "sorted_feat_imp_logreg = list(zip(X_test_fs.columns,feature_importance))\n",
    "sorted_feat_imp_logreg.sort(key=lambda x: x[1],reverse = True)\n",
    "pd.DataFrame(sorted_feat_imp_logreg, columns = ['feature','importance']).to_csv('../first_run_logistic_fi.csv')"
   ]
  },
  {
   "cell_type": "code",
   "execution_count": 47,
   "metadata": {
    "ExecuteTime": {
     "end_time": "2021-01-12T09:43:08.487987Z",
     "start_time": "2021-01-12T09:43:08.484584Z"
    }
   },
   "outputs": [],
   "source": [
    "# save the model to disk\n",
    "filename = '../first_run_grid_cv_logistic.sav'\n",
    "pickle.dump(final_model_logreg, open(filename, 'wb'))"
   ]
  },
  {
   "cell_type": "code",
   "execution_count": 48,
   "metadata": {
    "ExecuteTime": {
     "end_time": "2021-01-12T09:43:33.560329Z",
     "start_time": "2021-01-12T09:43:33.556248Z"
    }
   },
   "outputs": [
    {
     "data": {
      "text/plain": [
       "{'C': 1.0,\n",
       " 'class_weight': None,\n",
       " 'dual': False,\n",
       " 'fit_intercept': True,\n",
       " 'intercept_scaling': 1,\n",
       " 'l1_ratio': None,\n",
       " 'max_iter': 100,\n",
       " 'multi_class': 'auto',\n",
       " 'n_jobs': None,\n",
       " 'penalty': 'l2',\n",
       " 'random_state': None,\n",
       " 'solver': 'lbfgs',\n",
       " 'tol': 0.0001,\n",
       " 'verbose': 0,\n",
       " 'warm_start': False}"
      ]
     },
     "execution_count": 48,
     "metadata": {},
     "output_type": "execute_result"
    }
   ],
   "source": [
    "final_model_logreg.get_params()"
   ]
  },
  {
   "cell_type": "code",
   "execution_count": 49,
   "metadata": {
    "ExecuteTime": {
     "end_time": "2021-01-12T09:44:17.059991Z",
     "start_time": "2021-01-12T09:44:17.053364Z"
    }
   },
   "outputs": [
    {
     "data": {
      "text/plain": [
       "{'C': 1.0,\n",
       " 'class_weight': None,\n",
       " 'dual': False,\n",
       " 'fit_intercept': True,\n",
       " 'intercept_scaling': 1,\n",
       " 'l1_ratio': None,\n",
       " 'max_iter': 100,\n",
       " 'multi_class': 'auto',\n",
       " 'n_jobs': None,\n",
       " 'penalty': 'l2',\n",
       " 'random_state': None,\n",
       " 'solver': 'lbfgs',\n",
       " 'tol': 0.0001,\n",
       " 'verbose': 0,\n",
       " 'warm_start': False}"
      ]
     },
     "execution_count": 49,
     "metadata": {},
     "output_type": "execute_result"
    }
   ],
   "source": [
    "#####     QC\n",
    "# load the model from disk\n",
    "loaded_model = pickle.load(open(filename, 'rb'))\n",
    "loaded_model.get_params()"
   ]
  },
  {
   "cell_type": "markdown",
   "metadata": {},
   "source": [
    "## SVM"
   ]
  },
  {
   "cell_type": "code",
   "execution_count": 22,
   "metadata": {
    "ExecuteTime": {
     "end_time": "2021-01-12T09:17:30.270797Z",
     "start_time": "2021-01-11T20:29:54.531381Z"
    },
    "scrolled": true
   },
   "outputs": [
    {
     "name": "stdout",
     "output_type": "stream",
     "text": [
      "Fitting 5 folds for each of 50 candidates, totalling 250 fits\n",
      "[CV] C=0.001, gamma=1, kernel=rbf ....................................\n"
     ]
    },
    {
     "name": "stderr",
     "output_type": "stream",
     "text": [
      "[Parallel(n_jobs=1)]: Using backend SequentialBackend with 1 concurrent workers.\n"
     ]
    },
    {
     "name": "stdout",
     "output_type": "stream",
     "text": [
      "[CV] ........ C=0.001, gamma=1, kernel=rbf, score=0.501, total= 1.0min\n",
      "[CV] C=0.001, gamma=1, kernel=rbf ....................................\n"
     ]
    },
    {
     "name": "stderr",
     "output_type": "stream",
     "text": [
      "[Parallel(n_jobs=1)]: Done   1 out of   1 | elapsed:  1.0min remaining:    0.0s\n"
     ]
    },
    {
     "name": "stdout",
     "output_type": "stream",
     "text": [
      "[CV] ........ C=0.001, gamma=1, kernel=rbf, score=0.501, total= 1.0min\n",
      "[CV] C=0.001, gamma=1, kernel=rbf ....................................\n"
     ]
    },
    {
     "name": "stderr",
     "output_type": "stream",
     "text": [
      "[Parallel(n_jobs=1)]: Done   2 out of   2 | elapsed:  2.0min remaining:    0.0s\n"
     ]
    },
    {
     "name": "stdout",
     "output_type": "stream",
     "text": [
      "[CV] ........ C=0.001, gamma=1, kernel=rbf, score=0.501, total= 1.0min\n",
      "[CV] C=0.001, gamma=1, kernel=rbf ....................................\n",
      "[CV] ........ C=0.001, gamma=1, kernel=rbf, score=0.501, total= 1.0min\n",
      "[CV] C=0.001, gamma=1, kernel=rbf ....................................\n",
      "[CV] ........ C=0.001, gamma=1, kernel=rbf, score=0.501, total= 1.1min\n",
      "[CV] C=0.001, gamma=1, kernel=linear .................................\n",
      "[CV] ..... C=0.001, gamma=1, kernel=linear, score=0.960, total=  22.8s\n",
      "[CV] C=0.001, gamma=1, kernel=linear .................................\n",
      "[CV] ..... C=0.001, gamma=1, kernel=linear, score=0.958, total=  22.6s\n",
      "[CV] C=0.001, gamma=1, kernel=linear .................................\n",
      "[CV] ..... C=0.001, gamma=1, kernel=linear, score=0.959, total=  22.5s\n",
      "[CV] C=0.001, gamma=1, kernel=linear .................................\n",
      "[CV] ..... C=0.001, gamma=1, kernel=linear, score=0.956, total=  22.9s\n",
      "[CV] C=0.001, gamma=1, kernel=linear .................................\n",
      "[CV] ..... C=0.001, gamma=1, kernel=linear, score=0.959, total=  22.6s\n",
      "[CV] C=0.001, gamma=0.1, kernel=rbf ..................................\n",
      "[CV] ...... C=0.001, gamma=0.1, kernel=rbf, score=0.501, total= 1.1min\n",
      "[CV] C=0.001, gamma=0.1, kernel=rbf ..................................\n",
      "[CV] ...... C=0.001, gamma=0.1, kernel=rbf, score=0.501, total= 1.1min\n",
      "[CV] C=0.001, gamma=0.1, kernel=rbf ..................................\n",
      "[CV] ...... C=0.001, gamma=0.1, kernel=rbf, score=0.501, total= 1.0min\n",
      "[CV] C=0.001, gamma=0.1, kernel=rbf ..................................\n",
      "[CV] ...... C=0.001, gamma=0.1, kernel=rbf, score=0.501, total= 1.0min\n",
      "[CV] C=0.001, gamma=0.1, kernel=rbf ..................................\n",
      "[CV] ...... C=0.001, gamma=0.1, kernel=rbf, score=0.501, total= 1.0min\n",
      "[CV] C=0.001, gamma=0.1, kernel=linear ...............................\n",
      "[CV] ... C=0.001, gamma=0.1, kernel=linear, score=0.960, total=  22.7s\n",
      "[CV] C=0.001, gamma=0.1, kernel=linear ...............................\n",
      "[CV] ... C=0.001, gamma=0.1, kernel=linear, score=0.958, total=  22.5s\n",
      "[CV] C=0.001, gamma=0.1, kernel=linear ...............................\n",
      "[CV] ... C=0.001, gamma=0.1, kernel=linear, score=0.959, total=  22.4s\n",
      "[CV] C=0.001, gamma=0.1, kernel=linear ...............................\n",
      "[CV] ... C=0.001, gamma=0.1, kernel=linear, score=0.956, total=  22.9s\n",
      "[CV] C=0.001, gamma=0.1, kernel=linear ...............................\n",
      "[CV] ... C=0.001, gamma=0.1, kernel=linear, score=0.959, total=  22.7s\n",
      "[CV] C=0.001, gamma=0.01, kernel=rbf .................................\n",
      "[CV] ..... C=0.001, gamma=0.01, kernel=rbf, score=0.501, total= 1.0min\n",
      "[CV] C=0.001, gamma=0.01, kernel=rbf .................................\n",
      "[CV] ..... C=0.001, gamma=0.01, kernel=rbf, score=0.501, total= 1.0min\n",
      "[CV] C=0.001, gamma=0.01, kernel=rbf .................................\n",
      "[CV] ..... C=0.001, gamma=0.01, kernel=rbf, score=0.501, total= 1.1min\n",
      "[CV] C=0.001, gamma=0.01, kernel=rbf .................................\n",
      "[CV] ..... C=0.001, gamma=0.01, kernel=rbf, score=0.501, total= 1.1min\n",
      "[CV] C=0.001, gamma=0.01, kernel=rbf .................................\n",
      "[CV] ..... C=0.001, gamma=0.01, kernel=rbf, score=0.501, total= 1.0min\n",
      "[CV] C=0.001, gamma=0.01, kernel=linear ..............................\n",
      "[CV] .. C=0.001, gamma=0.01, kernel=linear, score=0.960, total=  22.6s\n",
      "[CV] C=0.001, gamma=0.01, kernel=linear ..............................\n",
      "[CV] .. C=0.001, gamma=0.01, kernel=linear, score=0.958, total=  22.1s\n",
      "[CV] C=0.001, gamma=0.01, kernel=linear ..............................\n",
      "[CV] .. C=0.001, gamma=0.01, kernel=linear, score=0.959, total=  22.5s\n",
      "[CV] C=0.001, gamma=0.01, kernel=linear ..............................\n",
      "[CV] .. C=0.001, gamma=0.01, kernel=linear, score=0.956, total=  22.9s\n",
      "[CV] C=0.001, gamma=0.01, kernel=linear ..............................\n",
      "[CV] .. C=0.001, gamma=0.01, kernel=linear, score=0.959, total=  22.8s\n",
      "[CV] C=0.001, gamma=0.001, kernel=rbf ................................\n",
      "[CV] .... C=0.001, gamma=0.001, kernel=rbf, score=0.501, total= 1.1min\n",
      "[CV] C=0.001, gamma=0.001, kernel=rbf ................................\n",
      "[CV] .... C=0.001, gamma=0.001, kernel=rbf, score=0.501, total= 1.1min\n",
      "[CV] C=0.001, gamma=0.001, kernel=rbf ................................\n",
      "[CV] .... C=0.001, gamma=0.001, kernel=rbf, score=0.501, total= 1.1min\n",
      "[CV] C=0.001, gamma=0.001, kernel=rbf ................................\n",
      "[CV] .... C=0.001, gamma=0.001, kernel=rbf, score=0.501, total= 1.1min\n",
      "[CV] C=0.001, gamma=0.001, kernel=rbf ................................\n",
      "[CV] .... C=0.001, gamma=0.001, kernel=rbf, score=0.501, total= 1.1min\n",
      "[CV] C=0.001, gamma=0.001, kernel=linear .............................\n",
      "[CV] . C=0.001, gamma=0.001, kernel=linear, score=0.960, total=  22.9s\n",
      "[CV] C=0.001, gamma=0.001, kernel=linear .............................\n",
      "[CV] . C=0.001, gamma=0.001, kernel=linear, score=0.958, total=  22.5s\n",
      "[CV] C=0.001, gamma=0.001, kernel=linear .............................\n",
      "[CV] . C=0.001, gamma=0.001, kernel=linear, score=0.959, total=  22.7s\n",
      "[CV] C=0.001, gamma=0.001, kernel=linear .............................\n",
      "[CV] . C=0.001, gamma=0.001, kernel=linear, score=0.956, total=  23.1s\n",
      "[CV] C=0.001, gamma=0.001, kernel=linear .............................\n",
      "[CV] . C=0.001, gamma=0.001, kernel=linear, score=0.959, total=  22.9s\n",
      "[CV] C=0.001, gamma=0.0001, kernel=rbf ...............................\n",
      "[CV] ... C=0.001, gamma=0.0001, kernel=rbf, score=0.501, total= 1.1min\n",
      "[CV] C=0.001, gamma=0.0001, kernel=rbf ...............................\n",
      "[CV] ... C=0.001, gamma=0.0001, kernel=rbf, score=0.501, total= 1.1min\n",
      "[CV] C=0.001, gamma=0.0001, kernel=rbf ...............................\n",
      "[CV] ... C=0.001, gamma=0.0001, kernel=rbf, score=0.501, total= 1.1min\n",
      "[CV] C=0.001, gamma=0.0001, kernel=rbf ...............................\n",
      "[CV] ... C=0.001, gamma=0.0001, kernel=rbf, score=0.501, total= 1.1min\n",
      "[CV] C=0.001, gamma=0.0001, kernel=rbf ...............................\n",
      "[CV] ... C=0.001, gamma=0.0001, kernel=rbf, score=0.501, total= 1.1min\n",
      "[CV] C=0.001, gamma=0.0001, kernel=linear ............................\n",
      "[CV]  C=0.001, gamma=0.0001, kernel=linear, score=0.960, total=  23.0s\n",
      "[CV] C=0.001, gamma=0.0001, kernel=linear ............................\n",
      "[CV]  C=0.001, gamma=0.0001, kernel=linear, score=0.958, total=  22.8s\n",
      "[CV] C=0.001, gamma=0.0001, kernel=linear ............................\n",
      "[CV]  C=0.001, gamma=0.0001, kernel=linear, score=0.959, total=  22.6s\n",
      "[CV] C=0.001, gamma=0.0001, kernel=linear ............................\n",
      "[CV]  C=0.001, gamma=0.0001, kernel=linear, score=0.956, total=  23.2s\n",
      "[CV] C=0.001, gamma=0.0001, kernel=linear ............................\n",
      "[CV]  C=0.001, gamma=0.0001, kernel=linear, score=0.959, total=  22.8s\n",
      "[CV] C=0.01, gamma=1, kernel=rbf .....................................\n",
      "[CV] ......... C=0.01, gamma=1, kernel=rbf, score=0.501, total= 1.1min\n",
      "[CV] C=0.01, gamma=1, kernel=rbf .....................................\n",
      "[CV] ......... C=0.01, gamma=1, kernel=rbf, score=0.501, total= 1.1min\n",
      "[CV] C=0.01, gamma=1, kernel=rbf .....................................\n",
      "[CV] ......... C=0.01, gamma=1, kernel=rbf, score=0.501, total= 1.1min\n",
      "[CV] C=0.01, gamma=1, kernel=rbf .....................................\n",
      "[CV] ......... C=0.01, gamma=1, kernel=rbf, score=0.501, total= 1.1min\n",
      "[CV] C=0.01, gamma=1, kernel=rbf .....................................\n",
      "[CV] ......... C=0.01, gamma=1, kernel=rbf, score=0.501, total= 1.1min\n",
      "[CV] C=0.01, gamma=1, kernel=linear ..................................\n",
      "[CV] ...... C=0.01, gamma=1, kernel=linear, score=0.963, total=  11.9s\n",
      "[CV] C=0.01, gamma=1, kernel=linear ..................................\n",
      "[CV] ...... C=0.01, gamma=1, kernel=linear, score=0.959, total=  11.0s\n",
      "[CV] C=0.01, gamma=1, kernel=linear ..................................\n",
      "[CV] ...... C=0.01, gamma=1, kernel=linear, score=0.962, total=  12.1s\n",
      "[CV] C=0.01, gamma=1, kernel=linear ..................................\n",
      "[CV] ...... C=0.01, gamma=1, kernel=linear, score=0.962, total=  11.8s\n",
      "[CV] C=0.01, gamma=1, kernel=linear ..................................\n",
      "[CV] ...... C=0.01, gamma=1, kernel=linear, score=0.962, total=  11.2s\n",
      "[CV] C=0.01, gamma=0.1, kernel=rbf ...................................\n"
     ]
    },
    {
     "name": "stdout",
     "output_type": "stream",
     "text": [
      "[CV] ....... C=0.01, gamma=0.1, kernel=rbf, score=0.610, total=  58.6s\n",
      "[CV] C=0.01, gamma=0.1, kernel=rbf ...................................\n",
      "[CV] ....... C=0.01, gamma=0.1, kernel=rbf, score=0.592, total= 1.0min\n",
      "[CV] C=0.01, gamma=0.1, kernel=rbf ...................................\n",
      "[CV] ....... C=0.01, gamma=0.1, kernel=rbf, score=0.591, total= 1.0min\n",
      "[CV] C=0.01, gamma=0.1, kernel=rbf ...................................\n",
      "[CV] ....... C=0.01, gamma=0.1, kernel=rbf, score=0.606, total= 1.0min\n",
      "[CV] C=0.01, gamma=0.1, kernel=rbf ...................................\n",
      "[CV] ....... C=0.01, gamma=0.1, kernel=rbf, score=0.592, total= 1.0min\n",
      "[CV] C=0.01, gamma=0.1, kernel=linear ................................\n",
      "[CV] .... C=0.01, gamma=0.1, kernel=linear, score=0.963, total=  12.0s\n",
      "[CV] C=0.01, gamma=0.1, kernel=linear ................................\n",
      "[CV] .... C=0.01, gamma=0.1, kernel=linear, score=0.959, total=  10.6s\n",
      "[CV] C=0.01, gamma=0.1, kernel=linear ................................\n",
      "[CV] .... C=0.01, gamma=0.1, kernel=linear, score=0.962, total=  11.1s\n",
      "[CV] C=0.01, gamma=0.1, kernel=linear ................................\n",
      "[CV] .... C=0.01, gamma=0.1, kernel=linear, score=0.962, total=  10.7s\n",
      "[CV] C=0.01, gamma=0.1, kernel=linear ................................\n",
      "[CV] .... C=0.01, gamma=0.1, kernel=linear, score=0.962, total=  11.0s\n",
      "[CV] C=0.01, gamma=0.01, kernel=rbf ..................................\n",
      "[CV] ...... C=0.01, gamma=0.01, kernel=rbf, score=0.705, total=  49.3s\n",
      "[CV] C=0.01, gamma=0.01, kernel=rbf ..................................\n",
      "[CV] ...... C=0.01, gamma=0.01, kernel=rbf, score=0.700, total=  49.0s\n",
      "[CV] C=0.01, gamma=0.01, kernel=rbf ..................................\n",
      "[CV] ...... C=0.01, gamma=0.01, kernel=rbf, score=0.691, total=  48.1s\n",
      "[CV] C=0.01, gamma=0.01, kernel=rbf ..................................\n",
      "[CV] ...... C=0.01, gamma=0.01, kernel=rbf, score=0.717, total=  48.8s\n",
      "[CV] C=0.01, gamma=0.01, kernel=rbf ..................................\n",
      "[CV] ...... C=0.01, gamma=0.01, kernel=rbf, score=0.698, total=  56.7s\n",
      "[CV] C=0.01, gamma=0.01, kernel=linear ...............................\n",
      "[CV] ... C=0.01, gamma=0.01, kernel=linear, score=0.963, total=  12.0s\n",
      "[CV] C=0.01, gamma=0.01, kernel=linear ...............................\n",
      "[CV] ... C=0.01, gamma=0.01, kernel=linear, score=0.959, total=  10.6s\n",
      "[CV] C=0.01, gamma=0.01, kernel=linear ...............................\n",
      "[CV] ... C=0.01, gamma=0.01, kernel=linear, score=0.962, total=  10.7s\n",
      "[CV] C=0.01, gamma=0.01, kernel=linear ...............................\n",
      "[CV] ... C=0.01, gamma=0.01, kernel=linear, score=0.962, total=  10.7s\n",
      "[CV] C=0.01, gamma=0.01, kernel=linear ...............................\n",
      "[CV] ... C=0.01, gamma=0.01, kernel=linear, score=0.962, total=  10.6s\n",
      "[CV] C=0.01, gamma=0.001, kernel=rbf .................................\n",
      "[CV] ..... C=0.01, gamma=0.001, kernel=rbf, score=0.693, total=  57.0s\n",
      "[CV] C=0.01, gamma=0.001, kernel=rbf .................................\n",
      "[CV] ..... C=0.01, gamma=0.001, kernel=rbf, score=0.682, total= 1.0min\n",
      "[CV] C=0.01, gamma=0.001, kernel=rbf .................................\n",
      "[CV] ..... C=0.01, gamma=0.001, kernel=rbf, score=0.669, total= 1.0min\n",
      "[CV] C=0.01, gamma=0.001, kernel=rbf .................................\n",
      "[CV] ..... C=0.01, gamma=0.001, kernel=rbf, score=0.705, total= 1.0min\n",
      "[CV] C=0.01, gamma=0.001, kernel=rbf .................................\n",
      "[CV] ..... C=0.01, gamma=0.001, kernel=rbf, score=0.691, total= 1.0min\n",
      "[CV] C=0.01, gamma=0.001, kernel=linear ..............................\n",
      "[CV] .. C=0.01, gamma=0.001, kernel=linear, score=0.963, total=  12.0s\n",
      "[CV] C=0.01, gamma=0.001, kernel=linear ..............................\n",
      "[CV] .. C=0.01, gamma=0.001, kernel=linear, score=0.959, total=  10.6s\n",
      "[CV] C=0.01, gamma=0.001, kernel=linear ..............................\n",
      "[CV] .. C=0.01, gamma=0.001, kernel=linear, score=0.962, total=  10.6s\n",
      "[CV] C=0.01, gamma=0.001, kernel=linear ..............................\n",
      "[CV] .. C=0.01, gamma=0.001, kernel=linear, score=0.962, total=  10.7s\n",
      "[CV] C=0.01, gamma=0.001, kernel=linear ..............................\n",
      "[CV] .. C=0.01, gamma=0.001, kernel=linear, score=0.962, total=  10.5s\n",
      "[CV] C=0.01, gamma=0.0001, kernel=rbf ................................\n",
      "[CV] .... C=0.01, gamma=0.0001, kernel=rbf, score=0.501, total=  59.1s\n",
      "[CV] C=0.01, gamma=0.0001, kernel=rbf ................................\n",
      "[CV] .... C=0.01, gamma=0.0001, kernel=rbf, score=0.501, total= 1.1min\n",
      "[CV] C=0.01, gamma=0.0001, kernel=rbf ................................\n",
      "[CV] .... C=0.01, gamma=0.0001, kernel=rbf, score=0.501, total= 1.1min\n",
      "[CV] C=0.01, gamma=0.0001, kernel=rbf ................................\n",
      "[CV] .... C=0.01, gamma=0.0001, kernel=rbf, score=0.501, total= 1.1min\n",
      "[CV] C=0.01, gamma=0.0001, kernel=rbf ................................\n",
      "[CV] .... C=0.01, gamma=0.0001, kernel=rbf, score=0.501, total= 1.1min\n",
      "[CV] C=0.01, gamma=0.0001, kernel=linear .............................\n",
      "[CV] . C=0.01, gamma=0.0001, kernel=linear, score=0.963, total=  12.0s\n",
      "[CV] C=0.01, gamma=0.0001, kernel=linear .............................\n",
      "[CV] . C=0.01, gamma=0.0001, kernel=linear, score=0.959, total=  10.6s\n",
      "[CV] C=0.01, gamma=0.0001, kernel=linear .............................\n",
      "[CV] . C=0.01, gamma=0.0001, kernel=linear, score=0.962, total=  10.6s\n",
      "[CV] C=0.01, gamma=0.0001, kernel=linear .............................\n",
      "[CV] . C=0.01, gamma=0.0001, kernel=linear, score=0.962, total=  10.7s\n",
      "[CV] C=0.01, gamma=0.0001, kernel=linear .............................\n",
      "[CV] . C=0.01, gamma=0.0001, kernel=linear, score=0.962, total=  10.5s\n",
      "[CV] C=0.1, gamma=1, kernel=rbf ......................................\n",
      "[CV] .......... C=0.1, gamma=1, kernel=rbf, score=0.512, total= 1.0min\n",
      "[CV] C=0.1, gamma=1, kernel=rbf ......................................\n",
      "[CV] .......... C=0.1, gamma=1, kernel=rbf, score=0.511, total= 1.1min\n",
      "[CV] C=0.1, gamma=1, kernel=rbf ......................................\n",
      "[CV] .......... C=0.1, gamma=1, kernel=rbf, score=0.513, total= 1.1min\n",
      "[CV] C=0.1, gamma=1, kernel=rbf ......................................\n",
      "[CV] .......... C=0.1, gamma=1, kernel=rbf, score=0.513, total= 1.1min\n",
      "[CV] C=0.1, gamma=1, kernel=rbf ......................................\n",
      "[CV] .......... C=0.1, gamma=1, kernel=rbf, score=0.514, total= 1.1min\n",
      "[CV] C=0.1, gamma=1, kernel=linear ...................................\n",
      "[CV] ....... C=0.1, gamma=1, kernel=linear, score=0.961, total=  12.5s\n",
      "[CV] C=0.1, gamma=1, kernel=linear ...................................\n",
      "[CV] ....... C=0.1, gamma=1, kernel=linear, score=0.965, total=  11.7s\n",
      "[CV] C=0.1, gamma=1, kernel=linear ...................................\n",
      "[CV] ....... C=0.1, gamma=1, kernel=linear, score=0.961, total=  11.5s\n",
      "[CV] C=0.1, gamma=1, kernel=linear ...................................\n",
      "[CV] ....... C=0.1, gamma=1, kernel=linear, score=0.962, total=  11.9s\n",
      "[CV] C=0.1, gamma=1, kernel=linear ...................................\n",
      "[CV] ....... C=0.1, gamma=1, kernel=linear, score=0.967, total=  11.0s\n",
      "[CV] C=0.1, gamma=0.1, kernel=rbf ....................................\n",
      "[CV] ........ C=0.1, gamma=0.1, kernel=rbf, score=0.662, total= 1.1min\n",
      "[CV] C=0.1, gamma=0.1, kernel=rbf ....................................\n",
      "[CV] ........ C=0.1, gamma=0.1, kernel=rbf, score=0.655, total= 1.1min\n",
      "[CV] C=0.1, gamma=0.1, kernel=rbf ....................................\n",
      "[CV] ........ C=0.1, gamma=0.1, kernel=rbf, score=0.643, total= 1.1min\n",
      "[CV] C=0.1, gamma=0.1, kernel=rbf ....................................\n",
      "[CV] ........ C=0.1, gamma=0.1, kernel=rbf, score=0.651, total= 1.1min\n",
      "[CV] C=0.1, gamma=0.1, kernel=rbf ....................................\n",
      "[CV] ........ C=0.1, gamma=0.1, kernel=rbf, score=0.645, total= 1.1min\n",
      "[CV] C=0.1, gamma=0.1, kernel=linear .................................\n",
      "[CV] ..... C=0.1, gamma=0.1, kernel=linear, score=0.961, total=  12.5s\n",
      "[CV] C=0.1, gamma=0.1, kernel=linear .................................\n",
      "[CV] ..... C=0.1, gamma=0.1, kernel=linear, score=0.965, total=  11.6s\n",
      "[CV] C=0.1, gamma=0.1, kernel=linear .................................\n",
      "[CV] ..... C=0.1, gamma=0.1, kernel=linear, score=0.961, total=  11.5s\n",
      "[CV] C=0.1, gamma=0.1, kernel=linear .................................\n"
     ]
    },
    {
     "name": "stdout",
     "output_type": "stream",
     "text": [
      "[CV] ..... C=0.1, gamma=0.1, kernel=linear, score=0.962, total=  12.9s\n",
      "[CV] C=0.1, gamma=0.1, kernel=linear .................................\n",
      "[CV] ..... C=0.1, gamma=0.1, kernel=linear, score=0.967, total=  11.1s\n",
      "[CV] C=0.1, gamma=0.01, kernel=rbf ...................................\n",
      "[CV] ....... C=0.1, gamma=0.01, kernel=rbf, score=0.799, total=  38.1s\n",
      "[CV] C=0.1, gamma=0.01, kernel=rbf ...................................\n",
      "[CV] ....... C=0.1, gamma=0.01, kernel=rbf, score=0.793, total=  41.1s\n",
      "[CV] C=0.1, gamma=0.01, kernel=rbf ...................................\n",
      "[CV] ....... C=0.1, gamma=0.01, kernel=rbf, score=0.780, total=  46.4s\n",
      "[CV] C=0.1, gamma=0.01, kernel=rbf ...................................\n",
      "[CV] ....... C=0.1, gamma=0.01, kernel=rbf, score=0.817, total=  47.2s\n",
      "[CV] C=0.1, gamma=0.01, kernel=rbf ...................................\n",
      "[CV] ....... C=0.1, gamma=0.01, kernel=rbf, score=0.797, total=  46.8s\n",
      "[CV] C=0.1, gamma=0.01, kernel=linear ................................\n",
      "[CV] .... C=0.1, gamma=0.01, kernel=linear, score=0.961, total=  12.5s\n",
      "[CV] C=0.1, gamma=0.01, kernel=linear ................................\n",
      "[CV] .... C=0.1, gamma=0.01, kernel=linear, score=0.965, total=  11.6s\n",
      "[CV] C=0.1, gamma=0.01, kernel=linear ................................\n",
      "[CV] .... C=0.1, gamma=0.01, kernel=linear, score=0.961, total=  11.5s\n",
      "[CV] C=0.1, gamma=0.01, kernel=linear ................................\n",
      "[CV] .... C=0.1, gamma=0.01, kernel=linear, score=0.962, total=  12.0s\n",
      "[CV] C=0.1, gamma=0.01, kernel=linear ................................\n",
      "[CV] .... C=0.1, gamma=0.01, kernel=linear, score=0.967, total=  11.1s\n",
      "[CV] C=0.1, gamma=0.001, kernel=rbf ..................................\n",
      "[CV] ...... C=0.1, gamma=0.001, kernel=rbf, score=0.888, total=  45.4s\n",
      "[CV] C=0.1, gamma=0.001, kernel=rbf ..................................\n",
      "[CV] ...... C=0.1, gamma=0.001, kernel=rbf, score=0.884, total=  46.9s\n",
      "[CV] C=0.1, gamma=0.001, kernel=rbf ..................................\n",
      "[CV] ...... C=0.1, gamma=0.001, kernel=rbf, score=0.865, total=  46.9s\n",
      "[CV] C=0.1, gamma=0.001, kernel=rbf ..................................\n",
      "[CV] ...... C=0.1, gamma=0.001, kernel=rbf, score=0.889, total=  46.7s\n",
      "[CV] C=0.1, gamma=0.001, kernel=rbf ..................................\n",
      "[CV] ...... C=0.1, gamma=0.001, kernel=rbf, score=0.879, total=  47.2s\n",
      "[CV] C=0.1, gamma=0.001, kernel=linear ...............................\n",
      "[CV] ... C=0.1, gamma=0.001, kernel=linear, score=0.961, total=  12.6s\n",
      "[CV] C=0.1, gamma=0.001, kernel=linear ...............................\n",
      "[CV] ... C=0.1, gamma=0.001, kernel=linear, score=0.965, total=  13.0s\n",
      "[CV] C=0.1, gamma=0.001, kernel=linear ...............................\n",
      "[CV] ... C=0.1, gamma=0.001, kernel=linear, score=0.961, total=  11.7s\n",
      "[CV] C=0.1, gamma=0.001, kernel=linear ...............................\n",
      "[CV] ... C=0.1, gamma=0.001, kernel=linear, score=0.962, total=  12.2s\n",
      "[CV] C=0.1, gamma=0.001, kernel=linear ...............................\n",
      "[CV] ... C=0.1, gamma=0.001, kernel=linear, score=0.967, total=  11.2s\n",
      "[CV] C=0.1, gamma=0.0001, kernel=rbf .................................\n",
      "[CV] ..... C=0.1, gamma=0.0001, kernel=rbf, score=0.736, total= 1.0min\n",
      "[CV] C=0.1, gamma=0.0001, kernel=rbf .................................\n",
      "[CV] ..... C=0.1, gamma=0.0001, kernel=rbf, score=0.746, total= 1.0min\n",
      "[CV] C=0.1, gamma=0.0001, kernel=rbf .................................\n",
      "[CV] ..... C=0.1, gamma=0.0001, kernel=rbf, score=0.722, total= 1.0min\n",
      "[CV] C=0.1, gamma=0.0001, kernel=rbf .................................\n",
      "[CV] ..... C=0.1, gamma=0.0001, kernel=rbf, score=0.753, total= 1.0min\n",
      "[CV] C=0.1, gamma=0.0001, kernel=rbf .................................\n",
      "[CV] ..... C=0.1, gamma=0.0001, kernel=rbf, score=0.742, total= 1.0min\n",
      "[CV] C=0.1, gamma=0.0001, kernel=linear ..............................\n",
      "[CV] .. C=0.1, gamma=0.0001, kernel=linear, score=0.961, total=  12.6s\n",
      "[CV] C=0.1, gamma=0.0001, kernel=linear ..............................\n",
      "[CV] .. C=0.1, gamma=0.0001, kernel=linear, score=0.965, total=  13.1s\n",
      "[CV] C=0.1, gamma=0.0001, kernel=linear ..............................\n",
      "[CV] .. C=0.1, gamma=0.0001, kernel=linear, score=0.961, total=  11.7s\n",
      "[CV] C=0.1, gamma=0.0001, kernel=linear ..............................\n",
      "[CV] .. C=0.1, gamma=0.0001, kernel=linear, score=0.962, total=  12.2s\n",
      "[CV] C=0.1, gamma=0.0001, kernel=linear ..............................\n",
      "[CV] .. C=0.1, gamma=0.0001, kernel=linear, score=0.967, total=  11.2s\n",
      "[CV] C=1, gamma=1, kernel=rbf ........................................\n",
      "[CV] ............ C=1, gamma=1, kernel=rbf, score=0.597, total= 1.8min\n",
      "[CV] C=1, gamma=1, kernel=rbf ........................................\n",
      "[CV] ............ C=1, gamma=1, kernel=rbf, score=0.581, total= 2.1min\n",
      "[CV] C=1, gamma=1, kernel=rbf ........................................\n",
      "[CV] ............ C=1, gamma=1, kernel=rbf, score=0.577, total= 2.1min\n",
      "[CV] C=1, gamma=1, kernel=rbf ........................................\n",
      "[CV] ............ C=1, gamma=1, kernel=rbf, score=0.593, total= 2.0min\n",
      "[CV] C=1, gamma=1, kernel=rbf ........................................\n",
      "[CV] ............ C=1, gamma=1, kernel=rbf, score=0.586, total= 2.0min\n",
      "[CV] C=1, gamma=1, kernel=linear .....................................\n",
      "[CV] ......... C=1, gamma=1, kernel=linear, score=0.956, total=  36.4s\n",
      "[CV] C=1, gamma=1, kernel=linear .....................................\n",
      "[CV] ......... C=1, gamma=1, kernel=linear, score=0.965, total=  31.8s\n",
      "[CV] C=1, gamma=1, kernel=linear .....................................\n",
      "[CV] ......... C=1, gamma=1, kernel=linear, score=0.961, total=  33.5s\n",
      "[CV] C=1, gamma=1, kernel=linear .....................................\n",
      "[CV] ......... C=1, gamma=1, kernel=linear, score=0.961, total=  40.1s\n",
      "[CV] C=1, gamma=1, kernel=linear .....................................\n",
      "[CV] ......... C=1, gamma=1, kernel=linear, score=0.963, total=  33.7s\n",
      "[CV] C=1, gamma=0.1, kernel=rbf ......................................\n",
      "[CV] .......... C=1, gamma=0.1, kernel=rbf, score=0.715, total= 1.0min\n",
      "[CV] C=1, gamma=0.1, kernel=rbf ......................................\n",
      "[CV] .......... C=1, gamma=0.1, kernel=rbf, score=0.714, total= 1.1min\n",
      "[CV] C=1, gamma=0.1, kernel=rbf ......................................\n",
      "[CV] .......... C=1, gamma=0.1, kernel=rbf, score=0.692, total= 1.2min\n",
      "[CV] C=1, gamma=0.1, kernel=rbf ......................................\n",
      "[CV] .......... C=1, gamma=0.1, kernel=rbf, score=0.724, total= 1.2min\n",
      "[CV] C=1, gamma=0.1, kernel=rbf ......................................\n",
      "[CV] .......... C=1, gamma=0.1, kernel=rbf, score=0.714, total= 1.2min\n",
      "[CV] C=1, gamma=0.1, kernel=linear ...................................\n",
      "[CV] ....... C=1, gamma=0.1, kernel=linear, score=0.956, total=  36.4s\n",
      "[CV] C=1, gamma=0.1, kernel=linear ...................................\n",
      "[CV] ....... C=1, gamma=0.1, kernel=linear, score=0.965, total=  31.7s\n",
      "[CV] C=1, gamma=0.1, kernel=linear ...................................\n",
      "[CV] ....... C=1, gamma=0.1, kernel=linear, score=0.961, total=  33.5s\n",
      "[CV] C=1, gamma=0.1, kernel=linear ...................................\n",
      "[CV] ....... C=1, gamma=0.1, kernel=linear, score=0.961, total=  38.1s\n",
      "[CV] C=1, gamma=0.1, kernel=linear ...................................\n",
      "[CV] ....... C=1, gamma=0.1, kernel=linear, score=0.963, total=  33.6s\n",
      "[CV] C=1, gamma=0.01, kernel=rbf .....................................\n",
      "[CV] ......... C=1, gamma=0.01, kernel=rbf, score=0.872, total=  30.1s\n",
      "[CV] C=1, gamma=0.01, kernel=rbf .....................................\n",
      "[CV] ......... C=1, gamma=0.01, kernel=rbf, score=0.861, total=  35.8s\n",
      "[CV] C=1, gamma=0.01, kernel=rbf .....................................\n",
      "[CV] ......... C=1, gamma=0.01, kernel=rbf, score=0.852, total=  36.3s\n",
      "[CV] C=1, gamma=0.01, kernel=rbf .....................................\n",
      "[CV] ......... C=1, gamma=0.01, kernel=rbf, score=0.876, total=  36.6s\n",
      "[CV] C=1, gamma=0.01, kernel=rbf .....................................\n",
      "[CV] ......... C=1, gamma=0.01, kernel=rbf, score=0.867, total=  36.5s\n",
      "[CV] C=1, gamma=0.01, kernel=linear ..................................\n",
      "[CV] ...... C=1, gamma=0.01, kernel=linear, score=0.956, total=  36.4s\n",
      "[CV] C=1, gamma=0.01, kernel=linear ..................................\n"
     ]
    },
    {
     "name": "stdout",
     "output_type": "stream",
     "text": [
      "[CV] ...... C=1, gamma=0.01, kernel=linear, score=0.965, total=  31.8s\n",
      "[CV] C=1, gamma=0.01, kernel=linear ..................................\n",
      "[CV] ...... C=1, gamma=0.01, kernel=linear, score=0.961, total=  33.5s\n",
      "[CV] C=1, gamma=0.01, kernel=linear ..................................\n",
      "[CV] ...... C=1, gamma=0.01, kernel=linear, score=0.961, total=  38.1s\n",
      "[CV] C=1, gamma=0.01, kernel=linear ..................................\n",
      "[CV] ...... C=1, gamma=0.01, kernel=linear, score=0.963, total=  33.6s\n",
      "[CV] C=1, gamma=0.001, kernel=rbf ....................................\n",
      "[CV] ........ C=1, gamma=0.001, kernel=rbf, score=0.947, total=  22.0s\n",
      "[CV] C=1, gamma=0.001, kernel=rbf ....................................\n",
      "[CV] ........ C=1, gamma=0.001, kernel=rbf, score=0.946, total=  22.0s\n",
      "[CV] C=1, gamma=0.001, kernel=rbf ....................................\n",
      "[CV] ........ C=1, gamma=0.001, kernel=rbf, score=0.949, total=  22.1s\n",
      "[CV] C=1, gamma=0.001, kernel=rbf ....................................\n",
      "[CV] ........ C=1, gamma=0.001, kernel=rbf, score=0.949, total=  25.6s\n",
      "[CV] C=1, gamma=0.001, kernel=rbf ....................................\n",
      "[CV] ........ C=1, gamma=0.001, kernel=rbf, score=0.951, total=  26.7s\n",
      "[CV] C=1, gamma=0.001, kernel=linear .................................\n",
      "[CV] ..... C=1, gamma=0.001, kernel=linear, score=0.956, total=  36.4s\n",
      "[CV] C=1, gamma=0.001, kernel=linear .................................\n",
      "[CV] ..... C=1, gamma=0.001, kernel=linear, score=0.965, total=  31.8s\n",
      "[CV] C=1, gamma=0.001, kernel=linear .................................\n",
      "[CV] ..... C=1, gamma=0.001, kernel=linear, score=0.961, total=  33.4s\n",
      "[CV] C=1, gamma=0.001, kernel=linear .................................\n",
      "[CV] ..... C=1, gamma=0.001, kernel=linear, score=0.961, total=  38.1s\n",
      "[CV] C=1, gamma=0.001, kernel=linear .................................\n",
      "[CV] ..... C=1, gamma=0.001, kernel=linear, score=0.963, total=  34.7s\n",
      "[CV] C=1, gamma=0.0001, kernel=rbf ...................................\n",
      "[CV] ....... C=1, gamma=0.0001, kernel=rbf, score=0.941, total=  36.1s\n",
      "[CV] C=1, gamma=0.0001, kernel=rbf ...................................\n",
      "[CV] ....... C=1, gamma=0.0001, kernel=rbf, score=0.939, total=  41.5s\n",
      "[CV] C=1, gamma=0.0001, kernel=rbf ...................................\n",
      "[CV] ....... C=1, gamma=0.0001, kernel=rbf, score=0.936, total=  42.8s\n",
      "[CV] C=1, gamma=0.0001, kernel=rbf ...................................\n",
      "[CV] ....... C=1, gamma=0.0001, kernel=rbf, score=0.937, total=  43.0s\n",
      "[CV] C=1, gamma=0.0001, kernel=rbf ...................................\n",
      "[CV] ....... C=1, gamma=0.0001, kernel=rbf, score=0.939, total=  43.1s\n",
      "[CV] C=1, gamma=0.0001, kernel=linear ................................\n",
      "[CV] .... C=1, gamma=0.0001, kernel=linear, score=0.956, total=  36.5s\n",
      "[CV] C=1, gamma=0.0001, kernel=linear ................................\n",
      "[CV] .... C=1, gamma=0.0001, kernel=linear, score=0.965, total=  31.8s\n",
      "[CV] C=1, gamma=0.0001, kernel=linear ................................\n",
      "[CV] .... C=1, gamma=0.0001, kernel=linear, score=0.961, total=  40.0s\n",
      "[CV] C=1, gamma=0.0001, kernel=linear ................................\n",
      "[CV] .... C=1, gamma=0.0001, kernel=linear, score=0.961, total= 1.2min\n",
      "[CV] C=1, gamma=0.0001, kernel=linear ................................\n",
      "[CV] .... C=1, gamma=0.0001, kernel=linear, score=0.963, total= 1.1min\n",
      "[CV] C=10, gamma=1, kernel=rbf .......................................\n",
      "[CV] ........... C=10, gamma=1, kernel=rbf, score=0.603, total= 5.2min\n",
      "[CV] C=10, gamma=1, kernel=rbf .......................................\n",
      "[CV] ........... C=10, gamma=1, kernel=rbf, score=0.588, total= 4.2min\n",
      "[CV] C=10, gamma=1, kernel=rbf .......................................\n",
      "[CV] ........... C=10, gamma=1, kernel=rbf, score=0.583, total= 2.9min\n",
      "[CV] C=10, gamma=1, kernel=rbf .......................................\n",
      "[CV] ........... C=10, gamma=1, kernel=rbf, score=0.599, total= 3.3min\n",
      "[CV] C=10, gamma=1, kernel=rbf .......................................\n",
      "[CV] ........... C=10, gamma=1, kernel=rbf, score=0.589, total= 3.2min\n",
      "[CV] C=10, gamma=1, kernel=linear ....................................\n",
      "[CV] ........ C=10, gamma=1, kernel=linear, score=0.954, total= 3.0min\n",
      "[CV] C=10, gamma=1, kernel=linear ....................................\n",
      "[CV] ........ C=10, gamma=1, kernel=linear, score=0.965, total= 4.6min\n",
      "[CV] C=10, gamma=1, kernel=linear ....................................\n",
      "[CV] ........ C=10, gamma=1, kernel=linear, score=0.959, total= 3.4min\n",
      "[CV] C=10, gamma=1, kernel=linear ....................................\n",
      "[CV] ........ C=10, gamma=1, kernel=linear, score=0.962, total= 4.4min\n",
      "[CV] C=10, gamma=1, kernel=linear ....................................\n",
      "[CV] ........ C=10, gamma=1, kernel=linear, score=0.964, total= 4.4min\n",
      "[CV] C=10, gamma=0.1, kernel=rbf .....................................\n",
      "[CV] ......... C=10, gamma=0.1, kernel=rbf, score=0.721, total= 2.0min\n",
      "[CV] C=10, gamma=0.1, kernel=rbf .....................................\n",
      "[CV] ......... C=10, gamma=0.1, kernel=rbf, score=0.719, total= 2.0min\n",
      "[CV] C=10, gamma=0.1, kernel=rbf .....................................\n",
      "[CV] ......... C=10, gamma=0.1, kernel=rbf, score=0.698, total= 2.1min\n",
      "[CV] C=10, gamma=0.1, kernel=rbf .....................................\n",
      "[CV] ......... C=10, gamma=0.1, kernel=rbf, score=0.731, total= 2.3min\n",
      "[CV] C=10, gamma=0.1, kernel=rbf .....................................\n",
      "[CV] ......... C=10, gamma=0.1, kernel=rbf, score=0.722, total= 2.1min\n",
      "[CV] C=10, gamma=0.1, kernel=linear ..................................\n",
      "[CV] ...... C=10, gamma=0.1, kernel=linear, score=0.954, total= 3.1min\n",
      "[CV] C=10, gamma=0.1, kernel=linear ..................................\n",
      "[CV] ...... C=10, gamma=0.1, kernel=linear, score=0.965, total= 4.4min\n",
      "[CV] C=10, gamma=0.1, kernel=linear ..................................\n",
      "[CV] ...... C=10, gamma=0.1, kernel=linear, score=0.959, total= 3.3min\n",
      "[CV] C=10, gamma=0.1, kernel=linear ..................................\n",
      "[CV] ...... C=10, gamma=0.1, kernel=linear, score=0.962, total=28.9min\n",
      "[CV] C=10, gamma=0.1, kernel=linear ..................................\n",
      "[CV] ...... C=10, gamma=0.1, kernel=linear, score=0.964, total= 4.3min\n",
      "[CV] C=10, gamma=0.01, kernel=rbf ....................................\n",
      "[CV] ........ C=10, gamma=0.01, kernel=rbf, score=0.878, total=  46.6s\n",
      "[CV] C=10, gamma=0.01, kernel=rbf ....................................\n",
      "[CV] ........ C=10, gamma=0.01, kernel=rbf, score=0.873, total=  48.4s\n",
      "[CV] C=10, gamma=0.01, kernel=rbf ....................................\n",
      "[CV] ........ C=10, gamma=0.01, kernel=rbf, score=0.861, total=  33.1s\n",
      "[CV] C=10, gamma=0.01, kernel=rbf ....................................\n",
      "[CV] ........ C=10, gamma=0.01, kernel=rbf, score=0.884, total=  56.7s\n",
      "[CV] C=10, gamma=0.01, kernel=rbf ....................................\n",
      "[CV] ........ C=10, gamma=0.01, kernel=rbf, score=0.873, total=  46.7s\n",
      "[CV] C=10, gamma=0.01, kernel=linear .................................\n",
      "[CV] ..... C=10, gamma=0.01, kernel=linear, score=0.954, total= 3.2min\n",
      "[CV] C=10, gamma=0.01, kernel=linear .................................\n",
      "[CV] ..... C=10, gamma=0.01, kernel=linear, score=0.965, total= 4.4min\n",
      "[CV] C=10, gamma=0.01, kernel=linear .................................\n",
      "[CV] ..... C=10, gamma=0.01, kernel=linear, score=0.959, total= 3.3min\n",
      "[CV] C=10, gamma=0.01, kernel=linear .................................\n",
      "[CV] ..... C=10, gamma=0.01, kernel=linear, score=0.962, total= 4.3min\n",
      "[CV] C=10, gamma=0.01, kernel=linear .................................\n",
      "[CV] ..... C=10, gamma=0.01, kernel=linear, score=0.964, total= 4.0min\n",
      "[CV] C=10, gamma=0.001, kernel=rbf ...................................\n",
      "[CV] ....... C=10, gamma=0.001, kernel=rbf, score=0.956, total=  14.6s\n",
      "[CV] C=10, gamma=0.001, kernel=rbf ...................................\n",
      "[CV] ....... C=10, gamma=0.001, kernel=rbf, score=0.953, total=  14.8s\n",
      "[CV] C=10, gamma=0.001, kernel=rbf ...................................\n",
      "[CV] ....... C=10, gamma=0.001, kernel=rbf, score=0.957, total=  15.7s\n",
      "[CV] C=10, gamma=0.001, kernel=rbf ...................................\n",
      "[CV] ....... C=10, gamma=0.001, kernel=rbf, score=0.959, total=  16.0s\n",
      "[CV] C=10, gamma=0.001, kernel=rbf ...................................\n"
     ]
    },
    {
     "name": "stdout",
     "output_type": "stream",
     "text": [
      "[CV] ....... C=10, gamma=0.001, kernel=rbf, score=0.958, total= 5.8min\n",
      "[CV] C=10, gamma=0.001, kernel=linear ................................\n",
      "[CV] .... C=10, gamma=0.001, kernel=linear, score=0.954, total=57.8min\n",
      "[CV] C=10, gamma=0.001, kernel=linear ................................\n",
      "[CV] .... C=10, gamma=0.001, kernel=linear, score=0.965, total= 4.2min\n",
      "[CV] C=10, gamma=0.001, kernel=linear ................................\n",
      "[CV] .... C=10, gamma=0.001, kernel=linear, score=0.959, total= 3.2min\n",
      "[CV] C=10, gamma=0.001, kernel=linear ................................\n",
      "[CV] ... C=10, gamma=0.001, kernel=linear, score=0.962, total=101.9min\n",
      "[CV] C=10, gamma=0.001, kernel=linear ................................\n",
      "[CV] .... C=10, gamma=0.001, kernel=linear, score=0.964, total= 4.0min\n",
      "[CV] C=10, gamma=0.0001, kernel=rbf ..................................\n",
      "[CV] ...... C=10, gamma=0.0001, kernel=rbf, score=0.961, total=  16.7s\n",
      "[CV] C=10, gamma=0.0001, kernel=rbf ..................................\n",
      "[CV] ...... C=10, gamma=0.0001, kernel=rbf, score=0.960, total=  17.5s\n",
      "[CV] C=10, gamma=0.0001, kernel=rbf ..................................\n",
      "[CV] ...... C=10, gamma=0.0001, kernel=rbf, score=0.961, total=  19.8s\n",
      "[CV] C=10, gamma=0.0001, kernel=rbf ..................................\n",
      "[CV] ...... C=10, gamma=0.0001, kernel=rbf, score=0.957, total=  20.1s\n",
      "[CV] C=10, gamma=0.0001, kernel=rbf ..................................\n",
      "[CV] ...... C=10, gamma=0.0001, kernel=rbf, score=0.960, total=  19.2s\n",
      "[CV] C=10, gamma=0.0001, kernel=linear ...............................\n",
      "[CV] ... C=10, gamma=0.0001, kernel=linear, score=0.954, total= 2.9min\n",
      "[CV] C=10, gamma=0.0001, kernel=linear ...............................\n",
      "[CV] .. C=10, gamma=0.0001, kernel=linear, score=0.965, total=278.6min\n",
      "[CV] C=10, gamma=0.0001, kernel=linear ...............................\n",
      "[CV] ... C=10, gamma=0.0001, kernel=linear, score=0.959, total=48.3min\n",
      "[CV] C=10, gamma=0.0001, kernel=linear ...............................\n",
      "[CV] ... C=10, gamma=0.0001, kernel=linear, score=0.962, total= 4.4min\n",
      "[CV] C=10, gamma=0.0001, kernel=linear ...............................\n",
      "[CV] ... C=10, gamma=0.0001, kernel=linear, score=0.964, total= 4.2min\n"
     ]
    },
    {
     "name": "stderr",
     "output_type": "stream",
     "text": [
      "[Parallel(n_jobs=1)]: Done 250 out of 250 | elapsed: 767.3min finished\n"
     ]
    },
    {
     "data": {
      "text/plain": [
       "{'C': 0.1, 'gamma': 1, 'kernel': 'linear'}"
      ]
     },
     "execution_count": 22,
     "metadata": {},
     "output_type": "execute_result"
    }
   ],
   "source": [
    "param_grid = {'C': [0.001, 0.01, 0.1, 1, 10],\n",
    "              'gamma': [1, 0.1, 0.01, 0.001, 0.0001], \n",
    "              'kernel': ['rbf','linear']}\n",
    "\n",
    "svm_search = GridSearchCV(SVC(), param_grid, refit = True, verbose = 3,cv=5)\n",
    "\n",
    "# fit data\n",
    "svm_search.fit(X_train_fs,y_train)\n",
    "\n",
    "svm_search.best_params_"
   ]
  },
  {
   "cell_type": "code",
   "execution_count": 28,
   "metadata": {
    "ExecuteTime": {
     "end_time": "2021-01-12T09:29:56.231573Z",
     "start_time": "2021-01-12T09:28:37.535950Z"
    }
   },
   "outputs": [
    {
     "data": {
      "text/plain": [
       "SVC(C=0.1, gamma=1, kernel='linear', probability=True)"
      ]
     },
     "execution_count": 28,
     "metadata": {},
     "output_type": "execute_result"
    }
   ],
   "source": [
    "params_svm = svm_search.best_params_\n",
    "final_model_svm = SVC(C=params_svm['C'],kernel = params_svm['kernel'],gamma= params_svm['gamma'],probability=True)\n",
    "\n",
    "# fit data\n",
    "final_model_svm.fit(X_train_fs,y_train)"
   ]
  },
  {
   "cell_type": "code",
   "execution_count": 29,
   "metadata": {
    "ExecuteTime": {
     "end_time": "2021-01-12T09:30:06.160110Z",
     "start_time": "2021-01-12T09:29:57.232555Z"
    }
   },
   "outputs": [
    {
     "name": "stdout",
     "output_type": "stream",
     "text": [
      "Training accuracy : 0.9725927722532137\n",
      "Testing accuracy : 0.9626485568760611\n",
      "Test Dataset\n",
      "              precision    recall  f1-score   support\n",
      "\n",
      "           0       0.98      0.95      0.96      2046\n",
      "           1       0.95      0.98      0.96      2077\n",
      "\n",
      "    accuracy                           0.96      4123\n",
      "   macro avg       0.96      0.96      0.96      4123\n",
      "weighted avg       0.96      0.96      0.96      4123\n",
      "\n"
     ]
    }
   ],
   "source": [
    "print(\"Training accuracy :\", final_model_svm.score(X_train_fs,y_train))\n",
    "print(\"Testing accuracy :\", final_model_svm.score(X_test_fs,y_test))\n",
    "\n",
    "predictions = final_model_svm.predict(X_test_fs)\n",
    "print(\"Test Dataset\")\n",
    "print(classification_report(y_test, predictions))"
   ]
  },
  {
   "cell_type": "code",
   "execution_count": 31,
   "metadata": {
    "ExecuteTime": {
     "end_time": "2021-01-12T09:30:20.246103Z",
     "start_time": "2021-01-12T09:30:18.274715Z"
    }
   },
   "outputs": [
    {
     "data": {
      "image/png": "[encoded data removed]",
      "text/plain": [
       "<Figure size 432x288 with 1 Axes>"
      ]
     },
     "metadata": {
      "needs_background": "light"
     },
     "output_type": "display_data"
    }
   ],
   "source": [
    "plot_auc(final_model_svm,X_test_fs,y_test)"
   ]
  },
  {
   "cell_type": "code",
   "execution_count": 32,
   "metadata": {
    "ExecuteTime": {
     "end_time": "2021-01-12T09:30:25.341043Z",
     "start_time": "2021-01-12T09:30:21.263760Z"
    }
   },
   "outputs": [
    {
     "name": "stdout",
     "output_type": "stream",
     "text": [
      "Confusion Matrix:\n",
      "-----------------\n",
      "[[1941  105]\n",
      " [  49 2028]]\n",
      "\n",
      "\n",
      "False positive rate -  0.051319648093841645\n"
     ]
    },
    {
     "data": {
      "text/plain": [
       "<Figure size 432x432 with 0 Axes>"
      ]
     },
     "metadata": {},
     "output_type": "display_data"
    },
    {
     "data": {
      "image/png": "[encoded data removed]",
      "text/plain": [
       "<Figure size 360x360 with 2 Axes>"
      ]
     },
     "metadata": {
      "needs_background": "light"
     },
     "output_type": "display_data"
    }
   ],
   "source": [
    "CM = confusion_matrix(y_test, final_model_svm.predict(X_test_fs))\n",
    "\n",
    "TN = CM[0][0]\n",
    "FN = CM[1][0]\n",
    "TP = CM[1][1]\n",
    "FP = CM[0][1]\n",
    "# False positive rate\n",
    "FPR = FP/(FP+TN)\n",
    "\n",
    "print('Confusion Matrix:')\n",
    "print('-----------------')\n",
    "print(CM)\n",
    "print('\\n')\n",
    "print('False positive rate - ',FPR)\n",
    "\n",
    "# Plot confusion matrix\n",
    "class_names = [0,1]\n",
    "plt.figure(figsize=(6,6))\n",
    "disp = plot_confusion_matrix(svm_search, X_test_fs,y_test,\n",
    "                             display_labels=class_names,\n",
    "                             cmap=plt.cm.Blues)\n",
    "#                              normalize=\"true\")\n",
    "disp.ax_.set_title(\"confusion matrix\")\n",
    "plt.grid(b=None)\n",
    "fig = plt.gcf()\n",
    "fig.set_size_inches(5,5)\n",
    "plt.show()"
   ]
  },
  {
   "cell_type": "code",
   "execution_count": 33,
   "metadata": {
    "ExecuteTime": {
     "end_time": "2021-01-12T09:30:36.595086Z",
     "start_time": "2021-01-12T09:30:36.581852Z"
    }
   },
   "outputs": [],
   "source": [
    "feature_importance = abs(final_model_svm.coef_[0])\n",
    "feature_importance = 100.0 * (feature_importance / feature_importance.sum())\n",
    "sorted_feat_imp_svm = list(zip(X_test_fs.columns,feature_importance))\n",
    "sorted_feat_imp_svm.sort(key=lambda x: x[1],reverse = True)\n",
    "pd.DataFrame(sorted_feat_imp_svm, columns = ['feature','importance']).to_csv('../first_run_svm_fi.csv')"
   ]
  },
  {
   "cell_type": "code",
   "execution_count": 50,
   "metadata": {
    "ExecuteTime": {
     "end_time": "2021-01-12T09:44:50.592703Z",
     "start_time": "2021-01-12T09:44:50.584396Z"
    }
   },
   "outputs": [],
   "source": [
    "# save the model to disk\n",
    "filename = '../first_run_grid_cv_svm.sav'\n",
    "pickle.dump(final_model_svm, open(filename, 'wb'))"
   ]
  },
  {
   "cell_type": "code",
   "execution_count": 51,
   "metadata": {
    "ExecuteTime": {
     "end_time": "2021-01-12T09:44:58.962434Z",
     "start_time": "2021-01-12T09:44:58.957544Z"
    }
   },
   "outputs": [
    {
     "data": {
      "text/plain": [
       "{'C': 0.1,\n",
       " 'break_ties': False,\n",
       " 'cache_size': 200,\n",
       " 'class_weight': None,\n",
       " 'coef0': 0.0,\n",
       " 'decision_function_shape': 'ovr',\n",
       " 'degree': 3,\n",
       " 'gamma': 1,\n",
       " 'kernel': 'linear',\n",
       " 'max_iter': -1,\n",
       " 'probability': True,\n",
       " 'random_state': None,\n",
       " 'shrinking': True,\n",
       " 'tol': 0.001,\n",
       " 'verbose': False}"
      ]
     },
     "execution_count": 51,
     "metadata": {},
     "output_type": "execute_result"
    }
   ],
   "source": [
    "final_model_svm.get_params()"
   ]
  },
  {
   "cell_type": "code",
   "execution_count": 52,
   "metadata": {
    "ExecuteTime": {
     "end_time": "2021-01-12T09:45:25.921438Z",
     "start_time": "2021-01-12T09:45:25.914526Z"
    }
   },
   "outputs": [
    {
     "data": {
      "text/plain": [
       "{'C': 0.1,\n",
       " 'break_ties': False,\n",
       " 'cache_size': 200,\n",
       " 'class_weight': None,\n",
       " 'coef0': 0.0,\n",
       " 'decision_function_shape': 'ovr',\n",
       " 'degree': 3,\n",
       " 'gamma': 1,\n",
       " 'kernel': 'linear',\n",
       " 'max_iter': -1,\n",
       " 'probability': True,\n",
       " 'random_state': None,\n",
       " 'shrinking': True,\n",
       " 'tol': 0.001,\n",
       " 'verbose': False}"
      ]
     },
     "execution_count": 52,
     "metadata": {},
     "output_type": "execute_result"
    }
   ],
   "source": [
    "#####     QC\n",
    "# load the model from disk\n",
    "loaded_model = pickle.load(open(filename, 'rb'))\n",
    "loaded_model.get_params()"
   ]
  },
  {
   "cell_type": "markdown",
   "metadata": {},
   "source": [
    "## Decision Tree"
   ]
  },
  {
   "cell_type": "code",
   "execution_count": 4,
   "metadata": {
    "ExecuteTime": {
     "end_time": "2021-01-12T09:50:00.491763Z",
     "start_time": "2021-01-12T09:48:09.883332Z"
    },
    "scrolled": true
   },
   "outputs": [
    {
     "name": "stdout",
     "output_type": "stream",
     "text": [
      "Fitting 5 folds for each of 648 candidates, totalling 3240 fits\n"
     ]
    },
    {
     "name": "stderr",
     "output_type": "stream",
     "text": [
      "[Parallel(n_jobs=-1)]: Using backend LokyBackend with 8 concurrent workers.\n",
      "[Parallel(n_jobs=-1)]: Done  34 tasks      | elapsed:    3.0s\n",
      "[Parallel(n_jobs=-1)]: Done 184 tasks      | elapsed:    6.0s\n",
      "[Parallel(n_jobs=-1)]: Done 434 tasks      | elapsed:   12.2s\n",
      "[Parallel(n_jobs=-1)]: Done 784 tasks      | elapsed:   22.4s\n",
      "[Parallel(n_jobs=-1)]: Done 1234 tasks      | elapsed:   39.2s\n",
      "[Parallel(n_jobs=-1)]: Done 1784 tasks      | elapsed:   59.3s\n",
      "[Parallel(n_jobs=-1)]: Done 2434 tasks      | elapsed:  1.3min\n",
      "[Parallel(n_jobs=-1)]: Done 3184 tasks      | elapsed:  1.8min\n",
      "[Parallel(n_jobs=-1)]: Done 3240 out of 3240 | elapsed:  1.8min finished\n"
     ]
    },
    {
     "data": {
      "text/plain": [
       "GridSearchCV(cv=5, estimator=DecisionTreeClassifier(), n_jobs=-1,\n",
       "             param_grid={'criterion': ['gini', 'entropy'],\n",
       "                         'max_depth': range(1, 10),\n",
       "                         'min_samples_leaf': range(1, 10),\n",
       "                         'min_samples_split': range(1, 5)},\n",
       "             verbose=1)"
      ]
     },
     "execution_count": 4,
     "metadata": {},
     "output_type": "execute_result"
    }
   ],
   "source": [
    "param_grid = {\n",
    "    'criterion' : ['gini','entropy'],\n",
    "    'max_depth': range(1,10),\n",
    "    'min_samples_leaf': range(1,10),\n",
    "    'min_samples_split': range(1,5)\n",
    "}\n",
    "\n",
    "dt_clf = DecisionTreeClassifier()\n",
    "DT_search = GridSearchCV(dt_clf, param_grid=param_grid, cv=5, verbose = 1, n_jobs = -1)\n",
    "DT_search.fit(X_train_fs,y_train)"
   ]
  },
  {
   "cell_type": "code",
   "execution_count": 8,
   "metadata": {
    "ExecuteTime": {
     "end_time": "2021-01-12T09:53:07.183285Z",
     "start_time": "2021-01-12T09:53:06.939305Z"
    }
   },
   "outputs": [
    {
     "data": {
      "text/plain": [
       "DecisionTreeClassifier(max_depth=7, min_samples_leaf=7)"
      ]
     },
     "execution_count": 8,
     "metadata": {},
     "output_type": "execute_result"
    }
   ],
   "source": [
    "params_dt = DT_search.best_params_\n",
    "\n",
    "final_model_dt = DecisionTreeClassifier(criterion = params_dt['criterion'],\n",
    "                                         max_depth = params_dt['max_depth'],\n",
    "                                         min_samples_leaf = params_dt['min_samples_leaf'],\n",
    "                                         min_samples_split = params_dt['min_samples_split'])\n",
    "\n",
    "# fit data\n",
    "final_model_dt.fit(X_train_fs,y_train)"
   ]
  },
  {
   "cell_type": "code",
   "execution_count": 9,
   "metadata": {
    "ExecuteTime": {
     "end_time": "2021-01-12T09:53:46.279517Z",
     "start_time": "2021-01-12T09:53:46.201589Z"
    }
   },
   "outputs": [
    {
     "name": "stdout",
     "output_type": "stream",
     "text": [
      "Training accuracy : 0.9729970086506589\n",
      "Testing accuracy : 0.9667717681300024\n",
      "Test Dataset\n",
      "              precision    recall  f1-score   support\n",
      "\n",
      "           0       0.98      0.95      0.97      2046\n",
      "           1       0.95      0.98      0.97      2077\n",
      "\n",
      "    accuracy                           0.97      4123\n",
      "   macro avg       0.97      0.97      0.97      4123\n",
      "weighted avg       0.97      0.97      0.97      4123\n",
      "\n"
     ]
    }
   ],
   "source": [
    "print(\"Training accuracy :\", final_model_dt.score(X_train_fs,y_train))\n",
    "print(\"Testing accuracy :\", final_model_dt.score(X_test_fs,y_test))\n",
    "\n",
    "predictions = final_model_dt.predict(X_test_fs)\n",
    "print(\"Test Dataset\")\n",
    "print(classification_report(y_test, predictions))"
   ]
  },
  {
   "cell_type": "code",
   "execution_count": 12,
   "metadata": {
    "ExecuteTime": {
     "end_time": "2021-01-12T09:55:07.820634Z",
     "start_time": "2021-01-12T09:55:07.652029Z"
    }
   },
   "outputs": [
    {
     "data": {
      "image/png": "[encoded data removed]",
      "text/plain": [
       "<Figure size 432x288 with 1 Axes>"
      ]
     },
     "metadata": {
      "needs_background": "light"
     },
     "output_type": "display_data"
    }
   ],
   "source": [
    "plot_auc(final_model_dt,X_test_fs,y_test)"
   ]
  },
  {
   "cell_type": "code",
   "execution_count": 13,
   "metadata": {
    "ExecuteTime": {
     "end_time": "2021-01-12T09:55:25.176174Z",
     "start_time": "2021-01-12T09:55:24.984941Z"
    }
   },
   "outputs": [
    {
     "name": "stdout",
     "output_type": "stream",
     "text": [
      "Confusion Matrix:\n",
      "-----------------\n",
      "[[1947   99]\n",
      " [  38 2039]]\n",
      "\n",
      "\n",
      "False positive rate -  0.04838709677419355\n"
     ]
    },
    {
     "data": {
      "text/plain": [
       "<Figure size 432x432 with 0 Axes>"
      ]
     },
     "metadata": {},
     "output_type": "display_data"
    },
    {
     "data": {
      "image/png": "[encoded data removed]",
      "text/plain": [
       "<Figure size 360x360 with 2 Axes>"
      ]
     },
     "metadata": {
      "needs_background": "light"
     },
     "output_type": "display_data"
    }
   ],
   "source": [
    "CM = confusion_matrix(y_test, final_model_dt.predict(X_test_fs))\n",
    "\n",
    "TN = CM[0][0]\n",
    "FN = CM[1][0]\n",
    "TP = CM[1][1]\n",
    "FP = CM[0][1]\n",
    "# False positive rate\n",
    "FPR = FP/(FP+TN)\n",
    "\n",
    "print('Confusion Matrix:')\n",
    "print('-----------------')\n",
    "print(CM)\n",
    "print('\\n')\n",
    "print('False positive rate - ',FPR)\n",
    "\n",
    "# Plot confusion matrix\n",
    "class_names = [0,1]\n",
    "plt.figure(figsize=(6,6))\n",
    "disp = plot_confusion_matrix(final_model_dt, X_test_fs,y_test,\n",
    "                             display_labels=class_names,\n",
    "                             cmap=plt.cm.Blues)\n",
    "#                              normalize=\"true\")\n",
    "disp.ax_.set_title(\"confusion matrix\")\n",
    "plt.grid(b=None)\n",
    "fig = plt.gcf()\n",
    "fig.set_size_inches(5,5)\n",
    "plt.show()"
   ]
  },
  {
   "cell_type": "code",
   "execution_count": 14,
   "metadata": {
    "ExecuteTime": {
     "end_time": "2021-01-12T09:58:13.462522Z",
     "start_time": "2021-01-12T09:58:13.454230Z"
    }
   },
   "outputs": [],
   "source": [
    "sorted_feat_imp_dt = list(zip(X_test_fs.columns,final_model_dt.feature_importances_))\n",
    "sorted_feat_imp_dt.sort(key=lambda x: x[1],reverse = True)\n",
    "pd.DataFrame(sorted_feat_imp_dt,columns = ['feature','importance']).to_csv('../first_run_dt_fi.csv')"
   ]
  },
  {
   "cell_type": "code",
   "execution_count": 15,
   "metadata": {
    "ExecuteTime": {
     "end_time": "2021-01-12T09:59:09.015729Z",
     "start_time": "2021-01-12T09:59:09.011451Z"
    }
   },
   "outputs": [],
   "source": [
    "# save the model to disk\n",
    "filename = '../first_run_grid_cv_dt.sav'\n",
    "pickle.dump(final_model_dt, open(filename, 'wb'))"
   ]
  },
  {
   "cell_type": "markdown",
   "metadata": {},
   "source": [
    "## Random Forest "
   ]
  },
  {
   "cell_type": "code",
   "execution_count": 17,
   "metadata": {
    "ExecuteTime": {
     "end_time": "2021-01-12T10:02:11.771004Z",
     "start_time": "2021-01-12T10:00:29.703879Z"
    }
   },
   "outputs": [
    {
     "data": {
      "text/plain": [
       "RandomizedSearchCV(cv=5,\n",
       "                   estimator=RandomForestClassifier(class_weight='balanced',\n",
       "                                                    random_state=42),\n",
       "                   n_iter=5,\n",
       "                   param_distributions={'bootstrap': [True],\n",
       "                                        'max_depth': [50, 100],\n",
       "                                        'min_samples_leaf': range(1, 10),\n",
       "                                        'min_samples_split': range(1, 5),\n",
       "                                        'n_estimators': [300, 500]},\n",
       "                   random_state=42, scoring='f1_weighted')"
      ]
     },
     "execution_count": 17,
     "metadata": {},
     "output_type": "execute_result"
    }
   ],
   "source": [
    "param_grid = {\n",
    "    'bootstrap': [True],\n",
    "    'max_depth': [50, 100],\n",
    "    'min_samples_leaf': range(1,10),\n",
    "    'min_samples_split': range(1,5),\n",
    "    'n_estimators': [300, 500]\n",
    "}\n",
    "\n",
    "forest_reg = RandomForestClassifier(random_state=42, class_weight=\"balanced\")\n",
    "rnd_search = RandomizedSearchCV(forest_reg, param_distributions=param_grid,\n",
    "                                n_iter=5, cv=5, scoring='f1_weighted', random_state=42)\n",
    "rnd_search.fit(X_train_fs,y_train)"
   ]
  },
  {
   "cell_type": "code",
   "execution_count": 18,
   "metadata": {
    "ExecuteTime": {
     "end_time": "2021-01-12T10:02:11.942229Z",
     "start_time": "2021-01-12T10:02:11.940124Z"
    }
   },
   "outputs": [],
   "source": [
    "final_model_rf = rnd_search.best_estimator_"
   ]
  },
  {
   "cell_type": "code",
   "execution_count": 20,
   "metadata": {
    "ExecuteTime": {
     "end_time": "2021-01-12T10:02:23.463730Z",
     "start_time": "2021-01-12T10:02:23.458530Z"
    }
   },
   "outputs": [
    {
     "data": {
      "text/plain": [
       "RandomForestClassifier(class_weight='balanced', max_depth=100,\n",
       "                       min_samples_leaf=2, n_estimators=300, random_state=42)"
      ]
     },
     "execution_count": 20,
     "metadata": {},
     "output_type": "execute_result"
    }
   ],
   "source": [
    "final_model_rf"
   ]
  },
  {
   "cell_type": "code",
   "execution_count": 22,
   "metadata": {
    "ExecuteTime": {
     "end_time": "2021-01-12T10:02:41.270401Z",
     "start_time": "2021-01-12T10:02:40.237958Z"
    }
   },
   "outputs": [
    {
     "name": "stdout",
     "output_type": "stream",
     "text": [
      "Training accuracy : 0.9881154499151104\n",
      "Testing accuracy : 0.9757458161532865\n",
      "\n",
      "\n",
      "Test Dataset\n",
      "              precision    recall  f1-score   support\n",
      "\n",
      "           0       0.99      0.96      0.98      2046\n",
      "           1       0.96      0.99      0.98      2077\n",
      "\n",
      "    accuracy                           0.98      4123\n",
      "   macro avg       0.98      0.98      0.98      4123\n",
      "weighted avg       0.98      0.98      0.98      4123\n",
      "\n"
     ]
    }
   ],
   "source": [
    "print(\"Training accuracy :\", final_model_rf.score(X_train_fs,y_train))\n",
    "print(\"Testing accuracy :\", final_model_rf.score(X_test_fs,y_test))\n",
    "print('\\n')\n",
    "predictions_train = final_model_rf.predict(X_test_fs)\n",
    "print(\"Test Dataset\")\n",
    "print(classification_report(y_test, predictions_train))"
   ]
  },
  {
   "cell_type": "code",
   "execution_count": 23,
   "metadata": {
    "ExecuteTime": {
     "end_time": "2021-01-12T10:03:36.196197Z",
     "start_time": "2021-01-12T10:03:35.841408Z"
    }
   },
   "outputs": [
    {
     "data": {
      "image/png": "[encoded data removed]",
      "text/plain": [
       "<Figure size 432x288 with 1 Axes>"
      ]
     },
     "metadata": {
      "needs_background": "light"
     },
     "output_type": "display_data"
    }
   ],
   "source": [
    "plot_auc(final_model_rf,X_test_fs,y_test)"
   ]
  },
  {
   "cell_type": "code",
   "execution_count": 25,
   "metadata": {
    "ExecuteTime": {
     "end_time": "2021-01-12T10:04:43.759036Z",
     "start_time": "2021-01-12T10:04:43.195378Z"
    }
   },
   "outputs": [
    {
     "name": "stdout",
     "output_type": "stream",
     "text": [
      "Confusion Matrix:\n",
      "-----------------\n",
      "[[1958   88]\n",
      " [  12 2065]]\n",
      "\n",
      "\n",
      "False positive rate -  0.043010752688172046\n"
     ]
    },
    {
     "data": {
      "text/plain": [
       "<Figure size 432x432 with 0 Axes>"
      ]
     },
     "metadata": {},
     "output_type": "display_data"
    },
    {
     "data": {
      "image/png": "[encoded data removed]",
      "text/plain": [
       "<Figure size 360x360 with 2 Axes>"
      ]
     },
     "metadata": {
      "needs_background": "light"
     },
     "output_type": "display_data"
    }
   ],
   "source": [
    "CM = confusion_matrix(y_test, final_model_rf.predict(X_test_fs))\n",
    "\n",
    "TN = CM[0][0]\n",
    "FN = CM[1][0]\n",
    "TP = CM[1][1]\n",
    "FP = CM[0][1]\n",
    "# False positive rate\n",
    "FPR = FP/(FP+TN)\n",
    "\n",
    "print('Confusion Matrix:')\n",
    "print('-----------------')\n",
    "print(CM)\n",
    "print('\\n')\n",
    "print('False positive rate - ',FPR)\n",
    "\n",
    "# Plot confusion matrix\n",
    "class_names = [0,1]\n",
    "plt.figure(figsize=(6,6))\n",
    "disp = plot_confusion_matrix(final_model_rf, X_test_fs,y_test,\n",
    "                             display_labels=class_names,\n",
    "                             cmap=plt.cm.Blues)\n",
    "disp.ax_.set_title(\"confusion matrix\")\n",
    "plt.grid(b=None)\n",
    "fig = plt.gcf()\n",
    "fig.set_size_inches(5,5)\n",
    "plt.show()"
   ]
  },
  {
   "cell_type": "code",
   "execution_count": 29,
   "metadata": {
    "ExecuteTime": {
     "end_time": "2021-01-12T10:07:07.506978Z",
     "start_time": "2021-01-12T10:07:07.472537Z"
    }
   },
   "outputs": [],
   "source": [
    "sorted_feat_imp_rf = list(zip(X_test_fs.columns,final_model_rf.feature_importances_))\n",
    "sorted_feat_imp_rf.sort(key=lambda x: x[1],reverse = True)\n",
    "pd.DataFrame(sorted_feat_imp_rf,columns = ['feature','importance']).to_csv('../first_run_rf_fi.csv')"
   ]
  },
  {
   "cell_type": "code",
   "execution_count": 28,
   "metadata": {
    "ExecuteTime": {
     "end_time": "2021-01-12T10:06:28.659440Z",
     "start_time": "2021-01-12T10:06:28.603439Z"
    }
   },
   "outputs": [],
   "source": [
    "# save the model to disk\n",
    "filename = '../first_run_grid_cv_rf.sav'\n",
    "pickle.dump(final_model_rf, open(filename, 'wb'))"
   ]
  },
  {
   "cell_type": "markdown",
   "metadata": {},
   "source": [
    "# Running Random Forest model excluding software version"
   ]
  },
  {
   "cell_type": "code",
   "execution_count": 65,
   "metadata": {
    "ExecuteTime": {
     "end_time": "2021-01-12T19:42:18.293053Z",
     "start_time": "2021-01-12T19:42:18.256155Z"
    }
   },
   "outputs": [],
   "source": [
    "columns_1 = X_train_fs.columns\n",
    "\n",
    "columns_1 = [x for x in columns_1 if 'software_' not in x]\n",
    "X_train_fs_sf = X_train_fs[columns_1]\n",
    "X_test_fs_sf = X_test_fs[columns_1]\n"
   ]
  },
  {
   "cell_type": "code",
   "execution_count": 66,
   "metadata": {
    "ExecuteTime": {
     "end_time": "2021-01-12T19:47:07.504026Z",
     "start_time": "2021-01-12T19:45:01.371366Z"
    }
   },
   "outputs": [
    {
     "data": {
      "text/plain": [
       "RandomizedSearchCV(cv=5,\n",
       "                   estimator=RandomForestClassifier(class_weight='balanced',\n",
       "                                                    random_state=42),\n",
       "                   n_iter=5,\n",
       "                   param_distributions={'bootstrap': [True],\n",
       "                                        'max_depth': [50, 100],\n",
       "                                        'min_samples_leaf': range(1, 10),\n",
       "                                        'min_samples_split': range(1, 5),\n",
       "                                        'n_estimators': [300, 500]},\n",
       "                   random_state=42, scoring='f1_weighted')"
      ]
     },
     "execution_count": 66,
     "metadata": {},
     "output_type": "execute_result"
    }
   ],
   "source": [
    "param_grid = {\n",
    "    'bootstrap': [True],\n",
    "    'max_depth': [50, 100],\n",
    "    'min_samples_leaf': range(1,10),\n",
    "    'min_samples_split': range(1,5),\n",
    "    'n_estimators': [300, 500]\n",
    "}\n",
    "\n",
    "forest_reg_sf = RandomForestClassifier(random_state=42, class_weight=\"balanced\")\n",
    "rnd_search_sf = RandomizedSearchCV(forest_reg_sf, param_distributions=param_grid,\n",
    "                                n_iter=5, cv=5, scoring='f1_weighted', random_state=42)\n",
    "rnd_search_sf.fit(X_train_fs_sf,y_train)"
   ]
  },
  {
   "cell_type": "code",
   "execution_count": 67,
   "metadata": {
    "ExecuteTime": {
     "end_time": "2021-01-12T19:47:08.013818Z",
     "start_time": "2021-01-12T19:47:08.011939Z"
    }
   },
   "outputs": [],
   "source": [
    "final_model_rf_sf = rnd_search_sf.best_estimator_"
   ]
  },
  {
   "cell_type": "code",
   "execution_count": 68,
   "metadata": {
    "ExecuteTime": {
     "end_time": "2021-01-12T19:47:08.511602Z",
     "start_time": "2021-01-12T19:47:08.508276Z"
    }
   },
   "outputs": [
    {
     "data": {
      "text/plain": [
       "RandomForestClassifier(class_weight='balanced', max_depth=100,\n",
       "                       min_samples_leaf=2, n_estimators=300, random_state=42)"
      ]
     },
     "execution_count": 68,
     "metadata": {},
     "output_type": "execute_result"
    }
   ],
   "source": [
    "final_model_rf_sf"
   ]
  },
  {
   "cell_type": "code",
   "execution_count": 69,
   "metadata": {
    "ExecuteTime": {
     "end_time": "2021-01-12T19:47:10.056682Z",
     "start_time": "2021-01-12T19:47:09.009551Z"
    }
   },
   "outputs": [
    {
     "name": "stdout",
     "output_type": "stream",
     "text": [
      "Training accuracy : 0.9780095399789797\n",
      "Testing accuracy : 0.9126849381518312\n",
      "\n",
      "\n",
      "Test Dataset\n",
      "              precision    recall  f1-score   support\n",
      "\n",
      "           0       0.88      0.95      0.92      2046\n",
      "           1       0.95      0.88      0.91      2077\n",
      "\n",
      "    accuracy                           0.91      4123\n",
      "   macro avg       0.91      0.91      0.91      4123\n",
      "weighted avg       0.91      0.91      0.91      4123\n",
      "\n"
     ]
    }
   ],
   "source": [
    "print(\"Training accuracy :\", final_model_rf_sf.score(X_train_fs_sf,y_train))\n",
    "print(\"Testing accuracy :\", final_model_rf_sf.score(X_test_fs_sf,y_test))\n",
    "print('\\n')\n",
    "predictions_train = final_model_rf_sf.predict(X_test_fs_sf)\n",
    "print(\"Test Dataset\")\n",
    "print(classification_report(y_test, predictions_train))"
   ]
  },
  {
   "cell_type": "markdown",
   "metadata": {},
   "source": [
    "# Rough"
   ]
  },
  {
   "cell_type": "code",
   "execution_count": null,
   "metadata": {},
   "outputs": [],
   "source": [
    "# Confusion Matrix\n",
    "from sklearn.metrics import confusion_matrix\n",
    "confusion_matrix(y_true, y_pred)\n",
    "# Accuracy\n",
    "from sklearn.metrics import accuracy_score\n",
    "accuracy_score(y_true, y_pred)\n",
    "# Recall\n",
    "from sklearn.metrics import recall_score\n",
    "recall_score(y_true, y_pred, average=None)\n",
    "# Precision\n",
    "from sklearn.metrics import precision_score\n",
    "precision_score(y_true, y_pred, average=None)\n",
    "\n",
    "FP = confusion_mat.sum(axis=0) - np.diag(confusion_mat)  \n",
    "FN = confusion_mat.sum(axis=1) - np.diag(confusion_mat)\n",
    "TP = np.diag(confusion_mat)\n",
    "TN = confusion_mat.values.sum() - (FP + FN + TP)\n",
    "        \n",
    "# Sensitivity, hit rate, recall, or true positive rate\n",
    "TPR = TP/(TP+FN)\n",
    "# Specificity or true negative rate\n",
    "TNR = TN/(TN+FP) \n",
    "# Precision or positive predictive value\n",
    "PPV = TP/(TP+FP)\n",
    "# Negative predictive value\n",
    "NPV = TN/(TN+FN)\n",
    "# Fall out or false positive rate\n",
    "FPR = FP/(FP+TN)\n",
    "# False negative rate\n",
    "FNR = FN/(TP+FN)\n",
    "# False discovery rate\n",
    "FDR = FP/(TP+FP)\n",
    "\n",
    "# Overall accuracy\n",
    "ACC = (TP+TN)/(TP+FP+FN+TN)        "
   ]
  },
  {
   "cell_type": "code",
   "execution_count": 56,
   "metadata": {
    "ExecuteTime": {
     "end_time": "2021-01-12T19:20:42.737695Z",
     "start_time": "2021-01-12T19:20:42.730335Z"
    }
   },
   "outputs": [],
   "source": [
    "df_poi = X_train.head(1)\n",
    "# df1 = df.loc[:, (df > 0).all()]\n",
    "df_poi = df_poi.loc[:, (df_poi != 0).all()]"
   ]
  },
  {
   "cell_type": "code",
   "execution_count": 57,
   "metadata": {
    "ExecuteTime": {
     "end_time": "2021-01-12T19:20:44.535478Z",
     "start_time": "2021-01-12T19:20:44.518988Z"
    }
   },
   "outputs": [
    {
     "data": {
      "text/html": [
       "<div>\n",
       "<style scoped>\n",
       "    .dataframe tbody tr th:only-of-type {\n",
       "        vertical-align: middle;\n",
       "    }\n",
       "\n",
       "    .dataframe tbody tr th {\n",
       "        vertical-align: top;\n",
       "    }\n",
       "\n",
       "    .dataframe thead th {\n",
       "        text-align: right;\n",
       "    }\n",
       "</style>\n",
       "<table border=\"1\" class=\"dataframe\">\n",
       "  <thead>\n",
       "    <tr style=\"text-align: right;\">\n",
       "      <th></th>\n",
       "      <th>software_version_4.6</th>\n",
       "      <th>manufacturer_YITOA</th>\n",
       "      <th>model_P-WAL-107-YIT-03</th>\n",
       "      <th>sku_P-WAL-107-YIT-03</th>\n",
       "      <th>state_Texas</th>\n",
       "      <th>is_battery_charging_True</th>\n",
       "      <th>ranking_10.0</th>\n",
       "      <th>specialty_Oncology</th>\n",
       "      <th>fs_pct_0.0196_0.0239</th>\n",
       "      <th>avg_campaigns</th>\n",
       "      <th>...</th>\n",
       "      <th>Vasculature</th>\n",
       "      <th>Ventral Hernia</th>\n",
       "      <th>Ventricular Fibrillation with Conduction System</th>\n",
       "      <th>Wagner Classification</th>\n",
       "      <th>Warts on Skin</th>\n",
       "      <th>Whiteboard</th>\n",
       "      <th>Wrist</th>\n",
       "      <th>avg_times</th>\n",
       "      <th>avg_days</th>\n",
       "      <th>clinic_had_mia</th>\n",
       "    </tr>\n",
       "    <tr>\n",
       "      <th>asset_id</th>\n",
       "      <th></th>\n",
       "      <th></th>\n",
       "      <th></th>\n",
       "      <th></th>\n",
       "      <th></th>\n",
       "      <th></th>\n",
       "      <th></th>\n",
       "      <th></th>\n",
       "      <th></th>\n",
       "      <th></th>\n",
       "      <th></th>\n",
       "      <th></th>\n",
       "      <th></th>\n",
       "      <th></th>\n",
       "      <th></th>\n",
       "      <th></th>\n",
       "      <th></th>\n",
       "      <th></th>\n",
       "      <th></th>\n",
       "      <th></th>\n",
       "      <th></th>\n",
       "    </tr>\n",
       "  </thead>\n",
       "  <tbody>\n",
       "    <tr>\n",
       "      <th>W01Y107687</th>\n",
       "      <td>1</td>\n",
       "      <td>1</td>\n",
       "      <td>1</td>\n",
       "      <td>1</td>\n",
       "      <td>1</td>\n",
       "      <td>1</td>\n",
       "      <td>1</td>\n",
       "      <td>1</td>\n",
       "      <td>1</td>\n",
       "      <td>0.267746</td>\n",
       "      <td>...</td>\n",
       "      <td>-0.260727</td>\n",
       "      <td>-0.082145</td>\n",
       "      <td>-0.090345</td>\n",
       "      <td>-0.211962</td>\n",
       "      <td>-0.123294</td>\n",
       "      <td>-0.011374</td>\n",
       "      <td>-0.197531</td>\n",
       "      <td>1.322661</td>\n",
       "      <td>0.137164</td>\n",
       "      <td>1</td>\n",
       "    </tr>\n",
       "  </tbody>\n",
       "</table>\n",
       "<p>1 rows × 310 columns</p>\n",
       "</div>"
      ],
      "text/plain": [
       "            software_version_4.6  manufacturer_YITOA  model_P-WAL-107-YIT-03  \\\n",
       "asset_id                                                                       \n",
       "W01Y107687                     1                   1                       1   \n",
       "\n",
       "            sku_P-WAL-107-YIT-03  state_Texas  is_battery_charging_True  \\\n",
       "asset_id                                                                  \n",
       "W01Y107687                     1            1                         1   \n",
       "\n",
       "            ranking_10.0  specialty_Oncology  fs_pct_0.0196_0.0239  \\\n",
       "asset_id                                                             \n",
       "W01Y107687             1                   1                     1   \n",
       "\n",
       "            avg_campaigns  ...  Vasculature  Ventral Hernia  \\\n",
       "asset_id                   ...                                \n",
       "W01Y107687       0.267746  ...    -0.260727       -0.082145   \n",
       "\n",
       "            Ventricular Fibrillation with Conduction System  \\\n",
       "asset_id                                                      \n",
       "W01Y107687                                        -0.090345   \n",
       "\n",
       "            Wagner Classification  Warts on Skin  Whiteboard     Wrist  \\\n",
       "asset_id                                                                 \n",
       "W01Y107687              -0.211962      -0.123294   -0.011374 -0.197531   \n",
       "\n",
       "            avg_times  avg_days  clinic_had_mia  \n",
       "asset_id                                         \n",
       "W01Y107687   1.322661  0.137164               1  \n",
       "\n",
       "[1 rows x 310 columns]"
      ]
     },
     "execution_count": 57,
     "metadata": {},
     "output_type": "execute_result"
    }
   ],
   "source": [
    "df_poi.head(2)"
   ]
  },
  {
   "cell_type": "code",
   "execution_count": null,
   "metadata": {},
   "outputs": [],
   "source": []
  }
 ],
 "metadata": {
  "kernelspec": {
   "display_name": "Python 3",
   "language": "python",
   "name": "python3"
  },
  "language_info": {
   "codemirror_mode": {
    "name": "ipython",
    "version": 3
   },
   "file_extension": ".py",
   "mimetype": "text/x-python",
   "name": "python",
   "nbconvert_exporter": "python",
   "pygments_lexer": "ipython3",
   "version": "3.8.3"
  },
  "toc": {
   "base_numbering": 1,
   "nav_menu": {},
   "number_sections": true,
   "sideBar": true,
   "skip_h1_title": false,
   "title_cell": "Table of Contents",
   "title_sidebar": "Contents",
   "toc_cell": false,
   "toc_position": {},
   "toc_section_display": true,
   "toc_window_display": false
  },
  "varInspector": {
   "cols": {
    "lenName": 16,
    "lenType": 16,
    "lenVar": 40
   },
   "kernels_config": {
    "python": {
     "delete_cmd_postfix": "",
     "delete_cmd_prefix": "del ",
     "library": "var_list.py",
     "varRefreshCmd": "print(var_dic_list())"
    },
    "r": {
     "delete_cmd_postfix": ") ",
     "delete_cmd_prefix": "rm(",
     "library": "var_list.r",
     "varRefreshCmd": "cat(var_dic_list()) "
    }
   },
   "types_to_exclude": [
    "module",
    "function",
    "builtin_function_or_method",
    "instance",
    "_Feature"
   ],
   "window_display": false
  }
 },
 "nbformat": 4,
 "nbformat_minor": 4
}
