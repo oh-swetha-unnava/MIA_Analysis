{
 "cells": [
  {
   "cell_type": "markdown",
   "metadata": {},
   "source": [
    "# Importing Neccesary Packages"
   ]
  },
  {
   "cell_type": "code",
   "execution_count": 1,
   "metadata": {
    "ExecuteTime": {
     "end_time": "2021-01-12T09:47:41.888600Z",
     "start_time": "2021-01-12T09:47:40.484023Z"
    }
   },
   "outputs": [],
   "source": [
    "import numpy as np\n",
    "import pandas as pd\n",
    "import copy\n",
    "import matplotlib.pyplot as plt\n",
    "from matplotlib import style\n",
    "from matplotlib.pyplot import subplots, show\n",
    "import seaborn as sns\n",
    "%matplotlib  inline\n",
    "import re\n",
    "import os\n",
    "import pickle\n",
    "\n",
    "from sklearn.feature_selection import VarianceThreshold\n",
    "from sklearn.ensemble import RandomForestClassifier\n",
    "from sklearn.model_selection import cross_val_score\n",
    "from sklearn.model_selection import RandomizedSearchCV\n",
    "from sklearn.metrics import classification_report\n",
    "from sklearn.metrics import plot_confusion_matrix\n",
    "from sklearn.model_selection import KFold\n",
    "from sklearn.linear_model import LogisticRegression\n",
    "from sklearn.naive_bayes import GaussianNB\n",
    "from sklearn.tree import DecisionTreeClassifier\n",
    "from sklearn.model_selection import GridSearchCV\n",
    "from sklearn.svm import LinearSVC\n",
    "from sklearn.svm import SVC \n",
    "from sklearn.metrics import confusion_matrix\n",
    "from sklearn.metrics import accuracy_score\n",
    "from sklearn.metrics import recall_score\n",
    "from sklearn.metrics import precision_score\n",
    "from sklearn.metrics import roc_curve\n",
    "from sklearn.metrics import roc_auc_score\n",
    "from scipy.stats import randint\n",
    "\n",
    "import warnings\n",
    "warnings.filterwarnings(\"ignore\")"
   ]
  },
  {
   "cell_type": "markdown",
   "metadata": {},
   "source": [
    "# Importing train and test data set"
   ]
  },
  {
   "cell_type": "code",
   "execution_count": 105,
   "metadata": {
    "ExecuteTime": {
     "end_time": "2021-01-13T20:58:15.397122Z",
     "start_time": "2021-01-13T20:58:14.091823Z"
    }
   },
   "outputs": [
    {
     "name": "stdout",
     "output_type": "stream",
     "text": [
      "Train data set shape: (12369, 460)\n",
      "Test data set shapec: (4123, 460)\n",
      "\n",
      "\n",
      "Sneak peak of y train\n",
      "---------------------\n",
      "asset_id\n",
      "W01Y107687    1\n",
      "W01E106713    0\n",
      "W01E121261    1\n",
      "Name: y_flag, dtype: int64\n",
      "\n",
      "\n",
      "Sneak peak of X train\n",
      "---------------------\n"
     ]
    },
    {
     "data": {
      "text/html": [
       "<div>\n",
       "<style scoped>\n",
       "    .dataframe tbody tr th:only-of-type {\n",
       "        vertical-align: middle;\n",
       "    }\n",
       "\n",
       "    .dataframe tbody tr th {\n",
       "        vertical-align: top;\n",
       "    }\n",
       "\n",
       "    .dataframe thead th {\n",
       "        text-align: right;\n",
       "    }\n",
       "</style>\n",
       "<table border=\"1\" class=\"dataframe\">\n",
       "  <thead>\n",
       "    <tr style=\"text-align: right;\">\n",
       "      <th></th>\n",
       "      <th>software_version_2.0.3</th>\n",
       "      <th>software_version_3.0.1</th>\n",
       "      <th>software_version_3.2</th>\n",
       "      <th>software_version_3.3.1</th>\n",
       "      <th>software_version_3.3.2</th>\n",
       "      <th>software_version_3.5</th>\n",
       "      <th>software_version_4.10.1</th>\n",
       "      <th>software_version_4.10.2</th>\n",
       "      <th>software_version_4.12.4</th>\n",
       "      <th>software_version_4.2.2</th>\n",
       "      <th>...</th>\n",
       "      <th>Varicose Veins</th>\n",
       "      <th>Vasculature</th>\n",
       "      <th>Ventral Hernia</th>\n",
       "      <th>Ventricular Fibrillation with Conduction System</th>\n",
       "      <th>Wagner Classification</th>\n",
       "      <th>Warts on Skin</th>\n",
       "      <th>Whiteboard</th>\n",
       "      <th>Wrist</th>\n",
       "      <th>avg_times</th>\n",
       "      <th>avg_days</th>\n",
       "    </tr>\n",
       "    <tr>\n",
       "      <th>asset_id</th>\n",
       "      <th></th>\n",
       "      <th></th>\n",
       "      <th></th>\n",
       "      <th></th>\n",
       "      <th></th>\n",
       "      <th></th>\n",
       "      <th></th>\n",
       "      <th></th>\n",
       "      <th></th>\n",
       "      <th></th>\n",
       "      <th></th>\n",
       "      <th></th>\n",
       "      <th></th>\n",
       "      <th></th>\n",
       "      <th></th>\n",
       "      <th></th>\n",
       "      <th></th>\n",
       "      <th></th>\n",
       "      <th></th>\n",
       "      <th></th>\n",
       "      <th></th>\n",
       "    </tr>\n",
       "  </thead>\n",
       "  <tbody>\n",
       "    <tr>\n",
       "      <th>W01Y107687</th>\n",
       "      <td>0</td>\n",
       "      <td>0</td>\n",
       "      <td>0</td>\n",
       "      <td>0</td>\n",
       "      <td>0</td>\n",
       "      <td>0</td>\n",
       "      <td>0</td>\n",
       "      <td>0</td>\n",
       "      <td>0</td>\n",
       "      <td>0</td>\n",
       "      <td>...</td>\n",
       "      <td>-0.150889</td>\n",
       "      <td>-0.260727</td>\n",
       "      <td>-0.082145</td>\n",
       "      <td>-0.090345</td>\n",
       "      <td>-0.211962</td>\n",
       "      <td>-0.123294</td>\n",
       "      <td>-0.011374</td>\n",
       "      <td>-0.197531</td>\n",
       "      <td>1.322661</td>\n",
       "      <td>0.137164</td>\n",
       "    </tr>\n",
       "    <tr>\n",
       "      <th>W01E106713</th>\n",
       "      <td>0</td>\n",
       "      <td>0</td>\n",
       "      <td>0</td>\n",
       "      <td>0</td>\n",
       "      <td>0</td>\n",
       "      <td>0</td>\n",
       "      <td>0</td>\n",
       "      <td>1</td>\n",
       "      <td>1</td>\n",
       "      <td>0</td>\n",
       "      <td>...</td>\n",
       "      <td>-0.150889</td>\n",
       "      <td>-0.260727</td>\n",
       "      <td>-0.082145</td>\n",
       "      <td>-0.090345</td>\n",
       "      <td>-0.211962</td>\n",
       "      <td>-0.123294</td>\n",
       "      <td>-0.011374</td>\n",
       "      <td>-0.197531</td>\n",
       "      <td>-0.314780</td>\n",
       "      <td>-0.218282</td>\n",
       "    </tr>\n",
       "    <tr>\n",
       "      <th>W01E121261</th>\n",
       "      <td>0</td>\n",
       "      <td>0</td>\n",
       "      <td>0</td>\n",
       "      <td>0</td>\n",
       "      <td>0</td>\n",
       "      <td>0</td>\n",
       "      <td>0</td>\n",
       "      <td>1</td>\n",
       "      <td>0</td>\n",
       "      <td>0</td>\n",
       "      <td>...</td>\n",
       "      <td>-0.150889</td>\n",
       "      <td>-0.260727</td>\n",
       "      <td>-0.082145</td>\n",
       "      <td>-0.090345</td>\n",
       "      <td>-0.211962</td>\n",
       "      <td>-0.123294</td>\n",
       "      <td>-0.011374</td>\n",
       "      <td>-0.197531</td>\n",
       "      <td>0.340196</td>\n",
       "      <td>-0.167504</td>\n",
       "    </tr>\n",
       "  </tbody>\n",
       "</table>\n",
       "<p>3 rows × 458 columns</p>\n",
       "</div>"
      ],
      "text/plain": [
       "            software_version_2.0.3  software_version_3.0.1  \\\n",
       "asset_id                                                     \n",
       "W01Y107687                       0                       0   \n",
       "W01E106713                       0                       0   \n",
       "W01E121261                       0                       0   \n",
       "\n",
       "            software_version_3.2  software_version_3.3.1  \\\n",
       "asset_id                                                   \n",
       "W01Y107687                     0                       0   \n",
       "W01E106713                     0                       0   \n",
       "W01E121261                     0                       0   \n",
       "\n",
       "            software_version_3.3.2  software_version_3.5  \\\n",
       "asset_id                                                   \n",
       "W01Y107687                       0                     0   \n",
       "W01E106713                       0                     0   \n",
       "W01E121261                       0                     0   \n",
       "\n",
       "            software_version_4.10.1  software_version_4.10.2  \\\n",
       "asset_id                                                       \n",
       "W01Y107687                        0                        0   \n",
       "W01E106713                        0                        1   \n",
       "W01E121261                        0                        1   \n",
       "\n",
       "            software_version_4.12.4  software_version_4.2.2  ...  \\\n",
       "asset_id                                                     ...   \n",
       "W01Y107687                        0                       0  ...   \n",
       "W01E106713                        1                       0  ...   \n",
       "W01E121261                        0                       0  ...   \n",
       "\n",
       "            Varicose Veins  Vasculature  Ventral Hernia  \\\n",
       "asset_id                                                  \n",
       "W01Y107687       -0.150889    -0.260727       -0.082145   \n",
       "W01E106713       -0.150889    -0.260727       -0.082145   \n",
       "W01E121261       -0.150889    -0.260727       -0.082145   \n",
       "\n",
       "            Ventricular Fibrillation with Conduction System  \\\n",
       "asset_id                                                      \n",
       "W01Y107687                                        -0.090345   \n",
       "W01E106713                                        -0.090345   \n",
       "W01E121261                                        -0.090345   \n",
       "\n",
       "            Wagner Classification  Warts on Skin  Whiteboard     Wrist  \\\n",
       "asset_id                                                                 \n",
       "W01Y107687              -0.211962      -0.123294   -0.011374 -0.197531   \n",
       "W01E106713              -0.211962      -0.123294   -0.011374 -0.197531   \n",
       "W01E121261              -0.211962      -0.123294   -0.011374 -0.197531   \n",
       "\n",
       "            avg_times  avg_days  \n",
       "asset_id                         \n",
       "W01Y107687   1.322661  0.137164  \n",
       "W01E106713  -0.314780 -0.218282  \n",
       "W01E121261   0.340196 -0.167504  \n",
       "\n",
       "[3 rows x 458 columns]"
      ]
     },
     "execution_count": 105,
     "metadata": {},
     "output_type": "execute_result"
    }
   ],
   "source": [
    "df_train = pd.read_csv('../wallboard_train.csv')\n",
    "df_test =  pd.read_csv('../wallboard_test.csv')\n",
    "\n",
    "# setting asset_id as index\n",
    "df_train.set_index('asset_id',inplace = True)\n",
    "df_test.set_index('asset_id',inplace = True)\n",
    "\n",
    "print('Train data set shape:', df_train.shape)\n",
    "print('Test data set shapec:', df_test.shape)\n",
    "\n",
    "# Removing 'clinic_had_mia' column\n",
    "\n",
    "df_train.drop('clinic_had_mia',1,inplace=True)\n",
    "df_test.drop('clinic_had_mia',1,inplace=True)\n",
    "\n",
    "\n",
    "# Splitting the train and test data to X ( independent variables ) and y ( dependent variables ) set\n",
    "X_train = df_train.iloc[:,:-1]\n",
    "y_train = df_train.iloc[:,-1]\n",
    "X_test = df_test.iloc[:,:-1]\n",
    "y_test = df_test.iloc[:,-1]\n",
    "print('\\n')\n",
    "print('Sneak peak of y train')\n",
    "print(\"---------------------\")\n",
    "print(y_train.head(3))\n",
    "print('\\n')\n",
    "print('Sneak peak of X train')\n",
    "print(\"---------------------\")\n",
    "X_train.head(3)"
   ]
  },
  {
   "cell_type": "markdown",
   "metadata": {},
   "source": [
    "# Feature Reduction"
   ]
  },
  {
   "cell_type": "code",
   "execution_count": 106,
   "metadata": {
    "ExecuteTime": {
     "end_time": "2021-01-13T20:58:22.618515Z",
     "start_time": "2021-01-13T20:58:22.449283Z"
    }
   },
   "outputs": [
    {
     "name": "stdout",
     "output_type": "stream",
     "text": [
      "Shape of the train and test data sets post feature selection:  (12369, 331) (4123, 331)\n"
     ]
    }
   ],
   "source": [
    "threshold_n = 0.9\n",
    "sel = VarianceThreshold(threshold=(threshold_n * (1 - threshold_n) ))\n",
    "sel_var = sel.fit_transform(X_train)\n",
    "X_train_fs = X_train[X_train.columns[sel.get_support(indices=True)]]\n",
    "X_test_fs = X_test[X_test.columns[sel.get_support(indices=True)]]\n",
    "\n",
    "print(\"Shape of the train and test data sets post feature selection: \", X_train_fs.shape, X_test_fs.shape)"
   ]
  },
  {
   "cell_type": "code",
   "execution_count": 4,
   "metadata": {
    "ExecuteTime": {
     "end_time": "2021-01-11T18:38:24.685436Z",
     "start_time": "2021-01-11T18:38:22.787398Z"
    }
   },
   "outputs": [],
   "source": [
    "#get correlations of each features in dataset\n",
    "data = pd.concat([X_train_fs,y_train],axis = 1)\n",
    "corrmat = data.corr()\n",
    "top_corr_features = corrmat.index"
   ]
  },
  {
   "cell_type": "code",
   "execution_count": 5,
   "metadata": {
    "ExecuteTime": {
     "end_time": "2021-01-11T18:38:32.306179Z",
     "start_time": "2021-01-11T18:38:32.296971Z"
    }
   },
   "outputs": [
    {
     "data": {
      "text/plain": [
       "manufacturer_OUTFORM                0.453410\n",
       "manufacturer_YITOA                  0.252483\n",
       "model_UIT232B-W01                   0.442524\n",
       "sku_P-WAL-105-OUT-01                0.442524\n",
       "state_Texas                         0.008597\n",
       "facility_type_Private Group         0.063007\n",
       "facility_type_Private Practice      0.097481\n",
       "ranking_6.0                         0.031684\n",
       "ranking_7.0                         0.001578\n",
       "ranking_8.0                         0.002111\n",
       "ranking_9.0                         0.008544\n",
       "ranking_10.0                        0.037433\n",
       "specialty_Cardiovascular Disease    0.065188\n",
       "fs_pct_0.0261_0.0613                0.300752\n",
       "fs_pct_0.0613_0.0661                0.028797\n",
       "SEPT_avg_video_duration             0.007577\n",
       "OCT_avg_video_duration              0.031232\n",
       "jun_avg_Crash_sessions              0.022411\n",
       "jul_avg_Crash_sessions              0.015782\n",
       "aug_avg_Crash_sessions              0.009044\n",
       "sept_avg_Crash_sessions             0.006664\n",
       "oct_avg_Crash_sessions              0.011392\n",
       "Heart Attack                        0.004616\n",
       "Leukemia                            0.003803\n",
       "Renal Cell Carcinoma                0.004869\n",
       "Whiteboard                          0.009006\n",
       "avg_times                           0.114963\n",
       "avg_days                            0.179436\n",
       "clinic_had_mia                      0.456041\n",
       "Name: y_flag, dtype: float64"
      ]
     },
     "execution_count": 5,
     "metadata": {},
     "output_type": "execute_result"
    }
   ],
   "source": [
    "corrmat.loc['y_flag',:'clinic_had_mia'][corrmat.loc['y_flag',:'clinic_had_mia'] > 0]"
   ]
  },
  {
   "cell_type": "markdown",
   "metadata": {},
   "source": [
    "# Baseline Models"
   ]
  },
  {
   "cell_type": "markdown",
   "metadata": {},
   "source": [
    "## 5 fold Cross Validation of all baseline models"
   ]
  },
  {
   "cell_type": "code",
   "execution_count": 107,
   "metadata": {
    "ExecuteTime": {
     "end_time": "2021-01-13T20:58:28.332500Z",
     "start_time": "2021-01-13T20:58:28.328054Z"
    }
   },
   "outputs": [],
   "source": [
    "def display_scores(scores):\n",
    "    print(\"Scores:\", scores)\n",
    "    print(\"Mean:\", scores.mean())\n",
    "    print(\"Standard Deviation:\", scores.std())"
   ]
  },
  {
   "cell_type": "code",
   "execution_count": 108,
   "metadata": {
    "ExecuteTime": {
     "end_time": "2021-01-13T20:58:29.632762Z",
     "start_time": "2021-01-13T20:58:29.620821Z"
    }
   },
   "outputs": [],
   "source": [
    "def kfold_cv(X,y,k = 3,model = 'logistic'):\n",
    "    scores = []\n",
    "    train_acc = []\n",
    "    fpr = []\n",
    "    \n",
    "    if 'logistic' in str.lower(model):\n",
    "        curr_model = LogisticRegression()\n",
    "    elif 'naive' in str.lower(model) or 'bayes' in str.lower(model):\n",
    "        curr_model = GaussianNB()\n",
    "    elif 'decision' in str.lower(model) or 'tree' in str.lower(model):\n",
    "        curr_model = DecisionTreeClassifier()\n",
    "    elif 'SVM' in str.upper(model):\n",
    "        curr_model = LinearSVC()\n",
    "    elif 'random' in str.lower(model) or 'forest' in str.lower(model):\n",
    "        curr_model = RandomForestClassifier()    \n",
    "        \n",
    "    cv = KFold(n_splits=k, random_state=42, shuffle=False)\n",
    "    for train_index, test_index in cv.split(X):\n",
    "\n",
    "        X_train, X_test = X.iloc[list(train_index)], X.iloc[list(test_index)]\n",
    "        y_train, y_test = y.iloc[list(train_index)], y.iloc[list(test_index)]\n",
    "        curr_model.fit(X_train, y_train)\n",
    "        # Test Accuracy\n",
    "        scores.append(curr_model.score(X_test, y_test))\n",
    "        # Train Accuracy\n",
    "        train_acc.append(accuracy_score(y_train, curr_model.predict(X_train)))\n",
    "        # Calculating False positive rate\n",
    "        CM = confusion_matrix(y_test, curr_model.predict(X_test))\n",
    "        TN = CM[0][0]\n",
    "        FN = CM[1][0]\n",
    "        TP = CM[1][1]\n",
    "        FP = CM[0][1]\n",
    "        # False positive rate\n",
    "        FPR = FP/(FP+TN)\n",
    "        fpr.append(FPR)\n",
    "    \n",
    "    # Training accuracies\n",
    "    print('Displaying Training accuracies of %s model in %d fold cv'%(model, k))\n",
    "    print('------------------------------------------------------------------------------')\n",
    "    train_acc = np.array(train_acc)\n",
    "    display_scores(train_acc)\n",
    "    print('\\n')\n",
    "    # Testing accuracies\n",
    "    print('Displaying Testing accuracies of %s model in %d fold cv'%(model, k))\n",
    "    print('------------------------------------------------------------------------------')\n",
    "    scores = np.array(scores)\n",
    "    display_scores(scores)\n",
    "    print('\\n')\n",
    "    # False Positive Rate\n",
    "    print('Displaying False Positive Rate of %s model in %d fold cv'%(model, k))\n",
    "    print('------------------------------------------------------------------------------')\n",
    "    fpr = np.array(fpr)\n",
    "    display_scores(fpr)"
   ]
  },
  {
   "cell_type": "markdown",
   "metadata": {},
   "source": [
    "### Naive Bayes "
   ]
  },
  {
   "cell_type": "code",
   "execution_count": 109,
   "metadata": {
    "ExecuteTime": {
     "end_time": "2021-01-13T20:58:32.075077Z",
     "start_time": "2021-01-13T20:58:31.108695Z"
    }
   },
   "outputs": [
    {
     "name": "stdout",
     "output_type": "stream",
     "text": [
      "Displaying Training accuracies of Naive model in 5 fold cv\n",
      "------------------------------------------------------------------------------\n",
      "Scores: [0.72824659 0.83830217 0.80737746 0.83860536 0.8319523 ]\n",
      "Mean: 0.8088967771136136\n",
      "Standard Deviation: 0.04191800428274149\n",
      "\n",
      "\n",
      "Displaying Testing accuracies of Naive model in 5 fold cv\n",
      "------------------------------------------------------------------------------\n",
      "Scores: [0.71988682 0.82983023 0.7930477  0.85044462 0.8350182 ]\n",
      "Mean: 0.8056455148097431\n",
      "Standard Deviation: 0.046835613698613644\n",
      "\n",
      "\n",
      "Displaying False Positive Rate of Naive model in 5 fold cv\n",
      "------------------------------------------------------------------------------\n",
      "Scores: [0.39804241 0.15250199 0.21979866 0.12607674 0.14354839]\n",
      "Mean: 0.20799363744767593\n",
      "Standard Deviation: 0.10020058633954529\n"
     ]
    }
   ],
   "source": [
    "kfold_cv(X_train_fs,y_train, k=5 ,model = 'Naive')"
   ]
  },
  {
   "cell_type": "markdown",
   "metadata": {},
   "source": [
    "## Logistic Regression "
   ]
  },
  {
   "cell_type": "code",
   "execution_count": 110,
   "metadata": {
    "ExecuteTime": {
     "end_time": "2021-01-13T20:58:35.125731Z",
     "start_time": "2021-01-13T20:58:33.636484Z"
    }
   },
   "outputs": [
    {
     "name": "stdout",
     "output_type": "stream",
     "text": [
      "Displaying Training accuracies of Logistic model in 5 fold cv\n",
      "------------------------------------------------------------------------------\n",
      "Scores: [0.96523497 0.96533603 0.96392117 0.96503284 0.96483428]\n",
      "Mean: 0.9648718578215973\n",
      "Standard Deviation: 0.0005056549712097971\n",
      "\n",
      "\n",
      "Displaying Testing accuracies of Logistic model in 5 fold cv\n",
      "------------------------------------------------------------------------------\n",
      "Scores: [0.94624091 0.95351657 0.94785772 0.95270816 0.95471088]\n",
      "Mean: 0.9510068480903376\n",
      "Standard Deviation: 0.0033329939686087533\n",
      "\n",
      "\n",
      "Displaying False Positive Rate of Logistic model in 5 fold cv\n",
      "------------------------------------------------------------------------------\n",
      "Scores: [0.06362153 0.06513106 0.05956376 0.05951449 0.0516129 ]\n",
      "Mean: 0.05988874770604228\n",
      "Standard Deviation: 0.004693629313540597\n"
     ]
    }
   ],
   "source": [
    "kfold_cv(X_train_fs,y_train, k=5 ,model = 'Logistic')"
   ]
  },
  {
   "cell_type": "markdown",
   "metadata": {},
   "source": [
    "## SVM"
   ]
  },
  {
   "cell_type": "code",
   "execution_count": 111,
   "metadata": {
    "ExecuteTime": {
     "end_time": "2021-01-13T20:59:02.606153Z",
     "start_time": "2021-01-13T20:58:37.540546Z"
    }
   },
   "outputs": [
    {
     "name": "stdout",
     "output_type": "stream",
     "text": [
      "Displaying Training accuracies of svm model in 5 fold cv\n",
      "------------------------------------------------------------------------------\n",
      "Scores: [0.96402223 0.96311268 0.96270844 0.96159677 0.96331851]\n",
      "Mean: 0.9629517267607373\n",
      "Standard Deviation: 0.0008001913538456284\n",
      "\n",
      "\n",
      "Displaying Testing accuracies of svm model in 5 fold cv\n",
      "------------------------------------------------------------------------------\n",
      "Scores: [0.95109135 0.95109135 0.95311237 0.95311237 0.95390214]\n",
      "Mean: 0.9524619160988801\n",
      "Standard Deviation: 0.001155623951702042\n",
      "\n",
      "\n",
      "Displaying False Positive Rate of svm model in 5 fold cv\n",
      "------------------------------------------------------------------------------\n",
      "Scores: [0.06280587 0.0675139  0.05704698 0.05951449 0.05645161]\n",
      "Mean: 0.060666570505118846\n",
      "Standard Deviation: 0.004090406690075628\n"
     ]
    }
   ],
   "source": [
    "kfold_cv(X_train_fs,y_train, k=5 ,model = 'svm')"
   ]
  },
  {
   "cell_type": "markdown",
   "metadata": {},
   "source": [
    "## Decision Tree"
   ]
  },
  {
   "cell_type": "code",
   "execution_count": 112,
   "metadata": {
    "ExecuteTime": {
     "end_time": "2021-01-13T20:59:05.324069Z",
     "start_time": "2021-01-13T20:59:03.837277Z"
    }
   },
   "outputs": [
    {
     "name": "stdout",
     "output_type": "stream",
     "text": [
      "Displaying Training accuracies of decisiontree model in 5 fold cv\n",
      "------------------------------------------------------------------------------\n",
      "Scores: [0.99909045 0.99888833 0.99868621 0.99878727 0.99868634]\n",
      "Mean: 0.9988277173049436\n",
      "Standard Deviation: 0.000151229637505189\n",
      "\n",
      "\n",
      "Displaying Testing accuracies of decisiontree model in 5 fold cv\n",
      "------------------------------------------------------------------------------\n",
      "Scores: [0.9458367  0.95028294 0.94987874 0.95270816 0.95107157]\n",
      "Mean: 0.9499556242177032\n",
      "Standard Deviation: 0.0022759786183306\n",
      "\n",
      "\n",
      "Displaying False Positive Rate of decisiontree model in 5 fold cv\n",
      "------------------------------------------------------------------------------\n",
      "Scores: [0.05138662 0.05242256 0.04194631 0.05246672 0.04596774]\n",
      "Mean: 0.048837990056564376\n",
      "Standard Deviation: 0.00420109328061545\n"
     ]
    }
   ],
   "source": [
    "kfold_cv(X_train_fs,y_train, k=5 ,model = 'decisiontree')"
   ]
  },
  {
   "cell_type": "markdown",
   "metadata": {},
   "source": [
    "## Random Forest"
   ]
  },
  {
   "cell_type": "code",
   "execution_count": 113,
   "metadata": {
    "ExecuteTime": {
     "end_time": "2021-01-13T20:59:16.081595Z",
     "start_time": "2021-01-13T20:59:06.473417Z"
    }
   },
   "outputs": [
    {
     "name": "stdout",
     "output_type": "stream",
     "text": [
      "Displaying Training accuracies of forest model in 5 fold cv\n",
      "------------------------------------------------------------------------------\n",
      "Scores: [0.99909045 0.99888833 0.99868621 0.99878727 0.99868634]\n",
      "Mean: 0.9988277173049436\n",
      "Standard Deviation: 0.000151229637505189\n",
      "\n",
      "\n",
      "Displaying Testing accuracies of forest model in 5 fold cv\n",
      "------------------------------------------------------------------------------\n",
      "Scores: [0.96806791 0.96887631 0.97008892 0.9676637  0.96886373]\n",
      "Mean: 0.9687121150952519\n",
      "Standard Deviation: 0.0008318325266113649\n",
      "\n",
      "\n",
      "Displaying False Positive Rate of forest model in 5 fold cv\n",
      "------------------------------------------------------------------------------\n",
      "Scores: [0.05057096 0.05639396 0.05369128 0.05559906 0.05080645]\n",
      "Mean: 0.053412342604187056\n",
      "Standard Deviation: 0.0023922253013671634\n"
     ]
    }
   ],
   "source": [
    "kfold_cv(X_train_fs,y_train, k=5 ,model = 'forest')"
   ]
  },
  {
   "cell_type": "markdown",
   "metadata": {},
   "source": [
    "# First run Final Models  - Grid Searched hyperparameter tuned "
   ]
  },
  {
   "cell_type": "code",
   "execution_count": 114,
   "metadata": {
    "ExecuteTime": {
     "end_time": "2021-01-13T20:59:17.249885Z",
     "start_time": "2021-01-13T20:59:17.245839Z"
    }
   },
   "outputs": [],
   "source": [
    "def plot_auc(clf,X_test,y_test):\n",
    "    fig, ax = subplots()\n",
    "    y_pred_proba = clf.predict_proba(X_test)[::,1]\n",
    "    fpr, tpr, _ = roc_curve(y_test,  y_pred_proba)\n",
    "    auc = roc_auc_score(y_test, y_pred_proba)\n",
    "    ax.plot(fpr,tpr,label=\"auc=\"+str(auc))\n",
    "    ax.set_xlabel('False Positive Rate')\n",
    "    ax.set_ylabel('True Positive Rate')\n",
    "    ax.set_title('ROC curve (Test), AUC = %.4f'%auc)\n",
    "    ax.legend(loc='best')\n",
    "    plt.show()"
   ]
  },
  {
   "cell_type": "markdown",
   "metadata": {},
   "source": [
    "## Logistic Regression"
   ]
  },
  {
   "cell_type": "code",
   "execution_count": 115,
   "metadata": {
    "ExecuteTime": {
     "end_time": "2021-01-13T20:59:26.744128Z",
     "start_time": "2021-01-13T20:59:18.427617Z"
    }
   },
   "outputs": [
    {
     "data": {
      "text/plain": [
       "GridSearchCV(cv=5, estimator=LogisticRegression(),\n",
       "             param_grid={'C': array([1.e-03, 1.e-02, 1.e-01, 1.e+00, 1.e+01, 1.e+02, 1.e+03]),\n",
       "                         'penalty': ['l1', 'l2']})"
      ]
     },
     "execution_count": 115,
     "metadata": {},
     "output_type": "execute_result"
    }
   ],
   "source": [
    "param_grid = {\"C\":np.logspace(-3,3,7), \n",
    "              \"penalty\":[\"l1\",\"l2\"]} # l1 lasso l2 ridge\n",
    "\n",
    "logreg = LogisticRegression()\n",
    "\n",
    "logreg_cv = GridSearchCV(logreg,param_grid,cv=5)\n",
    "# fit data\n",
    "logreg_cv.fit(X_train_fs,y_train)"
   ]
  },
  {
   "cell_type": "code",
   "execution_count": 116,
   "metadata": {
    "ExecuteTime": {
     "end_time": "2021-01-13T20:59:28.229857Z",
     "start_time": "2021-01-13T20:59:28.018492Z"
    }
   },
   "outputs": [
    {
     "name": "stdout",
     "output_type": "stream",
     "text": [
      "Training accuracy : 0.9611124585657692\n",
      "Testing accuracy : 0.9556148435605142\n"
     ]
    }
   ],
   "source": [
    "params = logreg_cv.best_params_\n",
    "final_model_logreg = LogisticRegression(C=params['C'],penalty= params['penalty'])\n",
    "final_model_logreg.fit(X_train_fs,y_train)\n",
    "print(\"Training accuracy :\", final_model_logreg.score(X_train_fs,y_train))\n",
    "print(\"Testing accuracy :\", final_model_logreg.score(X_test_fs,y_test))"
   ]
  },
  {
   "cell_type": "code",
   "execution_count": 117,
   "metadata": {
    "ExecuteTime": {
     "end_time": "2021-01-13T20:59:29.478708Z",
     "start_time": "2021-01-13T20:59:29.456359Z"
    }
   },
   "outputs": [
    {
     "name": "stdout",
     "output_type": "stream",
     "text": [
      "Test Dataset\n",
      "              precision    recall  f1-score   support\n",
      "\n",
      "           0       0.98      0.93      0.95      2046\n",
      "           1       0.93      0.98      0.96      2077\n",
      "\n",
      "    accuracy                           0.96      4123\n",
      "   macro avg       0.96      0.96      0.96      4123\n",
      "weighted avg       0.96      0.96      0.96      4123\n",
      "\n"
     ]
    }
   ],
   "source": [
    "predictions = final_model_logreg.predict(X_test_fs)\n",
    "print(\"Test Dataset\")\n",
    "print(classification_report(y_test, predictions))"
   ]
  },
  {
   "cell_type": "code",
   "execution_count": 118,
   "metadata": {
    "ExecuteTime": {
     "end_time": "2021-01-13T20:59:30.864925Z",
     "start_time": "2021-01-13T20:59:30.720737Z"
    }
   },
   "outputs": [
    {
     "data": {
      "image/png": "[encoded data removed]",
      "text/plain": [
       "<Figure size 432x288 with 1 Axes>"
      ]
     },
     "metadata": {
      "needs_background": "light"
     },
     "output_type": "display_data"
    }
   ],
   "source": [
    "plot_auc(final_model_logreg,X_test_fs,y_test)"
   ]
  },
  {
   "cell_type": "code",
   "execution_count": 119,
   "metadata": {
    "ExecuteTime": {
     "end_time": "2021-01-13T20:59:32.112393Z",
     "start_time": "2021-01-13T20:59:32.095171Z"
    }
   },
   "outputs": [
    {
     "name": "stdout",
     "output_type": "stream",
     "text": [
      "Confusion Matrix:\n",
      "-----------------\n",
      "[[1903  143]\n",
      " [  40 2037]]\n",
      "\n",
      "\n",
      "False positive rate -  0.06989247311827956\n"
     ]
    }
   ],
   "source": [
    "CM = confusion_matrix(y_test, final_model_logreg.predict(X_test_fs))\n",
    "\n",
    "TN = CM[0][0]\n",
    "FN = CM[1][0]\n",
    "TP = CM[1][1]\n",
    "FP = CM[0][1]\n",
    "# False positive rate\n",
    "FPR = FP/(FP+TN)\n",
    "\n",
    "print('Confusion Matrix:')\n",
    "print('-----------------')\n",
    "print(CM)\n",
    "print('\\n')\n",
    "print('False positive rate - ',FPR)"
   ]
  },
  {
   "cell_type": "code",
   "execution_count": 120,
   "metadata": {
    "ExecuteTime": {
     "end_time": "2021-01-13T20:59:33.477250Z",
     "start_time": "2021-01-13T20:59:33.329709Z"
    }
   },
   "outputs": [
    {
     "data": {
      "text/plain": [
       "<Figure size 432x432 with 0 Axes>"
      ]
     },
     "metadata": {},
     "output_type": "display_data"
    },
    {
     "data": {
      "image/png": "[encoded data removed]",
      "text/plain": [
       "<Figure size 360x360 with 2 Axes>"
      ]
     },
     "metadata": {
      "needs_background": "light"
     },
     "output_type": "display_data"
    }
   ],
   "source": [
    "# Plot confusion matrix\n",
    "class_names = [0,1]\n",
    "plt.figure(figsize=(6,6))\n",
    "disp = plot_confusion_matrix(final_model_logreg, X_test_fs,y_test,\n",
    "                             display_labels=class_names,\n",
    "                             cmap=plt.cm.Blues)\n",
    "#                              normalize=\"true\")\n",
    "disp.ax_.set_title(\"confusion matrix\")\n",
    "\n",
    "plt.grid(b=None)\n",
    "fig = plt.gcf()\n",
    "fig.set_size_inches(5,5)\n",
    "plt.show()"
   ]
  },
  {
   "cell_type": "code",
   "execution_count": 121,
   "metadata": {
    "ExecuteTime": {
     "end_time": "2021-01-13T20:59:34.719373Z",
     "start_time": "2021-01-13T20:59:34.711698Z"
    }
   },
   "outputs": [],
   "source": [
    "feature_importance = abs(final_model_logreg.coef_[0])\n",
    "feature_importance = 100.0 * (feature_importance / feature_importance.sum())\n",
    "sorted_feat_imp_logreg = list(zip(X_test_fs.columns,feature_importance))\n",
    "sorted_feat_imp_logreg.sort(key=lambda x: x[1],reverse = True)\n",
    "pd.DataFrame(sorted_feat_imp_logreg, columns = ['feature','importance']).to_csv('../first_run_logistic_fi.csv')"
   ]
  },
  {
   "cell_type": "code",
   "execution_count": 122,
   "metadata": {
    "ExecuteTime": {
     "end_time": "2021-01-13T20:59:35.911627Z",
     "start_time": "2021-01-13T20:59:35.906322Z"
    }
   },
   "outputs": [],
   "source": [
    "# save the model to disk\n",
    "filename = '../first_run_grid_cv_logistic.sav'\n",
    "pickle.dump(final_model_logreg, open(filename, 'wb'))"
   ]
  },
  {
   "cell_type": "code",
   "execution_count": 123,
   "metadata": {
    "ExecuteTime": {
     "end_time": "2021-01-13T20:59:37.150865Z",
     "start_time": "2021-01-13T20:59:37.147554Z"
    }
   },
   "outputs": [
    {
     "data": {
      "text/plain": [
       "{'C': 0.01,\n",
       " 'class_weight': None,\n",
       " 'dual': False,\n",
       " 'fit_intercept': True,\n",
       " 'intercept_scaling': 1,\n",
       " 'l1_ratio': None,\n",
       " 'max_iter': 100,\n",
       " 'multi_class': 'auto',\n",
       " 'n_jobs': None,\n",
       " 'penalty': 'l2',\n",
       " 'random_state': None,\n",
       " 'solver': 'lbfgs',\n",
       " 'tol': 0.0001,\n",
       " 'verbose': 0,\n",
       " 'warm_start': False}"
      ]
     },
     "execution_count": 123,
     "metadata": {},
     "output_type": "execute_result"
    }
   ],
   "source": [
    "final_model_logreg.get_params()"
   ]
  },
  {
   "cell_type": "code",
   "execution_count": 124,
   "metadata": {
    "ExecuteTime": {
     "end_time": "2021-01-13T20:59:38.372882Z",
     "start_time": "2021-01-13T20:59:38.367691Z"
    }
   },
   "outputs": [
    {
     "data": {
      "text/plain": [
       "{'C': 0.01,\n",
       " 'class_weight': None,\n",
       " 'dual': False,\n",
       " 'fit_intercept': True,\n",
       " 'intercept_scaling': 1,\n",
       " 'l1_ratio': None,\n",
       " 'max_iter': 100,\n",
       " 'multi_class': 'auto',\n",
       " 'n_jobs': None,\n",
       " 'penalty': 'l2',\n",
       " 'random_state': None,\n",
       " 'solver': 'lbfgs',\n",
       " 'tol': 0.0001,\n",
       " 'verbose': 0,\n",
       " 'warm_start': False}"
      ]
     },
     "execution_count": 124,
     "metadata": {},
     "output_type": "execute_result"
    }
   ],
   "source": [
    "#####     QC\n",
    "# load the model from disk\n",
    "loaded_model = pickle.load(open(filename, 'rb'))\n",
    "loaded_model.get_params()"
   ]
  },
  {
   "cell_type": "markdown",
   "metadata": {},
   "source": [
    "## SVM"
   ]
  },
  {
   "cell_type": "code",
   "execution_count": 22,
   "metadata": {
    "ExecuteTime": {
     "end_time": "2021-01-12T09:17:30.270797Z",
     "start_time": "2021-01-11T20:29:54.531381Z"
    },
    "scrolled": true
   },
   "outputs": [
    {
     "name": "stdout",
     "output_type": "stream",
     "text": [
      "Fitting 5 folds for each of 50 candidates, totalling 250 fits\n",
      "[CV] C=0.001, gamma=1, kernel=rbf ....................................\n"
     ]
    },
    {
     "name": "stderr",
     "output_type": "stream",
     "text": [
      "[Parallel(n_jobs=1)]: Using backend SequentialBackend with 1 concurrent workers.\n"
     ]
    },
    {
     "name": "stdout",
     "output_type": "stream",
     "text": [
      "[CV] ........ C=0.001, gamma=1, kernel=rbf, score=0.501, total= 1.0min\n",
      "[CV] C=0.001, gamma=1, kernel=rbf ....................................\n"
     ]
    },
    {
     "name": "stderr",
     "output_type": "stream",
     "text": [
      "[Parallel(n_jobs=1)]: Done   1 out of   1 | elapsed:  1.0min remaining:    0.0s\n"
     ]
    },
    {
     "name": "stdout",
     "output_type": "stream",
     "text": [
      "[CV] ........ C=0.001, gamma=1, kernel=rbf, score=0.501, total= 1.0min\n",
      "[CV] C=0.001, gamma=1, kernel=rbf ....................................\n"
     ]
    },
    {
     "name": "stderr",
     "output_type": "stream",
     "text": [
      "[Parallel(n_jobs=1)]: Done   2 out of   2 | elapsed:  2.0min remaining:    0.0s\n"
     ]
    },
    {
     "name": "stdout",
     "output_type": "stream",
     "text": [
      "[CV] ........ C=0.001, gamma=1, kernel=rbf, score=0.501, total= 1.0min\n",
      "[CV] C=0.001, gamma=1, kernel=rbf ....................................\n",
      "[CV] ........ C=0.001, gamma=1, kernel=rbf, score=0.501, total= 1.0min\n",
      "[CV] C=0.001, gamma=1, kernel=rbf ....................................\n",
      "[CV] ........ C=0.001, gamma=1, kernel=rbf, score=0.501, total= 1.1min\n",
      "[CV] C=0.001, gamma=1, kernel=linear .................................\n",
      "[CV] ..... C=0.001, gamma=1, kernel=linear, score=0.960, total=  22.8s\n",
      "[CV] C=0.001, gamma=1, kernel=linear .................................\n",
      "[CV] ..... C=0.001, gamma=1, kernel=linear, score=0.958, total=  22.6s\n",
      "[CV] C=0.001, gamma=1, kernel=linear .................................\n",
      "[CV] ..... C=0.001, gamma=1, kernel=linear, score=0.959, total=  22.5s\n",
      "[CV] C=0.001, gamma=1, kernel=linear .................................\n",
      "[CV] ..... C=0.001, gamma=1, kernel=linear, score=0.956, total=  22.9s\n",
      "[CV] C=0.001, gamma=1, kernel=linear .................................\n",
      "[CV] ..... C=0.001, gamma=1, kernel=linear, score=0.959, total=  22.6s\n",
      "[CV] C=0.001, gamma=0.1, kernel=rbf ..................................\n",
      "[CV] ...... C=0.001, gamma=0.1, kernel=rbf, score=0.501, total= 1.1min\n",
      "[CV] C=0.001, gamma=0.1, kernel=rbf ..................................\n",
      "[CV] ...... C=0.001, gamma=0.1, kernel=rbf, score=0.501, total= 1.1min\n",
      "[CV] C=0.001, gamma=0.1, kernel=rbf ..................................\n",
      "[CV] ...... C=0.001, gamma=0.1, kernel=rbf, score=0.501, total= 1.0min\n",
      "[CV] C=0.001, gamma=0.1, kernel=rbf ..................................\n",
      "[CV] ...... C=0.001, gamma=0.1, kernel=rbf, score=0.501, total= 1.0min\n",
      "[CV] C=0.001, gamma=0.1, kernel=rbf ..................................\n",
      "[CV] ...... C=0.001, gamma=0.1, kernel=rbf, score=0.501, total= 1.0min\n",
      "[CV] C=0.001, gamma=0.1, kernel=linear ...............................\n",
      "[CV] ... C=0.001, gamma=0.1, kernel=linear, score=0.960, total=  22.7s\n",
      "[CV] C=0.001, gamma=0.1, kernel=linear ...............................\n",
      "[CV] ... C=0.001, gamma=0.1, kernel=linear, score=0.958, total=  22.5s\n",
      "[CV] C=0.001, gamma=0.1, kernel=linear ...............................\n",
      "[CV] ... C=0.001, gamma=0.1, kernel=linear, score=0.959, total=  22.4s\n",
      "[CV] C=0.001, gamma=0.1, kernel=linear ...............................\n",
      "[CV] ... C=0.001, gamma=0.1, kernel=linear, score=0.956, total=  22.9s\n",
      "[CV] C=0.001, gamma=0.1, kernel=linear ...............................\n",
      "[CV] ... C=0.001, gamma=0.1, kernel=linear, score=0.959, total=  22.7s\n",
      "[CV] C=0.001, gamma=0.01, kernel=rbf .................................\n",
      "[CV] ..... C=0.001, gamma=0.01, kernel=rbf, score=0.501, total= 1.0min\n",
      "[CV] C=0.001, gamma=0.01, kernel=rbf .................................\n",
      "[CV] ..... C=0.001, gamma=0.01, kernel=rbf, score=0.501, total= 1.0min\n",
      "[CV] C=0.001, gamma=0.01, kernel=rbf .................................\n",
      "[CV] ..... C=0.001, gamma=0.01, kernel=rbf, score=0.501, total= 1.1min\n",
      "[CV] C=0.001, gamma=0.01, kernel=rbf .................................\n",
      "[CV] ..... C=0.001, gamma=0.01, kernel=rbf, score=0.501, total= 1.1min\n",
      "[CV] C=0.001, gamma=0.01, kernel=rbf .................................\n",
      "[CV] ..... C=0.001, gamma=0.01, kernel=rbf, score=0.501, total= 1.0min\n",
      "[CV] C=0.001, gamma=0.01, kernel=linear ..............................\n",
      "[CV] .. C=0.001, gamma=0.01, kernel=linear, score=0.960, total=  22.6s\n",
      "[CV] C=0.001, gamma=0.01, kernel=linear ..............................\n",
      "[CV] .. C=0.001, gamma=0.01, kernel=linear, score=0.958, total=  22.1s\n",
      "[CV] C=0.001, gamma=0.01, kernel=linear ..............................\n",
      "[CV] .. C=0.001, gamma=0.01, kernel=linear, score=0.959, total=  22.5s\n",
      "[CV] C=0.001, gamma=0.01, kernel=linear ..............................\n",
      "[CV] .. C=0.001, gamma=0.01, kernel=linear, score=0.956, total=  22.9s\n",
      "[CV] C=0.001, gamma=0.01, kernel=linear ..............................\n",
      "[CV] .. C=0.001, gamma=0.01, kernel=linear, score=0.959, total=  22.8s\n",
      "[CV] C=0.001, gamma=0.001, kernel=rbf ................................\n",
      "[CV] .... C=0.001, gamma=0.001, kernel=rbf, score=0.501, total= 1.1min\n",
      "[CV] C=0.001, gamma=0.001, kernel=rbf ................................\n",
      "[CV] .... C=0.001, gamma=0.001, kernel=rbf, score=0.501, total= 1.1min\n",
      "[CV] C=0.001, gamma=0.001, kernel=rbf ................................\n",
      "[CV] .... C=0.001, gamma=0.001, kernel=rbf, score=0.501, total= 1.1min\n",
      "[CV] C=0.001, gamma=0.001, kernel=rbf ................................\n",
      "[CV] .... C=0.001, gamma=0.001, kernel=rbf, score=0.501, total= 1.1min\n",
      "[CV] C=0.001, gamma=0.001, kernel=rbf ................................\n",
      "[CV] .... C=0.001, gamma=0.001, kernel=rbf, score=0.501, total= 1.1min\n",
      "[CV] C=0.001, gamma=0.001, kernel=linear .............................\n",
      "[CV] . C=0.001, gamma=0.001, kernel=linear, score=0.960, total=  22.9s\n",
      "[CV] C=0.001, gamma=0.001, kernel=linear .............................\n",
      "[CV] . C=0.001, gamma=0.001, kernel=linear, score=0.958, total=  22.5s\n",
      "[CV] C=0.001, gamma=0.001, kernel=linear .............................\n",
      "[CV] . C=0.001, gamma=0.001, kernel=linear, score=0.959, total=  22.7s\n",
      "[CV] C=0.001, gamma=0.001, kernel=linear .............................\n",
      "[CV] . C=0.001, gamma=0.001, kernel=linear, score=0.956, total=  23.1s\n",
      "[CV] C=0.001, gamma=0.001, kernel=linear .............................\n",
      "[CV] . C=0.001, gamma=0.001, kernel=linear, score=0.959, total=  22.9s\n",
      "[CV] C=0.001, gamma=0.0001, kernel=rbf ...............................\n",
      "[CV] ... C=0.001, gamma=0.0001, kernel=rbf, score=0.501, total= 1.1min\n",
      "[CV] C=0.001, gamma=0.0001, kernel=rbf ...............................\n",
      "[CV] ... C=0.001, gamma=0.0001, kernel=rbf, score=0.501, total= 1.1min\n",
      "[CV] C=0.001, gamma=0.0001, kernel=rbf ...............................\n",
      "[CV] ... C=0.001, gamma=0.0001, kernel=rbf, score=0.501, total= 1.1min\n",
      "[CV] C=0.001, gamma=0.0001, kernel=rbf ...............................\n",
      "[CV] ... C=0.001, gamma=0.0001, kernel=rbf, score=0.501, total= 1.1min\n",
      "[CV] C=0.001, gamma=0.0001, kernel=rbf ...............................\n",
      "[CV] ... C=0.001, gamma=0.0001, kernel=rbf, score=0.501, total= 1.1min\n",
      "[CV] C=0.001, gamma=0.0001, kernel=linear ............................\n",
      "[CV]  C=0.001, gamma=0.0001, kernel=linear, score=0.960, total=  23.0s\n",
      "[CV] C=0.001, gamma=0.0001, kernel=linear ............................\n",
      "[CV]  C=0.001, gamma=0.0001, kernel=linear, score=0.958, total=  22.8s\n",
      "[CV] C=0.001, gamma=0.0001, kernel=linear ............................\n",
      "[CV]  C=0.001, gamma=0.0001, kernel=linear, score=0.959, total=  22.6s\n",
      "[CV] C=0.001, gamma=0.0001, kernel=linear ............................\n",
      "[CV]  C=0.001, gamma=0.0001, kernel=linear, score=0.956, total=  23.2s\n",
      "[CV] C=0.001, gamma=0.0001, kernel=linear ............................\n",
      "[CV]  C=0.001, gamma=0.0001, kernel=linear, score=0.959, total=  22.8s\n",
      "[CV] C=0.01, gamma=1, kernel=rbf .....................................\n",
      "[CV] ......... C=0.01, gamma=1, kernel=rbf, score=0.501, total= 1.1min\n",
      "[CV] C=0.01, gamma=1, kernel=rbf .....................................\n",
      "[CV] ......... C=0.01, gamma=1, kernel=rbf, score=0.501, total= 1.1min\n",
      "[CV] C=0.01, gamma=1, kernel=rbf .....................................\n",
      "[CV] ......... C=0.01, gamma=1, kernel=rbf, score=0.501, total= 1.1min\n",
      "[CV] C=0.01, gamma=1, kernel=rbf .....................................\n",
      "[CV] ......... C=0.01, gamma=1, kernel=rbf, score=0.501, total= 1.1min\n",
      "[CV] C=0.01, gamma=1, kernel=rbf .....................................\n",
      "[CV] ......... C=0.01, gamma=1, kernel=rbf, score=0.501, total= 1.1min\n",
      "[CV] C=0.01, gamma=1, kernel=linear ..................................\n",
      "[CV] ...... C=0.01, gamma=1, kernel=linear, score=0.963, total=  11.9s\n",
      "[CV] C=0.01, gamma=1, kernel=linear ..................................\n",
      "[CV] ...... C=0.01, gamma=1, kernel=linear, score=0.959, total=  11.0s\n",
      "[CV] C=0.01, gamma=1, kernel=linear ..................................\n",
      "[CV] ...... C=0.01, gamma=1, kernel=linear, score=0.962, total=  12.1s\n",
      "[CV] C=0.01, gamma=1, kernel=linear ..................................\n",
      "[CV] ...... C=0.01, gamma=1, kernel=linear, score=0.962, total=  11.8s\n",
      "[CV] C=0.01, gamma=1, kernel=linear ..................................\n",
      "[CV] ...... C=0.01, gamma=1, kernel=linear, score=0.962, total=  11.2s\n",
      "[CV] C=0.01, gamma=0.1, kernel=rbf ...................................\n"
     ]
    },
    {
     "name": "stdout",
     "output_type": "stream",
     "text": [
      "[CV] ....... C=0.01, gamma=0.1, kernel=rbf, score=0.610, total=  58.6s\n",
      "[CV] C=0.01, gamma=0.1, kernel=rbf ...................................\n",
      "[CV] ....... C=0.01, gamma=0.1, kernel=rbf, score=0.592, total= 1.0min\n",
      "[CV] C=0.01, gamma=0.1, kernel=rbf ...................................\n",
      "[CV] ....... C=0.01, gamma=0.1, kernel=rbf, score=0.591, total= 1.0min\n",
      "[CV] C=0.01, gamma=0.1, kernel=rbf ...................................\n",
      "[CV] ....... C=0.01, gamma=0.1, kernel=rbf, score=0.606, total= 1.0min\n",
      "[CV] C=0.01, gamma=0.1, kernel=rbf ...................................\n",
      "[CV] ....... C=0.01, gamma=0.1, kernel=rbf, score=0.592, total= 1.0min\n",
      "[CV] C=0.01, gamma=0.1, kernel=linear ................................\n",
      "[CV] .... C=0.01, gamma=0.1, kernel=linear, score=0.963, total=  12.0s\n",
      "[CV] C=0.01, gamma=0.1, kernel=linear ................................\n",
      "[CV] .... C=0.01, gamma=0.1, kernel=linear, score=0.959, total=  10.6s\n",
      "[CV] C=0.01, gamma=0.1, kernel=linear ................................\n",
      "[CV] .... C=0.01, gamma=0.1, kernel=linear, score=0.962, total=  11.1s\n",
      "[CV] C=0.01, gamma=0.1, kernel=linear ................................\n",
      "[CV] .... C=0.01, gamma=0.1, kernel=linear, score=0.962, total=  10.7s\n",
      "[CV] C=0.01, gamma=0.1, kernel=linear ................................\n",
      "[CV] .... C=0.01, gamma=0.1, kernel=linear, score=0.962, total=  11.0s\n",
      "[CV] C=0.01, gamma=0.01, kernel=rbf ..................................\n",
      "[CV] ...... C=0.01, gamma=0.01, kernel=rbf, score=0.705, total=  49.3s\n",
      "[CV] C=0.01, gamma=0.01, kernel=rbf ..................................\n",
      "[CV] ...... C=0.01, gamma=0.01, kernel=rbf, score=0.700, total=  49.0s\n",
      "[CV] C=0.01, gamma=0.01, kernel=rbf ..................................\n",
      "[CV] ...... C=0.01, gamma=0.01, kernel=rbf, score=0.691, total=  48.1s\n",
      "[CV] C=0.01, gamma=0.01, kernel=rbf ..................................\n",
      "[CV] ...... C=0.01, gamma=0.01, kernel=rbf, score=0.717, total=  48.8s\n",
      "[CV] C=0.01, gamma=0.01, kernel=rbf ..................................\n",
      "[CV] ...... C=0.01, gamma=0.01, kernel=rbf, score=0.698, total=  56.7s\n",
      "[CV] C=0.01, gamma=0.01, kernel=linear ...............................\n",
      "[CV] ... C=0.01, gamma=0.01, kernel=linear, score=0.963, total=  12.0s\n",
      "[CV] C=0.01, gamma=0.01, kernel=linear ...............................\n",
      "[CV] ... C=0.01, gamma=0.01, kernel=linear, score=0.959, total=  10.6s\n",
      "[CV] C=0.01, gamma=0.01, kernel=linear ...............................\n",
      "[CV] ... C=0.01, gamma=0.01, kernel=linear, score=0.962, total=  10.7s\n",
      "[CV] C=0.01, gamma=0.01, kernel=linear ...............................\n",
      "[CV] ... C=0.01, gamma=0.01, kernel=linear, score=0.962, total=  10.7s\n",
      "[CV] C=0.01, gamma=0.01, kernel=linear ...............................\n",
      "[CV] ... C=0.01, gamma=0.01, kernel=linear, score=0.962, total=  10.6s\n",
      "[CV] C=0.01, gamma=0.001, kernel=rbf .................................\n",
      "[CV] ..... C=0.01, gamma=0.001, kernel=rbf, score=0.693, total=  57.0s\n",
      "[CV] C=0.01, gamma=0.001, kernel=rbf .................................\n",
      "[CV] ..... C=0.01, gamma=0.001, kernel=rbf, score=0.682, total= 1.0min\n",
      "[CV] C=0.01, gamma=0.001, kernel=rbf .................................\n",
      "[CV] ..... C=0.01, gamma=0.001, kernel=rbf, score=0.669, total= 1.0min\n",
      "[CV] C=0.01, gamma=0.001, kernel=rbf .................................\n",
      "[CV] ..... C=0.01, gamma=0.001, kernel=rbf, score=0.705, total= 1.0min\n",
      "[CV] C=0.01, gamma=0.001, kernel=rbf .................................\n",
      "[CV] ..... C=0.01, gamma=0.001, kernel=rbf, score=0.691, total= 1.0min\n",
      "[CV] C=0.01, gamma=0.001, kernel=linear ..............................\n",
      "[CV] .. C=0.01, gamma=0.001, kernel=linear, score=0.963, total=  12.0s\n",
      "[CV] C=0.01, gamma=0.001, kernel=linear ..............................\n",
      "[CV] .. C=0.01, gamma=0.001, kernel=linear, score=0.959, total=  10.6s\n",
      "[CV] C=0.01, gamma=0.001, kernel=linear ..............................\n",
      "[CV] .. C=0.01, gamma=0.001, kernel=linear, score=0.962, total=  10.6s\n",
      "[CV] C=0.01, gamma=0.001, kernel=linear ..............................\n",
      "[CV] .. C=0.01, gamma=0.001, kernel=linear, score=0.962, total=  10.7s\n",
      "[CV] C=0.01, gamma=0.001, kernel=linear ..............................\n",
      "[CV] .. C=0.01, gamma=0.001, kernel=linear, score=0.962, total=  10.5s\n",
      "[CV] C=0.01, gamma=0.0001, kernel=rbf ................................\n",
      "[CV] .... C=0.01, gamma=0.0001, kernel=rbf, score=0.501, total=  59.1s\n",
      "[CV] C=0.01, gamma=0.0001, kernel=rbf ................................\n",
      "[CV] .... C=0.01, gamma=0.0001, kernel=rbf, score=0.501, total= 1.1min\n",
      "[CV] C=0.01, gamma=0.0001, kernel=rbf ................................\n",
      "[CV] .... C=0.01, gamma=0.0001, kernel=rbf, score=0.501, total= 1.1min\n",
      "[CV] C=0.01, gamma=0.0001, kernel=rbf ................................\n",
      "[CV] .... C=0.01, gamma=0.0001, kernel=rbf, score=0.501, total= 1.1min\n",
      "[CV] C=0.01, gamma=0.0001, kernel=rbf ................................\n",
      "[CV] .... C=0.01, gamma=0.0001, kernel=rbf, score=0.501, total= 1.1min\n",
      "[CV] C=0.01, gamma=0.0001, kernel=linear .............................\n",
      "[CV] . C=0.01, gamma=0.0001, kernel=linear, score=0.963, total=  12.0s\n",
      "[CV] C=0.01, gamma=0.0001, kernel=linear .............................\n",
      "[CV] . C=0.01, gamma=0.0001, kernel=linear, score=0.959, total=  10.6s\n",
      "[CV] C=0.01, gamma=0.0001, kernel=linear .............................\n",
      "[CV] . C=0.01, gamma=0.0001, kernel=linear, score=0.962, total=  10.6s\n",
      "[CV] C=0.01, gamma=0.0001, kernel=linear .............................\n",
      "[CV] . C=0.01, gamma=0.0001, kernel=linear, score=0.962, total=  10.7s\n",
      "[CV] C=0.01, gamma=0.0001, kernel=linear .............................\n",
      "[CV] . C=0.01, gamma=0.0001, kernel=linear, score=0.962, total=  10.5s\n",
      "[CV] C=0.1, gamma=1, kernel=rbf ......................................\n",
      "[CV] .......... C=0.1, gamma=1, kernel=rbf, score=0.512, total= 1.0min\n",
      "[CV] C=0.1, gamma=1, kernel=rbf ......................................\n",
      "[CV] .......... C=0.1, gamma=1, kernel=rbf, score=0.511, total= 1.1min\n",
      "[CV] C=0.1, gamma=1, kernel=rbf ......................................\n",
      "[CV] .......... C=0.1, gamma=1, kernel=rbf, score=0.513, total= 1.1min\n",
      "[CV] C=0.1, gamma=1, kernel=rbf ......................................\n",
      "[CV] .......... C=0.1, gamma=1, kernel=rbf, score=0.513, total= 1.1min\n",
      "[CV] C=0.1, gamma=1, kernel=rbf ......................................\n",
      "[CV] .......... C=0.1, gamma=1, kernel=rbf, score=0.514, total= 1.1min\n",
      "[CV] C=0.1, gamma=1, kernel=linear ...................................\n",
      "[CV] ....... C=0.1, gamma=1, kernel=linear, score=0.961, total=  12.5s\n",
      "[CV] C=0.1, gamma=1, kernel=linear ...................................\n",
      "[CV] ....... C=0.1, gamma=1, kernel=linear, score=0.965, total=  11.7s\n",
      "[CV] C=0.1, gamma=1, kernel=linear ...................................\n",
      "[CV] ....... C=0.1, gamma=1, kernel=linear, score=0.961, total=  11.5s\n",
      "[CV] C=0.1, gamma=1, kernel=linear ...................................\n",
      "[CV] ....... C=0.1, gamma=1, kernel=linear, score=0.962, total=  11.9s\n",
      "[CV] C=0.1, gamma=1, kernel=linear ...................................\n",
      "[CV] ....... C=0.1, gamma=1, kernel=linear, score=0.967, total=  11.0s\n",
      "[CV] C=0.1, gamma=0.1, kernel=rbf ....................................\n",
      "[CV] ........ C=0.1, gamma=0.1, kernel=rbf, score=0.662, total= 1.1min\n",
      "[CV] C=0.1, gamma=0.1, kernel=rbf ....................................\n",
      "[CV] ........ C=0.1, gamma=0.1, kernel=rbf, score=0.655, total= 1.1min\n",
      "[CV] C=0.1, gamma=0.1, kernel=rbf ....................................\n",
      "[CV] ........ C=0.1, gamma=0.1, kernel=rbf, score=0.643, total= 1.1min\n",
      "[CV] C=0.1, gamma=0.1, kernel=rbf ....................................\n",
      "[CV] ........ C=0.1, gamma=0.1, kernel=rbf, score=0.651, total= 1.1min\n",
      "[CV] C=0.1, gamma=0.1, kernel=rbf ....................................\n",
      "[CV] ........ C=0.1, gamma=0.1, kernel=rbf, score=0.645, total= 1.1min\n",
      "[CV] C=0.1, gamma=0.1, kernel=linear .................................\n",
      "[CV] ..... C=0.1, gamma=0.1, kernel=linear, score=0.961, total=  12.5s\n",
      "[CV] C=0.1, gamma=0.1, kernel=linear .................................\n",
      "[CV] ..... C=0.1, gamma=0.1, kernel=linear, score=0.965, total=  11.6s\n",
      "[CV] C=0.1, gamma=0.1, kernel=linear .................................\n",
      "[CV] ..... C=0.1, gamma=0.1, kernel=linear, score=0.961, total=  11.5s\n",
      "[CV] C=0.1, gamma=0.1, kernel=linear .................................\n"
     ]
    },
    {
     "name": "stdout",
     "output_type": "stream",
     "text": [
      "[CV] ..... C=0.1, gamma=0.1, kernel=linear, score=0.962, total=  12.9s\n",
      "[CV] C=0.1, gamma=0.1, kernel=linear .................................\n",
      "[CV] ..... C=0.1, gamma=0.1, kernel=linear, score=0.967, total=  11.1s\n",
      "[CV] C=0.1, gamma=0.01, kernel=rbf ...................................\n",
      "[CV] ....... C=0.1, gamma=0.01, kernel=rbf, score=0.799, total=  38.1s\n",
      "[CV] C=0.1, gamma=0.01, kernel=rbf ...................................\n",
      "[CV] ....... C=0.1, gamma=0.01, kernel=rbf, score=0.793, total=  41.1s\n",
      "[CV] C=0.1, gamma=0.01, kernel=rbf ...................................\n",
      "[CV] ....... C=0.1, gamma=0.01, kernel=rbf, score=0.780, total=  46.4s\n",
      "[CV] C=0.1, gamma=0.01, kernel=rbf ...................................\n",
      "[CV] ....... C=0.1, gamma=0.01, kernel=rbf, score=0.817, total=  47.2s\n",
      "[CV] C=0.1, gamma=0.01, kernel=rbf ...................................\n",
      "[CV] ....... C=0.1, gamma=0.01, kernel=rbf, score=0.797, total=  46.8s\n",
      "[CV] C=0.1, gamma=0.01, kernel=linear ................................\n",
      "[CV] .... C=0.1, gamma=0.01, kernel=linear, score=0.961, total=  12.5s\n",
      "[CV] C=0.1, gamma=0.01, kernel=linear ................................\n",
      "[CV] .... C=0.1, gamma=0.01, kernel=linear, score=0.965, total=  11.6s\n",
      "[CV] C=0.1, gamma=0.01, kernel=linear ................................\n",
      "[CV] .... C=0.1, gamma=0.01, kernel=linear, score=0.961, total=  11.5s\n",
      "[CV] C=0.1, gamma=0.01, kernel=linear ................................\n",
      "[CV] .... C=0.1, gamma=0.01, kernel=linear, score=0.962, total=  12.0s\n",
      "[CV] C=0.1, gamma=0.01, kernel=linear ................................\n",
      "[CV] .... C=0.1, gamma=0.01, kernel=linear, score=0.967, total=  11.1s\n",
      "[CV] C=0.1, gamma=0.001, kernel=rbf ..................................\n",
      "[CV] ...... C=0.1, gamma=0.001, kernel=rbf, score=0.888, total=  45.4s\n",
      "[CV] C=0.1, gamma=0.001, kernel=rbf ..................................\n",
      "[CV] ...... C=0.1, gamma=0.001, kernel=rbf, score=0.884, total=  46.9s\n",
      "[CV] C=0.1, gamma=0.001, kernel=rbf ..................................\n",
      "[CV] ...... C=0.1, gamma=0.001, kernel=rbf, score=0.865, total=  46.9s\n",
      "[CV] C=0.1, gamma=0.001, kernel=rbf ..................................\n",
      "[CV] ...... C=0.1, gamma=0.001, kernel=rbf, score=0.889, total=  46.7s\n",
      "[CV] C=0.1, gamma=0.001, kernel=rbf ..................................\n",
      "[CV] ...... C=0.1, gamma=0.001, kernel=rbf, score=0.879, total=  47.2s\n",
      "[CV] C=0.1, gamma=0.001, kernel=linear ...............................\n",
      "[CV] ... C=0.1, gamma=0.001, kernel=linear, score=0.961, total=  12.6s\n",
      "[CV] C=0.1, gamma=0.001, kernel=linear ...............................\n",
      "[CV] ... C=0.1, gamma=0.001, kernel=linear, score=0.965, total=  13.0s\n",
      "[CV] C=0.1, gamma=0.001, kernel=linear ...............................\n",
      "[CV] ... C=0.1, gamma=0.001, kernel=linear, score=0.961, total=  11.7s\n",
      "[CV] C=0.1, gamma=0.001, kernel=linear ...............................\n",
      "[CV] ... C=0.1, gamma=0.001, kernel=linear, score=0.962, total=  12.2s\n",
      "[CV] C=0.1, gamma=0.001, kernel=linear ...............................\n",
      "[CV] ... C=0.1, gamma=0.001, kernel=linear, score=0.967, total=  11.2s\n",
      "[CV] C=0.1, gamma=0.0001, kernel=rbf .................................\n",
      "[CV] ..... C=0.1, gamma=0.0001, kernel=rbf, score=0.736, total= 1.0min\n",
      "[CV] C=0.1, gamma=0.0001, kernel=rbf .................................\n",
      "[CV] ..... C=0.1, gamma=0.0001, kernel=rbf, score=0.746, total= 1.0min\n",
      "[CV] C=0.1, gamma=0.0001, kernel=rbf .................................\n",
      "[CV] ..... C=0.1, gamma=0.0001, kernel=rbf, score=0.722, total= 1.0min\n",
      "[CV] C=0.1, gamma=0.0001, kernel=rbf .................................\n",
      "[CV] ..... C=0.1, gamma=0.0001, kernel=rbf, score=0.753, total= 1.0min\n",
      "[CV] C=0.1, gamma=0.0001, kernel=rbf .................................\n",
      "[CV] ..... C=0.1, gamma=0.0001, kernel=rbf, score=0.742, total= 1.0min\n",
      "[CV] C=0.1, gamma=0.0001, kernel=linear ..............................\n",
      "[CV] .. C=0.1, gamma=0.0001, kernel=linear, score=0.961, total=  12.6s\n",
      "[CV] C=0.1, gamma=0.0001, kernel=linear ..............................\n",
      "[CV] .. C=0.1, gamma=0.0001, kernel=linear, score=0.965, total=  13.1s\n",
      "[CV] C=0.1, gamma=0.0001, kernel=linear ..............................\n",
      "[CV] .. C=0.1, gamma=0.0001, kernel=linear, score=0.961, total=  11.7s\n",
      "[CV] C=0.1, gamma=0.0001, kernel=linear ..............................\n",
      "[CV] .. C=0.1, gamma=0.0001, kernel=linear, score=0.962, total=  12.2s\n",
      "[CV] C=0.1, gamma=0.0001, kernel=linear ..............................\n",
      "[CV] .. C=0.1, gamma=0.0001, kernel=linear, score=0.967, total=  11.2s\n",
      "[CV] C=1, gamma=1, kernel=rbf ........................................\n",
      "[CV] ............ C=1, gamma=1, kernel=rbf, score=0.597, total= 1.8min\n",
      "[CV] C=1, gamma=1, kernel=rbf ........................................\n",
      "[CV] ............ C=1, gamma=1, kernel=rbf, score=0.581, total= 2.1min\n",
      "[CV] C=1, gamma=1, kernel=rbf ........................................\n",
      "[CV] ............ C=1, gamma=1, kernel=rbf, score=0.577, total= 2.1min\n",
      "[CV] C=1, gamma=1, kernel=rbf ........................................\n",
      "[CV] ............ C=1, gamma=1, kernel=rbf, score=0.593, total= 2.0min\n",
      "[CV] C=1, gamma=1, kernel=rbf ........................................\n",
      "[CV] ............ C=1, gamma=1, kernel=rbf, score=0.586, total= 2.0min\n",
      "[CV] C=1, gamma=1, kernel=linear .....................................\n",
      "[CV] ......... C=1, gamma=1, kernel=linear, score=0.956, total=  36.4s\n",
      "[CV] C=1, gamma=1, kernel=linear .....................................\n",
      "[CV] ......... C=1, gamma=1, kernel=linear, score=0.965, total=  31.8s\n",
      "[CV] C=1, gamma=1, kernel=linear .....................................\n",
      "[CV] ......... C=1, gamma=1, kernel=linear, score=0.961, total=  33.5s\n",
      "[CV] C=1, gamma=1, kernel=linear .....................................\n",
      "[CV] ......... C=1, gamma=1, kernel=linear, score=0.961, total=  40.1s\n",
      "[CV] C=1, gamma=1, kernel=linear .....................................\n",
      "[CV] ......... C=1, gamma=1, kernel=linear, score=0.963, total=  33.7s\n",
      "[CV] C=1, gamma=0.1, kernel=rbf ......................................\n",
      "[CV] .......... C=1, gamma=0.1, kernel=rbf, score=0.715, total= 1.0min\n",
      "[CV] C=1, gamma=0.1, kernel=rbf ......................................\n",
      "[CV] .......... C=1, gamma=0.1, kernel=rbf, score=0.714, total= 1.1min\n",
      "[CV] C=1, gamma=0.1, kernel=rbf ......................................\n",
      "[CV] .......... C=1, gamma=0.1, kernel=rbf, score=0.692, total= 1.2min\n",
      "[CV] C=1, gamma=0.1, kernel=rbf ......................................\n",
      "[CV] .......... C=1, gamma=0.1, kernel=rbf, score=0.724, total= 1.2min\n",
      "[CV] C=1, gamma=0.1, kernel=rbf ......................................\n",
      "[CV] .......... C=1, gamma=0.1, kernel=rbf, score=0.714, total= 1.2min\n",
      "[CV] C=1, gamma=0.1, kernel=linear ...................................\n",
      "[CV] ....... C=1, gamma=0.1, kernel=linear, score=0.956, total=  36.4s\n",
      "[CV] C=1, gamma=0.1, kernel=linear ...................................\n",
      "[CV] ....... C=1, gamma=0.1, kernel=linear, score=0.965, total=  31.7s\n",
      "[CV] C=1, gamma=0.1, kernel=linear ...................................\n",
      "[CV] ....... C=1, gamma=0.1, kernel=linear, score=0.961, total=  33.5s\n",
      "[CV] C=1, gamma=0.1, kernel=linear ...................................\n",
      "[CV] ....... C=1, gamma=0.1, kernel=linear, score=0.961, total=  38.1s\n",
      "[CV] C=1, gamma=0.1, kernel=linear ...................................\n",
      "[CV] ....... C=1, gamma=0.1, kernel=linear, score=0.963, total=  33.6s\n",
      "[CV] C=1, gamma=0.01, kernel=rbf .....................................\n",
      "[CV] ......... C=1, gamma=0.01, kernel=rbf, score=0.872, total=  30.1s\n",
      "[CV] C=1, gamma=0.01, kernel=rbf .....................................\n",
      "[CV] ......... C=1, gamma=0.01, kernel=rbf, score=0.861, total=  35.8s\n",
      "[CV] C=1, gamma=0.01, kernel=rbf .....................................\n",
      "[CV] ......... C=1, gamma=0.01, kernel=rbf, score=0.852, total=  36.3s\n",
      "[CV] C=1, gamma=0.01, kernel=rbf .....................................\n",
      "[CV] ......... C=1, gamma=0.01, kernel=rbf, score=0.876, total=  36.6s\n",
      "[CV] C=1, gamma=0.01, kernel=rbf .....................................\n",
      "[CV] ......... C=1, gamma=0.01, kernel=rbf, score=0.867, total=  36.5s\n",
      "[CV] C=1, gamma=0.01, kernel=linear ..................................\n",
      "[CV] ...... C=1, gamma=0.01, kernel=linear, score=0.956, total=  36.4s\n",
      "[CV] C=1, gamma=0.01, kernel=linear ..................................\n"
     ]
    },
    {
     "name": "stdout",
     "output_type": "stream",
     "text": [
      "[CV] ...... C=1, gamma=0.01, kernel=linear, score=0.965, total=  31.8s\n",
      "[CV] C=1, gamma=0.01, kernel=linear ..................................\n",
      "[CV] ...... C=1, gamma=0.01, kernel=linear, score=0.961, total=  33.5s\n",
      "[CV] C=1, gamma=0.01, kernel=linear ..................................\n",
      "[CV] ...... C=1, gamma=0.01, kernel=linear, score=0.961, total=  38.1s\n",
      "[CV] C=1, gamma=0.01, kernel=linear ..................................\n",
      "[CV] ...... C=1, gamma=0.01, kernel=linear, score=0.963, total=  33.6s\n",
      "[CV] C=1, gamma=0.001, kernel=rbf ....................................\n",
      "[CV] ........ C=1, gamma=0.001, kernel=rbf, score=0.947, total=  22.0s\n",
      "[CV] C=1, gamma=0.001, kernel=rbf ....................................\n",
      "[CV] ........ C=1, gamma=0.001, kernel=rbf, score=0.946, total=  22.0s\n",
      "[CV] C=1, gamma=0.001, kernel=rbf ....................................\n",
      "[CV] ........ C=1, gamma=0.001, kernel=rbf, score=0.949, total=  22.1s\n",
      "[CV] C=1, gamma=0.001, kernel=rbf ....................................\n",
      "[CV] ........ C=1, gamma=0.001, kernel=rbf, score=0.949, total=  25.6s\n",
      "[CV] C=1, gamma=0.001, kernel=rbf ....................................\n",
      "[CV] ........ C=1, gamma=0.001, kernel=rbf, score=0.951, total=  26.7s\n",
      "[CV] C=1, gamma=0.001, kernel=linear .................................\n",
      "[CV] ..... C=1, gamma=0.001, kernel=linear, score=0.956, total=  36.4s\n",
      "[CV] C=1, gamma=0.001, kernel=linear .................................\n",
      "[CV] ..... C=1, gamma=0.001, kernel=linear, score=0.965, total=  31.8s\n",
      "[CV] C=1, gamma=0.001, kernel=linear .................................\n",
      "[CV] ..... C=1, gamma=0.001, kernel=linear, score=0.961, total=  33.4s\n",
      "[CV] C=1, gamma=0.001, kernel=linear .................................\n",
      "[CV] ..... C=1, gamma=0.001, kernel=linear, score=0.961, total=  38.1s\n",
      "[CV] C=1, gamma=0.001, kernel=linear .................................\n",
      "[CV] ..... C=1, gamma=0.001, kernel=linear, score=0.963, total=  34.7s\n",
      "[CV] C=1, gamma=0.0001, kernel=rbf ...................................\n",
      "[CV] ....... C=1, gamma=0.0001, kernel=rbf, score=0.941, total=  36.1s\n",
      "[CV] C=1, gamma=0.0001, kernel=rbf ...................................\n",
      "[CV] ....... C=1, gamma=0.0001, kernel=rbf, score=0.939, total=  41.5s\n",
      "[CV] C=1, gamma=0.0001, kernel=rbf ...................................\n",
      "[CV] ....... C=1, gamma=0.0001, kernel=rbf, score=0.936, total=  42.8s\n",
      "[CV] C=1, gamma=0.0001, kernel=rbf ...................................\n",
      "[CV] ....... C=1, gamma=0.0001, kernel=rbf, score=0.937, total=  43.0s\n",
      "[CV] C=1, gamma=0.0001, kernel=rbf ...................................\n",
      "[CV] ....... C=1, gamma=0.0001, kernel=rbf, score=0.939, total=  43.1s\n",
      "[CV] C=1, gamma=0.0001, kernel=linear ................................\n",
      "[CV] .... C=1, gamma=0.0001, kernel=linear, score=0.956, total=  36.5s\n",
      "[CV] C=1, gamma=0.0001, kernel=linear ................................\n",
      "[CV] .... C=1, gamma=0.0001, kernel=linear, score=0.965, total=  31.8s\n",
      "[CV] C=1, gamma=0.0001, kernel=linear ................................\n",
      "[CV] .... C=1, gamma=0.0001, kernel=linear, score=0.961, total=  40.0s\n",
      "[CV] C=1, gamma=0.0001, kernel=linear ................................\n",
      "[CV] .... C=1, gamma=0.0001, kernel=linear, score=0.961, total= 1.2min\n",
      "[CV] C=1, gamma=0.0001, kernel=linear ................................\n",
      "[CV] .... C=1, gamma=0.0001, kernel=linear, score=0.963, total= 1.1min\n",
      "[CV] C=10, gamma=1, kernel=rbf .......................................\n",
      "[CV] ........... C=10, gamma=1, kernel=rbf, score=0.603, total= 5.2min\n",
      "[CV] C=10, gamma=1, kernel=rbf .......................................\n",
      "[CV] ........... C=10, gamma=1, kernel=rbf, score=0.588, total= 4.2min\n",
      "[CV] C=10, gamma=1, kernel=rbf .......................................\n",
      "[CV] ........... C=10, gamma=1, kernel=rbf, score=0.583, total= 2.9min\n",
      "[CV] C=10, gamma=1, kernel=rbf .......................................\n",
      "[CV] ........... C=10, gamma=1, kernel=rbf, score=0.599, total= 3.3min\n",
      "[CV] C=10, gamma=1, kernel=rbf .......................................\n",
      "[CV] ........... C=10, gamma=1, kernel=rbf, score=0.589, total= 3.2min\n",
      "[CV] C=10, gamma=1, kernel=linear ....................................\n",
      "[CV] ........ C=10, gamma=1, kernel=linear, score=0.954, total= 3.0min\n",
      "[CV] C=10, gamma=1, kernel=linear ....................................\n",
      "[CV] ........ C=10, gamma=1, kernel=linear, score=0.965, total= 4.6min\n",
      "[CV] C=10, gamma=1, kernel=linear ....................................\n",
      "[CV] ........ C=10, gamma=1, kernel=linear, score=0.959, total= 3.4min\n",
      "[CV] C=10, gamma=1, kernel=linear ....................................\n",
      "[CV] ........ C=10, gamma=1, kernel=linear, score=0.962, total= 4.4min\n",
      "[CV] C=10, gamma=1, kernel=linear ....................................\n",
      "[CV] ........ C=10, gamma=1, kernel=linear, score=0.964, total= 4.4min\n",
      "[CV] C=10, gamma=0.1, kernel=rbf .....................................\n",
      "[CV] ......... C=10, gamma=0.1, kernel=rbf, score=0.721, total= 2.0min\n",
      "[CV] C=10, gamma=0.1, kernel=rbf .....................................\n",
      "[CV] ......... C=10, gamma=0.1, kernel=rbf, score=0.719, total= 2.0min\n",
      "[CV] C=10, gamma=0.1, kernel=rbf .....................................\n",
      "[CV] ......... C=10, gamma=0.1, kernel=rbf, score=0.698, total= 2.1min\n",
      "[CV] C=10, gamma=0.1, kernel=rbf .....................................\n",
      "[CV] ......... C=10, gamma=0.1, kernel=rbf, score=0.731, total= 2.3min\n",
      "[CV] C=10, gamma=0.1, kernel=rbf .....................................\n",
      "[CV] ......... C=10, gamma=0.1, kernel=rbf, score=0.722, total= 2.1min\n",
      "[CV] C=10, gamma=0.1, kernel=linear ..................................\n",
      "[CV] ...... C=10, gamma=0.1, kernel=linear, score=0.954, total= 3.1min\n",
      "[CV] C=10, gamma=0.1, kernel=linear ..................................\n",
      "[CV] ...... C=10, gamma=0.1, kernel=linear, score=0.965, total= 4.4min\n",
      "[CV] C=10, gamma=0.1, kernel=linear ..................................\n",
      "[CV] ...... C=10, gamma=0.1, kernel=linear, score=0.959, total= 3.3min\n",
      "[CV] C=10, gamma=0.1, kernel=linear ..................................\n",
      "[CV] ...... C=10, gamma=0.1, kernel=linear, score=0.962, total=28.9min\n",
      "[CV] C=10, gamma=0.1, kernel=linear ..................................\n",
      "[CV] ...... C=10, gamma=0.1, kernel=linear, score=0.964, total= 4.3min\n",
      "[CV] C=10, gamma=0.01, kernel=rbf ....................................\n",
      "[CV] ........ C=10, gamma=0.01, kernel=rbf, score=0.878, total=  46.6s\n",
      "[CV] C=10, gamma=0.01, kernel=rbf ....................................\n",
      "[CV] ........ C=10, gamma=0.01, kernel=rbf, score=0.873, total=  48.4s\n",
      "[CV] C=10, gamma=0.01, kernel=rbf ....................................\n",
      "[CV] ........ C=10, gamma=0.01, kernel=rbf, score=0.861, total=  33.1s\n",
      "[CV] C=10, gamma=0.01, kernel=rbf ....................................\n",
      "[CV] ........ C=10, gamma=0.01, kernel=rbf, score=0.884, total=  56.7s\n",
      "[CV] C=10, gamma=0.01, kernel=rbf ....................................\n",
      "[CV] ........ C=10, gamma=0.01, kernel=rbf, score=0.873, total=  46.7s\n",
      "[CV] C=10, gamma=0.01, kernel=linear .................................\n",
      "[CV] ..... C=10, gamma=0.01, kernel=linear, score=0.954, total= 3.2min\n",
      "[CV] C=10, gamma=0.01, kernel=linear .................................\n",
      "[CV] ..... C=10, gamma=0.01, kernel=linear, score=0.965, total= 4.4min\n",
      "[CV] C=10, gamma=0.01, kernel=linear .................................\n",
      "[CV] ..... C=10, gamma=0.01, kernel=linear, score=0.959, total= 3.3min\n",
      "[CV] C=10, gamma=0.01, kernel=linear .................................\n",
      "[CV] ..... C=10, gamma=0.01, kernel=linear, score=0.962, total= 4.3min\n",
      "[CV] C=10, gamma=0.01, kernel=linear .................................\n",
      "[CV] ..... C=10, gamma=0.01, kernel=linear, score=0.964, total= 4.0min\n",
      "[CV] C=10, gamma=0.001, kernel=rbf ...................................\n",
      "[CV] ....... C=10, gamma=0.001, kernel=rbf, score=0.956, total=  14.6s\n",
      "[CV] C=10, gamma=0.001, kernel=rbf ...................................\n",
      "[CV] ....... C=10, gamma=0.001, kernel=rbf, score=0.953, total=  14.8s\n",
      "[CV] C=10, gamma=0.001, kernel=rbf ...................................\n",
      "[CV] ....... C=10, gamma=0.001, kernel=rbf, score=0.957, total=  15.7s\n",
      "[CV] C=10, gamma=0.001, kernel=rbf ...................................\n",
      "[CV] ....... C=10, gamma=0.001, kernel=rbf, score=0.959, total=  16.0s\n",
      "[CV] C=10, gamma=0.001, kernel=rbf ...................................\n"
     ]
    },
    {
     "name": "stdout",
     "output_type": "stream",
     "text": [
      "[CV] ....... C=10, gamma=0.001, kernel=rbf, score=0.958, total= 5.8min\n",
      "[CV] C=10, gamma=0.001, kernel=linear ................................\n",
      "[CV] .... C=10, gamma=0.001, kernel=linear, score=0.954, total=57.8min\n",
      "[CV] C=10, gamma=0.001, kernel=linear ................................\n",
      "[CV] .... C=10, gamma=0.001, kernel=linear, score=0.965, total= 4.2min\n",
      "[CV] C=10, gamma=0.001, kernel=linear ................................\n",
      "[CV] .... C=10, gamma=0.001, kernel=linear, score=0.959, total= 3.2min\n",
      "[CV] C=10, gamma=0.001, kernel=linear ................................\n",
      "[CV] ... C=10, gamma=0.001, kernel=linear, score=0.962, total=101.9min\n",
      "[CV] C=10, gamma=0.001, kernel=linear ................................\n",
      "[CV] .... C=10, gamma=0.001, kernel=linear, score=0.964, total= 4.0min\n",
      "[CV] C=10, gamma=0.0001, kernel=rbf ..................................\n",
      "[CV] ...... C=10, gamma=0.0001, kernel=rbf, score=0.961, total=  16.7s\n",
      "[CV] C=10, gamma=0.0001, kernel=rbf ..................................\n",
      "[CV] ...... C=10, gamma=0.0001, kernel=rbf, score=0.960, total=  17.5s\n",
      "[CV] C=10, gamma=0.0001, kernel=rbf ..................................\n",
      "[CV] ...... C=10, gamma=0.0001, kernel=rbf, score=0.961, total=  19.8s\n",
      "[CV] C=10, gamma=0.0001, kernel=rbf ..................................\n",
      "[CV] ...... C=10, gamma=0.0001, kernel=rbf, score=0.957, total=  20.1s\n",
      "[CV] C=10, gamma=0.0001, kernel=rbf ..................................\n",
      "[CV] ...... C=10, gamma=0.0001, kernel=rbf, score=0.960, total=  19.2s\n",
      "[CV] C=10, gamma=0.0001, kernel=linear ...............................\n",
      "[CV] ... C=10, gamma=0.0001, kernel=linear, score=0.954, total= 2.9min\n",
      "[CV] C=10, gamma=0.0001, kernel=linear ...............................\n",
      "[CV] .. C=10, gamma=0.0001, kernel=linear, score=0.965, total=278.6min\n",
      "[CV] C=10, gamma=0.0001, kernel=linear ...............................\n",
      "[CV] ... C=10, gamma=0.0001, kernel=linear, score=0.959, total=48.3min\n",
      "[CV] C=10, gamma=0.0001, kernel=linear ...............................\n",
      "[CV] ... C=10, gamma=0.0001, kernel=linear, score=0.962, total= 4.4min\n",
      "[CV] C=10, gamma=0.0001, kernel=linear ...............................\n",
      "[CV] ... C=10, gamma=0.0001, kernel=linear, score=0.964, total= 4.2min\n"
     ]
    },
    {
     "name": "stderr",
     "output_type": "stream",
     "text": [
      "[Parallel(n_jobs=1)]: Done 250 out of 250 | elapsed: 767.3min finished\n"
     ]
    },
    {
     "data": {
      "text/plain": [
       "{'C': 0.1, 'gamma': 1, 'kernel': 'linear'}"
      ]
     },
     "execution_count": 22,
     "metadata": {},
     "output_type": "execute_result"
    }
   ],
   "source": [
    "param_grid = {'C': [0.001, 0.01, 0.1, 1, 10],\n",
    "              'gamma': [1, 0.1, 0.01, 0.001, 0.0001], \n",
    "              'kernel': ['rbf','linear']}\n",
    "\n",
    "svm_search = GridSearchCV(SVC(), param_grid, refit = True, verbose = 3,cv=5)\n",
    "\n",
    "# fit data\n",
    "svm_search.fit(X_train_fs,y_train)\n",
    "\n",
    "svm_search.best_params_"
   ]
  },
  {
   "cell_type": "code",
   "execution_count": 125,
   "metadata": {
    "ExecuteTime": {
     "end_time": "2021-01-13T21:01:24.866727Z",
     "start_time": "2021-01-13T20:59:50.254289Z"
    }
   },
   "outputs": [
    {
     "data": {
      "text/plain": [
       "SVC(C=0.1, gamma=1, kernel='linear', probability=True)"
      ]
     },
     "execution_count": 125,
     "metadata": {},
     "output_type": "execute_result"
    }
   ],
   "source": [
    "# params_svm = svm_search.best_params_\n",
    "params_svm = {'C': 0.1, 'gamma': 1, 'kernel': 'linear'}\n",
    "final_model_svm = SVC(C=params_svm['C'],kernel = params_svm['kernel'],gamma= params_svm['gamma'],probability=True)\n",
    "\n",
    "# fit data\n",
    "final_model_svm.fit(X_train_fs,y_train)"
   ]
  },
  {
   "cell_type": "code",
   "execution_count": 126,
   "metadata": {
    "ExecuteTime": {
     "end_time": "2021-01-13T21:01:36.726641Z",
     "start_time": "2021-01-13T21:01:26.076420Z"
    }
   },
   "outputs": [
    {
     "name": "stdout",
     "output_type": "stream",
     "text": [
      "Training accuracy : 0.9652356698197105\n",
      "Testing accuracy : 0.9541595925297114\n",
      "Test Dataset\n",
      "              precision    recall  f1-score   support\n",
      "\n",
      "           0       0.98      0.93      0.95      2046\n",
      "           1       0.93      0.98      0.96      2077\n",
      "\n",
      "    accuracy                           0.95      4123\n",
      "   macro avg       0.96      0.95      0.95      4123\n",
      "weighted avg       0.96      0.95      0.95      4123\n",
      "\n"
     ]
    }
   ],
   "source": [
    "print(\"Training accuracy :\", final_model_svm.score(X_train_fs,y_train))\n",
    "print(\"Testing accuracy :\", final_model_svm.score(X_test_fs,y_test))\n",
    "\n",
    "predictions = final_model_svm.predict(X_test_fs)\n",
    "print(\"Test Dataset\")\n",
    "print(classification_report(y_test, predictions))"
   ]
  },
  {
   "cell_type": "code",
   "execution_count": 127,
   "metadata": {
    "ExecuteTime": {
     "end_time": "2021-01-13T21:01:40.194460Z",
     "start_time": "2021-01-13T21:01:37.958179Z"
    }
   },
   "outputs": [
    {
     "data": {
      "image/png": "[encoded data removed]",
      "text/plain": [
       "<Figure size 432x288 with 1 Axes>"
      ]
     },
     "metadata": {
      "needs_background": "light"
     },
     "output_type": "display_data"
    }
   ],
   "source": [
    "plot_auc(final_model_svm,X_test_fs,y_test)"
   ]
  },
  {
   "cell_type": "code",
   "execution_count": 129,
   "metadata": {
    "ExecuteTime": {
     "end_time": "2021-01-13T21:15:50.169522Z",
     "start_time": "2021-01-13T21:15:45.797392Z"
    }
   },
   "outputs": [
    {
     "name": "stdout",
     "output_type": "stream",
     "text": [
      "Confusion Matrix:\n",
      "-----------------\n",
      "[[1897  149]\n",
      " [  40 2037]]\n",
      "\n",
      "\n",
      "False positive rate -  0.07282502443792767\n"
     ]
    },
    {
     "data": {
      "text/plain": [
       "<Figure size 432x432 with 0 Axes>"
      ]
     },
     "metadata": {},
     "output_type": "display_data"
    },
    {
     "data": {
      "image/png": "[encoded data removed]",
      "text/plain": [
       "<Figure size 360x360 with 2 Axes>"
      ]
     },
     "metadata": {
      "needs_background": "light"
     },
     "output_type": "display_data"
    }
   ],
   "source": [
    "CM = confusion_matrix(y_test, final_model_svm.predict(X_test_fs))\n",
    "\n",
    "TN = CM[0][0]\n",
    "FN = CM[1][0]\n",
    "TP = CM[1][1]\n",
    "FP = CM[0][1]\n",
    "# False positive rate\n",
    "FPR = FP/(FP+TN)\n",
    "\n",
    "print('Confusion Matrix:')\n",
    "print('-----------------')\n",
    "print(CM)\n",
    "print('\\n')\n",
    "print('False positive rate - ',FPR)\n",
    "\n",
    "# Plot confusion matrix\n",
    "class_names = [0,1]\n",
    "plt.figure(figsize=(6,6))\n",
    "disp = plot_confusion_matrix(final_model_svm, X_test_fs,y_test,\n",
    "                             display_labels=class_names,\n",
    "                             cmap=plt.cm.Blues)\n",
    "#                              normalize=\"true\")\n",
    "disp.ax_.set_title(\"confusion matrix\")\n",
    "plt.grid(b=None)\n",
    "fig = plt.gcf()\n",
    "fig.set_size_inches(5,5)\n",
    "plt.show()"
   ]
  },
  {
   "cell_type": "code",
   "execution_count": 130,
   "metadata": {
    "ExecuteTime": {
     "end_time": "2021-01-13T21:15:51.397188Z",
     "start_time": "2021-01-13T21:15:51.387722Z"
    }
   },
   "outputs": [],
   "source": [
    "feature_importance = abs(final_model_svm.coef_[0])\n",
    "feature_importance = 100.0 * (feature_importance / feature_importance.sum())\n",
    "sorted_feat_imp_svm = list(zip(X_test_fs.columns,feature_importance))\n",
    "sorted_feat_imp_svm.sort(key=lambda x: x[1],reverse = True)\n",
    "pd.DataFrame(sorted_feat_imp_svm, columns = ['feature','importance']).to_csv('../first_run_svm_fi.csv')"
   ]
  },
  {
   "cell_type": "code",
   "execution_count": 131,
   "metadata": {
    "ExecuteTime": {
     "end_time": "2021-01-13T21:15:52.674142Z",
     "start_time": "2021-01-13T21:15:52.668475Z"
    }
   },
   "outputs": [],
   "source": [
    "# save the model to disk\n",
    "filename = '../first_run_grid_cv_svm.sav'\n",
    "pickle.dump(final_model_svm, open(filename, 'wb'))"
   ]
  },
  {
   "cell_type": "code",
   "execution_count": 132,
   "metadata": {
    "ExecuteTime": {
     "end_time": "2021-01-13T21:15:53.912137Z",
     "start_time": "2021-01-13T21:15:53.908510Z"
    }
   },
   "outputs": [
    {
     "data": {
      "text/plain": [
       "{'C': 0.1,\n",
       " 'break_ties': False,\n",
       " 'cache_size': 200,\n",
       " 'class_weight': None,\n",
       " 'coef0': 0.0,\n",
       " 'decision_function_shape': 'ovr',\n",
       " 'degree': 3,\n",
       " 'gamma': 1,\n",
       " 'kernel': 'linear',\n",
       " 'max_iter': -1,\n",
       " 'probability': True,\n",
       " 'random_state': None,\n",
       " 'shrinking': True,\n",
       " 'tol': 0.001,\n",
       " 'verbose': False}"
      ]
     },
     "execution_count": 132,
     "metadata": {},
     "output_type": "execute_result"
    }
   ],
   "source": [
    "final_model_svm.get_params()"
   ]
  },
  {
   "cell_type": "code",
   "execution_count": 133,
   "metadata": {
    "ExecuteTime": {
     "end_time": "2021-01-13T21:15:55.137238Z",
     "start_time": "2021-01-13T21:15:55.132595Z"
    }
   },
   "outputs": [
    {
     "data": {
      "text/plain": [
       "{'C': 0.1,\n",
       " 'break_ties': False,\n",
       " 'cache_size': 200,\n",
       " 'class_weight': None,\n",
       " 'coef0': 0.0,\n",
       " 'decision_function_shape': 'ovr',\n",
       " 'degree': 3,\n",
       " 'gamma': 1,\n",
       " 'kernel': 'linear',\n",
       " 'max_iter': -1,\n",
       " 'probability': True,\n",
       " 'random_state': None,\n",
       " 'shrinking': True,\n",
       " 'tol': 0.001,\n",
       " 'verbose': False}"
      ]
     },
     "execution_count": 133,
     "metadata": {},
     "output_type": "execute_result"
    }
   ],
   "source": [
    "#####     QC\n",
    "# load the model from disk\n",
    "loaded_model = pickle.load(open(filename, 'rb'))\n",
    "loaded_model.get_params()"
   ]
  },
  {
   "cell_type": "markdown",
   "metadata": {},
   "source": [
    "## Decision Tree"
   ]
  },
  {
   "cell_type": "code",
   "execution_count": 134,
   "metadata": {
    "ExecuteTime": {
     "end_time": "2021-01-13T21:17:47.949722Z",
     "start_time": "2021-01-13T21:15:56.353185Z"
    },
    "scrolled": true
   },
   "outputs": [
    {
     "name": "stdout",
     "output_type": "stream",
     "text": [
      "Fitting 5 folds for each of 648 candidates, totalling 3240 fits\n"
     ]
    },
    {
     "name": "stderr",
     "output_type": "stream",
     "text": [
      "[Parallel(n_jobs=-1)]: Using backend LokyBackend with 8 concurrent workers.\n",
      "[Parallel(n_jobs=-1)]: Done  34 tasks      | elapsed:    3.4s\n",
      "[Parallel(n_jobs=-1)]: Done 184 tasks      | elapsed:    6.0s\n",
      "[Parallel(n_jobs=-1)]: Done 434 tasks      | elapsed:   12.4s\n",
      "[Parallel(n_jobs=-1)]: Done 784 tasks      | elapsed:   22.7s\n",
      "[Parallel(n_jobs=-1)]: Done 1234 tasks      | elapsed:   39.8s\n",
      "[Parallel(n_jobs=-1)]: Done 1784 tasks      | elapsed:   59.9s\n",
      "[Parallel(n_jobs=-1)]: Done 2434 tasks      | elapsed:  1.3min\n",
      "[Parallel(n_jobs=-1)]: Done 3184 tasks      | elapsed:  1.8min\n",
      "[Parallel(n_jobs=-1)]: Done 3240 out of 3240 | elapsed:  1.9min finished\n"
     ]
    },
    {
     "data": {
      "text/plain": [
       "GridSearchCV(cv=5, estimator=DecisionTreeClassifier(), n_jobs=-1,\n",
       "             param_grid={'criterion': ['gini', 'entropy'],\n",
       "                         'max_depth': range(1, 10),\n",
       "                         'min_samples_leaf': range(1, 10),\n",
       "                         'min_samples_split': range(1, 5)},\n",
       "             verbose=1)"
      ]
     },
     "execution_count": 134,
     "metadata": {},
     "output_type": "execute_result"
    }
   ],
   "source": [
    "param_grid = {\n",
    "    'criterion' : ['gini','entropy'],\n",
    "    'max_depth': range(1,10),\n",
    "    'min_samples_leaf': range(1,10),\n",
    "    'min_samples_split': range(1,5)\n",
    "}\n",
    "\n",
    "dt_clf = DecisionTreeClassifier()\n",
    "DT_search = GridSearchCV(dt_clf, param_grid=param_grid, cv=5, verbose = 1, n_jobs = -1)\n",
    "DT_search.fit(X_train_fs,y_train)"
   ]
  },
  {
   "cell_type": "code",
   "execution_count": 135,
   "metadata": {
    "ExecuteTime": {
     "end_time": "2021-01-13T21:17:49.456220Z",
     "start_time": "2021-01-13T21:17:49.231284Z"
    }
   },
   "outputs": [
    {
     "data": {
      "text/plain": [
       "DecisionTreeClassifier(max_depth=9, min_samples_leaf=9, min_samples_split=4)"
      ]
     },
     "execution_count": 135,
     "metadata": {},
     "output_type": "execute_result"
    }
   ],
   "source": [
    "params_dt = DT_search.best_params_\n",
    "\n",
    "final_model_dt = DecisionTreeClassifier(criterion = params_dt['criterion'],\n",
    "                                         max_depth = params_dt['max_depth'],\n",
    "                                         min_samples_leaf = params_dt['min_samples_leaf'],\n",
    "                                         min_samples_split = params_dt['min_samples_split'])\n",
    "\n",
    "# fit data\n",
    "final_model_dt.fit(X_train_fs,y_train)"
   ]
  },
  {
   "cell_type": "code",
   "execution_count": 136,
   "metadata": {
    "ExecuteTime": {
     "end_time": "2021-01-13T21:17:50.741244Z",
     "start_time": "2021-01-13T21:17:50.681373Z"
    }
   },
   "outputs": [
    {
     "name": "stdout",
     "output_type": "stream",
     "text": [
      "Training accuracy : 0.9675802409248929\n",
      "Testing accuracy : 0.9599805966529227\n",
      "Test Dataset\n",
      "              precision    recall  f1-score   support\n",
      "\n",
      "           0       0.98      0.94      0.96      2046\n",
      "           1       0.94      0.98      0.96      2077\n",
      "\n",
      "    accuracy                           0.96      4123\n",
      "   macro avg       0.96      0.96      0.96      4123\n",
      "weighted avg       0.96      0.96      0.96      4123\n",
      "\n"
     ]
    }
   ],
   "source": [
    "print(\"Training accuracy :\", final_model_dt.score(X_train_fs,y_train))\n",
    "print(\"Testing accuracy :\", final_model_dt.score(X_test_fs,y_test))\n",
    "\n",
    "predictions = final_model_dt.predict(X_test_fs)\n",
    "print(\"Test Dataset\")\n",
    "print(classification_report(y_test, predictions))"
   ]
  },
  {
   "cell_type": "code",
   "execution_count": 137,
   "metadata": {
    "ExecuteTime": {
     "end_time": "2021-01-13T21:17:52.113452Z",
     "start_time": "2021-01-13T21:17:51.987997Z"
    }
   },
   "outputs": [
    {
     "data": {
      "image/png": "[encoded data removed]",
      "text/plain": [
       "<Figure size 432x288 with 1 Axes>"
      ]
     },
     "metadata": {
      "needs_background": "light"
     },
     "output_type": "display_data"
    }
   ],
   "source": [
    "plot_auc(final_model_dt,X_test_fs,y_test)"
   ]
  },
  {
   "cell_type": "code",
   "execution_count": 138,
   "metadata": {
    "ExecuteTime": {
     "end_time": "2021-01-13T21:17:53.489201Z",
     "start_time": "2021-01-13T21:17:53.341261Z"
    }
   },
   "outputs": [
    {
     "name": "stdout",
     "output_type": "stream",
     "text": [
      "Confusion Matrix:\n",
      "-----------------\n",
      "[[1923  123]\n",
      " [  42 2035]]\n",
      "\n",
      "\n",
      "False positive rate -  0.060117302052785926\n"
     ]
    },
    {
     "data": {
      "text/plain": [
       "<Figure size 432x432 with 0 Axes>"
      ]
     },
     "metadata": {},
     "output_type": "display_data"
    },
    {
     "data": {
      "image/png": "[encoded data removed]",
      "text/plain": [
       "<Figure size 360x360 with 2 Axes>"
      ]
     },
     "metadata": {
      "needs_background": "light"
     },
     "output_type": "display_data"
    }
   ],
   "source": [
    "CM = confusion_matrix(y_test, final_model_dt.predict(X_test_fs))\n",
    "\n",
    "TN = CM[0][0]\n",
    "FN = CM[1][0]\n",
    "TP = CM[1][1]\n",
    "FP = CM[0][1]\n",
    "# False positive rate\n",
    "FPR = FP/(FP+TN)\n",
    "\n",
    "print('Confusion Matrix:')\n",
    "print('-----------------')\n",
    "print(CM)\n",
    "print('\\n')\n",
    "print('False positive rate - ',FPR)\n",
    "\n",
    "# Plot confusion matrix\n",
    "class_names = [0,1]\n",
    "plt.figure(figsize=(6,6))\n",
    "disp = plot_confusion_matrix(final_model_dt, X_test_fs,y_test,\n",
    "                             display_labels=class_names,\n",
    "                             cmap=plt.cm.Blues)\n",
    "#                              normalize=\"true\")\n",
    "disp.ax_.set_title(\"confusion matrix\")\n",
    "plt.grid(b=None)\n",
    "fig = plt.gcf()\n",
    "fig.set_size_inches(5,5)\n",
    "plt.show()"
   ]
  },
  {
   "cell_type": "code",
   "execution_count": 139,
   "metadata": {
    "ExecuteTime": {
     "end_time": "2021-01-13T21:17:54.735603Z",
     "start_time": "2021-01-13T21:17:54.728611Z"
    }
   },
   "outputs": [],
   "source": [
    "sorted_feat_imp_dt = list(zip(X_test_fs.columns,final_model_dt.feature_importances_))\n",
    "sorted_feat_imp_dt.sort(key=lambda x: x[1],reverse = True)\n",
    "pd.DataFrame(sorted_feat_imp_dt,columns = ['feature','importance']).to_csv('../first_run_dt_fi.csv')"
   ]
  },
  {
   "cell_type": "code",
   "execution_count": 140,
   "metadata": {
    "ExecuteTime": {
     "end_time": "2021-01-13T21:17:55.971751Z",
     "start_time": "2021-01-13T21:17:55.968594Z"
    }
   },
   "outputs": [],
   "source": [
    "# save the model to disk\n",
    "filename = '../first_run_grid_cv_dt.sav'\n",
    "pickle.dump(final_model_dt, open(filename, 'wb'))"
   ]
  },
  {
   "cell_type": "markdown",
   "metadata": {},
   "source": [
    "## Random Forest "
   ]
  },
  {
   "cell_type": "code",
   "execution_count": 141,
   "metadata": {
    "ExecuteTime": {
     "end_time": "2021-01-13T21:19:40.422606Z",
     "start_time": "2021-01-13T21:17:57.202262Z"
    }
   },
   "outputs": [
    {
     "data": {
      "text/plain": [
       "RandomizedSearchCV(cv=5,\n",
       "                   estimator=RandomForestClassifier(class_weight='balanced',\n",
       "                                                    random_state=42),\n",
       "                   n_iter=5,\n",
       "                   param_distributions={'bootstrap': [True],\n",
       "                                        'max_depth': [50, 100],\n",
       "                                        'min_samples_leaf': range(1, 10),\n",
       "                                        'min_samples_split': range(1, 5),\n",
       "                                        'n_estimators': [300, 500]},\n",
       "                   random_state=42, scoring='f1_weighted')"
      ]
     },
     "execution_count": 141,
     "metadata": {},
     "output_type": "execute_result"
    }
   ],
   "source": [
    "param_grid = {\n",
    "    'bootstrap': [True],\n",
    "    'max_depth': [50, 100],\n",
    "    'min_samples_leaf': range(1,10),\n",
    "    'min_samples_split': range(1,5),\n",
    "    'n_estimators': [300, 500]\n",
    "}\n",
    "\n",
    "forest_reg = RandomForestClassifier(random_state=42, class_weight=\"balanced\")\n",
    "rnd_search = RandomizedSearchCV(forest_reg, param_distributions=param_grid,\n",
    "                                n_iter=5, cv=5, scoring='f1_weighted', random_state=42)\n",
    "rnd_search.fit(X_train_fs,y_train)"
   ]
  },
  {
   "cell_type": "code",
   "execution_count": 142,
   "metadata": {
    "ExecuteTime": {
     "end_time": "2021-01-13T21:19:41.714925Z",
     "start_time": "2021-01-13T21:19:41.712112Z"
    }
   },
   "outputs": [],
   "source": [
    "final_model_rf = rnd_search.best_estimator_"
   ]
  },
  {
   "cell_type": "code",
   "execution_count": 143,
   "metadata": {
    "ExecuteTime": {
     "end_time": "2021-01-13T21:19:42.961058Z",
     "start_time": "2021-01-13T21:19:42.957671Z"
    }
   },
   "outputs": [
    {
     "data": {
      "text/plain": [
       "RandomForestClassifier(class_weight='balanced', max_depth=100,\n",
       "                       min_samples_leaf=2, n_estimators=300, random_state=42)"
      ]
     },
     "execution_count": 143,
     "metadata": {},
     "output_type": "execute_result"
    }
   ],
   "source": [
    "final_model_rf"
   ]
  },
  {
   "cell_type": "code",
   "execution_count": 144,
   "metadata": {
    "ExecuteTime": {
     "end_time": "2021-01-13T21:19:45.145713Z",
     "start_time": "2021-01-13T21:19:44.187262Z"
    }
   },
   "outputs": [
    {
     "name": "stdout",
     "output_type": "stream",
     "text": [
      "Training accuracy : 0.983749696822702\n",
      "Testing accuracy : 0.967741935483871\n",
      "\n",
      "\n",
      "Test Dataset\n",
      "              precision    recall  f1-score   support\n",
      "\n",
      "           0       0.99      0.94      0.97      2046\n",
      "           1       0.95      0.99      0.97      2077\n",
      "\n",
      "    accuracy                           0.97      4123\n",
      "   macro avg       0.97      0.97      0.97      4123\n",
      "weighted avg       0.97      0.97      0.97      4123\n",
      "\n"
     ]
    }
   ],
   "source": [
    "print(\"Training accuracy :\", final_model_rf.score(X_train_fs,y_train))\n",
    "print(\"Testing accuracy :\", final_model_rf.score(X_test_fs,y_test))\n",
    "print('\\n')\n",
    "predictions_train = final_model_rf.predict(X_test_fs)\n",
    "print(\"Test Dataset\")\n",
    "print(classification_report(y_test, predictions_train))"
   ]
  },
  {
   "cell_type": "code",
   "execution_count": 145,
   "metadata": {
    "ExecuteTime": {
     "end_time": "2021-01-13T21:19:46.802306Z",
     "start_time": "2021-01-13T21:19:46.487909Z"
    }
   },
   "outputs": [
    {
     "data": {
      "image/png": "[encoded data removed]",
      "text/plain": [
       "<Figure size 432x288 with 1 Axes>"
      ]
     },
     "metadata": {
      "needs_background": "light"
     },
     "output_type": "display_data"
    }
   ],
   "source": [
    "plot_auc(final_model_rf,X_test_fs,y_test)"
   ]
  },
  {
   "cell_type": "code",
   "execution_count": 146,
   "metadata": {
    "ExecuteTime": {
     "end_time": "2021-01-13T21:19:48.682405Z",
     "start_time": "2021-01-13T21:19:48.159286Z"
    }
   },
   "outputs": [
    {
     "name": "stdout",
     "output_type": "stream",
     "text": [
      "Confusion Matrix:\n",
      "-----------------\n",
      "[[1926  120]\n",
      " [  13 2064]]\n",
      "\n",
      "\n",
      "False positive rate -  0.05865102639296188\n"
     ]
    },
    {
     "data": {
      "text/plain": [
       "<Figure size 432x432 with 0 Axes>"
      ]
     },
     "metadata": {},
     "output_type": "display_data"
    },
    {
     "data": {
      "image/png": "[encoded data removed]",
      "text/plain": [
       "<Figure size 360x360 with 2 Axes>"
      ]
     },
     "metadata": {
      "needs_background": "light"
     },
     "output_type": "display_data"
    }
   ],
   "source": [
    "CM = confusion_matrix(y_test, final_model_rf.predict(X_test_fs))\n",
    "\n",
    "TN = CM[0][0]\n",
    "FN = CM[1][0]\n",
    "TP = CM[1][1]\n",
    "FP = CM[0][1]\n",
    "# False positive rate\n",
    "FPR = FP/(FP+TN)\n",
    "\n",
    "print('Confusion Matrix:')\n",
    "print('-----------------')\n",
    "print(CM)\n",
    "print('\\n')\n",
    "print('False positive rate - ',FPR)\n",
    "\n",
    "# Plot confusion matrix\n",
    "class_names = [0,1]\n",
    "plt.figure(figsize=(6,6))\n",
    "disp = plot_confusion_matrix(final_model_rf, X_test_fs,y_test,\n",
    "                             display_labels=class_names,\n",
    "                             cmap=plt.cm.Blues)\n",
    "disp.ax_.set_title(\"confusion matrix\")\n",
    "plt.grid(b=None)\n",
    "fig = plt.gcf()\n",
    "fig.set_size_inches(5,5)\n",
    "plt.show()"
   ]
  },
  {
   "cell_type": "code",
   "execution_count": 147,
   "metadata": {
    "ExecuteTime": {
     "end_time": "2021-01-13T21:19:50.066543Z",
     "start_time": "2021-01-13T21:19:50.033634Z"
    }
   },
   "outputs": [],
   "source": [
    "sorted_feat_imp_rf = list(zip(X_test_fs.columns,final_model_rf.feature_importances_))\n",
    "sorted_feat_imp_rf.sort(key=lambda x: x[1],reverse = True)\n",
    "pd.DataFrame(sorted_feat_imp_rf,columns = ['feature','importance']).to_csv('../first_run_rf_fi.csv')"
   ]
  },
  {
   "cell_type": "code",
   "execution_count": 148,
   "metadata": {
    "ExecuteTime": {
     "end_time": "2021-01-13T21:19:51.400159Z",
     "start_time": "2021-01-13T21:19:51.357036Z"
    }
   },
   "outputs": [],
   "source": [
    "# save the model to disk\n",
    "filename = '../first_run_grid_cv_rf.sav'\n",
    "pickle.dump(final_model_rf, open(filename, 'wb'))"
   ]
  },
  {
   "cell_type": "markdown",
   "metadata": {},
   "source": [
    "# Running Random Forest model excluding software version"
   ]
  },
  {
   "cell_type": "code",
   "execution_count": 149,
   "metadata": {
    "ExecuteTime": {
     "end_time": "2021-01-13T21:19:52.719676Z",
     "start_time": "2021-01-13T21:19:52.686734Z"
    }
   },
   "outputs": [],
   "source": [
    "columns_1 = X_train_fs.columns\n",
    "\n",
    "columns_1 = [x for x in columns_1 if 'software_' not in x]\n",
    "columns_1.remove('sku_P-WAL-107-ELC-03')\n",
    "columns_1.remove('sku_P-WAL-106-ELC-01')\n",
    "\n",
    "\n",
    "X_train_fs_sf = X_train_fs[columns_1]\n",
    "X_test_fs_sf = X_test_fs[columns_1]\n"
   ]
  },
  {
   "cell_type": "code",
   "execution_count": 150,
   "metadata": {
    "ExecuteTime": {
     "end_time": "2021-01-13T21:22:03.969130Z",
     "start_time": "2021-01-13T21:19:54.021923Z"
    }
   },
   "outputs": [
    {
     "data": {
      "text/plain": [
       "RandomizedSearchCV(cv=5,\n",
       "                   estimator=RandomForestClassifier(class_weight='balanced',\n",
       "                                                    random_state=42),\n",
       "                   n_iter=5,\n",
       "                   param_distributions={'bootstrap': [True],\n",
       "                                        'max_depth': [50, 100],\n",
       "                                        'min_samples_leaf': range(1, 10),\n",
       "                                        'min_samples_split': range(1, 5),\n",
       "                                        'n_estimators': [300, 500]},\n",
       "                   random_state=42, scoring='f1_weighted')"
      ]
     },
     "execution_count": 150,
     "metadata": {},
     "output_type": "execute_result"
    }
   ],
   "source": [
    "param_grid = {\n",
    "    'bootstrap': [True],\n",
    "    'max_depth': [50, 100],\n",
    "    'min_samples_leaf': range(1,10),\n",
    "    'min_samples_split': range(1,5),\n",
    "    'n_estimators': [300, 500]\n",
    "}\n",
    "\n",
    "forest_reg_sf = RandomForestClassifier(random_state=42, class_weight=\"balanced\")\n",
    "rnd_search_sf = RandomizedSearchCV(forest_reg_sf, param_distributions=param_grid,\n",
    "                                n_iter=5, cv=5, scoring='f1_weighted', random_state=42)\n",
    "\n",
    "rnd_search_sf.fit(X_train_fs_sf,y_train)"
   ]
  },
  {
   "cell_type": "code",
   "execution_count": 151,
   "metadata": {
    "ExecuteTime": {
     "end_time": "2021-01-13T21:22:05.231759Z",
     "start_time": "2021-01-13T21:22:05.229060Z"
    }
   },
   "outputs": [],
   "source": [
    "final_model_rf_sf = rnd_search_sf.best_estimator_"
   ]
  },
  {
   "cell_type": "code",
   "execution_count": 152,
   "metadata": {
    "ExecuteTime": {
     "end_time": "2021-01-13T21:22:06.517583Z",
     "start_time": "2021-01-13T21:22:06.514204Z"
    }
   },
   "outputs": [
    {
     "data": {
      "text/plain": [
       "RandomForestClassifier(class_weight='balanced', max_depth=100,\n",
       "                       min_samples_leaf=2, n_estimators=300, random_state=42)"
      ]
     },
     "execution_count": 152,
     "metadata": {},
     "output_type": "execute_result"
    }
   ],
   "source": [
    "final_model_rf_sf"
   ]
  },
  {
   "cell_type": "code",
   "execution_count": 153,
   "metadata": {
    "ExecuteTime": {
     "end_time": "2021-01-13T21:22:09.240884Z",
     "start_time": "2021-01-13T21:22:07.919658Z"
    }
   },
   "outputs": [
    {
     "name": "stdout",
     "output_type": "stream",
     "text": [
      "Training accuracy : 0.9680653246018271\n",
      "Testing accuracy : 0.8983749696822702\n",
      "\n",
      "\n",
      "Test Dataset\n",
      "              precision    recall  f1-score   support\n",
      "\n",
      "           0       0.87      0.93      0.90      2046\n",
      "           1       0.93      0.87      0.90      2077\n",
      "\n",
      "    accuracy                           0.90      4123\n",
      "   macro avg       0.90      0.90      0.90      4123\n",
      "weighted avg       0.90      0.90      0.90      4123\n",
      "\n"
     ]
    }
   ],
   "source": [
    "print(\"Training accuracy :\", final_model_rf_sf.score(X_train_fs_sf,y_train))\n",
    "print(\"Testing accuracy :\", final_model_rf_sf.score(X_test_fs_sf,y_test))\n",
    "print('\\n')\n",
    "predictions_train = final_model_rf_sf.predict(X_test_fs_sf)\n",
    "print(\"Test Dataset\")\n",
    "print(classification_report(y_test, predictions_train))"
   ]
  },
  {
   "cell_type": "code",
   "execution_count": 154,
   "metadata": {
    "ExecuteTime": {
     "end_time": "2021-01-13T21:22:11.217525Z",
     "start_time": "2021-01-13T21:22:10.626051Z"
    }
   },
   "outputs": [
    {
     "name": "stdout",
     "output_type": "stream",
     "text": [
      "Confusion Matrix:\n",
      "-----------------\n",
      "[[1903  143]\n",
      " [ 276 1801]]\n",
      "\n",
      "\n",
      "False positive rate -  0.06989247311827956\n"
     ]
    },
    {
     "data": {
      "text/plain": [
       "<Figure size 432x432 with 0 Axes>"
      ]
     },
     "metadata": {},
     "output_type": "display_data"
    },
    {
     "data": {
      "image/png": "[encoded data removed]",
      "text/plain": [
       "<Figure size 360x360 with 2 Axes>"
      ]
     },
     "metadata": {
      "needs_background": "light"
     },
     "output_type": "display_data"
    }
   ],
   "source": [
    "CM = confusion_matrix(y_test, final_model_rf_sf.predict(X_test_fs_sf))\n",
    "\n",
    "TN = CM[0][0]\n",
    "FN = CM[1][0]\n",
    "TP = CM[1][1]\n",
    "FP = CM[0][1]\n",
    "# False positive rate\n",
    "FPR = FP/(FP+TN)\n",
    "\n",
    "print('Confusion Matrix:')\n",
    "print('-----------------')\n",
    "print(CM)\n",
    "print('\\n')\n",
    "print('False positive rate - ',FPR)\n",
    "\n",
    "# Plot confusion matrix\n",
    "class_names = [0,1]\n",
    "plt.figure(figsize=(6,6))\n",
    "disp = plot_confusion_matrix(final_model_rf_sf, X_test_fs_sf,y_test,\n",
    "                             display_labels=class_names,\n",
    "                             cmap=plt.cm.Blues)\n",
    "disp.ax_.set_title(\"confusion matrix\")\n",
    "plt.grid(b=None)\n",
    "fig = plt.gcf()\n",
    "fig.set_size_inches(5,5)\n",
    "plt.show()"
   ]
  },
  {
   "cell_type": "code",
   "execution_count": 155,
   "metadata": {
    "ExecuteTime": {
     "end_time": "2021-01-13T21:22:12.451708Z",
     "start_time": "2021-01-13T21:22:12.416451Z"
    }
   },
   "outputs": [],
   "source": [
    "sorted_feat_imp_rf = list(zip(X_test_fs_sf.columns,final_model_rf_sf.feature_importances_))\n",
    "sorted_feat_imp_rf.sort(key=lambda x: x[1],reverse = True)\n",
    "pd.DataFrame(sorted_feat_imp_rf,columns = ['feature','importance']).to_csv('../first_run_rf_sf_fi.csv')"
   ]
  },
  {
   "cell_type": "markdown",
   "metadata": {},
   "source": [
    "# Rough"
   ]
  },
  {
   "cell_type": "code",
   "execution_count": null,
   "metadata": {},
   "outputs": [],
   "source": [
    "# Confusion Matrix\n",
    "from sklearn.metrics import confusion_matrix\n",
    "confusion_matrix(y_true, y_pred)\n",
    "# Accuracy\n",
    "from sklearn.metrics import accuracy_score\n",
    "accuracy_score(y_true, y_pred)\n",
    "# Recall\n",
    "from sklearn.metrics import recall_score\n",
    "recall_score(y_true, y_pred, average=None)\n",
    "# Precision\n",
    "from sklearn.metrics import precision_score\n",
    "precision_score(y_true, y_pred, average=None)\n",
    "\n",
    "FP = confusion_mat.sum(axis=0) - np.diag(confusion_mat)  \n",
    "FN = confusion_mat.sum(axis=1) - np.diag(confusion_mat)\n",
    "TP = np.diag(confusion_mat)\n",
    "TN = confusion_mat.values.sum() - (FP + FN + TP)\n",
    "        \n",
    "# Sensitivity, hit rate, recall, or true positive rate\n",
    "TPR = TP/(TP+FN)\n",
    "# Specificity or true negative rate\n",
    "TNR = TN/(TN+FP) \n",
    "# Precision or positive predictive value\n",
    "PPV = TP/(TP+FP)\n",
    "# Negative predictive value\n",
    "NPV = TN/(TN+FN)\n",
    "# Fall out or false positive rate\n",
    "FPR = FP/(FP+TN)\n",
    "# False negative rate\n",
    "FNR = FN/(TP+FN)\n",
    "# False discovery rate\n",
    "FDR = FP/(TP+FP)\n",
    "\n",
    "# Overall accuracy\n",
    "ACC = (TP+TN)/(TP+FP+FN+TN)        "
   ]
  },
  {
   "cell_type": "code",
   "execution_count": 56,
   "metadata": {
    "ExecuteTime": {
     "end_time": "2021-01-12T19:20:42.737695Z",
     "start_time": "2021-01-12T19:20:42.730335Z"
    }
   },
   "outputs": [],
   "source": [
    "df_poi = X_train.head(1)\n",
    "# df1 = df.loc[:, (df > 0).all()]\n",
    "df_poi = df_poi.loc[:, (df_poi != 0).all()]"
   ]
  },
  {
   "cell_type": "code",
   "execution_count": 57,
   "metadata": {
    "ExecuteTime": {
     "end_time": "2021-01-12T19:20:44.535478Z",
     "start_time": "2021-01-12T19:20:44.518988Z"
    }
   },
   "outputs": [
    {
     "data": {
      "text/html": [
       "<div>\n",
       "<style scoped>\n",
       "    .dataframe tbody tr th:only-of-type {\n",
       "        vertical-align: middle;\n",
       "    }\n",
       "\n",
       "    .dataframe tbody tr th {\n",
       "        vertical-align: top;\n",
       "    }\n",
       "\n",
       "    .dataframe thead th {\n",
       "        text-align: right;\n",
       "    }\n",
       "</style>\n",
       "<table border=\"1\" class=\"dataframe\">\n",
       "  <thead>\n",
       "    <tr style=\"text-align: right;\">\n",
       "      <th></th>\n",
       "      <th>software_version_4.6</th>\n",
       "      <th>manufacturer_YITOA</th>\n",
       "      <th>model_P-WAL-107-YIT-03</th>\n",
       "      <th>sku_P-WAL-107-YIT-03</th>\n",
       "      <th>state_Texas</th>\n",
       "      <th>is_battery_charging_True</th>\n",
       "      <th>ranking_10.0</th>\n",
       "      <th>specialty_Oncology</th>\n",
       "      <th>fs_pct_0.0196_0.0239</th>\n",
       "      <th>avg_campaigns</th>\n",
       "      <th>...</th>\n",
       "      <th>Vasculature</th>\n",
       "      <th>Ventral Hernia</th>\n",
       "      <th>Ventricular Fibrillation with Conduction System</th>\n",
       "      <th>Wagner Classification</th>\n",
       "      <th>Warts on Skin</th>\n",
       "      <th>Whiteboard</th>\n",
       "      <th>Wrist</th>\n",
       "      <th>avg_times</th>\n",
       "      <th>avg_days</th>\n",
       "      <th>clinic_had_mia</th>\n",
       "    </tr>\n",
       "    <tr>\n",
       "      <th>asset_id</th>\n",
       "      <th></th>\n",
       "      <th></th>\n",
       "      <th></th>\n",
       "      <th></th>\n",
       "      <th></th>\n",
       "      <th></th>\n",
       "      <th></th>\n",
       "      <th></th>\n",
       "      <th></th>\n",
       "      <th></th>\n",
       "      <th></th>\n",
       "      <th></th>\n",
       "      <th></th>\n",
       "      <th></th>\n",
       "      <th></th>\n",
       "      <th></th>\n",
       "      <th></th>\n",
       "      <th></th>\n",
       "      <th></th>\n",
       "      <th></th>\n",
       "      <th></th>\n",
       "    </tr>\n",
       "  </thead>\n",
       "  <tbody>\n",
       "    <tr>\n",
       "      <th>W01Y107687</th>\n",
       "      <td>1</td>\n",
       "      <td>1</td>\n",
       "      <td>1</td>\n",
       "      <td>1</td>\n",
       "      <td>1</td>\n",
       "      <td>1</td>\n",
       "      <td>1</td>\n",
       "      <td>1</td>\n",
       "      <td>1</td>\n",
       "      <td>0.267746</td>\n",
       "      <td>...</td>\n",
       "      <td>-0.260727</td>\n",
       "      <td>-0.082145</td>\n",
       "      <td>-0.090345</td>\n",
       "      <td>-0.211962</td>\n",
       "      <td>-0.123294</td>\n",
       "      <td>-0.011374</td>\n",
       "      <td>-0.197531</td>\n",
       "      <td>1.322661</td>\n",
       "      <td>0.137164</td>\n",
       "      <td>1</td>\n",
       "    </tr>\n",
       "  </tbody>\n",
       "</table>\n",
       "<p>1 rows × 310 columns</p>\n",
       "</div>"
      ],
      "text/plain": [
       "            software_version_4.6  manufacturer_YITOA  model_P-WAL-107-YIT-03  \\\n",
       "asset_id                                                                       \n",
       "W01Y107687                     1                   1                       1   \n",
       "\n",
       "            sku_P-WAL-107-YIT-03  state_Texas  is_battery_charging_True  \\\n",
       "asset_id                                                                  \n",
       "W01Y107687                     1            1                         1   \n",
       "\n",
       "            ranking_10.0  specialty_Oncology  fs_pct_0.0196_0.0239  \\\n",
       "asset_id                                                             \n",
       "W01Y107687             1                   1                     1   \n",
       "\n",
       "            avg_campaigns  ...  Vasculature  Ventral Hernia  \\\n",
       "asset_id                   ...                                \n",
       "W01Y107687       0.267746  ...    -0.260727       -0.082145   \n",
       "\n",
       "            Ventricular Fibrillation with Conduction System  \\\n",
       "asset_id                                                      \n",
       "W01Y107687                                        -0.090345   \n",
       "\n",
       "            Wagner Classification  Warts on Skin  Whiteboard     Wrist  \\\n",
       "asset_id                                                                 \n",
       "W01Y107687              -0.211962      -0.123294   -0.011374 -0.197531   \n",
       "\n",
       "            avg_times  avg_days  clinic_had_mia  \n",
       "asset_id                                         \n",
       "W01Y107687   1.322661  0.137164               1  \n",
       "\n",
       "[1 rows x 310 columns]"
      ]
     },
     "execution_count": 57,
     "metadata": {},
     "output_type": "execute_result"
    }
   ],
   "source": [
    "df_poi.head(2)"
   ]
  },
  {
   "cell_type": "code",
   "execution_count": 98,
   "metadata": {
    "ExecuteTime": {
     "end_time": "2021-01-13T16:22:28.506156Z",
     "start_time": "2021-01-13T16:22:28.470433Z"
    }
   },
   "outputs": [
    {
     "data": {
      "text/plain": [
       "clinic_had_mia\n",
       "0     2335\n",
       "1    10034\n",
       "Name: asset_id, dtype: int64"
      ]
     },
     "execution_count": 98,
     "metadata": {},
     "output_type": "execute_result"
    }
   ],
   "source": [
    "x_asad = X_train_fs.copy()\n",
    "x_asad.reset_index(inplace = True)\n",
    "x_asad.groupby('clinic_had_mia')['asset_id'].nunique()"
   ]
  },
  {
   "cell_type": "code",
   "execution_count": null,
   "metadata": {},
   "outputs": [],
   "source": []
  }
 ],
 "metadata": {
  "kernelspec": {
   "display_name": "Python 3",
   "language": "python",
   "name": "python3"
  },
  "language_info": {
   "codemirror_mode": {
    "name": "ipython",
    "version": 3
   },
   "file_extension": ".py",
   "mimetype": "text/x-python",
   "name": "python",
   "nbconvert_exporter": "python",
   "pygments_lexer": "ipython3",
   "version": "3.8.3"
  },
  "toc": {
   "base_numbering": 1,
   "nav_menu": {},
   "number_sections": true,
   "sideBar": true,
   "skip_h1_title": false,
   "title_cell": "Table of Contents",
   "title_sidebar": "Contents",
   "toc_cell": false,
   "toc_position": {},
   "toc_section_display": true,
   "toc_window_display": false
  },
  "varInspector": {
   "cols": {
    "lenName": 16,
    "lenType": 16,
    "lenVar": 40
   },
   "kernels_config": {
    "python": {
     "delete_cmd_postfix": "",
     "delete_cmd_prefix": "del ",
     "library": "var_list.py",
     "varRefreshCmd": "print(var_dic_list())"
    },
    "r": {
     "delete_cmd_postfix": ") ",
     "delete_cmd_prefix": "rm(",
     "library": "var_list.r",
     "varRefreshCmd": "cat(var_dic_list()) "
    }
   },
   "types_to_exclude": [
    "module",
    "function",
    "builtin_function_or_method",
    "instance",
    "_Feature"
   ],
   "window_display": false
  }
 },
 "nbformat": 4,
 "nbformat_minor": 4
}
