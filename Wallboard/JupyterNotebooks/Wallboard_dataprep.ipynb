{
 "cells": [
  {
   "cell_type": "markdown",
   "metadata": {},
   "source": [
    "# Initializing necessary Packages"
   ]
  },
  {
   "cell_type": "code",
   "execution_count": 1,
   "metadata": {
    "ExecuteTime": {
     "end_time": "2021-01-08T20:14:35.487139Z",
     "start_time": "2021-01-08T20:14:34.084329Z"
    }
   },
   "outputs": [],
   "source": [
    "from data_pipeline_utils import Database\n",
    "\n",
    "import numpy as np\n",
    "import pandas as pd\n",
    "import copy\n",
    "import matplotlib.pyplot as plt\n",
    "from matplotlib import style\n",
    "%matplotlib  inline\n",
    "import re\n",
    "\n",
    "\n",
    "import warnings\n",
    "warnings.filterwarnings(\"ignore\")"
   ]
  },
  {
   "cell_type": "markdown",
   "metadata": {},
   "source": [
    "# Data Loading "
   ]
  },
  {
   "cell_type": "markdown",
   "metadata": {},
   "source": [
    "## Redshift"
   ]
  },
  {
   "cell_type": "code",
   "execution_count": 2,
   "metadata": {
    "ExecuteTime": {
     "end_time": "2021-01-08T20:14:39.682044Z",
     "start_time": "2021-01-08T20:14:37.427755Z"
    }
   },
   "outputs": [],
   "source": [
    "# Initialize database objects\n",
    "mdm = Database('mdm')\n",
    "awesomo = Database('awesomo')"
   ]
  },
  {
   "cell_type": "code",
   "execution_count": 3,
   "metadata": {
    "ExecuteTime": {
     "end_time": "2021-01-08T20:14:41.187280Z",
     "start_time": "2021-01-08T20:14:39.703127Z"
    }
   },
   "outputs": [
    {
     "name": "stdout",
     "output_type": "stream",
     "text": [
      "Shape:  (43585, 21)\n",
      "Number of unique assets:  36156\n",
      "------- Wallboards -------\n",
      "Shape:  (13916, 21)\n",
      "Number of unique wallboard assets:  10308\n"
     ]
    }
   ],
   "source": [
    "# MIA Devices Attributes\n",
    "df_mia_redshift = awesomo.to_dataframe(query='''SELECT * FROM SUNNAVA.MIA_DEVICES_VAR_V1 ''')\n",
    "print(\"Shape: \",df_mia_redshift.shape)\n",
    "\n",
    "print(\"Number of unique assets: \",df_mia_redshift.asset_name.nunique())\n",
    "\n",
    "# Filtering to Wallboards\n",
    "df_mia_redshift_wb = df_mia_redshift[df_mia_redshift.device_type == 'WALLBOARD']\n",
    "print(\"------- Wallboards -------\")\n",
    "print(\"Shape: \",df_mia_redshift_wb.shape)\n",
    "\n",
    "print(\"Number of unique wallboard assets: \",df_mia_redshift_wb.asset_name.nunique())"
   ]
  },
  {
   "cell_type": "code",
   "execution_count": 5,
   "metadata": {
    "ExecuteTime": {
     "end_time": "2021-01-08T20:17:12.017382Z",
     "start_time": "2021-01-08T20:16:10.424043Z"
    }
   },
   "outputs": [
    {
     "name": "stdout",
     "output_type": "stream",
     "text": [
      "Shape:  (2077251, 22)\n",
      "Number of unique assets:  45207\n",
      "------- Wallboards -------\n",
      "Shape:  (1007953, 22)\n",
      "Number of unique wallboard assets:  19958\n"
     ]
    }
   ],
   "source": [
    "# NON MIA Devices Attributes\n",
    "df_nonmia_redshift = awesomo.to_dataframe(query='''SELECT * FROM SUNNAVA.NONMIA_DEVICES_VAR_V1 ''')\n",
    "print(\"Shape: \",df_nonmia_redshift.shape)\n",
    "\n",
    "print(\"Number of unique assets: \",df_nonmia_redshift.asset_tag.nunique())\n",
    "\n",
    "# Filtering to Wallboards\n",
    "df_nonmia_redshift_wb = df_nonmia_redshift[df_nonmia_redshift.device_type == 'WALLBOARD']\n",
    "df_nonmia_redshift_wb.rename(columns={'asset_tag':'asset_name'},inplace = True)\n",
    "print(\"------- Wallboards -------\")\n",
    "print(\"Shape: \",df_nonmia_redshift_wb.shape)\n",
    "\n",
    "print(\"Number of unique wallboard assets: \",df_nonmia_redshift_wb.asset_name.nunique())"
   ]
  },
  {
   "cell_type": "markdown",
   "metadata": {},
   "source": [
    "# Data Preparation"
   ]
  },
  {
   "cell_type": "code",
   "execution_count": 8,
   "metadata": {
    "ExecuteTime": {
     "end_time": "2021-01-08T20:24:52.743129Z",
     "start_time": "2021-01-08T20:24:52.273054Z"
    }
   },
   "outputs": [
    {
     "name": "stdout",
     "output_type": "stream",
     "text": [
      "(30266, 2)\n",
      "\n",
      "Distribution of Test & Control:\n",
      "\n",
      "y_flag\n",
      "0    19958\n",
      "1    10308\n",
      "Name: asset_id, dtype: int64\n"
     ]
    }
   ],
   "source": [
    "# Creating Asset_ids and MIA/NON-MIA devices\n",
    "\n",
    "#concating asset ids of both MIA and Non MIA devices along with the respective flags\n",
    "df_final = pd.concat([pd.DataFrame({'asset_id':df_mia_redshift_wb.asset_name.unique(),\n",
    "                                   'y_flag': pd.Series([1 for x in range(df_mia_redshift_wb.asset_name.nunique())],\n",
    "                                                       )}),\n",
    "                      pd.DataFrame({'asset_id':df_nonmia_redshift_wb.asset_name.unique(),\n",
    "                                   'y_flag': pd.Series([0 for x in range(df_nonmia_redshift_wb.asset_name.nunique())],\n",
    "                                                      )})],\n",
    "                    axis = 0)\n",
    "\n",
    "# Converting flag to categorical datatype\n",
    "df_final['y_flag']= df_final.y_flag.astype('category')\n",
    "\n",
    "print(df_final.shape)\n",
    "print(\"\")\n",
    "print(\"Distribution of Test & Control:\")\n",
    "print(\"\")\n",
    "print(df_final.groupby('y_flag')['asset_id'].count())"
   ]
  },
  {
   "cell_type": "code",
   "execution_count": 9,
   "metadata": {
    "ExecuteTime": {
     "end_time": "2021-01-08T20:25:00.277170Z",
     "start_time": "2021-01-08T20:25:00.271756Z"
    }
   },
   "outputs": [
    {
     "data": {
      "text/plain": [
       "Index(['asset_name', 'device_type', 'software_version', 'free_disk_space',\n",
       "       'is_battery_charging', 'battery_charge_level', 'min_free_space_by_type',\n",
       "       'manufacturer', 'model', 'sku', 'processor', 'screen_size', 'avg_times',\n",
       "       'avg_days', 'state', 'facility_type', 'ranking', 'account_type',\n",
       "       'specialty', 'business_tier', 'clinic_had_mia'],\n",
       "      dtype='object')"
      ]
     },
     "execution_count": 9,
     "metadata": {},
     "output_type": "execute_result"
    }
   ],
   "source": [
    "df_mia_redshift_wb.columns"
   ]
  },
  {
   "cell_type": "markdown",
   "metadata": {},
   "source": [
    "## One Hot encoding"
   ]
  },
  {
   "cell_type": "code",
   "execution_count": 53,
   "metadata": {
    "ExecuteTime": {
     "end_time": "2021-01-08T21:26:45.732591Z",
     "start_time": "2021-01-08T21:26:45.457641Z"
    }
   },
   "outputs": [],
   "source": [
    "df_mia_redshift_wb_2 = df_mia_redshift_wb.copy()\n",
    "\n",
    "df_nonmia_redshift_wb_2 = df_nonmia_redshift_wb.copy()"
   ]
  },
  {
   "cell_type": "code",
   "execution_count": 54,
   "metadata": {
    "ExecuteTime": {
     "end_time": "2021-01-08T21:27:17.617061Z",
     "start_time": "2021-01-08T21:27:16.177876Z"
    }
   },
   "outputs": [],
   "source": [
    "df_mia_redshift_wb.replace(np.nan,'unknown',inplace=True)\n",
    "df_nonmia_redshift_wb.replace(np.nan,'unknown',inplace=True)"
   ]
  },
  {
   "cell_type": "code",
   "execution_count": 84,
   "metadata": {
    "ExecuteTime": {
     "end_time": "2021-01-08T21:45:35.462990Z",
     "start_time": "2021-01-08T21:45:34.665915Z"
    }
   },
   "outputs": [],
   "source": [
    "## Replacing unknowns such as nil, empty, APK not installed to Unknown\n",
    "df_mia_redshift_wb['software_version'] = np.where((df_mia_redshift_wb['software_version'] == '[APK NOT INSTALLED]') | \n",
    "                                                  (df_mia_redshift_wb['software_version'] == 'nil') |\n",
    "                                                  (df_mia_redshift_wb['software_version'] == 'None'),\n",
    "                                                  'unknown',\n",
    "                                                  df_mia_redshift_wb['software_version'])\n",
    "\n",
    "df_mia_redshift_wb['facility_type'] = np.where((df_mia_redshift_wb['facility_type'] == 'Other'),\n",
    "                                               'unknown',\n",
    "                                               df_mia_redshift_wb['facility_type'])\n",
    "\n",
    "df_nonmia_redshift_wb['software_version'] = np.where((df_nonmia_redshift_wb['software_version'] == '[APK NOT INSTALLED]') | \n",
    "                                                  (df_nonmia_redshift_wb['software_version'] == 'nil') |\n",
    "                                                  (df_nonmia_redshift_wb['software_version'] == 'NOT INSTALLED') |\n",
    "                                                  (df_nonmia_redshift_wb['software_version'] == 'None'),\n",
    "                                                  'unknown',\n",
    "                                                  df_nonmia_redshift_wb['software_version'])\n",
    "\n",
    "df_nonmia_redshift_wb['facility_type'] = np.where((df_nonmia_redshift_wb['facility_type'] == 'Other'),\n",
    "                                               'unknown',\n",
    "                                               df_nonmia_redshift_wb['facility_type'])"
   ]
  },
  {
   "cell_type": "code",
   "execution_count": 91,
   "metadata": {
    "ExecuteTime": {
     "end_time": "2021-01-08T21:50:09.102952Z",
     "start_time": "2021-01-08T21:50:09.095399Z"
    }
   },
   "outputs": [],
   "source": [
    "def one_hotencoding(data,var_list):\n",
    "    ''' Function for one-hot endcoding categorical variables  '''\n",
    "    \n",
    "    df_categorical = pd.DataFrame()\n",
    "    for column in var_list:\n",
    "        curr_cols = ['asset_name']\n",
    "        curr_cols.append(column)\n",
    "        \n",
    "        df_curr = data[curr_cols]\n",
    "        # dropping duplicates\n",
    "        df_curr.drop_duplicates(inplace = True)\n",
    "        # Get one hot encoding of current column \n",
    "        one_hot = pd.get_dummies(df_curr[column])\n",
    "        # Drop column B as it is now encoded\n",
    "        df_curr = df_curr.drop(column,axis = 1)\n",
    "        # Join the encoded df\n",
    "        df_curr = df_curr.join(one_hot)\n",
    "        df_curr = df_curr.groupby('asset_name').sum()  \n",
    "        df_curr.reset_index(inplace=True)\n",
    "        # dropping a column to avoid dummy variable trap\n",
    "        df_curr = df_curr.iloc[:,:df_curr.shape[1]-1]\n",
    "        \n",
    "        # Converting all \n",
    "        cols=[i for i in df_curr.columns if i not in [\"asset_name\"]]\n",
    "        for col in cols:\n",
    "            df_curr[col]= df_curr[col].astype('category')\n",
    "        if df_categorical.empty :\n",
    "            df_categorical = df_curr\n",
    "        else:\n",
    "            df_categorical = df_categorical.merge(df_curr, left_on = 'asset_name',right_on = 'asset_name')\n",
    "     \n",
    "    return df_categorical"
   ]
  },
  {
   "cell_type": "code",
   "execution_count": 92,
   "metadata": {
    "ExecuteTime": {
     "end_time": "2021-01-08T21:50:16.224903Z",
     "start_time": "2021-01-08T21:50:16.221896Z"
    }
   },
   "outputs": [],
   "source": [
    "categorical_vars = ['software_version','manufacturer','model','sku','state','is_battery_charging',\n",
    "                    'facility_type','ranking','specialty']\n"
   ]
  },
  {
   "cell_type": "code",
   "execution_count": 96,
   "metadata": {
    "ExecuteTime": {
     "end_time": "2021-01-08T21:51:53.415410Z",
     "start_time": "2021-01-08T21:51:52.802063Z"
    }
   },
   "outputs": [
    {
     "data": {
      "text/plain": [
       "(10308, 156)"
      ]
     },
     "execution_count": 96,
     "metadata": {},
     "output_type": "execute_result"
    }
   ],
   "source": [
    "df_mia_redshift_wb_cat = one_hotencoding(df_mia_redshift_wb,categorical_vars)\n",
    "df_mia_redshift_wb_cat.shape"
   ]
  },
  {
   "cell_type": "code",
   "execution_count": 97,
   "metadata": {
    "ExecuteTime": {
     "end_time": "2021-01-08T21:52:06.088872Z",
     "start_time": "2021-01-08T21:52:00.863010Z"
    }
   },
   "outputs": [
    {
     "data": {
      "text/plain": [
       "(19958, 157)"
      ]
     },
     "execution_count": 97,
     "metadata": {},
     "output_type": "execute_result"
    }
   ],
   "source": [
    "df_nonmia_redshift_wb_cat = one_hotencoding(df_nonmia_redshift_wb,categorical_vars)\n",
    "df_nonmia_redshift_wb_cat.shape"
   ]
  },
  {
   "cell_type": "code",
   "execution_count": 100,
   "metadata": {
    "ExecuteTime": {
     "end_time": "2021-01-08T22:04:33.708006Z",
     "start_time": "2021-01-08T22:04:33.704937Z"
    }
   },
   "outputs": [],
   "source": [
    "# Dropping these columns as only one of the cohorts has data \n",
    "columns_to_drop = list(set(df_nonmia_redshift_wb_cat.columns)-set(df_mia_redshift_wb_cat.columns)) + list(set(df_mia_redshift_wb_cat.columns)-set(df_nonmia_redshift_wb_cat.columns))"
   ]
  },
  {
   "cell_type": "code",
   "execution_count": 102,
   "metadata": {
    "ExecuteTime": {
     "end_time": "2021-01-08T22:07:53.356477Z",
     "start_time": "2021-01-08T22:07:53.245349Z"
    }
   },
   "outputs": [
    {
     "name": "stdout",
     "output_type": "stream",
     "text": [
      "Shape of MIA Devices : (10308, 150)\n",
      "Shape of NONMIA Devices : (19958, 150)\n"
     ]
    }
   ],
   "source": [
    "for col in columns_to_drop:\n",
    "    if col in df_mia_redshift_wb_cat.columns:\n",
    "        df_mia_redshift_wb_cat.drop(col,1,inplace = True)\n",
    "    if col in df_nonmia_redshift_wb_cat.columns:    \n",
    "        df_nonmia_redshift_wb_cat.drop(col,1,inplace = True)\n",
    "\n",
    "print(\"Shape of MIA Devices :\",df_mia_redshift_wb_cat.shape)    \n",
    "print(\"Shape of NONMIA Devices :\",df_nonmia_redshift_wb_cat.shape)    "
   ]
  },
  {
   "cell_type": "markdown",
   "metadata": {},
   "source": [
    "# Rough"
   ]
  },
  {
   "cell_type": "code",
   "execution_count": 89,
   "metadata": {
    "ExecuteTime": {
     "end_time": "2021-01-08T19:41:29.932368Z",
     "start_time": "2021-01-08T19:41:29.925456Z"
    }
   },
   "outputs": [
    {
     "data": {
      "text/plain": [
       "2825    4\n",
       "dtype: int64"
      ]
     },
     "execution_count": 89,
     "metadata": {},
     "output_type": "execute_result"
    }
   ],
   "source": [
    "df_curr[df_curr.asset_name == 'W01E120225'].sum(axis = 1)"
   ]
  },
  {
   "cell_type": "code",
   "execution_count": null,
   "metadata": {},
   "outputs": [],
   "source": [
    "# df_mia_redshift_wb['manufacturer'] = np.where((df_mia_redshift_wb['manufacturer'] == 'None'),\n",
    "#                                                'unknown',\n",
    "#                                                df_mia_redshift_wb['manufacturer'])\n",
    "\n",
    "# df_mia_redshift_wb['model'] = np.where((df_mia_redshift_wb['model'] == 'None'),\n",
    "#                                                'unknown',\n",
    "#                                                df_mia_redshift_wb['model'])\n",
    "\n",
    "# df_mia_redshift_wb['sku'] = np.where((df_mia_redshift_wb['sku'] == 'None'),\n",
    "#                                                'unknown',\n",
    "#                                                df_mia_redshift_wb['sku'])\n",
    "\n",
    "# df_mia_redshift_wb['processor'] = np.where((df_mia_redshift_wb['processor'] == 'None'),\n",
    "#                                                'unknown',\n",
    "#                                                df_mia_redshift_wb['processor'])\n",
    "\n",
    "# df_mia_redshift_wb['processor'] = np.where((df_mia_redshift_wb['processor'] == 'None'),\n",
    "#                                                'unknown',\n",
    "#                                                df_mia_redshift_wb['processor'])"
   ]
  }
 ],
 "metadata": {
  "kernelspec": {
   "display_name": "Python 3",
   "language": "python",
   "name": "python3"
  },
  "language_info": {
   "codemirror_mode": {
    "name": "ipython",
    "version": 3
   },
   "file_extension": ".py",
   "mimetype": "text/x-python",
   "name": "python",
   "nbconvert_exporter": "python",
   "pygments_lexer": "ipython3",
   "version": "3.8.3"
  },
  "toc": {
   "base_numbering": 1,
   "nav_menu": {},
   "number_sections": true,
   "sideBar": true,
   "skip_h1_title": false,
   "title_cell": "Table of Contents",
   "title_sidebar": "Contents",
   "toc_cell": false,
   "toc_position": {},
   "toc_section_display": true,
   "toc_window_display": false
  },
  "varInspector": {
   "cols": {
    "lenName": 16,
    "lenType": 16,
    "lenVar": 40
   },
   "kernels_config": {
    "python": {
     "delete_cmd_postfix": "",
     "delete_cmd_prefix": "del ",
     "library": "var_list.py",
     "varRefreshCmd": "print(var_dic_list())"
    },
    "r": {
     "delete_cmd_postfix": ") ",
     "delete_cmd_prefix": "rm(",
     "library": "var_list.r",
     "varRefreshCmd": "cat(var_dic_list()) "
    }
   },
   "types_to_exclude": [
    "module",
    "function",
    "builtin_function_or_method",
    "instance",
    "_Feature"
   ],
   "window_display": false
  }
 },
 "nbformat": 4,
 "nbformat_minor": 4
}
