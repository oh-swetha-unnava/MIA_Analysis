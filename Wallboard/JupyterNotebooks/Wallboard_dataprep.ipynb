{
 "cells": [
  {
   "cell_type": "markdown",
   "metadata": {},
   "source": [
    "# Initializing necessary Packages"
   ]
  },
  {
   "cell_type": "code",
   "execution_count": 303,
   "metadata": {
    "ExecuteTime": {
     "end_time": "2021-01-10T13:26:56.572618Z",
     "start_time": "2021-01-10T13:26:47.188755Z"
    }
   },
   "outputs": [],
   "source": [
    "from data_pipeline_utils import Database\n",
    "\n",
    "import numpy as np\n",
    "import pandas as pd\n",
    "import copy\n",
    "import matplotlib.pyplot as plt\n",
    "from matplotlib import style\n",
    "%matplotlib  inline\n",
    "import re\n",
    "import os\n",
    "from sklearn.model_selection import train_test_split\n",
    "\n",
    "import warnings\n",
    "warnings.filterwarnings(\"ignore\")"
   ]
  },
  {
   "cell_type": "markdown",
   "metadata": {},
   "source": [
    "# Data Loading "
   ]
  },
  {
   "cell_type": "markdown",
   "metadata": {},
   "source": [
    "## Redshift"
   ]
  },
  {
   "cell_type": "code",
   "execution_count": 2,
   "metadata": {
    "ExecuteTime": {
     "end_time": "2021-01-10T08:35:33.397180Z",
     "start_time": "2021-01-10T08:35:31.659082Z"
    }
   },
   "outputs": [],
   "source": [
    "# Initialize database objects\n",
    "mdm = Database('mdm')\n",
    "awesomo = Database('awesomo')"
   ]
  },
  {
   "cell_type": "code",
   "execution_count": 3,
   "metadata": {
    "ExecuteTime": {
     "end_time": "2021-01-10T08:35:38.049479Z",
     "start_time": "2021-01-10T08:35:33.412043Z"
    }
   },
   "outputs": [
    {
     "name": "stdout",
     "output_type": "stream",
     "text": [
      "Shape:  (43585, 21)\n",
      "Number of unique assets:  36156\n",
      "------- Wallboards -------\n",
      "Shape:  (13916, 21)\n",
      "Number of unique wallboard assets:  10308\n"
     ]
    }
   ],
   "source": [
    "# MIA Devices Attributes\n",
    "df_mia_redshift = awesomo.to_dataframe(query='''SELECT * FROM SUNNAVA.MIA_DEVICES_VAR_V1 ''')\n",
    "print(\"Shape: \",df_mia_redshift.shape)\n",
    "\n",
    "print(\"Number of unique assets: \",df_mia_redshift.asset_name.nunique())\n",
    "\n",
    "# Filtering to Wallboards\n",
    "df_mia_redshift_wb = df_mia_redshift[df_mia_redshift.device_type == 'WALLBOARD']\n",
    "print(\"------- Wallboards -------\")\n",
    "print(\"Shape: \",df_mia_redshift_wb.shape)\n",
    "\n",
    "print(\"Number of unique wallboard assets: \",df_mia_redshift_wb.asset_name.nunique())"
   ]
  },
  {
   "cell_type": "code",
   "execution_count": 4,
   "metadata": {
    "ExecuteTime": {
     "end_time": "2021-01-10T08:42:27.113216Z",
     "start_time": "2021-01-10T08:35:38.235975Z"
    }
   },
   "outputs": [
    {
     "name": "stdout",
     "output_type": "stream",
     "text": [
      "Shape:  (2077251, 22)\n",
      "Number of unique assets:  45207\n",
      "------- Wallboards -------\n",
      "Shape:  (1007953, 22)\n",
      "Number of unique wallboard assets:  19958\n"
     ]
    }
   ],
   "source": [
    "# NON MIA Devices Attributes\n",
    "df_nonmia_redshift = awesomo.to_dataframe(query='''SELECT * FROM SUNNAVA.NONMIA_DEVICES_VAR_V1 ''')\n",
    "print(\"Shape: \",df_nonmia_redshift.shape)\n",
    "\n",
    "print(\"Number of unique assets: \",df_nonmia_redshift.asset_tag.nunique())\n",
    "\n",
    "# Filtering to Wallboards\n",
    "df_nonmia_redshift_wb = df_nonmia_redshift[df_nonmia_redshift.device_type == 'WALLBOARD']\n",
    "df_nonmia_redshift_wb.rename(columns={'asset_tag':'asset_name'},inplace = True)\n",
    "print(\"------- Wallboards -------\")\n",
    "print(\"Shape: \",df_nonmia_redshift_wb.shape)\n",
    "\n",
    "print(\"Number of unique wallboard assets: \",df_nonmia_redshift_wb.asset_name.nunique())"
   ]
  },
  {
   "cell_type": "markdown",
   "metadata": {},
   "source": [
    "## Treasure Data"
   ]
  },
  {
   "cell_type": "code",
   "execution_count": 78,
   "metadata": {
    "ExecuteTime": {
     "end_time": "2021-01-10T09:50:10.524675Z",
     "start_time": "2021-01-10T09:50:10.521226Z"
    }
   },
   "outputs": [
    {
     "data": {
      "text/plain": [
       "['NONMIA_Devices_Campaign_sponsornames.csv',\n",
       " 'NONMIA_WB_interactions.csv',\n",
       " 'activity_variables_mia.csv',\n",
       " '.DS_Store',\n",
       " 'old',\n",
       " 'MIA_WB_interactions.csv',\n",
       " 'activity_variables_nonmia.csv',\n",
       " 'avg_sessions_nonmia.csv',\n",
       " 'avg_sessions_mia.csv',\n",
       " 'MIA_Devices_Campaign_sponsornames.csv']"
      ]
     },
     "execution_count": 78,
     "metadata": {},
     "output_type": "execute_result"
    }
   ],
   "source": [
    "os.listdir('../Treasure_Data_Variables')"
   ]
  },
  {
   "cell_type": "code",
   "execution_count": 83,
   "metadata": {
    "ExecuteTime": {
     "end_time": "2021-01-10T09:58:01.014166Z",
     "start_time": "2021-01-10T09:58:00.926333Z"
    }
   },
   "outputs": [
    {
     "name": "stdout",
     "output_type": "stream",
     "text": [
      "(31860, 14)\n"
     ]
    },
    {
     "data": {
      "text/html": [
       "<div>\n",
       "<style scoped>\n",
       "    .dataframe tbody tr th:only-of-type {\n",
       "        vertical-align: middle;\n",
       "    }\n",
       "\n",
       "    .dataframe tbody tr th {\n",
       "        vertical-align: top;\n",
       "    }\n",
       "\n",
       "    .dataframe thead th {\n",
       "        text-align: right;\n",
       "    }\n",
       "</style>\n",
       "<table border=\"1\" class=\"dataframe\">\n",
       "  <thead>\n",
       "    <tr style=\"text-align: right;\">\n",
       "      <th></th>\n",
       "      <th>asset_id</th>\n",
       "      <th>avg_campaigns</th>\n",
       "      <th>JUNE_avg_video_dispalys</th>\n",
       "      <th>JUL_avg_video_dispalys</th>\n",
       "      <th>AUG_avg_video_dispalys</th>\n",
       "      <th>SEPT_avg_video_dispalys</th>\n",
       "      <th>OCT_avg_video_dispalys</th>\n",
       "      <th>NOV_avg_video_dispaly</th>\n",
       "      <th>JUNE_avg_video_duration</th>\n",
       "      <th>JUL_avg_video_duration</th>\n",
       "      <th>AUG_avg_video_duration</th>\n",
       "      <th>SEPT_avg_video_duration</th>\n",
       "      <th>OCT_avg_video_duration</th>\n",
       "      <th>NOV_avg_video_duration</th>\n",
       "    </tr>\n",
       "  </thead>\n",
       "  <tbody>\n",
       "    <tr>\n",
       "      <th>0</th>\n",
       "      <td>W01E123544</td>\n",
       "      <td>2.6</td>\n",
       "      <td>0.0</td>\n",
       "      <td>0.0</td>\n",
       "      <td>0.0</td>\n",
       "      <td>0.0</td>\n",
       "      <td>347.681818</td>\n",
       "      <td>0.0</td>\n",
       "      <td>0.0</td>\n",
       "      <td>0.000000e+00</td>\n",
       "      <td>0.0</td>\n",
       "      <td>0.0</td>\n",
       "      <td>6.962007e+06</td>\n",
       "      <td>0.0</td>\n",
       "    </tr>\n",
       "    <tr>\n",
       "      <th>1</th>\n",
       "      <td>W01E123544</td>\n",
       "      <td>2.6</td>\n",
       "      <td>0.0</td>\n",
       "      <td>248.0</td>\n",
       "      <td>0.0</td>\n",
       "      <td>0.0</td>\n",
       "      <td>0.000000</td>\n",
       "      <td>0.0</td>\n",
       "      <td>0.0</td>\n",
       "      <td>4.966034e+06</td>\n",
       "      <td>0.0</td>\n",
       "      <td>0.0</td>\n",
       "      <td>0.000000e+00</td>\n",
       "      <td>0.0</td>\n",
       "    </tr>\n",
       "    <tr>\n",
       "      <th>2</th>\n",
       "      <td>W01E123544</td>\n",
       "      <td>2.6</td>\n",
       "      <td>0.0</td>\n",
       "      <td>0.0</td>\n",
       "      <td>27.0</td>\n",
       "      <td>0.0</td>\n",
       "      <td>0.000000</td>\n",
       "      <td>0.0</td>\n",
       "      <td>0.0</td>\n",
       "      <td>0.000000e+00</td>\n",
       "      <td>540723.0</td>\n",
       "      <td>0.0</td>\n",
       "      <td>0.000000e+00</td>\n",
       "      <td>0.0</td>\n",
       "    </tr>\n",
       "  </tbody>\n",
       "</table>\n",
       "</div>"
      ],
      "text/plain": [
       "     asset_id  avg_campaigns  JUNE_avg_video_dispalys  JUL_avg_video_dispalys  \\\n",
       "0  W01E123544            2.6                      0.0                     0.0   \n",
       "1  W01E123544            2.6                      0.0                   248.0   \n",
       "2  W01E123544            2.6                      0.0                     0.0   \n",
       "\n",
       "   AUG_avg_video_dispalys  SEPT_avg_video_dispalys  OCT_avg_video_dispalys  \\\n",
       "0                     0.0                      0.0              347.681818   \n",
       "1                     0.0                      0.0                0.000000   \n",
       "2                    27.0                      0.0                0.000000   \n",
       "\n",
       "   NOV_avg_video_dispaly  JUNE_avg_video_duration  JUL_avg_video_duration  \\\n",
       "0                    0.0                      0.0            0.000000e+00   \n",
       "1                    0.0                      0.0            4.966034e+06   \n",
       "2                    0.0                      0.0            0.000000e+00   \n",
       "\n",
       "   AUG_avg_video_duration  SEPT_avg_video_duration  OCT_avg_video_duration  \\\n",
       "0                     0.0                      0.0            6.962007e+06   \n",
       "1                     0.0                      0.0            0.000000e+00   \n",
       "2                540723.0                      0.0            0.000000e+00   \n",
       "\n",
       "   NOV_avg_video_duration  \n",
       "0                     0.0  \n",
       "1                     0.0  \n",
       "2                     0.0  "
      ]
     },
     "execution_count": 83,
     "metadata": {},
     "output_type": "execute_result"
    }
   ],
   "source": [
    "df_mia_activity_wb_var1 = pd.read_csv('../Treasure_Data_Variables/activity_variables_mia.csv')\n",
    "print(df_mia_activity_wb_var1.shape)\n",
    "df_mia_activity_wb_var1.head(3)"
   ]
  },
  {
   "cell_type": "code",
   "execution_count": 84,
   "metadata": {
    "ExecuteTime": {
     "end_time": "2021-01-10T09:58:10.277877Z",
     "start_time": "2021-01-10T09:58:10.136295Z"
    }
   },
   "outputs": [
    {
     "name": "stdout",
     "output_type": "stream",
     "text": [
      "(89508, 14)\n"
     ]
    },
    {
     "data": {
      "text/html": [
       "<div>\n",
       "<style scoped>\n",
       "    .dataframe tbody tr th:only-of-type {\n",
       "        vertical-align: middle;\n",
       "    }\n",
       "\n",
       "    .dataframe tbody tr th {\n",
       "        vertical-align: top;\n",
       "    }\n",
       "\n",
       "    .dataframe thead th {\n",
       "        text-align: right;\n",
       "    }\n",
       "</style>\n",
       "<table border=\"1\" class=\"dataframe\">\n",
       "  <thead>\n",
       "    <tr style=\"text-align: right;\">\n",
       "      <th></th>\n",
       "      <th>asset_id</th>\n",
       "      <th>avg_campaigns</th>\n",
       "      <th>JUNE_avg_video_dispalys</th>\n",
       "      <th>JUL_avg_video_dispalys</th>\n",
       "      <th>AUG_avg_video_dispalys</th>\n",
       "      <th>SEPT_avg_video_dispalys</th>\n",
       "      <th>OCT_avg_video_dispalys</th>\n",
       "      <th>NOV_avg_video_dispaly</th>\n",
       "      <th>JUNE_avg_video_duration</th>\n",
       "      <th>JUL_avg_video_duration</th>\n",
       "      <th>AUG_avg_video_duration</th>\n",
       "      <th>SEPT_avg_video_duration</th>\n",
       "      <th>OCT_avg_video_duration</th>\n",
       "      <th>NOV_avg_video_duration</th>\n",
       "    </tr>\n",
       "  </thead>\n",
       "  <tbody>\n",
       "    <tr>\n",
       "      <th>0</th>\n",
       "      <td>W01E118505</td>\n",
       "      <td>3.0</td>\n",
       "      <td>0.000000</td>\n",
       "      <td>230.956522</td>\n",
       "      <td>0.0</td>\n",
       "      <td>0.000000</td>\n",
       "      <td>0.0</td>\n",
       "      <td>0.0</td>\n",
       "      <td>0.000000e+00</td>\n",
       "      <td>4.623820e+06</td>\n",
       "      <td>0.0</td>\n",
       "      <td>0.0</td>\n",
       "      <td>0.0</td>\n",
       "      <td>0.0</td>\n",
       "    </tr>\n",
       "    <tr>\n",
       "      <th>1</th>\n",
       "      <td>W01E118505</td>\n",
       "      <td>3.0</td>\n",
       "      <td>0.000000</td>\n",
       "      <td>0.000000</td>\n",
       "      <td>0.0</td>\n",
       "      <td>367.681818</td>\n",
       "      <td>0.0</td>\n",
       "      <td>0.0</td>\n",
       "      <td>0.000000e+00</td>\n",
       "      <td>0.000000e+00</td>\n",
       "      <td>0.0</td>\n",
       "      <td>2000586.0</td>\n",
       "      <td>0.0</td>\n",
       "      <td>0.0</td>\n",
       "    </tr>\n",
       "    <tr>\n",
       "      <th>2</th>\n",
       "      <td>W01E118505</td>\n",
       "      <td>3.0</td>\n",
       "      <td>122.409091</td>\n",
       "      <td>0.000000</td>\n",
       "      <td>0.0</td>\n",
       "      <td>0.000000</td>\n",
       "      <td>0.0</td>\n",
       "      <td>0.0</td>\n",
       "      <td>2.450443e+06</td>\n",
       "      <td>0.000000e+00</td>\n",
       "      <td>0.0</td>\n",
       "      <td>0.0</td>\n",
       "      <td>0.0</td>\n",
       "      <td>0.0</td>\n",
       "    </tr>\n",
       "  </tbody>\n",
       "</table>\n",
       "</div>"
      ],
      "text/plain": [
       "     asset_id  avg_campaigns  JUNE_avg_video_dispalys  JUL_avg_video_dispalys  \\\n",
       "0  W01E118505            3.0                 0.000000              230.956522   \n",
       "1  W01E118505            3.0                 0.000000                0.000000   \n",
       "2  W01E118505            3.0               122.409091                0.000000   \n",
       "\n",
       "   AUG_avg_video_dispalys  SEPT_avg_video_dispalys  OCT_avg_video_dispalys  \\\n",
       "0                     0.0                 0.000000                     0.0   \n",
       "1                     0.0               367.681818                     0.0   \n",
       "2                     0.0                 0.000000                     0.0   \n",
       "\n",
       "   NOV_avg_video_dispaly  JUNE_avg_video_duration  JUL_avg_video_duration  \\\n",
       "0                    0.0             0.000000e+00            4.623820e+06   \n",
       "1                    0.0             0.000000e+00            0.000000e+00   \n",
       "2                    0.0             2.450443e+06            0.000000e+00   \n",
       "\n",
       "   AUG_avg_video_duration  SEPT_avg_video_duration  OCT_avg_video_duration  \\\n",
       "0                     0.0                      0.0                     0.0   \n",
       "1                     0.0                2000586.0                     0.0   \n",
       "2                     0.0                      0.0                     0.0   \n",
       "\n",
       "   NOV_avg_video_duration  \n",
       "0                     0.0  \n",
       "1                     0.0  \n",
       "2                     0.0  "
      ]
     },
     "execution_count": 84,
     "metadata": {},
     "output_type": "execute_result"
    }
   ],
   "source": [
    "df_nonmia_activity_wb_var1 = pd.read_csv('../Treasure_Data_Variables/activity_variables_nonmia.csv')\n",
    "print(df_nonmia_activity_wb_var1.shape)\n",
    "df_nonmia_activity_wb_var1.head(3)"
   ]
  },
  {
   "cell_type": "code",
   "execution_count": 85,
   "metadata": {
    "ExecuteTime": {
     "end_time": "2021-01-10T09:58:18.242843Z",
     "start_time": "2021-01-10T09:58:18.138106Z"
    }
   },
   "outputs": [
    {
     "name": "stdout",
     "output_type": "stream",
     "text": [
      "(37825, 19)\n"
     ]
    },
    {
     "data": {
      "text/html": [
       "<div>\n",
       "<style scoped>\n",
       "    .dataframe tbody tr th:only-of-type {\n",
       "        vertical-align: middle;\n",
       "    }\n",
       "\n",
       "    .dataframe tbody tr th {\n",
       "        vertical-align: top;\n",
       "    }\n",
       "\n",
       "    .dataframe thead th {\n",
       "        text-align: right;\n",
       "    }\n",
       "</style>\n",
       "<table border=\"1\" class=\"dataframe\">\n",
       "  <thead>\n",
       "    <tr style=\"text-align: right;\">\n",
       "      <th></th>\n",
       "      <th>asset_id</th>\n",
       "      <th>jun_avg_timeout_sessions</th>\n",
       "      <th>jun_avg_Crash_sessions</th>\n",
       "      <th>jun_avg_exit_sessions</th>\n",
       "      <th>jul_avg_timeout_sessions</th>\n",
       "      <th>jul_avg_Crash_sessions</th>\n",
       "      <th>jul_avg_exit_sessions</th>\n",
       "      <th>aug_avg_timeout_sessions</th>\n",
       "      <th>aug_avg_Crash_sessions</th>\n",
       "      <th>aug_avg_exit_sessions</th>\n",
       "      <th>sept_avg_timeout_sessions</th>\n",
       "      <th>sept_avg_Crash_sessions</th>\n",
       "      <th>sept_avg_exit_sessions</th>\n",
       "      <th>oct_avg_timeout_sessions</th>\n",
       "      <th>oct_avg_Crash_sessions</th>\n",
       "      <th>oct_avg_exit_sessions</th>\n",
       "      <th>nov_avg_timeout_sessions</th>\n",
       "      <th>nov_avg_Crash_sessions</th>\n",
       "      <th>nov_avg_exit_sessions</th>\n",
       "    </tr>\n",
       "  </thead>\n",
       "  <tbody>\n",
       "    <tr>\n",
       "      <th>0</th>\n",
       "      <td>W37627</td>\n",
       "      <td>NaN</td>\n",
       "      <td>NaN</td>\n",
       "      <td>NaN</td>\n",
       "      <td>NaN</td>\n",
       "      <td>NaN</td>\n",
       "      <td>NaN</td>\n",
       "      <td>NaN</td>\n",
       "      <td>NaN</td>\n",
       "      <td>NaN</td>\n",
       "      <td>NaN</td>\n",
       "      <td>NaN</td>\n",
       "      <td>NaN</td>\n",
       "      <td>1.928571</td>\n",
       "      <td>NaN</td>\n",
       "      <td>NaN</td>\n",
       "      <td>NaN</td>\n",
       "      <td>NaN</td>\n",
       "      <td>NaN</td>\n",
       "    </tr>\n",
       "    <tr>\n",
       "      <th>1</th>\n",
       "      <td>W01E112183</td>\n",
       "      <td>NaN</td>\n",
       "      <td>NaN</td>\n",
       "      <td>NaN</td>\n",
       "      <td>NaN</td>\n",
       "      <td>NaN</td>\n",
       "      <td>NaN</td>\n",
       "      <td>NaN</td>\n",
       "      <td>NaN</td>\n",
       "      <td>NaN</td>\n",
       "      <td>NaN</td>\n",
       "      <td>NaN</td>\n",
       "      <td>NaN</td>\n",
       "      <td>1.250000</td>\n",
       "      <td>NaN</td>\n",
       "      <td>NaN</td>\n",
       "      <td>NaN</td>\n",
       "      <td>NaN</td>\n",
       "      <td>NaN</td>\n",
       "    </tr>\n",
       "    <tr>\n",
       "      <th>2</th>\n",
       "      <td>W01E112088</td>\n",
       "      <td>NaN</td>\n",
       "      <td>NaN</td>\n",
       "      <td>NaN</td>\n",
       "      <td>1.666667</td>\n",
       "      <td>NaN</td>\n",
       "      <td>NaN</td>\n",
       "      <td>NaN</td>\n",
       "      <td>NaN</td>\n",
       "      <td>NaN</td>\n",
       "      <td>NaN</td>\n",
       "      <td>NaN</td>\n",
       "      <td>NaN</td>\n",
       "      <td>NaN</td>\n",
       "      <td>NaN</td>\n",
       "      <td>NaN</td>\n",
       "      <td>NaN</td>\n",
       "      <td>NaN</td>\n",
       "      <td>NaN</td>\n",
       "    </tr>\n",
       "  </tbody>\n",
       "</table>\n",
       "</div>"
      ],
      "text/plain": [
       "     asset_id  jun_avg_timeout_sessions  jun_avg_Crash_sessions  \\\n",
       "0      W37627                       NaN                     NaN   \n",
       "1  W01E112183                       NaN                     NaN   \n",
       "2  W01E112088                       NaN                     NaN   \n",
       "\n",
       "   jun_avg_exit_sessions  jul_avg_timeout_sessions  jul_avg_Crash_sessions  \\\n",
       "0                    NaN                       NaN                     NaN   \n",
       "1                    NaN                       NaN                     NaN   \n",
       "2                    NaN                  1.666667                     NaN   \n",
       "\n",
       "   jul_avg_exit_sessions  aug_avg_timeout_sessions  aug_avg_Crash_sessions  \\\n",
       "0                    NaN                       NaN                     NaN   \n",
       "1                    NaN                       NaN                     NaN   \n",
       "2                    NaN                       NaN                     NaN   \n",
       "\n",
       "   aug_avg_exit_sessions  sept_avg_timeout_sessions  sept_avg_Crash_sessions  \\\n",
       "0                    NaN                        NaN                      NaN   \n",
       "1                    NaN                        NaN                      NaN   \n",
       "2                    NaN                        NaN                      NaN   \n",
       "\n",
       "   sept_avg_exit_sessions  oct_avg_timeout_sessions  oct_avg_Crash_sessions  \\\n",
       "0                     NaN                  1.928571                     NaN   \n",
       "1                     NaN                  1.250000                     NaN   \n",
       "2                     NaN                       NaN                     NaN   \n",
       "\n",
       "   oct_avg_exit_sessions  nov_avg_timeout_sessions  nov_avg_Crash_sessions  \\\n",
       "0                    NaN                       NaN                     NaN   \n",
       "1                    NaN                       NaN                     NaN   \n",
       "2                    NaN                       NaN                     NaN   \n",
       "\n",
       "   nov_avg_exit_sessions  \n",
       "0                    NaN  \n",
       "1                    NaN  \n",
       "2                    NaN  "
      ]
     },
     "execution_count": 85,
     "metadata": {},
     "output_type": "execute_result"
    }
   ],
   "source": [
    "df_mia_activity_wb_var2 = pd.read_csv('../Treasure_Data_Variables/avg_sessions_mia.csv')\n",
    "print(df_mia_activity_wb_var2.shape)\n",
    "df_mia_activity_wb_var2.head(3)"
   ]
  },
  {
   "cell_type": "code",
   "execution_count": 86,
   "metadata": {
    "ExecuteTime": {
     "end_time": "2021-01-10T09:58:29.560180Z",
     "start_time": "2021-01-10T09:58:29.396346Z"
    }
   },
   "outputs": [
    {
     "name": "stdout",
     "output_type": "stream",
     "text": [
      "(102727, 19)\n"
     ]
    },
    {
     "data": {
      "text/html": [
       "<div>\n",
       "<style scoped>\n",
       "    .dataframe tbody tr th:only-of-type {\n",
       "        vertical-align: middle;\n",
       "    }\n",
       "\n",
       "    .dataframe tbody tr th {\n",
       "        vertical-align: top;\n",
       "    }\n",
       "\n",
       "    .dataframe thead th {\n",
       "        text-align: right;\n",
       "    }\n",
       "</style>\n",
       "<table border=\"1\" class=\"dataframe\">\n",
       "  <thead>\n",
       "    <tr style=\"text-align: right;\">\n",
       "      <th></th>\n",
       "      <th>asset_id</th>\n",
       "      <th>jun_avg_timeout_sessions</th>\n",
       "      <th>jun_avg_Crash_sessions</th>\n",
       "      <th>jun_avg_exit_sessions</th>\n",
       "      <th>jul_avg_timeout_sessions</th>\n",
       "      <th>jul_avg_Crash_sessions</th>\n",
       "      <th>jul_avg_exit_sessions</th>\n",
       "      <th>aug_avg_timeout_sessions</th>\n",
       "      <th>aug_avg_Crash_sessions</th>\n",
       "      <th>aug_avg_exit_sessions</th>\n",
       "      <th>sept_avg_timeout_sessions</th>\n",
       "      <th>sept_avg_Crash_sessions</th>\n",
       "      <th>sept_avg_exit_sessions</th>\n",
       "      <th>oct_avg_timeout_sessions</th>\n",
       "      <th>oct_avg_Crash_sessions</th>\n",
       "      <th>oct_avg_exit_sessions</th>\n",
       "      <th>nov_avg_timeout_sessions</th>\n",
       "      <th>nov_avg_Crash_sessions</th>\n",
       "      <th>nov_avg_exit_sessions</th>\n",
       "    </tr>\n",
       "  </thead>\n",
       "  <tbody>\n",
       "    <tr>\n",
       "      <th>0</th>\n",
       "      <td>W01E134273</td>\n",
       "      <td>NaN</td>\n",
       "      <td>NaN</td>\n",
       "      <td>NaN</td>\n",
       "      <td>1.142857</td>\n",
       "      <td>NaN</td>\n",
       "      <td>NaN</td>\n",
       "      <td>NaN</td>\n",
       "      <td>NaN</td>\n",
       "      <td>NaN</td>\n",
       "      <td>NaN</td>\n",
       "      <td>NaN</td>\n",
       "      <td>NaN</td>\n",
       "      <td>NaN</td>\n",
       "      <td>NaN</td>\n",
       "      <td>NaN</td>\n",
       "      <td>NaN</td>\n",
       "      <td>NaN</td>\n",
       "      <td>NaN</td>\n",
       "    </tr>\n",
       "    <tr>\n",
       "      <th>1</th>\n",
       "      <td>W01E104159</td>\n",
       "      <td>NaN</td>\n",
       "      <td>NaN</td>\n",
       "      <td>NaN</td>\n",
       "      <td>NaN</td>\n",
       "      <td>NaN</td>\n",
       "      <td>NaN</td>\n",
       "      <td>1.0</td>\n",
       "      <td>NaN</td>\n",
       "      <td>NaN</td>\n",
       "      <td>NaN</td>\n",
       "      <td>NaN</td>\n",
       "      <td>NaN</td>\n",
       "      <td>NaN</td>\n",
       "      <td>NaN</td>\n",
       "      <td>NaN</td>\n",
       "      <td>NaN</td>\n",
       "      <td>NaN</td>\n",
       "      <td>NaN</td>\n",
       "    </tr>\n",
       "    <tr>\n",
       "      <th>2</th>\n",
       "      <td>W01E107291</td>\n",
       "      <td>NaN</td>\n",
       "      <td>NaN</td>\n",
       "      <td>NaN</td>\n",
       "      <td>1.333333</td>\n",
       "      <td>NaN</td>\n",
       "      <td>NaN</td>\n",
       "      <td>NaN</td>\n",
       "      <td>NaN</td>\n",
       "      <td>NaN</td>\n",
       "      <td>NaN</td>\n",
       "      <td>NaN</td>\n",
       "      <td>NaN</td>\n",
       "      <td>NaN</td>\n",
       "      <td>NaN</td>\n",
       "      <td>NaN</td>\n",
       "      <td>NaN</td>\n",
       "      <td>NaN</td>\n",
       "      <td>NaN</td>\n",
       "    </tr>\n",
       "  </tbody>\n",
       "</table>\n",
       "</div>"
      ],
      "text/plain": [
       "     asset_id  jun_avg_timeout_sessions  jun_avg_Crash_sessions  \\\n",
       "0  W01E134273                       NaN                     NaN   \n",
       "1  W01E104159                       NaN                     NaN   \n",
       "2  W01E107291                       NaN                     NaN   \n",
       "\n",
       "   jun_avg_exit_sessions  jul_avg_timeout_sessions  jul_avg_Crash_sessions  \\\n",
       "0                    NaN                  1.142857                     NaN   \n",
       "1                    NaN                       NaN                     NaN   \n",
       "2                    NaN                  1.333333                     NaN   \n",
       "\n",
       "   jul_avg_exit_sessions  aug_avg_timeout_sessions  aug_avg_Crash_sessions  \\\n",
       "0                    NaN                       NaN                     NaN   \n",
       "1                    NaN                       1.0                     NaN   \n",
       "2                    NaN                       NaN                     NaN   \n",
       "\n",
       "   aug_avg_exit_sessions  sept_avg_timeout_sessions  sept_avg_Crash_sessions  \\\n",
       "0                    NaN                        NaN                      NaN   \n",
       "1                    NaN                        NaN                      NaN   \n",
       "2                    NaN                        NaN                      NaN   \n",
       "\n",
       "   sept_avg_exit_sessions  oct_avg_timeout_sessions  oct_avg_Crash_sessions  \\\n",
       "0                     NaN                       NaN                     NaN   \n",
       "1                     NaN                       NaN                     NaN   \n",
       "2                     NaN                       NaN                     NaN   \n",
       "\n",
       "   oct_avg_exit_sessions  nov_avg_timeout_sessions  nov_avg_Crash_sessions  \\\n",
       "0                    NaN                       NaN                     NaN   \n",
       "1                    NaN                       NaN                     NaN   \n",
       "2                    NaN                       NaN                     NaN   \n",
       "\n",
       "   nov_avg_exit_sessions  \n",
       "0                    NaN  \n",
       "1                    NaN  \n",
       "2                    NaN  "
      ]
     },
     "execution_count": 86,
     "metadata": {},
     "output_type": "execute_result"
    }
   ],
   "source": [
    "df_nonmia_activity_wb_var2 = pd.read_csv('../Treasure_Data_Variables/avg_sessions_nonmia.csv')\n",
    "print(df_nonmia_activity_wb_var2.shape)\n",
    "df_nonmia_activity_wb_var2.head(3)"
   ]
  },
  {
   "cell_type": "code",
   "execution_count": 87,
   "metadata": {
    "ExecuteTime": {
     "end_time": "2021-01-10T09:59:04.457132Z",
     "start_time": "2021-01-10T09:59:04.388047Z"
    }
   },
   "outputs": [
    {
     "name": "stdout",
     "output_type": "stream",
     "text": [
      "(77974, 3)\n"
     ]
    },
    {
     "data": {
      "text/html": [
       "<div>\n",
       "<style scoped>\n",
       "    .dataframe tbody tr th:only-of-type {\n",
       "        vertical-align: middle;\n",
       "    }\n",
       "\n",
       "    .dataframe tbody tr th {\n",
       "        vertical-align: top;\n",
       "    }\n",
       "\n",
       "    .dataframe thead th {\n",
       "        text-align: right;\n",
       "    }\n",
       "</style>\n",
       "<table border=\"1\" class=\"dataframe\">\n",
       "  <thead>\n",
       "    <tr style=\"text-align: right;\">\n",
       "      <th></th>\n",
       "      <th>assetid</th>\n",
       "      <th>anatomy_model</th>\n",
       "      <th>avg_touches</th>\n",
       "    </tr>\n",
       "  </thead>\n",
       "  <tbody>\n",
       "    <tr>\n",
       "      <th>0</th>\n",
       "      <td>W24171</td>\n",
       "      <td>Artery Blockage</td>\n",
       "      <td>3.478261</td>\n",
       "    </tr>\n",
       "    <tr>\n",
       "      <th>1</th>\n",
       "      <td>W01E132666</td>\n",
       "      <td>Neck</td>\n",
       "      <td>1.500000</td>\n",
       "    </tr>\n",
       "    <tr>\n",
       "      <th>2</th>\n",
       "      <td>W01Y100598</td>\n",
       "      <td>Insulin and Glucose</td>\n",
       "      <td>5.000000</td>\n",
       "    </tr>\n",
       "  </tbody>\n",
       "</table>\n",
       "</div>"
      ],
      "text/plain": [
       "      assetid        anatomy_model  avg_touches\n",
       "0      W24171      Artery Blockage     3.478261\n",
       "1  W01E132666                 Neck     1.500000\n",
       "2  W01Y100598  Insulin and Glucose     5.000000"
      ]
     },
     "execution_count": 87,
     "metadata": {},
     "output_type": "execute_result"
    }
   ],
   "source": [
    "df_mia_activity_wb_interact = pd.read_csv('../Treasure_Data_Variables/MIA_WB_interactions.csv')\n",
    "print(df_mia_activity_wb_interact.shape)\n",
    "df_mia_activity_wb_interact.head(3)"
   ]
  },
  {
   "cell_type": "code",
   "execution_count": 88,
   "metadata": {
    "ExecuteTime": {
     "end_time": "2021-01-10T09:59:25.811381Z",
     "start_time": "2021-01-10T09:59:25.678047Z"
    }
   },
   "outputs": [
    {
     "name": "stdout",
     "output_type": "stream",
     "text": [
      "(239838, 3)\n"
     ]
    },
    {
     "data": {
      "text/html": [
       "<div>\n",
       "<style scoped>\n",
       "    .dataframe tbody tr th:only-of-type {\n",
       "        vertical-align: middle;\n",
       "    }\n",
       "\n",
       "    .dataframe tbody tr th {\n",
       "        vertical-align: top;\n",
       "    }\n",
       "\n",
       "    .dataframe thead th {\n",
       "        text-align: right;\n",
       "    }\n",
       "</style>\n",
       "<table border=\"1\" class=\"dataframe\">\n",
       "  <thead>\n",
       "    <tr style=\"text-align: right;\">\n",
       "      <th></th>\n",
       "      <th>assetid</th>\n",
       "      <th>anatomy_model</th>\n",
       "      <th>avg_touches</th>\n",
       "    </tr>\n",
       "  </thead>\n",
       "  <tbody>\n",
       "    <tr>\n",
       "      <th>0</th>\n",
       "      <td>W01E100289</td>\n",
       "      <td>Teeth</td>\n",
       "      <td>2.454545</td>\n",
       "    </tr>\n",
       "    <tr>\n",
       "      <th>1</th>\n",
       "      <td>W01E103383</td>\n",
       "      <td>Spine</td>\n",
       "      <td>1.000000</td>\n",
       "    </tr>\n",
       "    <tr>\n",
       "      <th>2</th>\n",
       "      <td>W01E112004</td>\n",
       "      <td>Stomach</td>\n",
       "      <td>21.333333</td>\n",
       "    </tr>\n",
       "  </tbody>\n",
       "</table>\n",
       "</div>"
      ],
      "text/plain": [
       "      assetid anatomy_model  avg_touches\n",
       "0  W01E100289         Teeth     2.454545\n",
       "1  W01E103383         Spine     1.000000\n",
       "2  W01E112004       Stomach    21.333333"
      ]
     },
     "execution_count": 88,
     "metadata": {},
     "output_type": "execute_result"
    }
   ],
   "source": [
    "df_nonmia_activity_wb_interact = pd.read_csv('../Treasure_Data_Variables/NONMIA_WB_interactions.csv')\n",
    "print(df_nonmia_activity_wb_interact.shape)\n",
    "df_nonmia_activity_wb_interact.head(3)"
   ]
  },
  {
   "cell_type": "markdown",
   "metadata": {},
   "source": [
    "# Data Preparation"
   ]
  },
  {
   "cell_type": "code",
   "execution_count": 244,
   "metadata": {
    "ExecuteTime": {
     "end_time": "2021-01-10T12:47:11.314461Z",
     "start_time": "2021-01-10T12:47:10.860133Z"
    }
   },
   "outputs": [
    {
     "name": "stdout",
     "output_type": "stream",
     "text": [
      "(30266, 2)\n",
      "\n",
      "Distribution of Test & Control:\n",
      "\n",
      "y_flag\n",
      "0    19958\n",
      "1    10308\n",
      "Name: asset_id, dtype: int64\n"
     ]
    }
   ],
   "source": [
    "# Creating Asset_ids and MIA/NON-MIA devices\n",
    "\n",
    "#concating asset ids of both MIA and Non MIA devices along with the respective flags\n",
    "df_final = pd.concat([pd.DataFrame({'asset_id':df_mia_redshift_wb.asset_name.unique(),\n",
    "                                   'y_flag': pd.Series([1 for x in range(df_mia_redshift_wb.asset_name.nunique())],\n",
    "                                                       )}),\n",
    "                      pd.DataFrame({'asset_id':df_nonmia_redshift_wb.asset_name.unique(),\n",
    "                                   'y_flag': pd.Series([0 for x in range(df_nonmia_redshift_wb.asset_name.nunique())],\n",
    "                                                      )})],\n",
    "                    axis = 0)\n",
    "\n",
    "# Converting flag to categorical datatype\n",
    "df_final['y_flag']= df_final.y_flag.astype('category')\n",
    "\n",
    "print(df_final.shape)\n",
    "print(\"\")\n",
    "print(\"Distribution of Test & Control:\")\n",
    "print(\"\")\n",
    "print(df_final.groupby('y_flag')['asset_id'].count())"
   ]
  },
  {
   "cell_type": "markdown",
   "metadata": {},
   "source": [
    "## One Hot encoding"
   ]
  },
  {
   "cell_type": "code",
   "execution_count": 7,
   "metadata": {
    "ExecuteTime": {
     "end_time": "2021-01-10T08:42:43.830218Z",
     "start_time": "2021-01-10T08:42:43.577222Z"
    }
   },
   "outputs": [],
   "source": [
    "df_mia_redshift_wb_2 = df_mia_redshift_wb.copy()\n",
    "\n",
    "df_nonmia_redshift_wb_2 = df_nonmia_redshift_wb.copy()"
   ]
  },
  {
   "cell_type": "code",
   "execution_count": 8,
   "metadata": {
    "ExecuteTime": {
     "end_time": "2021-01-10T08:42:53.756269Z",
     "start_time": "2021-01-10T08:42:52.150585Z"
    }
   },
   "outputs": [],
   "source": [
    "df_mia_redshift_wb.replace(np.nan,'unknown',inplace=True)\n",
    "df_nonmia_redshift_wb.replace(np.nan,'unknown',inplace=True)"
   ]
  },
  {
   "cell_type": "code",
   "execution_count": 9,
   "metadata": {
    "ExecuteTime": {
     "end_time": "2021-01-10T08:43:04.038017Z",
     "start_time": "2021-01-10T08:43:03.148368Z"
    }
   },
   "outputs": [],
   "source": [
    "## Replacing unknowns such as nil, empty, APK not installed to Unknown\n",
    "df_mia_redshift_wb['software_version'] = np.where((df_mia_redshift_wb['software_version'] == '[APK NOT INSTALLED]') | \n",
    "                                                  (df_mia_redshift_wb['software_version'] == 'nil') |\n",
    "                                                  (df_mia_redshift_wb['software_version'] == 'None'),\n",
    "                                                  'unknown',\n",
    "                                                  df_mia_redshift_wb['software_version'])\n",
    "\n",
    "df_mia_redshift_wb['facility_type'] = np.where((df_mia_redshift_wb['facility_type'] == 'Other'),\n",
    "                                               'unknown',\n",
    "                                               df_mia_redshift_wb['facility_type'])\n",
    "\n",
    "df_nonmia_redshift_wb['software_version'] = np.where((df_nonmia_redshift_wb['software_version'] == '[APK NOT INSTALLED]') | \n",
    "                                                  (df_nonmia_redshift_wb['software_version'] == 'nil') |\n",
    "                                                  (df_nonmia_redshift_wb['software_version'] == 'NOT INSTALLED') |\n",
    "                                                  (df_nonmia_redshift_wb['software_version'] == 'None'),\n",
    "                                                  'unknown',\n",
    "                                                  df_nonmia_redshift_wb['software_version'])\n",
    "\n",
    "df_nonmia_redshift_wb['facility_type'] = np.where((df_nonmia_redshift_wb['facility_type'] == 'Other'),\n",
    "                                               'unknown',\n",
    "                                               df_nonmia_redshift_wb['facility_type'])"
   ]
  },
  {
   "cell_type": "code",
   "execution_count": 148,
   "metadata": {
    "ExecuteTime": {
     "end_time": "2021-01-10T11:25:11.216808Z",
     "start_time": "2021-01-10T11:25:11.207827Z"
    }
   },
   "outputs": [],
   "source": [
    "def one_hotencoding(data,var_list):\n",
    "    ''' Function for one-hot endcoding categorical variables  '''\n",
    "    \n",
    "    df_categorical = pd.DataFrame()\n",
    "    for column in var_list:\n",
    "        curr_cols = ['asset_name']\n",
    "        curr_cols.append(column)\n",
    "        \n",
    "        df_curr = data[curr_cols]\n",
    "        # dropping duplicates\n",
    "        df_curr.drop_duplicates(inplace = True)\n",
    "        # Get one hot encoding of current column \n",
    "        one_hot = pd.get_dummies(df_curr[column])\n",
    "        # Drop column B as it is now encoded\n",
    "        df_curr = df_curr.drop(column,axis = 1)\n",
    "        # Join the encoded df\n",
    "        df_curr = df_curr.join(one_hot)\n",
    "        df_curr = df_curr.groupby('asset_name').sum()\n",
    "        new_cols = [column+'_'+str(x) for x in df_curr.columns]\n",
    "        df_curr.columns = new_cols\n",
    "        df_curr.reset_index(inplace=True)\n",
    "        # dropping a column to avoid dummy variable trap\n",
    "        df_curr = df_curr.iloc[:,:df_curr.shape[1]-1]\n",
    "        \n",
    "        # Converting all \n",
    "        cols=[i for i in df_curr.columns if i not in [\"asset_name\"]]\n",
    "        for col in cols:\n",
    "            df_curr[col]= df_curr[col].astype('category')\n",
    "        if df_categorical.empty :\n",
    "            df_categorical = df_curr\n",
    "        else:\n",
    "            df_categorical = df_categorical.merge(df_curr, left_on = 'asset_name',right_on = 'asset_name')\n",
    "     \n",
    "    return df_categorical"
   ]
  },
  {
   "cell_type": "code",
   "execution_count": 11,
   "metadata": {
    "ExecuteTime": {
     "end_time": "2021-01-10T08:43:22.806461Z",
     "start_time": "2021-01-10T08:43:22.803896Z"
    }
   },
   "outputs": [],
   "source": [
    "categorical_vars = ['software_version','manufacturer','model','sku','state','is_battery_charging',\n",
    "                    'facility_type','ranking','specialty']\n"
   ]
  },
  {
   "cell_type": "code",
   "execution_count": 149,
   "metadata": {
    "ExecuteTime": {
     "end_time": "2021-01-10T11:25:19.402361Z",
     "start_time": "2021-01-10T11:25:18.809848Z"
    }
   },
   "outputs": [
    {
     "data": {
      "text/plain": [
       "(10308, 156)"
      ]
     },
     "execution_count": 149,
     "metadata": {},
     "output_type": "execute_result"
    }
   ],
   "source": [
    "df_mia_redshift_wb_cat = one_hotencoding(df_mia_redshift_wb,categorical_vars)\n",
    "df_mia_redshift_wb_cat.shape"
   ]
  },
  {
   "cell_type": "code",
   "execution_count": 150,
   "metadata": {
    "ExecuteTime": {
     "end_time": "2021-01-10T11:25:32.063376Z",
     "start_time": "2021-01-10T11:25:26.930366Z"
    }
   },
   "outputs": [
    {
     "data": {
      "text/plain": [
       "(19958, 157)"
      ]
     },
     "execution_count": 150,
     "metadata": {},
     "output_type": "execute_result"
    }
   ],
   "source": [
    "df_nonmia_redshift_wb_cat = one_hotencoding(df_nonmia_redshift_wb,categorical_vars)\n",
    "df_nonmia_redshift_wb_cat.shape"
   ]
  },
  {
   "cell_type": "code",
   "execution_count": 151,
   "metadata": {
    "ExecuteTime": {
     "end_time": "2021-01-10T11:25:39.435484Z",
     "start_time": "2021-01-10T11:25:39.432454Z"
    }
   },
   "outputs": [],
   "source": [
    "# Dropping these columns as only one of the cohorts has data \n",
    "columns_to_drop = list(set(df_nonmia_redshift_wb_cat.columns)-set(df_mia_redshift_wb_cat.columns)) + list(set(df_mia_redshift_wb_cat.columns)-set(df_nonmia_redshift_wb_cat.columns))"
   ]
  },
  {
   "cell_type": "code",
   "execution_count": 152,
   "metadata": {
    "ExecuteTime": {
     "end_time": "2021-01-10T11:25:46.781822Z",
     "start_time": "2021-01-10T11:25:46.692598Z"
    }
   },
   "outputs": [
    {
     "name": "stdout",
     "output_type": "stream",
     "text": [
      "Shape of MIA Devices : (10308, 150)\n",
      "Shape of NONMIA Devices : (19958, 150)\n"
     ]
    }
   ],
   "source": [
    "for col in columns_to_drop:\n",
    "    if col in df_mia_redshift_wb_cat.columns:\n",
    "        df_mia_redshift_wb_cat.drop(col,1,inplace = True)\n",
    "    if col in df_nonmia_redshift_wb_cat.columns:    \n",
    "        df_nonmia_redshift_wb_cat.drop(col,1,inplace = True)\n",
    "\n",
    "print(\"Shape of MIA Devices :\",df_mia_redshift_wb_cat.shape)    \n",
    "print(\"Shape of NONMIA Devices :\",df_nonmia_redshift_wb_cat.shape)    "
   ]
  },
  {
   "cell_type": "markdown",
   "metadata": {},
   "source": [
    "## Free Space Percentage calculation "
   ]
  },
  {
   "cell_type": "markdown",
   "metadata": {},
   "source": [
    "### Percentage calculation"
   ]
  },
  {
   "cell_type": "markdown",
   "metadata": {
    "ExecuteTime": {
     "end_time": "2021-01-10T08:44:09.603618Z",
     "start_time": "2021-01-10T08:44:09.600385Z"
    }
   },
   "source": [
    "Free Space % for any device at a time is derived using the below formula \n",
    "    \n",
    "        Free Space % = Available Free Space on Device / Min Free space of all devices of particular device type \n"
   ]
  },
  {
   "cell_type": "code",
   "execution_count": 24,
   "metadata": {
    "ExecuteTime": {
     "end_time": "2021-01-10T08:53:00.780069Z",
     "start_time": "2021-01-10T08:53:00.200244Z"
    }
   },
   "outputs": [],
   "source": [
    "df_mia_redshift_wb_fs = df_mia_redshift_wb[['asset_name','free_disk_space','min_free_space_by_type']]\n",
    "df_mia_redshift_wb_fs.drop_duplicates(inplace = True)\n",
    "df_mia_redshift_wb_fs.drop(df_mia_redshift_wb_fs[df_mia_redshift_wb_fs.free_disk_space == 'unknown'].index, inplace=True)\n",
    "df_mia_redshift_wb_fs['fs_pct'] = ( df_mia_redshift_wb_fs['min_free_space_by_type']/pd.to_numeric(df_mia_redshift_wb_fs['free_disk_space']))*100"
   ]
  },
  {
   "cell_type": "code",
   "execution_count": 65,
   "metadata": {
    "ExecuteTime": {
     "end_time": "2021-01-10T09:42:48.493306Z",
     "start_time": "2021-01-10T09:42:37.486955Z"
    }
   },
   "outputs": [],
   "source": [
    "df_nonmia_redshift_wb_fs = df_nonmia_redshift_wb[['asset_name','free_disk_space','min_free_space_by_type']]\n",
    "df_nonmia_redshift_wb_fs.drop_duplicates(inplace = True)\n",
    "df_nonmia_redshift_wb_fs.drop(df_nonmia_redshift_wb_fs[df_nonmia_redshift_wb_fs.free_disk_space == 'unknown'].index, inplace=True)\n",
    "df_nonmia_redshift_wb_fs['fs_pct'] = ( df_nonmia_redshift_wb_fs['min_free_space_by_type']/pd.to_numeric(df_nonmia_redshift_wb_fs['free_disk_space']))*100"
   ]
  },
  {
   "cell_type": "markdown",
   "metadata": {},
   "source": [
    "### Quantiling"
   ]
  },
  {
   "cell_type": "code",
   "execution_count": 155,
   "metadata": {
    "ExecuteTime": {
     "end_time": "2021-01-10T11:28:21.253697Z",
     "start_time": "2021-01-10T11:28:21.251178Z"
    }
   },
   "outputs": [],
   "source": [
    "def label_row(row):\n",
    "    label = str(round(row['fs_pct_quintile'].left,4))+'_'+ str(row['fs_pct_quintile'].right)\n",
    "    return label"
   ]
  },
  {
   "cell_type": "code",
   "execution_count": 233,
   "metadata": {
    "ExecuteTime": {
     "end_time": "2021-01-10T12:41:27.583532Z",
     "start_time": "2021-01-10T12:41:26.109644Z"
    }
   },
   "outputs": [],
   "source": [
    "# merging both mia and nonmia devices data to have uniform buckets\n",
    "\n",
    "df_redshift_wb_fs = pd.concat([df_mia_redshift_wb_fs,df_nonmia_redshift_wb_fs],axis = 0)"
   ]
  },
  {
   "cell_type": "code",
   "execution_count": 234,
   "metadata": {
    "ExecuteTime": {
     "end_time": "2021-01-10T12:42:02.779270Z",
     "start_time": "2021-01-10T12:41:35.198976Z"
    }
   },
   "outputs": [
    {
     "data": {
      "text/html": [
       "<div>\n",
       "<style scoped>\n",
       "    .dataframe tbody tr th:only-of-type {\n",
       "        vertical-align: middle;\n",
       "    }\n",
       "\n",
       "    .dataframe tbody tr th {\n",
       "        vertical-align: top;\n",
       "    }\n",
       "\n",
       "    .dataframe thead th {\n",
       "        text-align: right;\n",
       "    }\n",
       "</style>\n",
       "<table border=\"1\" class=\"dataframe\">\n",
       "  <thead>\n",
       "    <tr style=\"text-align: right;\">\n",
       "      <th></th>\n",
       "      <th>asset_name</th>\n",
       "      <th>free_disk_space</th>\n",
       "      <th>min_free_space_by_type</th>\n",
       "      <th>fs_pct</th>\n",
       "      <th>fs_pct_quintile</th>\n",
       "      <th>fs_pct_quintile_2</th>\n",
       "    </tr>\n",
       "  </thead>\n",
       "  <tbody>\n",
       "    <tr>\n",
       "      <th>43</th>\n",
       "      <td>W35734</td>\n",
       "      <td>2.00393e+10</td>\n",
       "      <td>12419072.0</td>\n",
       "      <td>0.061973</td>\n",
       "      <td>(0.0613, 0.0661]</td>\n",
       "      <td>0.0613_0.0661</td>\n",
       "    </tr>\n",
       "    <tr>\n",
       "      <th>44</th>\n",
       "      <td>W01E107035</td>\n",
       "      <td>2.06255e+10</td>\n",
       "      <td>12419072.0</td>\n",
       "      <td>0.060212</td>\n",
       "      <td>(0.0261, 0.0613]</td>\n",
       "      <td>0.0261_0.0613</td>\n",
       "    </tr>\n",
       "    <tr>\n",
       "      <th>45</th>\n",
       "      <td>W01E124992</td>\n",
       "      <td>5.23292e+10</td>\n",
       "      <td>12419072.0</td>\n",
       "      <td>0.023733</td>\n",
       "      <td>(0.0196, 0.0239]</td>\n",
       "      <td>0.0196_0.0239</td>\n",
       "    </tr>\n",
       "  </tbody>\n",
       "</table>\n",
       "</div>"
      ],
      "text/plain": [
       "    asset_name free_disk_space  min_free_space_by_type    fs_pct  \\\n",
       "43      W35734     2.00393e+10              12419072.0  0.061973   \n",
       "44  W01E107035     2.06255e+10              12419072.0  0.060212   \n",
       "45  W01E124992     5.23292e+10              12419072.0  0.023733   \n",
       "\n",
       "     fs_pct_quintile fs_pct_quintile_2  \n",
       "43  (0.0613, 0.0661]     0.0613_0.0661  \n",
       "44  (0.0261, 0.0613]     0.0261_0.0613  \n",
       "45  (0.0196, 0.0239]     0.0196_0.0239  "
      ]
     },
     "execution_count": 234,
     "metadata": {},
     "output_type": "execute_result"
    }
   ],
   "source": [
    "df_redshift_wb_fs['fs_pct_quintile'] = pd.qcut(df_redshift_wb_fs['fs_pct'], q=10, precision=0)\n",
    "\n",
    "df_redshift_wb_fs['fs_pct_quintile_2'] = df_redshift_wb_fs.apply (lambda row: label_row(row), axis=1)\n",
    "df_redshift_wb_fs.head(3)"
   ]
  },
  {
   "cell_type": "markdown",
   "metadata": {},
   "source": [
    "### Bucketing"
   ]
  },
  {
   "cell_type": "code",
   "execution_count": 280,
   "metadata": {
    "ExecuteTime": {
     "end_time": "2021-01-10T13:03:41.579758Z",
     "start_time": "2021-01-10T13:03:41.278825Z"
    }
   },
   "outputs": [
    {
     "data": {
      "text/html": [
       "<div>\n",
       "<style scoped>\n",
       "    .dataframe tbody tr th:only-of-type {\n",
       "        vertical-align: middle;\n",
       "    }\n",
       "\n",
       "    .dataframe tbody tr th {\n",
       "        vertical-align: top;\n",
       "    }\n",
       "\n",
       "    .dataframe thead th {\n",
       "        text-align: right;\n",
       "    }\n",
       "</style>\n",
       "<table border=\"1\" class=\"dataframe\">\n",
       "  <thead>\n",
       "    <tr style=\"text-align: right;\">\n",
       "      <th></th>\n",
       "      <th>asset_name</th>\n",
       "      <th>fs_pct_0.0196_0.0239</th>\n",
       "      <th>fs_pct_0.0239_0.024</th>\n",
       "      <th>fs_pct_0.0245_0.0249</th>\n",
       "      <th>fs_pct_0.0249_0.0257</th>\n",
       "      <th>fs_pct_0.024_0.0245</th>\n",
       "      <th>fs_pct_0.0257_0.0261</th>\n",
       "      <th>fs_pct_0.0261_0.0613</th>\n",
       "      <th>fs_pct_0.0613_0.0661</th>\n",
       "      <th>fs_pct_0.0661_0.0672</th>\n",
       "    </tr>\n",
       "  </thead>\n",
       "  <tbody>\n",
       "    <tr>\n",
       "      <th>4571</th>\n",
       "      <td>W01E107035</td>\n",
       "      <td>0</td>\n",
       "      <td>0</td>\n",
       "      <td>0</td>\n",
       "      <td>0</td>\n",
       "      <td>0</td>\n",
       "      <td>0</td>\n",
       "      <td>1</td>\n",
       "      <td>0</td>\n",
       "      <td>1</td>\n",
       "    </tr>\n",
       "    <tr>\n",
       "      <th>15532</th>\n",
       "      <td>W01E124992</td>\n",
       "      <td>1</td>\n",
       "      <td>0</td>\n",
       "      <td>0</td>\n",
       "      <td>0</td>\n",
       "      <td>0</td>\n",
       "      <td>0</td>\n",
       "      <td>0</td>\n",
       "      <td>0</td>\n",
       "      <td>0</td>\n",
       "    </tr>\n",
       "    <tr>\n",
       "      <th>29568</th>\n",
       "      <td>W35734</td>\n",
       "      <td>0</td>\n",
       "      <td>0</td>\n",
       "      <td>0</td>\n",
       "      <td>0</td>\n",
       "      <td>0</td>\n",
       "      <td>0</td>\n",
       "      <td>0</td>\n",
       "      <td>1</td>\n",
       "      <td>0</td>\n",
       "    </tr>\n",
       "  </tbody>\n",
       "</table>\n",
       "</div>"
      ],
      "text/plain": [
       "       asset_name fs_pct_0.0196_0.0239 fs_pct_0.0239_0.024  \\\n",
       "4571   W01E107035                    0                   0   \n",
       "15532  W01E124992                    1                   0   \n",
       "29568      W35734                    0                   0   \n",
       "\n",
       "      fs_pct_0.0245_0.0249 fs_pct_0.0249_0.0257 fs_pct_0.024_0.0245  \\\n",
       "4571                     0                    0                   0   \n",
       "15532                    0                    0                   0   \n",
       "29568                    0                    0                   0   \n",
       "\n",
       "      fs_pct_0.0257_0.0261 fs_pct_0.0261_0.0613 fs_pct_0.0613_0.0661  \\\n",
       "4571                     0                    1                    0   \n",
       "15532                    0                    0                    0   \n",
       "29568                    0                    0                    1   \n",
       "\n",
       "      fs_pct_0.0661_0.0672  \n",
       "4571                     1  \n",
       "15532                    0  \n",
       "29568                    0  "
      ]
     },
     "execution_count": 280,
     "metadata": {},
     "output_type": "execute_result"
    }
   ],
   "source": [
    "df_redshift_wb_fs_bck = df_redshift_wb_fs[['asset_name','fs_pct_quintile_2']]\n",
    "df_redshift_wb_fs_bck.columns = ['asset_name','fs_pct']\n",
    "df_redshift_wb_fs_bck = one_hotencoding(df_redshift_wb_fs_bck,['fs_pct'])\n",
    "df_redshift_wb_fs_bck.replace(np.nan,0,inplace = True)\n",
    "df_redshift_wb_fs_bck[df_redshift_wb_fs_bck.asset_name.isin(['W35734','W01E107035','W01E124992'])]"
   ]
  },
  {
   "cell_type": "code",
   "execution_count": 236,
   "metadata": {
    "ExecuteTime": {
     "end_time": "2021-01-10T12:42:18.123660Z",
     "start_time": "2021-01-10T12:42:18.120053Z"
    }
   },
   "outputs": [
    {
     "data": {
      "text/plain": [
       "(30256, 10)"
      ]
     },
     "execution_count": 236,
     "metadata": {},
     "output_type": "execute_result"
    }
   ],
   "source": [
    "df_redshift_wb_fs_bck.shape"
   ]
  },
  {
   "cell_type": "markdown",
   "metadata": {},
   "source": [
    "## Formatting TD variables"
   ]
  },
  {
   "cell_type": "markdown",
   "metadata": {},
   "source": [
    "### Grouping activity variables to ensure single record for each asset"
   ]
  },
  {
   "cell_type": "code",
   "execution_count": 89,
   "metadata": {
    "ExecuteTime": {
     "end_time": "2021-01-10T10:01:46.537797Z",
     "start_time": "2021-01-10T10:01:46.521708Z"
    }
   },
   "outputs": [
    {
     "data": {
      "text/html": [
       "<div>\n",
       "<style scoped>\n",
       "    .dataframe tbody tr th:only-of-type {\n",
       "        vertical-align: middle;\n",
       "    }\n",
       "\n",
       "    .dataframe tbody tr th {\n",
       "        vertical-align: top;\n",
       "    }\n",
       "\n",
       "    .dataframe thead th {\n",
       "        text-align: right;\n",
       "    }\n",
       "</style>\n",
       "<table border=\"1\" class=\"dataframe\">\n",
       "  <thead>\n",
       "    <tr style=\"text-align: right;\">\n",
       "      <th></th>\n",
       "      <th>asset_id</th>\n",
       "      <th>avg_campaigns</th>\n",
       "      <th>JUNE_avg_video_dispalys</th>\n",
       "      <th>JUL_avg_video_dispalys</th>\n",
       "      <th>AUG_avg_video_dispalys</th>\n",
       "      <th>SEPT_avg_video_dispalys</th>\n",
       "      <th>OCT_avg_video_dispalys</th>\n",
       "      <th>NOV_avg_video_dispaly</th>\n",
       "      <th>JUNE_avg_video_duration</th>\n",
       "      <th>JUL_avg_video_duration</th>\n",
       "      <th>AUG_avg_video_duration</th>\n",
       "      <th>SEPT_avg_video_duration</th>\n",
       "      <th>OCT_avg_video_duration</th>\n",
       "      <th>NOV_avg_video_duration</th>\n",
       "    </tr>\n",
       "  </thead>\n",
       "  <tbody>\n",
       "    <tr>\n",
       "      <th>0</th>\n",
       "      <td>W01E123544</td>\n",
       "      <td>2.6</td>\n",
       "      <td>0.0</td>\n",
       "      <td>0.0</td>\n",
       "      <td>0.0</td>\n",
       "      <td>0.0</td>\n",
       "      <td>347.681818</td>\n",
       "      <td>0.0</td>\n",
       "      <td>0.0</td>\n",
       "      <td>0.000000e+00</td>\n",
       "      <td>0.0</td>\n",
       "      <td>0.0</td>\n",
       "      <td>6.962007e+06</td>\n",
       "      <td>0.0</td>\n",
       "    </tr>\n",
       "    <tr>\n",
       "      <th>1</th>\n",
       "      <td>W01E123544</td>\n",
       "      <td>2.6</td>\n",
       "      <td>0.0</td>\n",
       "      <td>248.0</td>\n",
       "      <td>0.0</td>\n",
       "      <td>0.0</td>\n",
       "      <td>0.000000</td>\n",
       "      <td>0.0</td>\n",
       "      <td>0.0</td>\n",
       "      <td>4.966034e+06</td>\n",
       "      <td>0.0</td>\n",
       "      <td>0.0</td>\n",
       "      <td>0.000000e+00</td>\n",
       "      <td>0.0</td>\n",
       "    </tr>\n",
       "    <tr>\n",
       "      <th>2</th>\n",
       "      <td>W01E123544</td>\n",
       "      <td>2.6</td>\n",
       "      <td>0.0</td>\n",
       "      <td>0.0</td>\n",
       "      <td>27.0</td>\n",
       "      <td>0.0</td>\n",
       "      <td>0.000000</td>\n",
       "      <td>0.0</td>\n",
       "      <td>0.0</td>\n",
       "      <td>0.000000e+00</td>\n",
       "      <td>540723.0</td>\n",
       "      <td>0.0</td>\n",
       "      <td>0.000000e+00</td>\n",
       "      <td>0.0</td>\n",
       "    </tr>\n",
       "  </tbody>\n",
       "</table>\n",
       "</div>"
      ],
      "text/plain": [
       "     asset_id  avg_campaigns  JUNE_avg_video_dispalys  JUL_avg_video_dispalys  \\\n",
       "0  W01E123544            2.6                      0.0                     0.0   \n",
       "1  W01E123544            2.6                      0.0                   248.0   \n",
       "2  W01E123544            2.6                      0.0                     0.0   \n",
       "\n",
       "   AUG_avg_video_dispalys  SEPT_avg_video_dispalys  OCT_avg_video_dispalys  \\\n",
       "0                     0.0                      0.0              347.681818   \n",
       "1                     0.0                      0.0                0.000000   \n",
       "2                    27.0                      0.0                0.000000   \n",
       "\n",
       "   NOV_avg_video_dispaly  JUNE_avg_video_duration  JUL_avg_video_duration  \\\n",
       "0                    0.0                      0.0            0.000000e+00   \n",
       "1                    0.0                      0.0            4.966034e+06   \n",
       "2                    0.0                      0.0            0.000000e+00   \n",
       "\n",
       "   AUG_avg_video_duration  SEPT_avg_video_duration  OCT_avg_video_duration  \\\n",
       "0                     0.0                      0.0            6.962007e+06   \n",
       "1                     0.0                      0.0            0.000000e+00   \n",
       "2                540723.0                      0.0            0.000000e+00   \n",
       "\n",
       "   NOV_avg_video_duration  \n",
       "0                     0.0  \n",
       "1                     0.0  \n",
       "2                     0.0  "
      ]
     },
     "execution_count": 89,
     "metadata": {},
     "output_type": "execute_result"
    }
   ],
   "source": [
    "df_mia_activity_var1.head(3)"
   ]
  },
  {
   "cell_type": "code",
   "execution_count": 99,
   "metadata": {
    "ExecuteTime": {
     "end_time": "2021-01-10T10:29:12.062062Z",
     "start_time": "2021-01-10T10:29:11.976640Z"
    }
   },
   "outputs": [
    {
     "name": "stdout",
     "output_type": "stream",
     "text": [
      "(8001, 2)\n",
      "  asset_id  avg_campaigns\n",
      "0  DW03756       3.166667\n",
      "1  DW04037       1.000000\n",
      "2  DW04090       1.000000\n",
      "\n",
      "(8001, 13)\n",
      "\n",
      "(8001, 14)\n"
     ]
    },
    {
     "data": {
      "text/html": [
       "<div>\n",
       "<style scoped>\n",
       "    .dataframe tbody tr th:only-of-type {\n",
       "        vertical-align: middle;\n",
       "    }\n",
       "\n",
       "    .dataframe tbody tr th {\n",
       "        vertical-align: top;\n",
       "    }\n",
       "\n",
       "    .dataframe thead th {\n",
       "        text-align: right;\n",
       "    }\n",
       "</style>\n",
       "<table border=\"1\" class=\"dataframe\">\n",
       "  <thead>\n",
       "    <tr style=\"text-align: right;\">\n",
       "      <th></th>\n",
       "      <th>asset_id</th>\n",
       "      <th>avg_campaigns</th>\n",
       "      <th>JUNE_avg_video_dispalys</th>\n",
       "      <th>JUL_avg_video_dispalys</th>\n",
       "      <th>AUG_avg_video_dispalys</th>\n",
       "      <th>SEPT_avg_video_dispalys</th>\n",
       "      <th>OCT_avg_video_dispalys</th>\n",
       "      <th>NOV_avg_video_dispaly</th>\n",
       "      <th>JUNE_avg_video_duration</th>\n",
       "      <th>JUL_avg_video_duration</th>\n",
       "      <th>AUG_avg_video_duration</th>\n",
       "      <th>SEPT_avg_video_duration</th>\n",
       "      <th>OCT_avg_video_duration</th>\n",
       "      <th>NOV_avg_video_duration</th>\n",
       "    </tr>\n",
       "  </thead>\n",
       "  <tbody>\n",
       "    <tr>\n",
       "      <th>0</th>\n",
       "      <td>DW03756</td>\n",
       "      <td>3.166667</td>\n",
       "      <td>368.727273</td>\n",
       "      <td>347.608696</td>\n",
       "      <td>488.0</td>\n",
       "      <td>486.681818</td>\n",
       "      <td>523.863636</td>\n",
       "      <td>454.900000</td>\n",
       "      <td>7.382498e+06</td>\n",
       "      <td>7.169849e+06</td>\n",
       "      <td>9.888454e+06</td>\n",
       "      <td>2.684611e+06</td>\n",
       "      <td>4.158682e+03</td>\n",
       "      <td>5.858350e+04</td>\n",
       "    </tr>\n",
       "    <tr>\n",
       "      <th>1</th>\n",
       "      <td>DW04037</td>\n",
       "      <td>1.000000</td>\n",
       "      <td>0.000000</td>\n",
       "      <td>0.000000</td>\n",
       "      <td>0.0</td>\n",
       "      <td>0.000000</td>\n",
       "      <td>82.944444</td>\n",
       "      <td>83.578947</td>\n",
       "      <td>0.000000e+00</td>\n",
       "      <td>0.000000e+00</td>\n",
       "      <td>0.000000e+00</td>\n",
       "      <td>0.000000e+00</td>\n",
       "      <td>1.660882e+06</td>\n",
       "      <td>1.672496e+06</td>\n",
       "    </tr>\n",
       "    <tr>\n",
       "      <th>2</th>\n",
       "      <td>DW04090</td>\n",
       "      <td>1.000000</td>\n",
       "      <td>0.000000</td>\n",
       "      <td>0.000000</td>\n",
       "      <td>0.0</td>\n",
       "      <td>0.000000</td>\n",
       "      <td>85.000000</td>\n",
       "      <td>83.000000</td>\n",
       "      <td>0.000000e+00</td>\n",
       "      <td>0.000000e+00</td>\n",
       "      <td>0.000000e+00</td>\n",
       "      <td>0.000000e+00</td>\n",
       "      <td>0.000000e+00</td>\n",
       "      <td>0.000000e+00</td>\n",
       "    </tr>\n",
       "  </tbody>\n",
       "</table>\n",
       "</div>"
      ],
      "text/plain": [
       "  asset_id  avg_campaigns  JUNE_avg_video_dispalys  JUL_avg_video_dispalys  \\\n",
       "0  DW03756       3.166667               368.727273              347.608696   \n",
       "1  DW04037       1.000000                 0.000000                0.000000   \n",
       "2  DW04090       1.000000                 0.000000                0.000000   \n",
       "\n",
       "   AUG_avg_video_dispalys  SEPT_avg_video_dispalys  OCT_avg_video_dispalys  \\\n",
       "0                   488.0               486.681818              523.863636   \n",
       "1                     0.0                 0.000000               82.944444   \n",
       "2                     0.0                 0.000000               85.000000   \n",
       "\n",
       "   NOV_avg_video_dispaly  JUNE_avg_video_duration  JUL_avg_video_duration  \\\n",
       "0             454.900000             7.382498e+06            7.169849e+06   \n",
       "1              83.578947             0.000000e+00            0.000000e+00   \n",
       "2              83.000000             0.000000e+00            0.000000e+00   \n",
       "\n",
       "   AUG_avg_video_duration  SEPT_avg_video_duration  OCT_avg_video_duration  \\\n",
       "0            9.888454e+06             2.684611e+06            4.158682e+03   \n",
       "1            0.000000e+00             0.000000e+00            1.660882e+06   \n",
       "2            0.000000e+00             0.000000e+00            0.000000e+00   \n",
       "\n",
       "   NOV_avg_video_duration  \n",
       "0            5.858350e+04  \n",
       "1            1.672496e+06  \n",
       "2            0.000000e+00  "
      ]
     },
     "execution_count": 99,
     "metadata": {},
     "output_type": "execute_result"
    }
   ],
   "source": [
    "df_mia_activity_var1_1 = pd.DataFrame(df_mia_activity_var1.groupby('asset_id')['avg_campaigns'].mean())\n",
    "df_mia_activity_var1_1.reset_index(inplace = True)\n",
    "print(df_mia_activity_var1_1.shape)\n",
    "print(df_mia_activity_var1_1.head(3))\n",
    "print(\"\")\n",
    "\n",
    "df_mia_activity_var1_2 = df_mia_activity_var1.copy()\n",
    "df_mia_activity_var1_2.drop('avg_campaigns',1,inplace = True)\n",
    "df_mia_activity_var1_2 = pd.DataFrame(df_mia_activity_var1_2.groupby('asset_id').sum())\n",
    "df_mia_activity_var1_2.reset_index(inplace = True)\n",
    "print(df_mia_activity_var1_2.shape)\n",
    "# print(df_mia_activity_var1_2.head(3))\n",
    "print(\"\")\n",
    "\n",
    "df_mia_activity_var1_f = df_mia_activity_var1_1.merge(df_mia_activity_var1_2,left_on = 'asset_id',right_on = 'asset_id')\n",
    "print(df_mia_activity_var1_f.shape)\n",
    "df_mia_activity_var1_f.head(3)"
   ]
  },
  {
   "cell_type": "code",
   "execution_count": 100,
   "metadata": {
    "ExecuteTime": {
     "end_time": "2021-01-10T10:30:14.692691Z",
     "start_time": "2021-01-10T10:30:14.563332Z"
    }
   },
   "outputs": [
    {
     "name": "stdout",
     "output_type": "stream",
     "text": [
      "(18604, 2)\n",
      "  asset_id  avg_campaigns\n",
      "0  4916125            3.6\n",
      "1  DW03531            1.0\n",
      "2  DW03763            3.5\n",
      "\n",
      "(18604, 13)\n",
      "\n",
      "(18604, 14)\n"
     ]
    },
    {
     "data": {
      "text/html": [
       "<div>\n",
       "<style scoped>\n",
       "    .dataframe tbody tr th:only-of-type {\n",
       "        vertical-align: middle;\n",
       "    }\n",
       "\n",
       "    .dataframe tbody tr th {\n",
       "        vertical-align: top;\n",
       "    }\n",
       "\n",
       "    .dataframe thead th {\n",
       "        text-align: right;\n",
       "    }\n",
       "</style>\n",
       "<table border=\"1\" class=\"dataframe\">\n",
       "  <thead>\n",
       "    <tr style=\"text-align: right;\">\n",
       "      <th></th>\n",
       "      <th>asset_id</th>\n",
       "      <th>avg_campaigns</th>\n",
       "      <th>JUNE_avg_video_dispalys</th>\n",
       "      <th>JUL_avg_video_dispalys</th>\n",
       "      <th>AUG_avg_video_dispalys</th>\n",
       "      <th>SEPT_avg_video_dispalys</th>\n",
       "      <th>OCT_avg_video_dispalys</th>\n",
       "      <th>NOV_avg_video_dispaly</th>\n",
       "      <th>JUNE_avg_video_duration</th>\n",
       "      <th>JUL_avg_video_duration</th>\n",
       "      <th>AUG_avg_video_duration</th>\n",
       "      <th>SEPT_avg_video_duration</th>\n",
       "      <th>OCT_avg_video_duration</th>\n",
       "      <th>NOV_avg_video_duration</th>\n",
       "    </tr>\n",
       "  </thead>\n",
       "  <tbody>\n",
       "    <tr>\n",
       "      <th>0</th>\n",
       "      <td>4916125</td>\n",
       "      <td>3.6</td>\n",
       "      <td>0.000000</td>\n",
       "      <td>259.900000</td>\n",
       "      <td>259.095238</td>\n",
       "      <td>517.045455</td>\n",
       "      <td>555.500000</td>\n",
       "      <td>564.789474</td>\n",
       "      <td>0.000000e+00</td>\n",
       "      <td>5.203883e+06</td>\n",
       "      <td>5.235405e+06</td>\n",
       "      <td>3.748206e+06</td>\n",
       "      <td>0.000000</td>\n",
       "      <td>1.120526e+06</td>\n",
       "    </tr>\n",
       "    <tr>\n",
       "      <th>1</th>\n",
       "      <td>DW03531</td>\n",
       "      <td>1.0</td>\n",
       "      <td>139.227273</td>\n",
       "      <td>138.173913</td>\n",
       "      <td>138.523810</td>\n",
       "      <td>131.619048</td>\n",
       "      <td>0.000000</td>\n",
       "      <td>0.000000</td>\n",
       "      <td>2.784908e+06</td>\n",
       "      <td>2.765181e+06</td>\n",
       "      <td>2.772615e+06</td>\n",
       "      <td>1.035549e+06</td>\n",
       "      <td>0.000000</td>\n",
       "      <td>0.000000e+00</td>\n",
       "    </tr>\n",
       "    <tr>\n",
       "      <th>2</th>\n",
       "      <td>DW03763</td>\n",
       "      <td>3.5</td>\n",
       "      <td>400.772727</td>\n",
       "      <td>238.739130</td>\n",
       "      <td>386.666667</td>\n",
       "      <td>383.363636</td>\n",
       "      <td>483.681818</td>\n",
       "      <td>515.578947</td>\n",
       "      <td>8.244569e+06</td>\n",
       "      <td>4.776599e+06</td>\n",
       "      <td>7.961103e+06</td>\n",
       "      <td>1.004831e+06</td>\n",
       "      <td>2740.181818</td>\n",
       "      <td>9.146474e+03</td>\n",
       "    </tr>\n",
       "  </tbody>\n",
       "</table>\n",
       "</div>"
      ],
      "text/plain": [
       "  asset_id  avg_campaigns  JUNE_avg_video_dispalys  JUL_avg_video_dispalys  \\\n",
       "0  4916125            3.6                 0.000000              259.900000   \n",
       "1  DW03531            1.0               139.227273              138.173913   \n",
       "2  DW03763            3.5               400.772727              238.739130   \n",
       "\n",
       "   AUG_avg_video_dispalys  SEPT_avg_video_dispalys  OCT_avg_video_dispalys  \\\n",
       "0              259.095238               517.045455              555.500000   \n",
       "1              138.523810               131.619048                0.000000   \n",
       "2              386.666667               383.363636              483.681818   \n",
       "\n",
       "   NOV_avg_video_dispaly  JUNE_avg_video_duration  JUL_avg_video_duration  \\\n",
       "0             564.789474             0.000000e+00            5.203883e+06   \n",
       "1               0.000000             2.784908e+06            2.765181e+06   \n",
       "2             515.578947             8.244569e+06            4.776599e+06   \n",
       "\n",
       "   AUG_avg_video_duration  SEPT_avg_video_duration  OCT_avg_video_duration  \\\n",
       "0            5.235405e+06             3.748206e+06                0.000000   \n",
       "1            2.772615e+06             1.035549e+06                0.000000   \n",
       "2            7.961103e+06             1.004831e+06             2740.181818   \n",
       "\n",
       "   NOV_avg_video_duration  \n",
       "0            1.120526e+06  \n",
       "1            0.000000e+00  \n",
       "2            9.146474e+03  "
      ]
     },
     "execution_count": 100,
     "metadata": {},
     "output_type": "execute_result"
    }
   ],
   "source": [
    "df_nonmia_activity_var1_1 = pd.DataFrame(df_nonmia_activity_var1.groupby('asset_id')['avg_campaigns'].mean())\n",
    "df_nonmia_activity_var1_1.reset_index(inplace = True)\n",
    "print(df_nonmia_activity_var1_1.shape)\n",
    "print(df_nonmia_activity_var1_1.head(3))\n",
    "print(\"\")\n",
    "\n",
    "df_nonmia_activity_var1_2 = df_nonmia_activity_var1.copy()\n",
    "df_nonmia_activity_var1_2.drop('avg_campaigns',1,inplace = True)\n",
    "df_nonmia_activity_var1_2 = pd.DataFrame(df_nonmia_activity_var1_2.groupby('asset_id').sum())\n",
    "df_nonmia_activity_var1_2.reset_index(inplace = True)\n",
    "print(df_nonmia_activity_var1_2.shape)\n",
    "# print(df_nonmia_activity_var1_2.head(3))\n",
    "print(\"\")\n",
    "\n",
    "df_nonmia_activity_var1_f = df_nonmia_activity_var1_1.merge(df_nonmia_activity_var1_2,left_on = 'asset_id',right_on = 'asset_id')\n",
    "print(df_nonmia_activity_var1_f.shape)\n",
    "df_nonmia_activity_var1_f.head(3)"
   ]
  },
  {
   "cell_type": "code",
   "execution_count": 108,
   "metadata": {
    "ExecuteTime": {
     "end_time": "2021-01-10T10:37:28.584254Z",
     "start_time": "2021-01-10T10:37:28.521288Z"
    }
   },
   "outputs": [
    {
     "name": "stdout",
     "output_type": "stream",
     "text": [
      "(8473, 19)\n"
     ]
    },
    {
     "data": {
      "text/html": [
       "<div>\n",
       "<style scoped>\n",
       "    .dataframe tbody tr th:only-of-type {\n",
       "        vertical-align: middle;\n",
       "    }\n",
       "\n",
       "    .dataframe tbody tr th {\n",
       "        vertical-align: top;\n",
       "    }\n",
       "\n",
       "    .dataframe thead th {\n",
       "        text-align: right;\n",
       "    }\n",
       "</style>\n",
       "<table border=\"1\" class=\"dataframe\">\n",
       "  <thead>\n",
       "    <tr style=\"text-align: right;\">\n",
       "      <th></th>\n",
       "      <th>asset_id</th>\n",
       "      <th>jun_avg_timeout_sessions</th>\n",
       "      <th>jun_avg_Crash_sessions</th>\n",
       "      <th>jun_avg_exit_sessions</th>\n",
       "      <th>jul_avg_timeout_sessions</th>\n",
       "      <th>jul_avg_Crash_sessions</th>\n",
       "      <th>jul_avg_exit_sessions</th>\n",
       "      <th>aug_avg_timeout_sessions</th>\n",
       "      <th>aug_avg_Crash_sessions</th>\n",
       "      <th>aug_avg_exit_sessions</th>\n",
       "      <th>sept_avg_timeout_sessions</th>\n",
       "      <th>sept_avg_Crash_sessions</th>\n",
       "      <th>sept_avg_exit_sessions</th>\n",
       "      <th>oct_avg_timeout_sessions</th>\n",
       "      <th>oct_avg_Crash_sessions</th>\n",
       "      <th>oct_avg_exit_sessions</th>\n",
       "      <th>nov_avg_timeout_sessions</th>\n",
       "      <th>nov_avg_Crash_sessions</th>\n",
       "      <th>nov_avg_exit_sessions</th>\n",
       "    </tr>\n",
       "  </thead>\n",
       "  <tbody>\n",
       "    <tr>\n",
       "      <th>0</th>\n",
       "      <td>DW03756</td>\n",
       "      <td>1.0</td>\n",
       "      <td>0.0</td>\n",
       "      <td>0.0</td>\n",
       "      <td>1.272727</td>\n",
       "      <td>0.0</td>\n",
       "      <td>0.0</td>\n",
       "      <td>1.428571</td>\n",
       "      <td>0.0</td>\n",
       "      <td>0.0</td>\n",
       "      <td>1.222222</td>\n",
       "      <td>0.0</td>\n",
       "      <td>1.0</td>\n",
       "      <td>1.166667</td>\n",
       "      <td>0.0</td>\n",
       "      <td>0.0</td>\n",
       "      <td>1.6</td>\n",
       "      <td>0.0</td>\n",
       "      <td>0.0</td>\n",
       "    </tr>\n",
       "    <tr>\n",
       "      <th>1</th>\n",
       "      <td>DW04090</td>\n",
       "      <td>0.0</td>\n",
       "      <td>0.0</td>\n",
       "      <td>0.0</td>\n",
       "      <td>0.000000</td>\n",
       "      <td>0.0</td>\n",
       "      <td>0.0</td>\n",
       "      <td>0.000000</td>\n",
       "      <td>0.0</td>\n",
       "      <td>0.0</td>\n",
       "      <td>0.000000</td>\n",
       "      <td>0.0</td>\n",
       "      <td>0.0</td>\n",
       "      <td>1.000000</td>\n",
       "      <td>0.0</td>\n",
       "      <td>0.0</td>\n",
       "      <td>0.0</td>\n",
       "      <td>0.0</td>\n",
       "      <td>0.0</td>\n",
       "    </tr>\n",
       "    <tr>\n",
       "      <th>2</th>\n",
       "      <td>DW04538</td>\n",
       "      <td>1.0</td>\n",
       "      <td>0.0</td>\n",
       "      <td>0.0</td>\n",
       "      <td>1.000000</td>\n",
       "      <td>0.0</td>\n",
       "      <td>0.0</td>\n",
       "      <td>1.500000</td>\n",
       "      <td>0.0</td>\n",
       "      <td>0.0</td>\n",
       "      <td>1.000000</td>\n",
       "      <td>0.0</td>\n",
       "      <td>0.0</td>\n",
       "      <td>1.000000</td>\n",
       "      <td>0.0</td>\n",
       "      <td>0.0</td>\n",
       "      <td>0.0</td>\n",
       "      <td>0.0</td>\n",
       "      <td>0.0</td>\n",
       "    </tr>\n",
       "  </tbody>\n",
       "</table>\n",
       "</div>"
      ],
      "text/plain": [
       "  asset_id  jun_avg_timeout_sessions  jun_avg_Crash_sessions  \\\n",
       "0  DW03756                       1.0                     0.0   \n",
       "1  DW04090                       0.0                     0.0   \n",
       "2  DW04538                       1.0                     0.0   \n",
       "\n",
       "   jun_avg_exit_sessions  jul_avg_timeout_sessions  jul_avg_Crash_sessions  \\\n",
       "0                    0.0                  1.272727                     0.0   \n",
       "1                    0.0                  0.000000                     0.0   \n",
       "2                    0.0                  1.000000                     0.0   \n",
       "\n",
       "   jul_avg_exit_sessions  aug_avg_timeout_sessions  aug_avg_Crash_sessions  \\\n",
       "0                    0.0                  1.428571                     0.0   \n",
       "1                    0.0                  0.000000                     0.0   \n",
       "2                    0.0                  1.500000                     0.0   \n",
       "\n",
       "   aug_avg_exit_sessions  sept_avg_timeout_sessions  sept_avg_Crash_sessions  \\\n",
       "0                    0.0                   1.222222                      0.0   \n",
       "1                    0.0                   0.000000                      0.0   \n",
       "2                    0.0                   1.000000                      0.0   \n",
       "\n",
       "   sept_avg_exit_sessions  oct_avg_timeout_sessions  oct_avg_Crash_sessions  \\\n",
       "0                     1.0                  1.166667                     0.0   \n",
       "1                     0.0                  1.000000                     0.0   \n",
       "2                     0.0                  1.000000                     0.0   \n",
       "\n",
       "   oct_avg_exit_sessions  nov_avg_timeout_sessions  nov_avg_Crash_sessions  \\\n",
       "0                    0.0                       1.6                     0.0   \n",
       "1                    0.0                       0.0                     0.0   \n",
       "2                    0.0                       0.0                     0.0   \n",
       "\n",
       "   nov_avg_exit_sessions  \n",
       "0                    0.0  \n",
       "1                    0.0  \n",
       "2                    0.0  "
      ]
     },
     "execution_count": 108,
     "metadata": {},
     "output_type": "execute_result"
    }
   ],
   "source": [
    "df_mia_activity_var2.replace(np.nan,0,inplace = True)\n",
    "df_mia_activity_var2_f = pd.DataFrame(df_mia_activity_var2.groupby('asset_id').sum())\n",
    "df_mia_activity_var2_f.reset_index(inplace = True)\n",
    "print(df_mia_activity_var2_f.shape)\n",
    "df_mia_activity_var2_f.head(3)"
   ]
  },
  {
   "cell_type": "code",
   "execution_count": 109,
   "metadata": {
    "ExecuteTime": {
     "end_time": "2021-01-10T10:38:04.764161Z",
     "start_time": "2021-01-10T10:38:04.659405Z"
    }
   },
   "outputs": [
    {
     "name": "stdout",
     "output_type": "stream",
     "text": [
      "(18592, 19)\n"
     ]
    },
    {
     "data": {
      "text/html": [
       "<div>\n",
       "<style scoped>\n",
       "    .dataframe tbody tr th:only-of-type {\n",
       "        vertical-align: middle;\n",
       "    }\n",
       "\n",
       "    .dataframe tbody tr th {\n",
       "        vertical-align: top;\n",
       "    }\n",
       "\n",
       "    .dataframe thead th {\n",
       "        text-align: right;\n",
       "    }\n",
       "</style>\n",
       "<table border=\"1\" class=\"dataframe\">\n",
       "  <thead>\n",
       "    <tr style=\"text-align: right;\">\n",
       "      <th></th>\n",
       "      <th>asset_id</th>\n",
       "      <th>jun_avg_timeout_sessions</th>\n",
       "      <th>jun_avg_Crash_sessions</th>\n",
       "      <th>jun_avg_exit_sessions</th>\n",
       "      <th>jul_avg_timeout_sessions</th>\n",
       "      <th>jul_avg_Crash_sessions</th>\n",
       "      <th>jul_avg_exit_sessions</th>\n",
       "      <th>aug_avg_timeout_sessions</th>\n",
       "      <th>aug_avg_Crash_sessions</th>\n",
       "      <th>aug_avg_exit_sessions</th>\n",
       "      <th>sept_avg_timeout_sessions</th>\n",
       "      <th>sept_avg_Crash_sessions</th>\n",
       "      <th>sept_avg_exit_sessions</th>\n",
       "      <th>oct_avg_timeout_sessions</th>\n",
       "      <th>oct_avg_Crash_sessions</th>\n",
       "      <th>oct_avg_exit_sessions</th>\n",
       "      <th>nov_avg_timeout_sessions</th>\n",
       "      <th>nov_avg_Crash_sessions</th>\n",
       "      <th>nov_avg_exit_sessions</th>\n",
       "    </tr>\n",
       "  </thead>\n",
       "  <tbody>\n",
       "    <tr>\n",
       "      <th>0</th>\n",
       "      <td>4916125</td>\n",
       "      <td>1.5</td>\n",
       "      <td>0.0</td>\n",
       "      <td>1.0</td>\n",
       "      <td>1.0</td>\n",
       "      <td>0.0</td>\n",
       "      <td>0.0</td>\n",
       "      <td>1.400000</td>\n",
       "      <td>0.0</td>\n",
       "      <td>1.0</td>\n",
       "      <td>1.00</td>\n",
       "      <td>0.0</td>\n",
       "      <td>0.0</td>\n",
       "      <td>0.000000</td>\n",
       "      <td>0.0</td>\n",
       "      <td>0.0</td>\n",
       "      <td>0.0</td>\n",
       "      <td>0.0</td>\n",
       "      <td>0.0</td>\n",
       "    </tr>\n",
       "    <tr>\n",
       "      <th>1</th>\n",
       "      <td>DW03531</td>\n",
       "      <td>1.0</td>\n",
       "      <td>0.0</td>\n",
       "      <td>1.0</td>\n",
       "      <td>1.0</td>\n",
       "      <td>0.0</td>\n",
       "      <td>0.0</td>\n",
       "      <td>1.000000</td>\n",
       "      <td>0.0</td>\n",
       "      <td>0.0</td>\n",
       "      <td>1.00</td>\n",
       "      <td>0.0</td>\n",
       "      <td>0.0</td>\n",
       "      <td>0.000000</td>\n",
       "      <td>0.0</td>\n",
       "      <td>0.0</td>\n",
       "      <td>0.0</td>\n",
       "      <td>0.0</td>\n",
       "      <td>0.0</td>\n",
       "    </tr>\n",
       "    <tr>\n",
       "      <th>2</th>\n",
       "      <td>DW03763</td>\n",
       "      <td>1.9</td>\n",
       "      <td>0.0</td>\n",
       "      <td>1.0</td>\n",
       "      <td>1.6</td>\n",
       "      <td>0.0</td>\n",
       "      <td>1.0</td>\n",
       "      <td>2.555556</td>\n",
       "      <td>0.0</td>\n",
       "      <td>1.0</td>\n",
       "      <td>1.25</td>\n",
       "      <td>0.0</td>\n",
       "      <td>0.0</td>\n",
       "      <td>1.428571</td>\n",
       "      <td>0.0</td>\n",
       "      <td>1.0</td>\n",
       "      <td>1.5</td>\n",
       "      <td>0.0</td>\n",
       "      <td>0.0</td>\n",
       "    </tr>\n",
       "  </tbody>\n",
       "</table>\n",
       "</div>"
      ],
      "text/plain": [
       "  asset_id  jun_avg_timeout_sessions  jun_avg_Crash_sessions  \\\n",
       "0  4916125                       1.5                     0.0   \n",
       "1  DW03531                       1.0                     0.0   \n",
       "2  DW03763                       1.9                     0.0   \n",
       "\n",
       "   jun_avg_exit_sessions  jul_avg_timeout_sessions  jul_avg_Crash_sessions  \\\n",
       "0                    1.0                       1.0                     0.0   \n",
       "1                    1.0                       1.0                     0.0   \n",
       "2                    1.0                       1.6                     0.0   \n",
       "\n",
       "   jul_avg_exit_sessions  aug_avg_timeout_sessions  aug_avg_Crash_sessions  \\\n",
       "0                    0.0                  1.400000                     0.0   \n",
       "1                    0.0                  1.000000                     0.0   \n",
       "2                    1.0                  2.555556                     0.0   \n",
       "\n",
       "   aug_avg_exit_sessions  sept_avg_timeout_sessions  sept_avg_Crash_sessions  \\\n",
       "0                    1.0                       1.00                      0.0   \n",
       "1                    0.0                       1.00                      0.0   \n",
       "2                    1.0                       1.25                      0.0   \n",
       "\n",
       "   sept_avg_exit_sessions  oct_avg_timeout_sessions  oct_avg_Crash_sessions  \\\n",
       "0                     0.0                  0.000000                     0.0   \n",
       "1                     0.0                  0.000000                     0.0   \n",
       "2                     0.0                  1.428571                     0.0   \n",
       "\n",
       "   oct_avg_exit_sessions  nov_avg_timeout_sessions  nov_avg_Crash_sessions  \\\n",
       "0                    0.0                       0.0                     0.0   \n",
       "1                    0.0                       0.0                     0.0   \n",
       "2                    1.0                       1.5                     0.0   \n",
       "\n",
       "   nov_avg_exit_sessions  \n",
       "0                    0.0  \n",
       "1                    0.0  \n",
       "2                    0.0  "
      ]
     },
     "execution_count": 109,
     "metadata": {},
     "output_type": "execute_result"
    }
   ],
   "source": [
    "df_nonmia_activity_var2.replace(np.nan,0,inplace = True)\n",
    "df_nonmia_activity_var2_f = pd.DataFrame(df_nonmia_activity_var2.groupby('asset_id').sum())\n",
    "df_nonmia_activity_var2_f.reset_index(inplace = True)\n",
    "print(df_nonmia_activity_var2_f.shape)\n",
    "df_nonmia_activity_var2_f.head(3)"
   ]
  },
  {
   "cell_type": "markdown",
   "metadata": {},
   "source": [
    "### Pivotting interactions dataframe"
   ]
  },
  {
   "cell_type": "code",
   "execution_count": 118,
   "metadata": {
    "ExecuteTime": {
     "end_time": "2021-01-10T10:46:39.653280Z",
     "start_time": "2021-01-10T10:46:39.496329Z"
    }
   },
   "outputs": [
    {
     "name": "stdout",
     "output_type": "stream",
     "text": [
      "(6981, 269)\n"
     ]
    },
    {
     "data": {
      "text/html": [
       "<div>\n",
       "<style scoped>\n",
       "    .dataframe tbody tr th:only-of-type {\n",
       "        vertical-align: middle;\n",
       "    }\n",
       "\n",
       "    .dataframe tbody tr th {\n",
       "        vertical-align: top;\n",
       "    }\n",
       "\n",
       "    .dataframe thead th {\n",
       "        text-align: right;\n",
       "    }\n",
       "</style>\n",
       "<table border=\"1\" class=\"dataframe\">\n",
       "  <thead>\n",
       "    <tr style=\"text-align: right;\">\n",
       "      <th>anatomy_model</th>\n",
       "      <th>assetid</th>\n",
       "      <th>ABCDE Moles</th>\n",
       "      <th>ADHD</th>\n",
       "      <th>ALS</th>\n",
       "      <th>Abdomen</th>\n",
       "      <th>Acid Reflux</th>\n",
       "      <th>Acne</th>\n",
       "      <th>Acne Detailed</th>\n",
       "      <th>Acute Bronchitis</th>\n",
       "      <th>Adam Insulin</th>\n",
       "      <th>...</th>\n",
       "      <th>Uterus</th>\n",
       "      <th>Vaginal Birth</th>\n",
       "      <th>Varicose Veins</th>\n",
       "      <th>Vasculature</th>\n",
       "      <th>Ventral Hernia</th>\n",
       "      <th>Ventricular Fibrillation with Conduction System</th>\n",
       "      <th>Wagner Classification</th>\n",
       "      <th>Warts on Skin</th>\n",
       "      <th>Whiteboard</th>\n",
       "      <th>Wrist</th>\n",
       "    </tr>\n",
       "  </thead>\n",
       "  <tbody>\n",
       "    <tr>\n",
       "      <th>0</th>\n",
       "      <td>DW03756</td>\n",
       "      <td>0.0</td>\n",
       "      <td>0.0</td>\n",
       "      <td>0.0</td>\n",
       "      <td>0.0</td>\n",
       "      <td>0.0</td>\n",
       "      <td>0.0</td>\n",
       "      <td>0.0</td>\n",
       "      <td>0.0</td>\n",
       "      <td>0.0</td>\n",
       "      <td>...</td>\n",
       "      <td>0.0</td>\n",
       "      <td>0.0</td>\n",
       "      <td>0.0</td>\n",
       "      <td>0.0</td>\n",
       "      <td>0.0</td>\n",
       "      <td>0.0</td>\n",
       "      <td>0.0</td>\n",
       "      <td>0.0</td>\n",
       "      <td>0.0</td>\n",
       "      <td>0.0</td>\n",
       "    </tr>\n",
       "    <tr>\n",
       "      <th>1</th>\n",
       "      <td>DW04538</td>\n",
       "      <td>0.0</td>\n",
       "      <td>0.0</td>\n",
       "      <td>1.0</td>\n",
       "      <td>0.0</td>\n",
       "      <td>0.0</td>\n",
       "      <td>0.0</td>\n",
       "      <td>0.0</td>\n",
       "      <td>0.0</td>\n",
       "      <td>1.0</td>\n",
       "      <td>...</td>\n",
       "      <td>0.0</td>\n",
       "      <td>0.0</td>\n",
       "      <td>1.0</td>\n",
       "      <td>0.0</td>\n",
       "      <td>0.0</td>\n",
       "      <td>0.0</td>\n",
       "      <td>0.0</td>\n",
       "      <td>0.0</td>\n",
       "      <td>0.0</td>\n",
       "      <td>0.0</td>\n",
       "    </tr>\n",
       "    <tr>\n",
       "      <th>2</th>\n",
       "      <td>W00604</td>\n",
       "      <td>0.0</td>\n",
       "      <td>0.0</td>\n",
       "      <td>0.0</td>\n",
       "      <td>0.0</td>\n",
       "      <td>0.0</td>\n",
       "      <td>0.0</td>\n",
       "      <td>0.0</td>\n",
       "      <td>0.0</td>\n",
       "      <td>0.0</td>\n",
       "      <td>...</td>\n",
       "      <td>0.0</td>\n",
       "      <td>0.0</td>\n",
       "      <td>2.0</td>\n",
       "      <td>0.0</td>\n",
       "      <td>0.0</td>\n",
       "      <td>0.0</td>\n",
       "      <td>0.0</td>\n",
       "      <td>0.0</td>\n",
       "      <td>0.0</td>\n",
       "      <td>0.0</td>\n",
       "    </tr>\n",
       "  </tbody>\n",
       "</table>\n",
       "<p>3 rows × 269 columns</p>\n",
       "</div>"
      ],
      "text/plain": [
       "anatomy_model  assetid  ABCDE Moles  ADHD  ALS  Abdomen  Acid Reflux  Acne  \\\n",
       "0              DW03756          0.0   0.0  0.0      0.0          0.0   0.0   \n",
       "1              DW04538          0.0   0.0  1.0      0.0          0.0   0.0   \n",
       "2               W00604          0.0   0.0  0.0      0.0          0.0   0.0   \n",
       "\n",
       "anatomy_model  Acne Detailed  Acute Bronchitis  Adam Insulin   ...  Uterus  \\\n",
       "0                        0.0               0.0            0.0  ...     0.0   \n",
       "1                        0.0               0.0            1.0  ...     0.0   \n",
       "2                        0.0               0.0            0.0  ...     0.0   \n",
       "\n",
       "anatomy_model  Vaginal Birth  Varicose Veins  Vasculature  Ventral Hernia  \\\n",
       "0                        0.0             0.0          0.0             0.0   \n",
       "1                        0.0             1.0          0.0             0.0   \n",
       "2                        0.0             2.0          0.0             0.0   \n",
       "\n",
       "anatomy_model  Ventricular Fibrillation with Conduction System  \\\n",
       "0                                                          0.0   \n",
       "1                                                          0.0   \n",
       "2                                                          0.0   \n",
       "\n",
       "anatomy_model  Wagner Classification  Warts on Skin  Whiteboard  Wrist  \n",
       "0                                0.0            0.0         0.0    0.0  \n",
       "1                                0.0            0.0         0.0    0.0  \n",
       "2                                0.0            0.0         0.0    0.0  \n",
       "\n",
       "[3 rows x 269 columns]"
      ]
     },
     "execution_count": 118,
     "metadata": {},
     "output_type": "execute_result"
    }
   ],
   "source": [
    "df_mia_activity_wb_interact_f = pd.pivot_table(df_mia_activity_wb_interact, \n",
    "               values = 'avg_touches', \n",
    "               index=['assetid'], \n",
    "               columns = 'anatomy_model').reset_index()\n",
    "df_mia_activity_wb_interact_f.replace(np.nan,0,inplace = True)\n",
    "print(df_mia_activity_wb_interact_f.shape)\n",
    "df_mia_activity_wb_interact_f.head(3)"
   ]
  },
  {
   "cell_type": "code",
   "execution_count": 119,
   "metadata": {
    "ExecuteTime": {
     "end_time": "2021-01-10T10:47:01.275734Z",
     "start_time": "2021-01-10T10:47:00.947353Z"
    }
   },
   "outputs": [
    {
     "name": "stdout",
     "output_type": "stream",
     "text": [
      "(16542, 268)\n"
     ]
    },
    {
     "data": {
      "text/html": [
       "<div>\n",
       "<style scoped>\n",
       "    .dataframe tbody tr th:only-of-type {\n",
       "        vertical-align: middle;\n",
       "    }\n",
       "\n",
       "    .dataframe tbody tr th {\n",
       "        vertical-align: top;\n",
       "    }\n",
       "\n",
       "    .dataframe thead th {\n",
       "        text-align: right;\n",
       "    }\n",
       "</style>\n",
       "<table border=\"1\" class=\"dataframe\">\n",
       "  <thead>\n",
       "    <tr style=\"text-align: right;\">\n",
       "      <th>anatomy_model</th>\n",
       "      <th>assetid</th>\n",
       "      <th>ABCDE Moles</th>\n",
       "      <th>ADHD</th>\n",
       "      <th>ALS</th>\n",
       "      <th>Abdomen</th>\n",
       "      <th>Acid Reflux</th>\n",
       "      <th>Acne</th>\n",
       "      <th>Acne Detailed</th>\n",
       "      <th>Acute Bronchitis</th>\n",
       "      <th>Adam Insulin</th>\n",
       "      <th>...</th>\n",
       "      <th>Uterus</th>\n",
       "      <th>Vaginal Birth</th>\n",
       "      <th>Varicose Veins</th>\n",
       "      <th>Vasculature</th>\n",
       "      <th>Ventral Hernia</th>\n",
       "      <th>Ventricular Fibrillation with Conduction System</th>\n",
       "      <th>Wagner Classification</th>\n",
       "      <th>Warts on Skin</th>\n",
       "      <th>Whiteboard</th>\n",
       "      <th>Wrist</th>\n",
       "    </tr>\n",
       "  </thead>\n",
       "  <tbody>\n",
       "    <tr>\n",
       "      <th>0</th>\n",
       "      <td>4916125</td>\n",
       "      <td>0.0</td>\n",
       "      <td>0.0</td>\n",
       "      <td>0.0</td>\n",
       "      <td>0.0</td>\n",
       "      <td>0.0</td>\n",
       "      <td>0.0</td>\n",
       "      <td>0.0</td>\n",
       "      <td>0.0</td>\n",
       "      <td>0.0</td>\n",
       "      <td>...</td>\n",
       "      <td>0.0</td>\n",
       "      <td>0.0</td>\n",
       "      <td>0.0</td>\n",
       "      <td>0.0</td>\n",
       "      <td>0.0</td>\n",
       "      <td>0.0</td>\n",
       "      <td>0.0</td>\n",
       "      <td>0.0</td>\n",
       "      <td>0.0</td>\n",
       "      <td>0.0</td>\n",
       "    </tr>\n",
       "    <tr>\n",
       "      <th>1</th>\n",
       "      <td>DW03531</td>\n",
       "      <td>0.0</td>\n",
       "      <td>0.0</td>\n",
       "      <td>0.0</td>\n",
       "      <td>0.0</td>\n",
       "      <td>0.0</td>\n",
       "      <td>0.0</td>\n",
       "      <td>0.0</td>\n",
       "      <td>0.0</td>\n",
       "      <td>0.0</td>\n",
       "      <td>...</td>\n",
       "      <td>0.0</td>\n",
       "      <td>0.0</td>\n",
       "      <td>0.0</td>\n",
       "      <td>0.0</td>\n",
       "      <td>0.0</td>\n",
       "      <td>0.0</td>\n",
       "      <td>0.0</td>\n",
       "      <td>0.0</td>\n",
       "      <td>0.0</td>\n",
       "      <td>0.0</td>\n",
       "    </tr>\n",
       "    <tr>\n",
       "      <th>2</th>\n",
       "      <td>DW03763</td>\n",
       "      <td>1.0</td>\n",
       "      <td>0.0</td>\n",
       "      <td>0.0</td>\n",
       "      <td>0.0</td>\n",
       "      <td>0.0</td>\n",
       "      <td>1.0</td>\n",
       "      <td>0.0</td>\n",
       "      <td>0.0</td>\n",
       "      <td>0.0</td>\n",
       "      <td>...</td>\n",
       "      <td>0.0</td>\n",
       "      <td>0.0</td>\n",
       "      <td>0.0</td>\n",
       "      <td>0.0</td>\n",
       "      <td>0.0</td>\n",
       "      <td>0.0</td>\n",
       "      <td>0.0</td>\n",
       "      <td>0.0</td>\n",
       "      <td>0.0</td>\n",
       "      <td>1.0</td>\n",
       "    </tr>\n",
       "  </tbody>\n",
       "</table>\n",
       "<p>3 rows × 268 columns</p>\n",
       "</div>"
      ],
      "text/plain": [
       "anatomy_model  assetid  ABCDE Moles  ADHD  ALS  Abdomen  Acid Reflux  Acne  \\\n",
       "0              4916125          0.0   0.0  0.0      0.0          0.0   0.0   \n",
       "1              DW03531          0.0   0.0  0.0      0.0          0.0   0.0   \n",
       "2              DW03763          1.0   0.0  0.0      0.0          0.0   1.0   \n",
       "\n",
       "anatomy_model  Acne Detailed  Acute Bronchitis  Adam Insulin   ...  Uterus  \\\n",
       "0                        0.0               0.0            0.0  ...     0.0   \n",
       "1                        0.0               0.0            0.0  ...     0.0   \n",
       "2                        0.0               0.0            0.0  ...     0.0   \n",
       "\n",
       "anatomy_model  Vaginal Birth  Varicose Veins  Vasculature  Ventral Hernia  \\\n",
       "0                        0.0             0.0          0.0             0.0   \n",
       "1                        0.0             0.0          0.0             0.0   \n",
       "2                        0.0             0.0          0.0             0.0   \n",
       "\n",
       "anatomy_model  Ventricular Fibrillation with Conduction System  \\\n",
       "0                                                          0.0   \n",
       "1                                                          0.0   \n",
       "2                                                          0.0   \n",
       "\n",
       "anatomy_model  Wagner Classification  Warts on Skin  Whiteboard  Wrist  \n",
       "0                                0.0            0.0         0.0    0.0  \n",
       "1                                0.0            0.0         0.0    0.0  \n",
       "2                                0.0            0.0         0.0    1.0  \n",
       "\n",
       "[3 rows x 268 columns]"
      ]
     },
     "execution_count": 119,
     "metadata": {},
     "output_type": "execute_result"
    }
   ],
   "source": [
    "df_nonmia_activity_wb_interact_f = pd.pivot_table(df_nonmia_activity_wb_interact, \n",
    "               values = 'avg_touches', \n",
    "               index=['assetid'], \n",
    "               columns = 'anatomy_model').reset_index()\n",
    "df_nonmia_activity_wb_interact_f.replace(np.nan,0,inplace = True)\n",
    "print(df_nonmia_activity_wb_interact_f.shape)\n",
    "df_nonmia_activity_wb_interact_f.head(3)"
   ]
  },
  {
   "cell_type": "code",
   "execution_count": 120,
   "metadata": {
    "ExecuteTime": {
     "end_time": "2021-01-10T10:49:02.411232Z",
     "start_time": "2021-01-10T10:49:02.408202Z"
    }
   },
   "outputs": [],
   "source": [
    "# Dropping these columns as only one of the cohorts has data \n",
    "columns_to_drop = list(set(df_nonmia_activity_wb_interact_f.columns)-set(df_mia_activity_wb_interact_f.columns)) + list(set(df_mia_activity_wb_interact_f.columns)-set(df_nonmia_activity_wb_interact_f.columns))"
   ]
  },
  {
   "cell_type": "code",
   "execution_count": 122,
   "metadata": {
    "ExecuteTime": {
     "end_time": "2021-01-10T10:49:41.609196Z",
     "start_time": "2021-01-10T10:49:41.598017Z"
    }
   },
   "outputs": [
    {
     "name": "stdout",
     "output_type": "stream",
     "text": [
      "Shape of MIA Devices : (6981, 268)\n",
      "Shape of NONMIA Devices : (16542, 268)\n"
     ]
    }
   ],
   "source": [
    "for col in columns_to_drop:\n",
    "    if col in df_mia_activity_wb_interact_f.columns:\n",
    "        df_mia_activity_wb_interact_f.drop(col,1,inplace = True)\n",
    "    if col in df_nonmia_activity_wb_interact_f.columns:    \n",
    "        df_nonmia_activity_wb_interact_f.drop(col,1,inplace = True)\n",
    "\n",
    "print(\"Shape of MIA Devices :\",df_mia_activity_wb_interact_f.shape)    \n",
    "print(\"Shape of NONMIA Devices :\",df_nonmia_activity_wb_interact_f.shape) "
   ]
  },
  {
   "cell_type": "markdown",
   "metadata": {},
   "source": [
    "## Merging Datasets"
   ]
  },
  {
   "cell_type": "code",
   "execution_count": 327,
   "metadata": {
    "ExecuteTime": {
     "end_time": "2021-01-10T14:34:37.374925Z",
     "start_time": "2021-01-10T14:34:36.956878Z"
    }
   },
   "outputs": [
    {
     "name": "stdout",
     "output_type": "stream",
     "text": [
      "The number of first set of categorical variables from Redshift:  150\n",
      "Shape of the dataframe post merging:  (10308, 152)\n",
      "The number of second set of categorical variables from Redshift:  10\n",
      "Shape of the dataframe post merging:  (10308, 162)\n",
      "The number of first set of activity variables from Treasure Data:  14\n",
      "Shape of the dataframe post merging:  (10308, 175)\n",
      "The number of second set of activity variables from Treasure Data:  19\n",
      "Shape of the dataframe post merging:  (10308, 193)\n",
      "The number of wallboard interaction variables from Treasure Data:  268\n",
      "Shape of the dataframe post merging:  (10308, 461)\n",
      "The number of poweroff variables from Redshift:  4\n",
      "Shape of the dataframe post merging:  (10308, 465)\n"
     ]
    }
   ],
   "source": [
    "# Merging all variables of MIA Devices\n",
    "\n",
    "df_final_mia = df_final[df_final.y_flag == 1]\n",
    "\n",
    "print('The number of first set of categorical variables from Redshift: ',df_mia_redshift_wb_cat.shape[1])\n",
    "df_final_mia = df_final_mia.merge(df_mia_redshift_wb_cat, how = 'left',\n",
    "                                  left_on = 'asset_id',\n",
    "                                  right_on = 'asset_name')\n",
    "print('Shape of the dataframe post merging: ',df_final_mia.shape)\n",
    "\n",
    "print('The number of second set of categorical variables from Redshift: ',df_redshift_wb_fs_bck.shape[1])\n",
    "df_final_mia = df_final_mia.merge(df_redshift_wb_fs_bck, how = 'left',\n",
    "                                  left_on = 'asset_id',\n",
    "                                  right_on = 'asset_name')\n",
    "print('Shape of the dataframe post merging: ',df_final_mia.shape)\n",
    "\n",
    "print('The number of first set of activity variables from Treasure Data: ',df_mia_activity_var1_f.shape[1])\n",
    "df_final_mia = df_final_mia.merge(df_mia_activity_var1_f, how = 'left',\n",
    "                                  left_on = 'asset_id',\n",
    "                                  right_on = 'asset_id')\n",
    "print('Shape of the dataframe post merging: ',df_final_mia.shape)\n",
    "\n",
    "print('The number of second set of activity variables from Treasure Data: ',df_mia_activity_var2_f.shape[1])\n",
    "df_final_mia = df_final_mia.merge(df_mia_activity_var2_f, how = 'left',\n",
    "                                  left_on = 'asset_id',\n",
    "                                  right_on = 'asset_id')\n",
    "print('Shape of the dataframe post merging: ',df_final_mia.shape)\n",
    "\n",
    "print('The number of wallboard interaction variables from Treasure Data: ',df_mia_activity_wb_interact_f.shape[1])\n",
    "df_final_mia = df_final_mia.merge(df_mia_activity_wb_interact_f, how = 'left',\n",
    "                                  left_on = 'asset_id',\n",
    "                                  right_on = 'assetid')\n",
    "print('Shape of the dataframe post merging: ',df_final_mia.shape)\n",
    "\n",
    "\n",
    "df_mia_power_off = df_mia_redshift_wb[['asset_name','avg_times','avg_days','clinic_had_mia']]\n",
    "df_mia_power_off.drop_duplicates(inplace = True)\n",
    "df_mia_power_off['avg_days'].replace('unknown',0,inplace = True)\n",
    "df_mia_power_off['avg_times'].replace('unknown',0,inplace = True)\n",
    "df_mia_power_off['clinic_had_mia'].replace('unknown',np.nan,inplace = True)\n",
    "\n",
    "print('The number of poweroff variables from Redshift: ',df_mia_power_off.shape[1])\n",
    "df_final_mia = df_final_mia.merge(df_mia_power_off, how = 'left',\n",
    "                                  left_on = 'asset_id',\n",
    "                                  right_on = 'asset_name')\n",
    "print('Shape of the dataframe post merging: ',df_final_mia.shape)\n",
    "\n",
    "# Changing data types of the columns from object to respective datatypes\n",
    "df_final_mia['clinic_had_mia']= df_final_mia.clinic_had_mia.astype('category')\n",
    "df_final_mia['avg_times']= df_final_mia.avg_times.astype('float')\n",
    "df_final_mia['avg_days']= df_final_mia.avg_days.astype('float')"
   ]
  },
  {
   "cell_type": "code",
   "execution_count": 326,
   "metadata": {
    "ExecuteTime": {
     "end_time": "2021-01-10T14:34:00.524485Z",
     "start_time": "2021-01-10T14:33:59.475183Z"
    }
   },
   "outputs": [
    {
     "name": "stdout",
     "output_type": "stream",
     "text": [
      "The number of first set of categorical variables from Redshift:  150\n",
      "Shape of the dataframe post merging:  (19958, 152)\n",
      "The number of second set of categorical variables from Redshift:  10\n",
      "Shape of the dataframe post merging:  (19958, 162)\n",
      "The number of first set of activity variables from Treasure Data:  14\n",
      "Shape of the dataframe post merging:  (19958, 175)\n",
      "The number of second set of activity variables from Treasure Data:  19\n",
      "Shape of the dataframe post merging:  (19958, 193)\n",
      "The number of wallboard interaction variables from Treasure Data:  268\n",
      "Shape of the dataframe post merging:  (19958, 461)\n",
      "The number of poweroff variables from Redshift:  4\n",
      "Shape of the dataframe post merging:  (19984, 465)\n"
     ]
    }
   ],
   "source": [
    "# Merging all variables of NON - nonmia Devices\n",
    "\n",
    "df_final_nonmia = df_final[df_final.y_flag == 0]\n",
    "\n",
    "print('The number of first set of categorical variables from Redshift: ',df_nonmia_redshift_wb_cat.shape[1])\n",
    "df_final_nonmia = df_final_nonmia.merge(df_nonmia_redshift_wb_cat, how = 'left',\n",
    "                                  left_on = 'asset_id',\n",
    "                                  right_on = 'asset_name')\n",
    "print('Shape of the dataframe post merging: ',df_final_nonmia.shape)\n",
    "\n",
    "print('The number of second set of categorical variables from Redshift: ',df_redshift_wb_fs_bck.shape[1])\n",
    "df_final_nonmia = df_final_nonmia.merge(df_redshift_wb_fs_bck, how = 'left',\n",
    "                                  left_on = 'asset_id',\n",
    "                                  right_on = 'asset_name')\n",
    "print('Shape of the dataframe post merging: ',df_final_nonmia.shape)\n",
    "\n",
    "print('The number of first set of activity variables from Treasure Data: ',df_nonmia_activity_var1_f.shape[1])\n",
    "df_final_nonmia = df_final_nonmia.merge(df_nonmia_activity_var1_f, how = 'left',\n",
    "                                  left_on = 'asset_id',\n",
    "                                  right_on = 'asset_id')\n",
    "print('Shape of the dataframe post merging: ',df_final_nonmia.shape)\n",
    "\n",
    "print('The number of second set of activity variables from Treasure Data: ',df_nonmia_activity_var2_f.shape[1])\n",
    "df_final_nonmia = df_final_nonmia.merge(df_nonmia_activity_var2_f, how = 'left',\n",
    "                                  left_on = 'asset_id',\n",
    "                                  right_on = 'asset_id')\n",
    "print('Shape of the dataframe post merging: ',df_final_nonmia.shape)\n",
    "\n",
    "print('The number of wallboard interaction variables from Treasure Data: ',df_nonmia_activity_wb_interact_f.shape[1])\n",
    "df_final_nonmia = df_final_nonmia.merge(df_nonmia_activity_wb_interact_f, how = 'left',\n",
    "                                  left_on = 'asset_id',\n",
    "                                  right_on = 'assetid')\n",
    "print('Shape of the dataframe post merging: ',df_final_nonmia.shape)\n",
    "\n",
    "\n",
    "df_nonmia_power_off = df_nonmia_redshift_wb[['asset_name','avg_times','avg_days','clinic_had_mia']]\n",
    "df_nonmia_power_off.drop_duplicates(inplace = True)\n",
    "df_nonmia_power_off['avg_days'].replace('unknown',0,inplace = True)\n",
    "df_nonmia_power_off['avg_times'].replace('unknown',0,inplace = True)\n",
    "df_nonmia_power_off['clinic_had_mia'].replace('unknown',np.nan,inplace = True)\n",
    "\n",
    "print('The number of poweroff variables from Redshift: ',df_nonmia_power_off.shape[1])\n",
    "df_final_nonmia = df_final_nonmia.merge(df_nonmia_power_off, how = 'left',\n",
    "                                  left_on = 'asset_id',\n",
    "                                  right_on = 'asset_name')\n",
    "print('Shape of the dataframe post merging: ',df_final_nonmia.shape)\n",
    "\n",
    "# Changing data types of the columns from object to respective datatypes\n",
    "df_final_nonmia['clinic_had_mia']= df_final_nonmia.clinic_had_mia.astype('category')\n",
    "df_final_nonmia['avg_times']= df_final_nonmia.avg_times.astype('float')\n",
    "df_final_nonmia['avg_days']= df_final_nonmia.avg_days.astype('float')"
   ]
  },
  {
   "cell_type": "code",
   "execution_count": 283,
   "metadata": {
    "ExecuteTime": {
     "end_time": "2021-01-10T13:04:06.880431Z",
     "start_time": "2021-01-10T13:04:06.873401Z"
    }
   },
   "outputs": [
    {
     "data": {
      "text/plain": [
       "['asset_name_x', 'asset_name_y', 'asset_name', 'assetid']"
      ]
     },
     "execution_count": 283,
     "metadata": {},
     "output_type": "execute_result"
    }
   ],
   "source": [
    "cols_to_drop = [x for x in df_final_mia.columns if \"asset_name\" in x ]\n",
    "cols_to_drop.append('assetid')\n",
    "cols_to_drop"
   ]
  },
  {
   "cell_type": "code",
   "execution_count": 284,
   "metadata": {
    "ExecuteTime": {
     "end_time": "2021-01-10T13:04:15.024849Z",
     "start_time": "2021-01-10T13:04:14.771591Z"
    }
   },
   "outputs": [],
   "source": [
    "for col in cols_to_drop:\n",
    "    if col in df_final_mia.columns:\n",
    "        df_final_mia.drop(col,1,inplace = True)\n",
    "    if col in df_final_nonmia.columns:    \n",
    "        df_final_nonmia.drop(col,1,inplace = True)"
   ]
  },
  {
   "cell_type": "code",
   "execution_count": 285,
   "metadata": {
    "ExecuteTime": {
     "end_time": "2021-01-10T13:04:22.886429Z",
     "start_time": "2021-01-10T13:04:22.830586Z"
    }
   },
   "outputs": [
    {
     "name": "stdout",
     "output_type": "stream",
     "text": [
      "Shape of the dataframe:  (10308, 461)\n"
     ]
    },
    {
     "data": {
      "text/html": [
       "<div>\n",
       "<style scoped>\n",
       "    .dataframe tbody tr th:only-of-type {\n",
       "        vertical-align: middle;\n",
       "    }\n",
       "\n",
       "    .dataframe tbody tr th {\n",
       "        vertical-align: top;\n",
       "    }\n",
       "\n",
       "    .dataframe thead th {\n",
       "        text-align: right;\n",
       "    }\n",
       "</style>\n",
       "<table border=\"1\" class=\"dataframe\">\n",
       "  <thead>\n",
       "    <tr style=\"text-align: right;\">\n",
       "      <th></th>\n",
       "      <th>asset_id</th>\n",
       "      <th>software_version_2.0.3</th>\n",
       "      <th>software_version_3.0.1</th>\n",
       "      <th>software_version_3.2</th>\n",
       "      <th>software_version_3.3.1</th>\n",
       "      <th>software_version_3.3.2</th>\n",
       "      <th>software_version_3.5</th>\n",
       "      <th>software_version_4.10.1</th>\n",
       "      <th>software_version_4.10.2</th>\n",
       "      <th>software_version_4.12.4</th>\n",
       "      <th>...</th>\n",
       "      <th>Ventral Hernia</th>\n",
       "      <th>Ventricular Fibrillation with Conduction System</th>\n",
       "      <th>Wagner Classification</th>\n",
       "      <th>Warts on Skin</th>\n",
       "      <th>Whiteboard</th>\n",
       "      <th>Wrist</th>\n",
       "      <th>avg_times</th>\n",
       "      <th>avg_days</th>\n",
       "      <th>clinic_had_mia</th>\n",
       "      <th>y_flag</th>\n",
       "    </tr>\n",
       "  </thead>\n",
       "  <tbody>\n",
       "    <tr>\n",
       "      <th>0</th>\n",
       "      <td>W35734</td>\n",
       "      <td>0</td>\n",
       "      <td>0</td>\n",
       "      <td>0</td>\n",
       "      <td>0</td>\n",
       "      <td>0</td>\n",
       "      <td>0</td>\n",
       "      <td>0</td>\n",
       "      <td>1</td>\n",
       "      <td>0</td>\n",
       "      <td>...</td>\n",
       "      <td>0.0</td>\n",
       "      <td>0.0</td>\n",
       "      <td>0.0</td>\n",
       "      <td>0.0</td>\n",
       "      <td>0.0</td>\n",
       "      <td>0.0</td>\n",
       "      <td>1.0</td>\n",
       "      <td>0.0</td>\n",
       "      <td>1</td>\n",
       "      <td>1</td>\n",
       "    </tr>\n",
       "    <tr>\n",
       "      <th>1</th>\n",
       "      <td>W01E107035</td>\n",
       "      <td>0</td>\n",
       "      <td>0</td>\n",
       "      <td>0</td>\n",
       "      <td>0</td>\n",
       "      <td>0</td>\n",
       "      <td>0</td>\n",
       "      <td>0</td>\n",
       "      <td>1</td>\n",
       "      <td>0</td>\n",
       "      <td>...</td>\n",
       "      <td>NaN</td>\n",
       "      <td>NaN</td>\n",
       "      <td>NaN</td>\n",
       "      <td>NaN</td>\n",
       "      <td>NaN</td>\n",
       "      <td>NaN</td>\n",
       "      <td>3.0</td>\n",
       "      <td>31.0</td>\n",
       "      <td>1</td>\n",
       "      <td>1</td>\n",
       "    </tr>\n",
       "  </tbody>\n",
       "</table>\n",
       "<p>2 rows × 461 columns</p>\n",
       "</div>"
      ],
      "text/plain": [
       "     asset_id software_version_2.0.3 software_version_3.0.1  \\\n",
       "0      W35734                      0                      0   \n",
       "1  W01E107035                      0                      0   \n",
       "\n",
       "  software_version_3.2 software_version_3.3.1 software_version_3.3.2  \\\n",
       "0                    0                      0                      0   \n",
       "1                    0                      0                      0   \n",
       "\n",
       "  software_version_3.5 software_version_4.10.1 software_version_4.10.2  \\\n",
       "0                    0                       0                       1   \n",
       "1                    0                       0                       1   \n",
       "\n",
       "  software_version_4.12.4  ... Ventral Hernia  \\\n",
       "0                       0  ...            0.0   \n",
       "1                       0  ...            NaN   \n",
       "\n",
       "  Ventricular Fibrillation with Conduction System Wagner Classification  \\\n",
       "0                                             0.0                   0.0   \n",
       "1                                             NaN                   NaN   \n",
       "\n",
       "  Warts on Skin Whiteboard Wrist avg_times avg_days clinic_had_mia y_flag  \n",
       "0           0.0        0.0   0.0       1.0      0.0              1      1  \n",
       "1           NaN        NaN   NaN       3.0     31.0              1      1  \n",
       "\n",
       "[2 rows x 461 columns]"
      ]
     },
     "execution_count": 285,
     "metadata": {},
     "output_type": "execute_result"
    }
   ],
   "source": [
    "df_final_mia.set_index('asset_id',inplace = True)\n",
    "cols = df_final_mia.columns.tolist()\n",
    "cols = cols[1:] + [cols[0]]\n",
    "df_final_mia = df_final_mia[cols]\n",
    "df_final_mia.reset_index(inplace = True)\n",
    "print('Shape of the dataframe: ',df_final_mia.shape)\n",
    "df_final_mia.head(2)"
   ]
  },
  {
   "cell_type": "code",
   "execution_count": 286,
   "metadata": {
    "ExecuteTime": {
     "end_time": "2021-01-10T13:04:31.069833Z",
     "start_time": "2021-01-10T13:04:31.000531Z"
    }
   },
   "outputs": [
    {
     "name": "stdout",
     "output_type": "stream",
     "text": [
      "Shape of the dataframe:  (19984, 461)\n"
     ]
    },
    {
     "data": {
      "text/html": [
       "<div>\n",
       "<style scoped>\n",
       "    .dataframe tbody tr th:only-of-type {\n",
       "        vertical-align: middle;\n",
       "    }\n",
       "\n",
       "    .dataframe tbody tr th {\n",
       "        vertical-align: top;\n",
       "    }\n",
       "\n",
       "    .dataframe thead th {\n",
       "        text-align: right;\n",
       "    }\n",
       "</style>\n",
       "<table border=\"1\" class=\"dataframe\">\n",
       "  <thead>\n",
       "    <tr style=\"text-align: right;\">\n",
       "      <th></th>\n",
       "      <th>asset_id</th>\n",
       "      <th>software_version_2.0.3</th>\n",
       "      <th>software_version_3.0.1</th>\n",
       "      <th>software_version_3.2</th>\n",
       "      <th>software_version_3.3.1</th>\n",
       "      <th>software_version_3.3.2</th>\n",
       "      <th>software_version_3.5</th>\n",
       "      <th>software_version_4.10.1</th>\n",
       "      <th>software_version_4.10.2</th>\n",
       "      <th>software_version_4.12.4</th>\n",
       "      <th>...</th>\n",
       "      <th>Ventral Hernia</th>\n",
       "      <th>Ventricular Fibrillation with Conduction System</th>\n",
       "      <th>Wagner Classification</th>\n",
       "      <th>Warts on Skin</th>\n",
       "      <th>Whiteboard</th>\n",
       "      <th>Wrist</th>\n",
       "      <th>avg_times</th>\n",
       "      <th>avg_days</th>\n",
       "      <th>clinic_had_mia</th>\n",
       "      <th>y_flag</th>\n",
       "    </tr>\n",
       "  </thead>\n",
       "  <tbody>\n",
       "    <tr>\n",
       "      <th>0</th>\n",
       "      <td>W01E104222</td>\n",
       "      <td>0</td>\n",
       "      <td>0</td>\n",
       "      <td>0</td>\n",
       "      <td>0</td>\n",
       "      <td>0</td>\n",
       "      <td>0</td>\n",
       "      <td>0</td>\n",
       "      <td>1</td>\n",
       "      <td>0</td>\n",
       "      <td>...</td>\n",
       "      <td>0.0</td>\n",
       "      <td>0.0</td>\n",
       "      <td>0.0</td>\n",
       "      <td>0.0</td>\n",
       "      <td>0.0</td>\n",
       "      <td>0.0</td>\n",
       "      <td>0.0</td>\n",
       "      <td>0.0</td>\n",
       "      <td>1</td>\n",
       "      <td>0</td>\n",
       "    </tr>\n",
       "    <tr>\n",
       "      <th>1</th>\n",
       "      <td>W01E123017</td>\n",
       "      <td>0</td>\n",
       "      <td>0</td>\n",
       "      <td>0</td>\n",
       "      <td>0</td>\n",
       "      <td>0</td>\n",
       "      <td>0</td>\n",
       "      <td>0</td>\n",
       "      <td>1</td>\n",
       "      <td>0</td>\n",
       "      <td>...</td>\n",
       "      <td>0.0</td>\n",
       "      <td>0.0</td>\n",
       "      <td>0.0</td>\n",
       "      <td>0.0</td>\n",
       "      <td>0.0</td>\n",
       "      <td>0.0</td>\n",
       "      <td>0.0</td>\n",
       "      <td>0.0</td>\n",
       "      <td>1</td>\n",
       "      <td>0</td>\n",
       "    </tr>\n",
       "  </tbody>\n",
       "</table>\n",
       "<p>2 rows × 461 columns</p>\n",
       "</div>"
      ],
      "text/plain": [
       "     asset_id software_version_2.0.3 software_version_3.0.1  \\\n",
       "0  W01E104222                      0                      0   \n",
       "1  W01E123017                      0                      0   \n",
       "\n",
       "  software_version_3.2 software_version_3.3.1 software_version_3.3.2  \\\n",
       "0                    0                      0                      0   \n",
       "1                    0                      0                      0   \n",
       "\n",
       "  software_version_3.5 software_version_4.10.1 software_version_4.10.2  \\\n",
       "0                    0                       0                       1   \n",
       "1                    0                       0                       1   \n",
       "\n",
       "  software_version_4.12.4  ... Ventral Hernia  \\\n",
       "0                       0  ...            0.0   \n",
       "1                       0  ...            0.0   \n",
       "\n",
       "  Ventricular Fibrillation with Conduction System Wagner Classification  \\\n",
       "0                                             0.0                   0.0   \n",
       "1                                             0.0                   0.0   \n",
       "\n",
       "  Warts on Skin Whiteboard Wrist avg_times avg_days clinic_had_mia y_flag  \n",
       "0           0.0        0.0   0.0       0.0      0.0              1      0  \n",
       "1           0.0        0.0   0.0       0.0      0.0              1      0  \n",
       "\n",
       "[2 rows x 461 columns]"
      ]
     },
     "execution_count": 286,
     "metadata": {},
     "output_type": "execute_result"
    }
   ],
   "source": [
    "df_final_nonmia.set_index('asset_id',inplace = True)\n",
    "cols = df_final_nonmia.columns.tolist()\n",
    "cols = cols[1:] + [cols[0]]\n",
    "df_final_nonmia = df_final_nonmia[cols]\n",
    "df_final_nonmia.reset_index(inplace = True)\n",
    "print('Shape of the dataframe: ',df_final_nonmia.shape)\n",
    "df_final_nonmia.head(2)"
   ]
  },
  {
   "cell_type": "markdown",
   "metadata": {},
   "source": [
    "# Data Sampling"
   ]
  },
  {
   "cell_type": "code",
   "execution_count": 299,
   "metadata": {
    "ExecuteTime": {
     "end_time": "2021-01-10T13:18:07.463534Z",
     "start_time": "2021-01-10T13:18:07.304647Z"
    }
   },
   "outputs": [
    {
     "data": {
      "text/plain": [
       "(10308, 461)"
      ]
     },
     "execution_count": 299,
     "metadata": {},
     "output_type": "execute_result"
    }
   ],
   "source": [
    "# Randomly selecting Non-MIA devices equal to the count of MIA devices\n",
    "\n",
    "df_final_nonmia = df_final_nonmia.sample(n = df_final_mia.shape[0])\n",
    "df_final_nonmia.shape"
   ]
  },
  {
   "cell_type": "code",
   "execution_count": 300,
   "metadata": {
    "ExecuteTime": {
     "end_time": "2021-01-10T13:18:15.382973Z",
     "start_time": "2021-01-10T13:18:15.264362Z"
    }
   },
   "outputs": [
    {
     "data": {
      "text/plain": [
       "(20616, 461)"
      ]
     },
     "execution_count": 300,
     "metadata": {},
     "output_type": "execute_result"
    }
   ],
   "source": [
    "df_final_all_vars = pd.concat([df_final_mia,df_final_nonmia],axis = 0)\n",
    "df_final_all_vars.shape"
   ]
  },
  {
   "cell_type": "markdown",
   "metadata": {},
   "source": [
    "# Normalization"
   ]
  },
  {
   "cell_type": "code",
   "execution_count": 301,
   "metadata": {
    "ExecuteTime": {
     "end_time": "2021-01-10T13:18:23.631312Z",
     "start_time": "2021-01-10T13:18:23.317589Z"
    }
   },
   "outputs": [
    {
     "name": "stdout",
     "output_type": "stream",
     "text": [
      "If any columns have null:  False\n"
     ]
    }
   ],
   "source": [
    "# Normalizing all numerical (int or float) data using standand deviation and mean\n",
    "\n",
    "df_final_all_vars.replace(np.nan,0,inplace = True)\n",
    "df_final_all_vars.fillna(0,inplace = True)\n",
    "print('If any columns have null: ',df_final_all_vars.isnull().values.any())\n",
    "\n",
    "df_final_all_vars.set_index('asset_id', inplace = True)\n",
    "for column in df_final_all_vars.columns:\n",
    "    if df_final_all_vars[column].dtype.name != 'category':\n",
    "        df_final_all_vars[column] = (df_final_all_vars[column] - df_final_all_vars[column] .mean())/df_final_all_vars[column].std()\n",
    "    \n",
    "        "
   ]
  },
  {
   "cell_type": "code",
   "execution_count": 302,
   "metadata": {
    "ExecuteTime": {
     "end_time": "2021-01-10T13:18:31.076201Z",
     "start_time": "2021-01-10T13:18:31.051345Z"
    }
   },
   "outputs": [
    {
     "data": {
      "text/html": [
       "<div>\n",
       "<style scoped>\n",
       "    .dataframe tbody tr th:only-of-type {\n",
       "        vertical-align: middle;\n",
       "    }\n",
       "\n",
       "    .dataframe tbody tr th {\n",
       "        vertical-align: top;\n",
       "    }\n",
       "\n",
       "    .dataframe thead th {\n",
       "        text-align: right;\n",
       "    }\n",
       "</style>\n",
       "<table border=\"1\" class=\"dataframe\">\n",
       "  <thead>\n",
       "    <tr style=\"text-align: right;\">\n",
       "      <th></th>\n",
       "      <th>software_version_2.0.3</th>\n",
       "      <th>software_version_3.0.1</th>\n",
       "      <th>software_version_3.2</th>\n",
       "      <th>software_version_3.3.1</th>\n",
       "      <th>software_version_3.3.2</th>\n",
       "      <th>software_version_3.5</th>\n",
       "      <th>software_version_4.10.1</th>\n",
       "      <th>software_version_4.10.2</th>\n",
       "      <th>software_version_4.12.4</th>\n",
       "      <th>software_version_4.2.2</th>\n",
       "      <th>...</th>\n",
       "      <th>Ventral Hernia</th>\n",
       "      <th>Ventricular Fibrillation with Conduction System</th>\n",
       "      <th>Wagner Classification</th>\n",
       "      <th>Warts on Skin</th>\n",
       "      <th>Whiteboard</th>\n",
       "      <th>Wrist</th>\n",
       "      <th>avg_times</th>\n",
       "      <th>avg_days</th>\n",
       "      <th>clinic_had_mia</th>\n",
       "      <th>y_flag</th>\n",
       "    </tr>\n",
       "    <tr>\n",
       "      <th>asset_id</th>\n",
       "      <th></th>\n",
       "      <th></th>\n",
       "      <th></th>\n",
       "      <th></th>\n",
       "      <th></th>\n",
       "      <th></th>\n",
       "      <th></th>\n",
       "      <th></th>\n",
       "      <th></th>\n",
       "      <th></th>\n",
       "      <th></th>\n",
       "      <th></th>\n",
       "      <th></th>\n",
       "      <th></th>\n",
       "      <th></th>\n",
       "      <th></th>\n",
       "      <th></th>\n",
       "      <th></th>\n",
       "      <th></th>\n",
       "      <th></th>\n",
       "      <th></th>\n",
       "    </tr>\n",
       "  </thead>\n",
       "  <tbody>\n",
       "    <tr>\n",
       "      <th>W35734</th>\n",
       "      <td>0</td>\n",
       "      <td>0</td>\n",
       "      <td>0</td>\n",
       "      <td>0</td>\n",
       "      <td>0</td>\n",
       "      <td>0</td>\n",
       "      <td>0</td>\n",
       "      <td>1</td>\n",
       "      <td>0</td>\n",
       "      <td>0</td>\n",
       "      <td>...</td>\n",
       "      <td>-0.082145</td>\n",
       "      <td>-0.090345</td>\n",
       "      <td>-0.211962</td>\n",
       "      <td>-0.123294</td>\n",
       "      <td>-0.011374</td>\n",
       "      <td>-0.197531</td>\n",
       "      <td>0.012708</td>\n",
       "      <td>-0.218282</td>\n",
       "      <td>1</td>\n",
       "      <td>1</td>\n",
       "    </tr>\n",
       "    <tr>\n",
       "      <th>W01E107035</th>\n",
       "      <td>0</td>\n",
       "      <td>0</td>\n",
       "      <td>0</td>\n",
       "      <td>0</td>\n",
       "      <td>0</td>\n",
       "      <td>0</td>\n",
       "      <td>0</td>\n",
       "      <td>1</td>\n",
       "      <td>0</td>\n",
       "      <td>0</td>\n",
       "      <td>...</td>\n",
       "      <td>-0.082145</td>\n",
       "      <td>-0.090345</td>\n",
       "      <td>-0.211962</td>\n",
       "      <td>-0.123294</td>\n",
       "      <td>-0.011374</td>\n",
       "      <td>-0.197531</td>\n",
       "      <td>0.667685</td>\n",
       "      <td>1.355838</td>\n",
       "      <td>1</td>\n",
       "      <td>1</td>\n",
       "    </tr>\n",
       "    <tr>\n",
       "      <th>W01E124992</th>\n",
       "      <td>0</td>\n",
       "      <td>0</td>\n",
       "      <td>0</td>\n",
       "      <td>0</td>\n",
       "      <td>0</td>\n",
       "      <td>0</td>\n",
       "      <td>0</td>\n",
       "      <td>0</td>\n",
       "      <td>0</td>\n",
       "      <td>0</td>\n",
       "      <td>...</td>\n",
       "      <td>-0.082145</td>\n",
       "      <td>-0.090345</td>\n",
       "      <td>-0.211962</td>\n",
       "      <td>-0.123294</td>\n",
       "      <td>-0.011374</td>\n",
       "      <td>-0.197531</td>\n",
       "      <td>0.012708</td>\n",
       "      <td>-0.167504</td>\n",
       "      <td>1</td>\n",
       "      <td>1</td>\n",
       "    </tr>\n",
       "    <tr>\n",
       "      <th>W01Y102940</th>\n",
       "      <td>0</td>\n",
       "      <td>0</td>\n",
       "      <td>0</td>\n",
       "      <td>0</td>\n",
       "      <td>0</td>\n",
       "      <td>0</td>\n",
       "      <td>0</td>\n",
       "      <td>0</td>\n",
       "      <td>0</td>\n",
       "      <td>0</td>\n",
       "      <td>...</td>\n",
       "      <td>-0.082145</td>\n",
       "      <td>-0.090345</td>\n",
       "      <td>-0.211962</td>\n",
       "      <td>-0.123294</td>\n",
       "      <td>-0.011374</td>\n",
       "      <td>-0.197531</td>\n",
       "      <td>-0.314780</td>\n",
       "      <td>-0.218282</td>\n",
       "      <td>1</td>\n",
       "      <td>1</td>\n",
       "    </tr>\n",
       "    <tr>\n",
       "      <th>W01E100729</th>\n",
       "      <td>0</td>\n",
       "      <td>0</td>\n",
       "      <td>0</td>\n",
       "      <td>0</td>\n",
       "      <td>0</td>\n",
       "      <td>0</td>\n",
       "      <td>0</td>\n",
       "      <td>0</td>\n",
       "      <td>0</td>\n",
       "      <td>0</td>\n",
       "      <td>...</td>\n",
       "      <td>-0.082145</td>\n",
       "      <td>-0.090345</td>\n",
       "      <td>-0.211962</td>\n",
       "      <td>-0.123294</td>\n",
       "      <td>-0.011374</td>\n",
       "      <td>-0.197531</td>\n",
       "      <td>0.667685</td>\n",
       "      <td>3.031514</td>\n",
       "      <td>1</td>\n",
       "      <td>1</td>\n",
       "    </tr>\n",
       "  </tbody>\n",
       "</table>\n",
       "<p>5 rows × 460 columns</p>\n",
       "</div>"
      ],
      "text/plain": [
       "           software_version_2.0.3 software_version_3.0.1 software_version_3.2  \\\n",
       "asset_id                                                                        \n",
       "W35734                          0                      0                    0   \n",
       "W01E107035                      0                      0                    0   \n",
       "W01E124992                      0                      0                    0   \n",
       "W01Y102940                      0                      0                    0   \n",
       "W01E100729                      0                      0                    0   \n",
       "\n",
       "           software_version_3.3.1 software_version_3.3.2 software_version_3.5  \\\n",
       "asset_id                                                                        \n",
       "W35734                          0                      0                    0   \n",
       "W01E107035                      0                      0                    0   \n",
       "W01E124992                      0                      0                    0   \n",
       "W01Y102940                      0                      0                    0   \n",
       "W01E100729                      0                      0                    0   \n",
       "\n",
       "           software_version_4.10.1 software_version_4.10.2  \\\n",
       "asset_id                                                     \n",
       "W35734                           0                       1   \n",
       "W01E107035                       0                       1   \n",
       "W01E124992                       0                       0   \n",
       "W01Y102940                       0                       0   \n",
       "W01E100729                       0                       0   \n",
       "\n",
       "           software_version_4.12.4 software_version_4.2.2  ... Ventral Hernia  \\\n",
       "asset_id                                                   ...                  \n",
       "W35734                           0                      0  ...      -0.082145   \n",
       "W01E107035                       0                      0  ...      -0.082145   \n",
       "W01E124992                       0                      0  ...      -0.082145   \n",
       "W01Y102940                       0                      0  ...      -0.082145   \n",
       "W01E100729                       0                      0  ...      -0.082145   \n",
       "\n",
       "           Ventricular Fibrillation with Conduction System  \\\n",
       "asset_id                                                     \n",
       "W35734                                           -0.090345   \n",
       "W01E107035                                       -0.090345   \n",
       "W01E124992                                       -0.090345   \n",
       "W01Y102940                                       -0.090345   \n",
       "W01E100729                                       -0.090345   \n",
       "\n",
       "           Wagner Classification Warts on Skin Whiteboard     Wrist avg_times  \\\n",
       "asset_id                                                                        \n",
       "W35734                 -0.211962     -0.123294  -0.011374 -0.197531  0.012708   \n",
       "W01E107035             -0.211962     -0.123294  -0.011374 -0.197531  0.667685   \n",
       "W01E124992             -0.211962     -0.123294  -0.011374 -0.197531  0.012708   \n",
       "W01Y102940             -0.211962     -0.123294  -0.011374 -0.197531 -0.314780   \n",
       "W01E100729             -0.211962     -0.123294  -0.011374 -0.197531  0.667685   \n",
       "\n",
       "            avg_days clinic_had_mia y_flag  \n",
       "asset_id                                    \n",
       "W35734     -0.218282              1      1  \n",
       "W01E107035  1.355838              1      1  \n",
       "W01E124992 -0.167504              1      1  \n",
       "W01Y102940 -0.218282              1      1  \n",
       "W01E100729  3.031514              1      1  \n",
       "\n",
       "[5 rows x 460 columns]"
      ]
     },
     "execution_count": 302,
     "metadata": {},
     "output_type": "execute_result"
    }
   ],
   "source": [
    "df_final_all_vars.head(5)"
   ]
  },
  {
   "cell_type": "markdown",
   "metadata": {},
   "source": [
    "# Train/Test/Validation Split"
   ]
  },
  {
   "cell_type": "markdown",
   "metadata": {},
   "source": [
    "Spliting the above data into 60-20-20 for Training,Testing and Validation purposes.                                   Since we are having part of dataset for validation, data once sampled, datasets are saved to .csv and same datasets are used for furthur iterations irrespective of any addition/drop in variables "
   ]
  },
  {
   "cell_type": "code",
   "execution_count": 304,
   "metadata": {
    "ExecuteTime": {
     "end_time": "2021-01-10T13:32:05.692782Z",
     "start_time": "2021-01-10T13:32:05.583967Z"
    }
   },
   "outputs": [],
   "source": [
    "# Spliting the data into 60-40 for training and testing sets\n",
    "X = df_final_all_vars.iloc[:,:-1]\n",
    "y = df_final_all_vars.iloc[:,-1]\n",
    "X_train, X_test, y_train, y_test = train_test_split(X, y, test_size=0.4, random_state=42)"
   ]
  },
  {
   "cell_type": "code",
   "execution_count": 307,
   "metadata": {
    "ExecuteTime": {
     "end_time": "2021-01-10T13:33:22.992592Z",
     "start_time": "2021-01-10T13:33:22.922135Z"
    }
   },
   "outputs": [],
   "source": [
    "# Splitting 40% test data from above split to 50-50 test and validation data sets\n",
    "X = X_test\n",
    "y = y_test\n",
    "X_test, X_valid, y_test, y_valid = train_test_split(X, y, test_size=0.5, random_state=42)"
   ]
  },
  {
   "cell_type": "code",
   "execution_count": 322,
   "metadata": {
    "ExecuteTime": {
     "end_time": "2021-01-10T13:56:25.921025Z",
     "start_time": "2021-01-10T13:56:25.913794Z"
    }
   },
   "outputs": [
    {
     "name": "stdout",
     "output_type": "stream",
     "text": [
      "Training set shape:   (12369, 459) ,  60.0 % Of whole data set\n",
      "Testing set shape:     (4123, 459) ,  20.0 % Of whole data set\n",
      "Validation set shape:  (4124, 459) ,  20.0 % Of whole data set\n"
     ]
    }
   ],
   "source": [
    "print('Training set shape:  ',X_train.shape,', ',str(round((X_train.shape[0]/df_final_all_vars.shape[0])*100,2)),'% Of whole data set')\n",
    "print('Testing set shape:    ',X_test.shape,', ',str(round((X_test.shape[0]/df_final_all_vars.shape[0])*100,2)),'% Of whole data set')\n",
    "print('Validation set shape: ',X_valid.shape,', ',str(round((X_valid.shape[0]/df_final_all_vars.shape[0])*100,2)),'% Of whole data set')"
   ]
  },
  {
   "cell_type": "code",
   "execution_count": 315,
   "metadata": {
    "ExecuteTime": {
     "end_time": "2021-01-10T13:54:13.963584Z",
     "start_time": "2021-01-10T13:54:13.922767Z"
    }
   },
   "outputs": [],
   "source": [
    "df_train = pd.concat([X_train,y_train],axis = 1)\n",
    "df_test = pd.concat([X_test,y_test],axis = 1)\n",
    "df_valid = pd.concat([X_valid,y_valid],axis = 1)"
   ]
  },
  {
   "cell_type": "code",
   "execution_count": 320,
   "metadata": {
    "ExecuteTime": {
     "end_time": "2021-01-10T13:55:52.086822Z",
     "start_time": "2021-01-10T13:55:52.082926Z"
    }
   },
   "outputs": [
    {
     "name": "stdout",
     "output_type": "stream",
     "text": [
      "Training set shape:    (12369, 460)\n",
      "Testing set shape:     (4123, 460)\n",
      "Validation set shape:  (4124, 460)\n"
     ]
    }
   ],
   "source": [
    "print('Training set shape:   ',df_train.shape)\n",
    "print('Testing set shape:    ',df_test.shape)\n",
    "print('Validation set shape: ',df_valid.shape)"
   ]
  },
  {
   "cell_type": "code",
   "execution_count": 325,
   "metadata": {
    "ExecuteTime": {
     "end_time": "2021-01-10T13:58:49.339956Z",
     "start_time": "2021-01-10T13:58:38.993716Z"
    }
   },
   "outputs": [],
   "source": [
    "# Writing the dataframes to .csv files\n",
    "df_train.to_csv('../wallboard_train.csv')\n",
    "df_test.to_csv('../wallboard_test.csv')\n",
    "df_valid.to_csv('../wallboard_valid.csv')"
   ]
  },
  {
   "cell_type": "markdown",
   "metadata": {},
   "source": [
    "# Rough"
   ]
  },
  {
   "cell_type": "code",
   "execution_count": 89,
   "metadata": {
    "ExecuteTime": {
     "end_time": "2021-01-08T19:41:29.932368Z",
     "start_time": "2021-01-08T19:41:29.925456Z"
    }
   },
   "outputs": [
    {
     "data": {
      "text/plain": [
       "2825    4\n",
       "dtype: int64"
      ]
     },
     "execution_count": 89,
     "metadata": {},
     "output_type": "execute_result"
    }
   ],
   "source": [
    "df_curr[df_curr.asset_name == 'W01E120225'].sum(axis = 1)"
   ]
  },
  {
   "cell_type": "code",
   "execution_count": 60,
   "metadata": {
    "ExecuteTime": {
     "end_time": "2021-01-10T09:35:17.401043Z",
     "start_time": "2021-01-10T09:35:17.397782Z"
    }
   },
   "outputs": [],
   "source": [
    "# df_mia_redshift_wb['manufacturer'] = np.where((df_mia_redshift_wb['manufacturer'] == 'None'),\n",
    "#                                                'unknown',\n",
    "#                                                df_mia_redshift_wb['manufacturer'])\n",
    "\n",
    "# df_mia_redshift_wb['model'] = np.where((df_mia_redshift_wb['model'] == 'None'),\n",
    "#                                                'unknown',\n",
    "#                                                df_mia_redshift_wb['model'])\n",
    "\n",
    "# df_mia_redshift_wb['sku'] = np.where((df_mia_redshift_wb['sku'] == 'None'),\n",
    "#                                                'unknown',\n",
    "#                                                df_mia_redshift_wb['sku'])\n",
    "\n",
    "# df_mia_redshift_wb['processor'] = np.where((df_mia_redshift_wb['processor'] == 'None'),\n",
    "#                                                'unknown',\n",
    "#                                                df_mia_redshift_wb['processor'])\n",
    "\n",
    "# df_mia_redshift_wb['processor'] = np.where((df_mia_redshift_wb['processor'] == 'None'),\n",
    "#                                                'unknown',\n",
    "#                                                df_mia_redshift_wb['processor'])"
   ]
  },
  {
   "cell_type": "code",
   "execution_count": null,
   "metadata": {},
   "outputs": [],
   "source": [
    "# labels = []\n",
    "# for i in range(0,df_mia_redshift_wb_fs['fs_pct_quintile'].nunique()):\n",
    "#     labels.append('fs_pct_'+str(round(df_mia_redshift_wb_fs['fs_pct_quintile'].unique().sort()[i].left,4))+\n",
    "#                   '_'+ str(df_mia_redshift_wb_fs['fs_pct_quintile'].unique().sort()[i].right))\n",
    "# # labels.sort()  \n",
    "# bin_labels = labels\n",
    "\n",
    "# df_mia_redshift_wb_fs['fs_pct_quintile_2'] = pd.qcut(df_mia_redshift_wb_fs['fs_pct'], q=10, precision=0,\n",
    "#                                                     labels=bin_labels)"
   ]
  }
 ],
 "metadata": {
  "kernelspec": {
   "display_name": "Python 3",
   "language": "python",
   "name": "python3"
  },
  "language_info": {
   "codemirror_mode": {
    "name": "ipython",
    "version": 3
   },
   "file_extension": ".py",
   "mimetype": "text/x-python",
   "name": "python",
   "nbconvert_exporter": "python",
   "pygments_lexer": "ipython3",
   "version": "3.8.3"
  },
  "toc": {
   "base_numbering": 1,
   "nav_menu": {},
   "number_sections": true,
   "sideBar": true,
   "skip_h1_title": false,
   "title_cell": "Table of Contents",
   "title_sidebar": "Contents",
   "toc_cell": false,
   "toc_position": {},
   "toc_section_display": true,
   "toc_window_display": false
  },
  "varInspector": {
   "cols": {
    "lenName": 16,
    "lenType": 16,
    "lenVar": 40
   },
   "kernels_config": {
    "python": {
     "delete_cmd_postfix": "",
     "delete_cmd_prefix": "del ",
     "library": "var_list.py",
     "varRefreshCmd": "print(var_dic_list())"
    },
    "r": {
     "delete_cmd_postfix": ") ",
     "delete_cmd_prefix": "rm(",
     "library": "var_list.r",
     "varRefreshCmd": "cat(var_dic_list()) "
    }
   },
   "types_to_exclude": [
    "module",
    "function",
    "builtin_function_or_method",
    "instance",
    "_Feature"
   ],
   "window_display": false
  }
 },
 "nbformat": 4,
 "nbformat_minor": 4
}
